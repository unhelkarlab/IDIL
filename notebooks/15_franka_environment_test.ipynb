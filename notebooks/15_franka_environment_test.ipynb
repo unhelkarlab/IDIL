{
 "cells": [
  {
   "cell_type": "code",
   "execution_count": 1,
   "metadata": {},
   "outputs": [
    {
     "name": "stdout",
     "output_type": "stream",
     "text": [
      "/home/juanhevia/IDIL\n"
     ]
    }
   ],
   "source": [
    "%cd .."
   ]
  },
  {
   "cell_type": "code",
   "execution_count": 2,
   "metadata": {},
   "outputs": [
    {
     "name": "stdout",
     "output_type": "stream",
     "text": [
      "Import error. Trying to rebuild mujoco_py.\n",
      "running build_ext\n",
      "building 'mujoco_py.cymj' extension\n",
      "gcc -pthread -B /home/juanhevia/miniconda3/envs/aidil/compiler_compat -Wl,--sysroot=/ -Wsign-compare -DNDEBUG -g -fwrapv -O3 -Wall -fPIC -I/home/juanhevia/miniconda3/envs/aidil/lib/python3.8/site-packages/mujoco_py -I/home/juanhevia/.mujoco/mujoco210/include -I/home/juanhevia/miniconda3/envs/aidil/lib/python3.8/site-packages/numpy/core/include -I/home/juanhevia/miniconda3/envs/aidil/lib/python3.8/site-packages/mujoco_py/vendor/egl -I/home/juanhevia/miniconda3/envs/aidil/include/python3.8 -c /home/juanhevia/miniconda3/envs/aidil/lib/python3.8/site-packages/mujoco_py/cymj.c -o /home/juanhevia/miniconda3/envs/aidil/lib/python3.8/site-packages/mujoco_py/generated/_pyxbld_2.1.2.14_38_linuxgpuextensionbuilder/temp.linux-x86_64-cpython-38/home/juanhevia/miniconda3/envs/aidil/lib/python3.8/site-packages/mujoco_py/cymj.o -fopenmp -w\n",
      "gcc -pthread -B /home/juanhevia/miniconda3/envs/aidil/compiler_compat -Wl,--sysroot=/ -Wsign-compare -DNDEBUG -g -fwrapv -O3 -Wall -fPIC -I/home/juanhevia/miniconda3/envs/aidil/lib/python3.8/site-packages/mujoco_py -I/home/juanhevia/.mujoco/mujoco210/include -I/home/juanhevia/miniconda3/envs/aidil/lib/python3.8/site-packages/numpy/core/include -I/home/juanhevia/miniconda3/envs/aidil/lib/python3.8/site-packages/mujoco_py/vendor/egl -I/home/juanhevia/miniconda3/envs/aidil/include/python3.8 -c /home/juanhevia/miniconda3/envs/aidil/lib/python3.8/site-packages/mujoco_py/gl/eglshim.c -o /home/juanhevia/miniconda3/envs/aidil/lib/python3.8/site-packages/mujoco_py/generated/_pyxbld_2.1.2.14_38_linuxgpuextensionbuilder/temp.linux-x86_64-cpython-38/home/juanhevia/miniconda3/envs/aidil/lib/python3.8/site-packages/mujoco_py/gl/eglshim.o -fopenmp -w\n",
      "gcc -pthread -shared -B /home/juanhevia/miniconda3/envs/aidil/compiler_compat -L/home/juanhevia/miniconda3/envs/aidil/lib -Wl,-rpath=/home/juanhevia/miniconda3/envs/aidil/lib -Wl,--no-as-needed -Wl,--sysroot=/ /home/juanhevia/miniconda3/envs/aidil/lib/python3.8/site-packages/mujoco_py/generated/_pyxbld_2.1.2.14_38_linuxgpuextensionbuilder/temp.linux-x86_64-cpython-38/home/juanhevia/miniconda3/envs/aidil/lib/python3.8/site-packages/mujoco_py/cymj.o /home/juanhevia/miniconda3/envs/aidil/lib/python3.8/site-packages/mujoco_py/generated/_pyxbld_2.1.2.14_38_linuxgpuextensionbuilder/temp.linux-x86_64-cpython-38/home/juanhevia/miniconda3/envs/aidil/lib/python3.8/site-packages/mujoco_py/gl/eglshim.o -L/home/juanhevia/.mujoco/mujoco210/bin -Wl,--enable-new-dtags,-R/home/juanhevia/.mujoco/mujoco210/bin -lmujoco210 -lglewegl -o /home/juanhevia/miniconda3/envs/aidil/lib/python3.8/site-packages/mujoco_py/generated/_pyxbld_2.1.2.14_38_linuxgpuextensionbuilder/lib.linux-x86_64-cpython-38/mujoco_py/cymj.cpython-38-x86_64-linux-gnu.so -fopenmp\n"
     ]
    }
   ],
   "source": [
    "import idil_gym"
   ]
  },
  {
   "cell_type": "code",
   "execution_count": 3,
   "metadata": {},
   "outputs": [
    {
     "name": "stderr",
     "output_type": "stream",
     "text": [
      "/home/juanhevia/miniconda3/envs/aidil/lib/python3.8/site-packages/tqdm/auto.py:21: TqdmWarning: IProgress not found. Please update jupyter and ipywidgets. See https://ipywidgets.readthedocs.io/en/stable/user_install.html\n",
      "  from .autonotebook import tqdm as notebook_tqdm\n"
     ]
    }
   ],
   "source": [
    "# import os\n",
    "# os.environ[\"LD_LIBRARY_PATH\"] = os.environ.get(\"LD_LIBRARY_PATH\", \"\") + \":/home/juanhevia/.mujoco/mujoco210/bin\" + \":/usr/lib/nvidia\"\n",
    "\n",
    "import gymnasium\n",
    "# import gym\n",
    "import json \n",
    "import pickle\n",
    "import numpy as np \n",
    "import pandas as pd \n",
    "import minari\n",
    "# can we use the vector distance between the achieved and desired goal as a termination mark?\n",
    "import matplotlib.pyplot as plt "
   ]
  },
  {
   "cell_type": "markdown",
   "metadata": {},
   "source": [
    "# Check proportion of macro goal sequences"
   ]
  },
  {
   "cell_type": "code",
   "execution_count": 13,
   "metadata": {},
   "outputs": [],
   "source": [
    "# load train sequences\n",
    "with open(\"notebooks/kitchen_franka_demos/FrankaKitchen-v0-mixed_260.pkl\", \"rb\") as f:\n",
    "    data = pickle.load(f)"
   ]
  },
  {
   "cell_type": "code",
   "execution_count": 14,
   "metadata": {},
   "outputs": [],
   "source": [
    "from collections import Counter\n",
    "\n",
    "rows = []\n",
    "\n",
    "for traj in data[\"latents\"]:\n",
    "    _count = Counter(traj)\n",
    "    # build JSON object as row\n",
    "    rows.append(_count)\n",
    "\n",
    "# convert to DataFrame\n",
    "df = pd.DataFrame(rows)"
   ]
  },
  {
   "cell_type": "code",
   "execution_count": 15,
   "metadata": {},
   "outputs": [
    {
     "data": {
      "text/plain": [
       "2    True\n",
       "5    True\n",
       "3    True\n",
       "1    True\n",
       "dtype: bool"
      ]
     },
     "execution_count": 15,
     "metadata": {},
     "output_type": "execute_result"
    }
   ],
   "source": [
    "df.isnull().any()"
   ]
  },
  {
   "cell_type": "code",
   "execution_count": 35,
   "metadata": {},
   "outputs": [],
   "source": [
    "unique_combs = []\n",
    "for latent in data[\"latents\"]:\n",
    "    # compute the unique latents in the sequence without losing their order of appearance\n",
    "    _unique = []\n",
    "    for l in latent:\n",
    "        if l not in _unique:\n",
    "            _unique.append(l)\n",
    "    \n",
    "    unique_combs.append(tuple(_unique))"
   ]
  },
  {
   "cell_type": "code",
   "execution_count": 36,
   "metadata": {},
   "outputs": [
    {
     "data": {
      "text/plain": [
       "Counter({(2, 5, 3): 68,\n",
       "         (1, 5, 3): 86,\n",
       "         (5, 3): 1,\n",
       "         (1, 2, 5): 44,\n",
       "         (1, 2, 3): 61})"
      ]
     },
     "execution_count": 36,
     "metadata": {},
     "output_type": "execute_result"
    }
   ],
   "source": [
    "Counter(unique_combs)"
   ]
  },
  {
   "cell_type": "code",
   "execution_count": 37,
   "metadata": {},
   "outputs": [
    {
     "data": {
      "text/plain": [
       "260"
      ]
     },
     "execution_count": 37,
     "metadata": {},
     "output_type": "execute_result"
    }
   ],
   "source": [
    "sum(Counter(unique_combs).values())"
   ]
  },
  {
   "cell_type": "markdown",
   "metadata": {},
   "source": [
    "## Split `pkl` files by macro goal sequence"
   ]
  },
  {
   "cell_type": "code",
   "execution_count": 40,
   "metadata": {},
   "outputs": [
    {
     "data": {
      "text/plain": [
       "[(2, 5, 3), (1, 5, 3), (1, 2, 5), (1, 2, 3)]"
      ]
     },
     "execution_count": 40,
     "metadata": {},
     "output_type": "execute_result"
    }
   ],
   "source": [
    "available_seqs = list(Counter(unique_combs).keys())\n",
    "# keep only 3-goals sequences\n",
    "available_seqs = [seq for seq in available_seqs if len(seq) == 3]\n",
    "available_seqs"
   ]
  },
  {
   "cell_type": "code",
   "execution_count": 43,
   "metadata": {},
   "outputs": [
    {
     "data": {
      "text/plain": [
       "dict_keys([(2, 5, 3), (1, 5, 3), (1, 2, 5), (1, 2, 3)])"
      ]
     },
     "execution_count": 43,
     "metadata": {},
     "output_type": "execute_result"
    }
   ],
   "source": [
    "from collections import defaultdict\n",
    "\n",
    "seqs_trajs = defaultdict(list)\n",
    "\n",
    "# create a dict to hold trajectories indices for each sequence\n",
    "for traj_idx, traj in enumerate(data[\"latents\"]):\n",
    "    # compute the unique latents in the sequence without losing their order of appearance\n",
    "    _unique = []\n",
    "    for l in traj:\n",
    "        if l not in _unique:\n",
    "            _unique.append(l)\n",
    "            \n",
    "    if tuple(_unique) in available_seqs:\n",
    "        seqs_trajs[tuple(_unique)].append(traj_idx)\n",
    "    \n",
    "seqs_trajs.keys()"
   ]
  },
  {
   "cell_type": "code",
   "execution_count": 44,
   "metadata": {},
   "outputs": [
    {
     "name": "stdout",
     "output_type": "stream",
     "text": [
      "(2, 5, 3)  --> # of records =  68\n",
      "(1, 5, 3)  --> # of records =  86\n",
      "(1, 2, 5)  --> # of records =  44\n",
      "(1, 2, 3)  --> # of records =  61\n"
     ]
    }
   ],
   "source": [
    "# check that lengths are the same\n",
    "for seq, trajs in seqs_trajs.items():\n",
    "    print(seq, \" --> # of records = \", len(trajs))"
   ]
  },
  {
   "cell_type": "code",
   "execution_count": 45,
   "metadata": {},
   "outputs": [],
   "source": [
    "# create new dictionaries to hold the sequences and the corresponding trajectories\n",
    "split_data = {}\n",
    "\n",
    "for seq, traj_indices in seqs_trajs.items():\n",
    "    split_data[seq] = defaultdict(list)\n",
    "\n",
    "    for key in data.keys():\n",
    "        for idx in traj_indices:\n",
    "            split_data[seq][key].append(data[key][idx])"
   ]
  },
  {
   "cell_type": "code",
   "execution_count": 48,
   "metadata": {},
   "outputs": [
    {
     "name": "stdout",
     "output_type": "stream",
     "text": [
      "(2, 5, 3)  --> keys :  dict_keys(['states', 'next_states', 'actions', 'rewards', 'latents', 'lengths', 'dones'])\n",
      "(2, 5, 3)  --> # of records =  68\n",
      "(1, 5, 3)  --> keys :  dict_keys(['states', 'next_states', 'actions', 'rewards', 'latents', 'lengths', 'dones'])\n",
      "(1, 5, 3)  --> # of records =  86\n",
      "(1, 2, 5)  --> keys :  dict_keys(['states', 'next_states', 'actions', 'rewards', 'latents', 'lengths', 'dones'])\n",
      "(1, 2, 5)  --> # of records =  44\n",
      "(1, 2, 3)  --> keys :  dict_keys(['states', 'next_states', 'actions', 'rewards', 'latents', 'lengths', 'dones'])\n",
      "(1, 2, 3)  --> # of records =  61\n"
     ]
    }
   ],
   "source": [
    "# compute lengths of the sequences in the split data\n",
    "for seq, data in split_data.items():\n",
    "    print(seq, \" --> keys : \", data.keys())\n",
    "    print(seq, \" --> # of records = \", len(data[\"latents\"]))\n",
    "\n",
    "    # ensure all keys in the data have equal length\n",
    "    for key in data.keys():\n",
    "        assert len(data[key]) == len(data[\"latents\"])"
   ]
  },
  {
   "cell_type": "code",
   "execution_count": 49,
   "metadata": {},
   "outputs": [],
   "source": [
    "# save the split data to different pickle files\n",
    "for seq, data in split_data.items():\n",
    "    seq_label = \"_\".join([str(s) for s in seq])\n",
    "    with open(f\"notebooks/kitchen_franka_demos/FrankaKitchen-v0-mixed_260_{seq_label}.pkl\", \"wb\") as f:\n",
    "        pickle.dump(data, f)"
   ]
  },
  {
   "cell_type": "code",
   "execution_count": null,
   "metadata": {},
   "outputs": [],
   "source": []
  },
  {
   "cell_type": "markdown",
   "metadata": {},
   "source": [
    "# Test env loading"
   ]
  },
  {
   "cell_type": "code",
   "execution_count": 6,
   "metadata": {},
   "outputs": [
    {
     "ename": "TypeError",
     "evalue": "__init__() missing 1 required positional argument: 'env' was raised from the environment creator for CustomFrankaKitchen-v0 with kwargs ({})",
     "output_type": "error",
     "traceback": [
      "\u001b[0;31m---------------------------------------------------------------------------\u001b[0m",
      "\u001b[0;31mTypeError\u001b[0m                                 Traceback (most recent call last)",
      "File \u001b[0;32m~/miniconda3/envs/aidil/lib/python3.8/site-packages/gymnasium/envs/registration.py:802\u001b[0m, in \u001b[0;36mmake\u001b[0;34m(id, max_episode_steps, autoreset, apply_api_compatibility, disable_env_checker, **kwargs)\u001b[0m\n\u001b[1;32m    801\u001b[0m \u001b[39mtry\u001b[39;00m:\n\u001b[0;32m--> 802\u001b[0m     env \u001b[39m=\u001b[39m env_creator(\u001b[39m*\u001b[39;49m\u001b[39m*\u001b[39;49menv_spec_kwargs)\n\u001b[1;32m    803\u001b[0m \u001b[39mexcept\u001b[39;00m \u001b[39mTypeError\u001b[39;00m \u001b[39mas\u001b[39;00m e:\n",
      "\u001b[0;31mTypeError\u001b[0m: __init__() missing 1 required positional argument: 'env'",
      "\nDuring handling of the above exception, another exception occurred:\n",
      "\u001b[0;31mTypeError\u001b[0m                                 Traceback (most recent call last)",
      "\u001b[1;32m/home/juanhevia/IDIL/notebooks/15_franka_environment_test.ipynb Cell 4\u001b[0m line \u001b[0;36m1\n\u001b[0;32m----> <a href='vscode-notebook-cell://ssh-remote%2B7b22686f73744e616d65223a2253657276657256616962686176556e68656c6b6172227d/home/juanhevia/IDIL/notebooks/15_franka_environment_test.ipynb#W3sdnNjb2RlLXJlbW90ZQ%3D%3D?line=0'>1</a>\u001b[0m env \u001b[39m=\u001b[39m gymnasium\u001b[39m.\u001b[39;49mmake(\u001b[39m\"\u001b[39;49m\u001b[39mCustomFrankaKitchen-v0\u001b[39;49m\u001b[39m\"\u001b[39;49m)\n",
      "File \u001b[0;32m~/miniconda3/envs/aidil/lib/python3.8/site-packages/gymnasium/envs/registration.py:814\u001b[0m, in \u001b[0;36mmake\u001b[0;34m(id, max_episode_steps, autoreset, apply_api_compatibility, disable_env_checker, **kwargs)\u001b[0m\n\u001b[1;32m    808\u001b[0m         \u001b[39mraise\u001b[39;00m error\u001b[39m.\u001b[39mError(\n\u001b[1;32m    809\u001b[0m             \u001b[39mf\u001b[39m\u001b[39m\"\u001b[39m\u001b[39mYou passed render_mode=\u001b[39m\u001b[39m'\u001b[39m\u001b[39mhuman\u001b[39m\u001b[39m'\u001b[39m\u001b[39m although \u001b[39m\u001b[39m{\u001b[39;00menv_spec\u001b[39m.\u001b[39mid\u001b[39m}\u001b[39;00m\u001b[39m doesn\u001b[39m\u001b[39m'\u001b[39m\u001b[39mt implement human-rendering natively. \u001b[39m\u001b[39m\"\u001b[39m\n\u001b[1;32m    810\u001b[0m             \u001b[39m\"\u001b[39m\u001b[39mGym tried to apply the HumanRendering wrapper but it looks like your environment is using the old \u001b[39m\u001b[39m\"\u001b[39m\n\u001b[1;32m    811\u001b[0m             \u001b[39m\"\u001b[39m\u001b[39mrendering API, which is not supported by the HumanRendering wrapper.\u001b[39m\u001b[39m\"\u001b[39m\n\u001b[1;32m    812\u001b[0m         ) \u001b[39mfrom\u001b[39;00m \u001b[39me\u001b[39;00m\n\u001b[1;32m    813\u001b[0m     \u001b[39melse\u001b[39;00m:\n\u001b[0;32m--> 814\u001b[0m         \u001b[39mraise\u001b[39;00m \u001b[39mtype\u001b[39m(e)(\n\u001b[1;32m    815\u001b[0m             \u001b[39mf\u001b[39m\u001b[39m\"\u001b[39m\u001b[39m{\u001b[39;00me\u001b[39m}\u001b[39;00m\u001b[39m was raised from the environment creator for \u001b[39m\u001b[39m{\u001b[39;00menv_spec\u001b[39m.\u001b[39mid\u001b[39m}\u001b[39;00m\u001b[39m with kwargs (\u001b[39m\u001b[39m{\u001b[39;00menv_spec_kwargs\u001b[39m}\u001b[39;00m\u001b[39m)\u001b[39m\u001b[39m\"\u001b[39m\n\u001b[1;32m    816\u001b[0m         )\n\u001b[1;32m    818\u001b[0m \u001b[39m# Set the minimal env spec for the environment.\u001b[39;00m\n\u001b[1;32m    819\u001b[0m env\u001b[39m.\u001b[39munwrapped\u001b[39m.\u001b[39mspec \u001b[39m=\u001b[39m EnvSpec(\n\u001b[1;32m    820\u001b[0m     \u001b[39mid\u001b[39m\u001b[39m=\u001b[39menv_spec\u001b[39m.\u001b[39mid,\n\u001b[1;32m    821\u001b[0m     entry_point\u001b[39m=\u001b[39menv_spec\u001b[39m.\u001b[39mentry_point,\n\u001b[0;32m   (...)\u001b[0m\n\u001b[1;32m    831\u001b[0m     vector_entry_point\u001b[39m=\u001b[39menv_spec\u001b[39m.\u001b[39mvector_entry_point,\n\u001b[1;32m    832\u001b[0m )\n",
      "\u001b[0;31mTypeError\u001b[0m: __init__() missing 1 required positional argument: 'env' was raised from the environment creator for CustomFrankaKitchen-v0 with kwargs ({})"
     ]
    }
   ],
   "source": [
    "env = gymnasium.make(\"CustomFrankaKitchen-v0\")"
   ]
  },
  {
   "cell_type": "code",
   "execution_count": null,
   "metadata": {},
   "outputs": [],
   "source": []
  }
 ],
 "metadata": {
  "kernelspec": {
   "display_name": "aidil",
   "language": "python",
   "name": "python3"
  },
  "language_info": {
   "codemirror_mode": {
    "name": "ipython",
    "version": 3
   },
   "file_extension": ".py",
   "mimetype": "text/x-python",
   "name": "python",
   "nbconvert_exporter": "python",
   "pygments_lexer": "ipython3",
   "version": "3.8.19"
  }
 },
 "nbformat": 4,
 "nbformat_minor": 2
}
