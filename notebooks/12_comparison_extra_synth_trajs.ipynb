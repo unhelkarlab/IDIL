{
 "cells": [
  {
   "cell_type": "code",
   "execution_count": 1,
   "metadata": {},
   "outputs": [
    {
     "name": "stdout",
     "output_type": "stream",
     "text": [
      "/home/juanhevia/IDIL\n"
     ]
    }
   ],
   "source": [
    "%cd .."
   ]
  },
  {
   "cell_type": "code",
   "execution_count": 2,
   "metadata": {},
   "outputs": [
    {
     "name": "stdout",
     "output_type": "stream",
     "text": [
      "pygame 2.6.0 (SDL 2.28.4, Python 3.8.19)\n",
      "Hello from the pygame community. https://www.pygame.org/contribute.html\n"
     ]
    }
   ],
   "source": [
    "import pandas as pd\n",
    "import numpy as np \n",
    "import matplotlib.pyplot as plt\n",
    "import pickle as pkl\n",
    "import generate_trajectories as traj_utils\n",
    "import utils as nb_utils\n",
    "from collections import defaultdict"
   ]
  },
  {
   "cell_type": "code",
   "execution_count": 3,
   "metadata": {},
   "outputs": [],
   "source": [
    "import importlib\n",
    "import scipy.stats as stats"
   ]
  },
  {
   "cell_type": "code",
   "execution_count": 4,
   "metadata": {},
   "outputs": [
    {
     "data": {
      "text/plain": [
       "<module 'utils' from '/home/juanhevia/IDIL/notebooks/utils.py'>"
      ]
     },
     "execution_count": 4,
     "metadata": {},
     "output_type": "execute_result"
    }
   ],
   "source": [
    "importlib.reload(nb_utils)"
   ]
  },
  {
   "cell_type": "code",
   "execution_count": 5,
   "metadata": {},
   "outputs": [],
   "source": [
    "RUNS = [\n",
    "\"es-100-01J4XR6C47AKQ5KNJWNR679E8R-synth_extra_trajs-0809\",\n",
    "\"es-100-01J4XNDCER2DMYYRXEJZXJ2271-synth_extra_trajs-0809\",\n",
    "\"es-100-01J4XJMMP9N8S3TQN4SESDZCTR-synth_extra_trajs-0809\",\n",
    "\"es-100-01J4XFW8RHVVYCTJ5Y3C2BTBF9-synth_extra_trajs-0809\",\n",
    "\"es-100-01J4XD2HX2Y2FBMBEWEE6RGH40-synth_extra_trajs-0809\",\n",
    "\"es-60-01J4XA99JZKFM2DW2EEA0XSZK7-synth_extra_trajs-0809\",\n",
    "\"es-60-01J4X7FCX4VVR4C8QJ01PCR57Q-synth_extra_trajs-0809\",\n",
    "\"es-60-01J4X4MRGFV2KTEQJW4GNMQKXS-synth_extra_trajs-0809\",\n",
    "\"es-60-01J4X1WBK8J8F3XXHZBVQSGMP2-synth_extra_trajs-0809\",\n",
    "\"es-60-01J4WYYDPHHAGRHK4Q4TS1GM0Y-synth_extra_trajs-0809\",\n",
    "\"es-20-01J4WW1WMZN9APJJ8NF115HQDC-synth_extra_trajs-0809\",\n",
    "\"es-20-01J4WS66ZBGJCDXQ4QTE33S2HX-synth_extra_trajs-0809\",\n",
    "\"es-20-01J4WP99BEQC5G4DNBK4S7RYXQ-synth_extra_trajs-0809\",\n",
    "\"es-20-01J4WKD4YREQT0RPPCFVT3BFSA-synth_extra_trajs-0809\",\n",
    "\"es-20-01J4WGGVYCEYXKM7DZ1TQT2KFQ-synth_extra_trajs-0809\",\n",
    "\"es-0-01J4WDKJRBQJA5TRN78KD9V55P-synth_extra_trajs-0809\",\n",
    "\"es-0-01J4W9R49RKQ9060E1VBXGY6XF-synth_extra_trajs-0809\",\n",
    "\"es-0-01J4W6Y6HFM2JA6YMBZVC3B9YA-synth_extra_trajs-0809\",\n",
    "\"es-0-01J4W44NBPQP04TMKJQZ9FK38G-synth_extra_trajs-0809\",\n",
    "\"es-0-01J4W1ANG5AXDA4SZSPHKH12J3-synth_extra_trajs-0809\",\n",
    "]\n",
    "\n",
    "ENV_NAME = \"CleanupSingle-v0\""
   ]
  },
  {
   "cell_type": "code",
   "execution_count": 6,
   "metadata": {},
   "outputs": [
    {
     "name": "stdout",
     "output_type": "stream",
     "text": [
      "Loading models from ./idil_train/result/CleanupSingle-v0/idil/es-100-01J4XR6C47AKQ5KNJWNR679E8R-synth_extra_trajs-0809/2024-08-10_03-59-01/model/iq_CleanupSingle-v0_n70_l70_best_tx\n",
      "Loading models from ./idil_train/result/CleanupSingle-v0/idil/es-100-01J4XR6C47AKQ5KNJWNR679E8R-synth_extra_trajs-0809/2024-08-10_03-59-01/model/iq_CleanupSingle-v0_n70_l70_best_pi\n",
      "Loading models from ./idil_train/result/CleanupSingle-v0/idil/es-100-01J4XNDCER2DMYYRXEJZXJ2271-synth_extra_trajs-0809/2024-08-10_03-10-25/model/iq_CleanupSingle-v0_n70_l70_best_tx\n",
      "Loading models from ./idil_train/result/CleanupSingle-v0/idil/es-100-01J4XNDCER2DMYYRXEJZXJ2271-synth_extra_trajs-0809/2024-08-10_03-10-25/model/iq_CleanupSingle-v0_n70_l70_best_pi\n",
      "Loading models from ./idil_train/result/CleanupSingle-v0/idil/es-100-01J4XJMMP9N8S3TQN4SESDZCTR-synth_extra_trajs-0809/2024-08-10_02-21-57/model/iq_CleanupSingle-v0_n70_l70_best_tx\n",
      "Loading models from ./idil_train/result/CleanupSingle-v0/idil/es-100-01J4XJMMP9N8S3TQN4SESDZCTR-synth_extra_trajs-0809/2024-08-10_02-21-57/model/iq_CleanupSingle-v0_n70_l70_best_pi\n",
      "Loading models from ./idil_train/result/CleanupSingle-v0/idil/es-100-01J4XFW8RHVVYCTJ5Y3C2BTBF9-synth_extra_trajs-0809/2024-08-10_01-33-41/model/iq_CleanupSingle-v0_n70_l70_best_tx\n",
      "Loading models from ./idil_train/result/CleanupSingle-v0/idil/es-100-01J4XFW8RHVVYCTJ5Y3C2BTBF9-synth_extra_trajs-0809/2024-08-10_01-33-41/model/iq_CleanupSingle-v0_n70_l70_best_pi\n",
      "Loading models from ./idil_train/result/CleanupSingle-v0/idil/es-100-01J4XD2HX2Y2FBMBEWEE6RGH40-synth_extra_trajs-0809/2024-08-10_00-44-41/model/iq_CleanupSingle-v0_n70_l70_best_tx\n",
      "Loading models from ./idil_train/result/CleanupSingle-v0/idil/es-100-01J4XD2HX2Y2FBMBEWEE6RGH40-synth_extra_trajs-0809/2024-08-10_00-44-41/model/iq_CleanupSingle-v0_n70_l70_best_pi\n",
      "Loading models from ./idil_train/result/CleanupSingle-v0/idil/es-60-01J4XA99JZKFM2DW2EEA0XSZK7-synth_extra_trajs-0809/2024-08-09_23-55-56/model/iq_CleanupSingle-v0_n70_l70_best_tx\n",
      "Loading models from ./idil_train/result/CleanupSingle-v0/idil/es-60-01J4XA99JZKFM2DW2EEA0XSZK7-synth_extra_trajs-0809/2024-08-09_23-55-56/model/iq_CleanupSingle-v0_n70_l70_best_pi\n",
      "Loading models from ./idil_train/result/CleanupSingle-v0/idil/es-60-01J4X7FCX4VVR4C8QJ01PCR57Q-synth_extra_trajs-0809/2024-08-09_23-06-51/model/iq_CleanupSingle-v0_n70_l70_best_tx\n",
      "Loading models from ./idil_train/result/CleanupSingle-v0/idil/es-60-01J4X7FCX4VVR4C8QJ01PCR57Q-synth_extra_trajs-0809/2024-08-09_23-06-51/model/iq_CleanupSingle-v0_n70_l70_best_pi\n",
      "Loading models from ./idil_train/result/CleanupSingle-v0/idil/es-60-01J4X4MRGFV2KTEQJW4GNMQKXS-synth_extra_trajs-0809/2024-08-09_22-17-21/model/iq_CleanupSingle-v0_n70_l70_best_tx\n",
      "Loading models from ./idil_train/result/CleanupSingle-v0/idil/es-60-01J4X4MRGFV2KTEQJW4GNMQKXS-synth_extra_trajs-0809/2024-08-09_22-17-21/model/iq_CleanupSingle-v0_n70_l70_best_pi\n",
      "Loading models from ./idil_train/result/CleanupSingle-v0/idil/es-60-01J4X1WBK8J8F3XXHZBVQSGMP2-synth_extra_trajs-0809/2024-08-09_21-29-04/model/iq_CleanupSingle-v0_n70_l70_best_tx\n",
      "Loading models from ./idil_train/result/CleanupSingle-v0/idil/es-60-01J4X1WBK8J8F3XXHZBVQSGMP2-synth_extra_trajs-0809/2024-08-09_21-29-04/model/iq_CleanupSingle-v0_n70_l70_best_pi\n",
      "Loading models from ./idil_train/result/CleanupSingle-v0/idil/es-60-01J4WYYDPHHAGRHK4Q4TS1GM0Y-synth_extra_trajs-0809/2024-08-09_20-37-46/model/iq_CleanupSingle-v0_n70_l70_best_tx\n",
      "Loading models from ./idil_train/result/CleanupSingle-v0/idil/es-60-01J4WYYDPHHAGRHK4Q4TS1GM0Y-synth_extra_trajs-0809/2024-08-09_20-37-46/model/iq_CleanupSingle-v0_n70_l70_best_pi\n",
      "Loading models from ./idil_train/result/CleanupSingle-v0/idil/es-20-01J4WW1WMZN9APJJ8NF115HQDC-synth_extra_trajs-0809/2024-08-09_19-47-14/model/iq_CleanupSingle-v0_n70_l70_best_tx\n",
      "Loading models from ./idil_train/result/CleanupSingle-v0/idil/es-20-01J4WW1WMZN9APJJ8NF115HQDC-synth_extra_trajs-0809/2024-08-09_19-47-14/model/iq_CleanupSingle-v0_n70_l70_best_pi\n",
      "Loading models from ./idil_train/result/CleanupSingle-v0/idil/es-20-01J4WS66ZBGJCDXQ4QTE33S2HX-synth_extra_trajs-0809/2024-08-09_18-57-09/model/iq_CleanupSingle-v0_n70_l70_best_tx\n",
      "Loading models from ./idil_train/result/CleanupSingle-v0/idil/es-20-01J4WS66ZBGJCDXQ4QTE33S2HX-synth_extra_trajs-0809/2024-08-09_18-57-09/model/iq_CleanupSingle-v0_n70_l70_best_pi\n",
      "Loading models from ./idil_train/result/CleanupSingle-v0/idil/es-20-01J4WP99BEQC5G4DNBK4S7RYXQ-synth_extra_trajs-0809/2024-08-09_18-06-25/model/iq_CleanupSingle-v0_n70_l70_best_tx\n",
      "Loading models from ./idil_train/result/CleanupSingle-v0/idil/es-20-01J4WP99BEQC5G4DNBK4S7RYXQ-synth_extra_trajs-0809/2024-08-09_18-06-25/model/iq_CleanupSingle-v0_n70_l70_best_pi\n",
      "Loading models from ./idil_train/result/CleanupSingle-v0/idil/es-20-01J4WKD4YREQT0RPPCFVT3BFSA-synth_extra_trajs-0809/2024-08-09_17-16-05/model/iq_CleanupSingle-v0_n70_l70_best_tx\n",
      "Loading models from ./idil_train/result/CleanupSingle-v0/idil/es-20-01J4WKD4YREQT0RPPCFVT3BFSA-synth_extra_trajs-0809/2024-08-09_17-16-05/model/iq_CleanupSingle-v0_n70_l70_best_pi\n",
      "Loading models from ./idil_train/result/CleanupSingle-v0/idil/es-20-01J4WGGVYCEYXKM7DZ1TQT2KFQ-synth_extra_trajs-0809/2024-08-09_16-25-42/model/iq_CleanupSingle-v0_n70_l70_best_tx\n",
      "Loading models from ./idil_train/result/CleanupSingle-v0/idil/es-20-01J4WGGVYCEYXKM7DZ1TQT2KFQ-synth_extra_trajs-0809/2024-08-09_16-25-42/model/iq_CleanupSingle-v0_n70_l70_best_pi\n",
      "Loading models from ./idil_train/result/CleanupSingle-v0/idil/es-0-01J4WDKJRBQJA5TRN78KD9V55P-synth_extra_trajs-0809/2024-08-09_15-34-46/model/iq_CleanupSingle-v0_n70_l70_best_tx\n",
      "Loading models from ./idil_train/result/CleanupSingle-v0/idil/es-0-01J4WDKJRBQJA5TRN78KD9V55P-synth_extra_trajs-0809/2024-08-09_15-34-46/model/iq_CleanupSingle-v0_n70_l70_best_pi\n",
      "Loading models from ./idil_train/result/CleanupSingle-v0/idil/es-0-01J4W9R49RKQ9060E1VBXGY6XF-synth_extra_trajs-0809/2024-08-09_14-27-19/model/iq_CleanupSingle-v0_n70_l70_best_tx\n",
      "Loading models from ./idil_train/result/CleanupSingle-v0/idil/es-0-01J4W9R49RKQ9060E1VBXGY6XF-synth_extra_trajs-0809/2024-08-09_14-27-19/model/iq_CleanupSingle-v0_n70_l70_best_pi\n",
      "Loading models from ./idil_train/result/CleanupSingle-v0/idil/es-0-01J4W6Y6HFM2JA6YMBZVC3B9YA-synth_extra_trajs-0809/2024-08-09_13-38-13/model/iq_CleanupSingle-v0_n70_l70_best_tx\n",
      "Loading models from ./idil_train/result/CleanupSingle-v0/idil/es-0-01J4W6Y6HFM2JA6YMBZVC3B9YA-synth_extra_trajs-0809/2024-08-09_13-38-13/model/iq_CleanupSingle-v0_n70_l70_best_pi\n",
      "Loading models from ./idil_train/result/CleanupSingle-v0/idil/es-0-01J4W44NBPQP04TMKJQZ9FK38G-synth_extra_trajs-0809/2024-08-09_12-49-19/model/iq_CleanupSingle-v0_n70_l70_best_tx\n",
      "Loading models from ./idil_train/result/CleanupSingle-v0/idil/es-0-01J4W44NBPQP04TMKJQZ9FK38G-synth_extra_trajs-0809/2024-08-09_12-49-19/model/iq_CleanupSingle-v0_n70_l70_best_pi\n",
      "Loading models from ./idil_train/result/CleanupSingle-v0/idil/es-0-01J4W1ANG5AXDA4SZSPHKH12J3-synth_extra_trajs-0809/2024-08-09_12-00-10/model/iq_CleanupSingle-v0_n70_l70_best_tx\n",
      "Loading models from ./idil_train/result/CleanupSingle-v0/idil/es-0-01J4W1ANG5AXDA4SZSPHKH12J3-synth_extra_trajs-0809/2024-08-09_12-00-10/model/iq_CleanupSingle-v0_n70_l70_best_pi\n"
     ]
    }
   ],
   "source": [
    "agents = nb_utils.get_trained_models(runs=RUNS, env_name=ENV_NAME)"
   ]
  },
  {
   "cell_type": "code",
   "execution_count": 7,
   "metadata": {},
   "outputs": [
    {
     "name": "stderr",
     "output_type": "stream",
     "text": [
      "  0%|          | 0/20 [00:00<?, ?it/s]"
     ]
    },
    {
     "name": "stdout",
     "output_type": "stream",
     "text": [
      "Loading models from ./idil_train/result/CleanupSingle-v0/idil/es-100-01J4XR6C47AKQ5KNJWNR679E8R-synth_extra_trajs-0809/2024-08-10_03-59-01/model/iq_CleanupSingle-v0_n70_l70_best_tx\n",
      "Loading models from ./idil_train/result/CleanupSingle-v0/idil/es-100-01J4XR6C47AKQ5KNJWNR679E8R-synth_extra_trajs-0809/2024-08-10_03-59-01/model/iq_CleanupSingle-v0_n70_l70_best_pi\n"
     ]
    },
    {
     "name": "stderr",
     "output_type": "stream",
     "text": [
      "100%|██████████| 10/10 [00:02<00:00,  4.21it/s]\n",
      "  5%|▌         | 1/20 [00:02<00:46,  2.47s/it]"
     ]
    },
    {
     "name": "stdout",
     "output_type": "stream",
     "text": [
      "Loading models from ./idil_train/result/CleanupSingle-v0/idil/es-100-01J4XNDCER2DMYYRXEJZXJ2271-synth_extra_trajs-0809/2024-08-10_03-10-25/model/iq_CleanupSingle-v0_n70_l70_best_tx\n",
      "Loading models from ./idil_train/result/CleanupSingle-v0/idil/es-100-01J4XNDCER2DMYYRXEJZXJ2271-synth_extra_trajs-0809/2024-08-10_03-10-25/model/iq_CleanupSingle-v0_n70_l70_best_pi\n"
     ]
    },
    {
     "name": "stderr",
     "output_type": "stream",
     "text": [
      "100%|██████████| 10/10 [00:02<00:00,  4.71it/s]\n",
      " 10%|█         | 2/20 [00:04<00:41,  2.32s/it]"
     ]
    },
    {
     "name": "stdout",
     "output_type": "stream",
     "text": [
      "Loading models from ./idil_train/result/CleanupSingle-v0/idil/es-100-01J4XJMMP9N8S3TQN4SESDZCTR-synth_extra_trajs-0809/2024-08-10_02-21-57/model/iq_CleanupSingle-v0_n70_l70_best_tx\n",
      "Loading models from ./idil_train/result/CleanupSingle-v0/idil/es-100-01J4XJMMP9N8S3TQN4SESDZCTR-synth_extra_trajs-0809/2024-08-10_02-21-57/model/iq_CleanupSingle-v0_n70_l70_best_pi\n"
     ]
    },
    {
     "name": "stderr",
     "output_type": "stream",
     "text": [
      "100%|██████████| 10/10 [00:02<00:00,  4.76it/s]\n",
      " 15%|█▌        | 3/20 [00:06<00:38,  2.27s/it]"
     ]
    },
    {
     "name": "stdout",
     "output_type": "stream",
     "text": [
      "Loading models from ./idil_train/result/CleanupSingle-v0/idil/es-100-01J4XFW8RHVVYCTJ5Y3C2BTBF9-synth_extra_trajs-0809/2024-08-10_01-33-41/model/iq_CleanupSingle-v0_n70_l70_best_tx\n",
      "Loading models from ./idil_train/result/CleanupSingle-v0/idil/es-100-01J4XFW8RHVVYCTJ5Y3C2BTBF9-synth_extra_trajs-0809/2024-08-10_01-33-41/model/iq_CleanupSingle-v0_n70_l70_best_pi\n"
     ]
    },
    {
     "name": "stderr",
     "output_type": "stream",
     "text": [
      "100%|██████████| 10/10 [00:03<00:00,  2.90it/s]\n",
      " 20%|██        | 4/20 [00:10<00:44,  2.77s/it]"
     ]
    },
    {
     "name": "stdout",
     "output_type": "stream",
     "text": [
      "Loading models from ./idil_train/result/CleanupSingle-v0/idil/es-100-01J4XD2HX2Y2FBMBEWEE6RGH40-synth_extra_trajs-0809/2024-08-10_00-44-41/model/iq_CleanupSingle-v0_n70_l70_best_tx\n",
      "Loading models from ./idil_train/result/CleanupSingle-v0/idil/es-100-01J4XD2HX2Y2FBMBEWEE6RGH40-synth_extra_trajs-0809/2024-08-10_00-44-41/model/iq_CleanupSingle-v0_n70_l70_best_pi\n"
     ]
    },
    {
     "name": "stderr",
     "output_type": "stream",
     "text": [
      "100%|██████████| 10/10 [00:01<00:00,  5.31it/s]\n",
      " 25%|██▌       | 5/20 [00:12<00:37,  2.48s/it]"
     ]
    },
    {
     "name": "stdout",
     "output_type": "stream",
     "text": [
      "Loading models from ./idil_train/result/CleanupSingle-v0/idil/es-60-01J4XA99JZKFM2DW2EEA0XSZK7-synth_extra_trajs-0809/2024-08-09_23-55-56/model/iq_CleanupSingle-v0_n70_l70_best_tx\n",
      "Loading models from ./idil_train/result/CleanupSingle-v0/idil/es-60-01J4XA99JZKFM2DW2EEA0XSZK7-synth_extra_trajs-0809/2024-08-09_23-55-56/model/iq_CleanupSingle-v0_n70_l70_best_pi\n"
     ]
    },
    {
     "name": "stderr",
     "output_type": "stream",
     "text": [
      "100%|██████████| 10/10 [00:02<00:00,  4.10it/s]\n",
      " 30%|███       | 6/20 [00:14<00:34,  2.50s/it]"
     ]
    },
    {
     "name": "stdout",
     "output_type": "stream",
     "text": [
      "Loading models from ./idil_train/result/CleanupSingle-v0/idil/es-60-01J4X7FCX4VVR4C8QJ01PCR57Q-synth_extra_trajs-0809/2024-08-09_23-06-51/model/iq_CleanupSingle-v0_n70_l70_best_tx\n",
      "Loading models from ./idil_train/result/CleanupSingle-v0/idil/es-60-01J4X7FCX4VVR4C8QJ01PCR57Q-synth_extra_trajs-0809/2024-08-09_23-06-51/model/iq_CleanupSingle-v0_n70_l70_best_pi\n"
     ]
    },
    {
     "name": "stderr",
     "output_type": "stream",
     "text": [
      "100%|██████████| 10/10 [00:02<00:00,  4.39it/s]\n",
      " 35%|███▌      | 7/20 [00:17<00:31,  2.46s/it]"
     ]
    },
    {
     "name": "stdout",
     "output_type": "stream",
     "text": [
      "Loading models from ./idil_train/result/CleanupSingle-v0/idil/es-60-01J4X4MRGFV2KTEQJW4GNMQKXS-synth_extra_trajs-0809/2024-08-09_22-17-21/model/iq_CleanupSingle-v0_n70_l70_best_tx\n",
      "Loading models from ./idil_train/result/CleanupSingle-v0/idil/es-60-01J4X4MRGFV2KTEQJW4GNMQKXS-synth_extra_trajs-0809/2024-08-09_22-17-21/model/iq_CleanupSingle-v0_n70_l70_best_pi\n"
     ]
    },
    {
     "name": "stderr",
     "output_type": "stream",
     "text": [
      "100%|██████████| 10/10 [00:03<00:00,  3.01it/s]\n",
      " 40%|████      | 8/20 [00:20<00:33,  2.76s/it]"
     ]
    },
    {
     "name": "stdout",
     "output_type": "stream",
     "text": [
      "Loading models from ./idil_train/result/CleanupSingle-v0/idil/es-60-01J4X1WBK8J8F3XXHZBVQSGMP2-synth_extra_trajs-0809/2024-08-09_21-29-04/model/iq_CleanupSingle-v0_n70_l70_best_tx\n",
      "Loading models from ./idil_train/result/CleanupSingle-v0/idil/es-60-01J4X1WBK8J8F3XXHZBVQSGMP2-synth_extra_trajs-0809/2024-08-09_21-29-04/model/iq_CleanupSingle-v0_n70_l70_best_pi\n"
     ]
    },
    {
     "name": "stderr",
     "output_type": "stream",
     "text": [
      "100%|██████████| 10/10 [00:02<00:00,  3.83it/s]\n",
      " 45%|████▌     | 9/20 [00:23<00:30,  2.74s/it]"
     ]
    },
    {
     "name": "stdout",
     "output_type": "stream",
     "text": [
      "Loading models from ./idil_train/result/CleanupSingle-v0/idil/es-60-01J4WYYDPHHAGRHK4Q4TS1GM0Y-synth_extra_trajs-0809/2024-08-09_20-37-46/model/iq_CleanupSingle-v0_n70_l70_best_tx\n",
      "Loading models from ./idil_train/result/CleanupSingle-v0/idil/es-60-01J4WYYDPHHAGRHK4Q4TS1GM0Y-synth_extra_trajs-0809/2024-08-09_20-37-46/model/iq_CleanupSingle-v0_n70_l70_best_pi\n"
     ]
    },
    {
     "name": "stderr",
     "output_type": "stream",
     "text": [
      "100%|██████████| 10/10 [00:02<00:00,  3.79it/s]\n",
      " 50%|█████     | 10/20 [00:26<00:27,  2.74s/it]"
     ]
    },
    {
     "name": "stdout",
     "output_type": "stream",
     "text": [
      "Loading models from ./idil_train/result/CleanupSingle-v0/idil/es-20-01J4WW1WMZN9APJJ8NF115HQDC-synth_extra_trajs-0809/2024-08-09_19-47-14/model/iq_CleanupSingle-v0_n70_l70_best_tx\n",
      "Loading models from ./idil_train/result/CleanupSingle-v0/idil/es-20-01J4WW1WMZN9APJJ8NF115HQDC-synth_extra_trajs-0809/2024-08-09_19-47-14/model/iq_CleanupSingle-v0_n70_l70_best_pi\n"
     ]
    },
    {
     "name": "stderr",
     "output_type": "stream",
     "text": [
      "100%|██████████| 10/10 [00:02<00:00,  4.66it/s]\n",
      " 55%|█████▌    | 11/20 [00:28<00:23,  2.59s/it]"
     ]
    },
    {
     "name": "stdout",
     "output_type": "stream",
     "text": [
      "Loading models from ./idil_train/result/CleanupSingle-v0/idil/es-20-01J4WS66ZBGJCDXQ4QTE33S2HX-synth_extra_trajs-0809/2024-08-09_18-57-09/model/iq_CleanupSingle-v0_n70_l70_best_tx\n",
      "Loading models from ./idil_train/result/CleanupSingle-v0/idil/es-20-01J4WS66ZBGJCDXQ4QTE33S2HX-synth_extra_trajs-0809/2024-08-09_18-57-09/model/iq_CleanupSingle-v0_n70_l70_best_pi\n"
     ]
    },
    {
     "name": "stderr",
     "output_type": "stream",
     "text": [
      "100%|██████████| 10/10 [00:02<00:00,  4.51it/s]\n",
      " 60%|██████    | 12/20 [00:30<00:20,  2.50s/it]"
     ]
    },
    {
     "name": "stdout",
     "output_type": "stream",
     "text": [
      "Loading models from ./idil_train/result/CleanupSingle-v0/idil/es-20-01J4WP99BEQC5G4DNBK4S7RYXQ-synth_extra_trajs-0809/2024-08-09_18-06-25/model/iq_CleanupSingle-v0_n70_l70_best_tx\n",
      "Loading models from ./idil_train/result/CleanupSingle-v0/idil/es-20-01J4WP99BEQC5G4DNBK4S7RYXQ-synth_extra_trajs-0809/2024-08-09_18-06-25/model/iq_CleanupSingle-v0_n70_l70_best_pi\n"
     ]
    },
    {
     "name": "stderr",
     "output_type": "stream",
     "text": [
      "100%|██████████| 10/10 [00:03<00:00,  3.32it/s]\n",
      " 65%|██████▌   | 13/20 [00:33<00:18,  2.69s/it]"
     ]
    },
    {
     "name": "stdout",
     "output_type": "stream",
     "text": [
      "Loading models from ./idil_train/result/CleanupSingle-v0/idil/es-20-01J4WKD4YREQT0RPPCFVT3BFSA-synth_extra_trajs-0809/2024-08-09_17-16-05/model/iq_CleanupSingle-v0_n70_l70_best_tx\n",
      "Loading models from ./idil_train/result/CleanupSingle-v0/idil/es-20-01J4WKD4YREQT0RPPCFVT3BFSA-synth_extra_trajs-0809/2024-08-09_17-16-05/model/iq_CleanupSingle-v0_n70_l70_best_pi\n"
     ]
    },
    {
     "name": "stderr",
     "output_type": "stream",
     "text": [
      "100%|██████████| 10/10 [00:02<00:00,  3.34it/s]\n",
      " 70%|███████   | 14/20 [00:36<00:16,  2.81s/it]"
     ]
    },
    {
     "name": "stdout",
     "output_type": "stream",
     "text": [
      "Loading models from ./idil_train/result/CleanupSingle-v0/idil/es-20-01J4WGGVYCEYXKM7DZ1TQT2KFQ-synth_extra_trajs-0809/2024-08-09_16-25-42/model/iq_CleanupSingle-v0_n70_l70_best_tx\n",
      "Loading models from ./idil_train/result/CleanupSingle-v0/idil/es-20-01J4WGGVYCEYXKM7DZ1TQT2KFQ-synth_extra_trajs-0809/2024-08-09_16-25-42/model/iq_CleanupSingle-v0_n70_l70_best_pi\n"
     ]
    },
    {
     "name": "stderr",
     "output_type": "stream",
     "text": [
      "100%|██████████| 10/10 [00:02<00:00,  4.77it/s]\n",
      " 75%|███████▌  | 15/20 [00:39<00:13,  2.62s/it]"
     ]
    },
    {
     "name": "stdout",
     "output_type": "stream",
     "text": [
      "Loading models from ./idil_train/result/CleanupSingle-v0/idil/es-0-01J4WDKJRBQJA5TRN78KD9V55P-synth_extra_trajs-0809/2024-08-09_15-34-46/model/iq_CleanupSingle-v0_n70_l70_best_tx\n",
      "Loading models from ./idil_train/result/CleanupSingle-v0/idil/es-0-01J4WDKJRBQJA5TRN78KD9V55P-synth_extra_trajs-0809/2024-08-09_15-34-46/model/iq_CleanupSingle-v0_n70_l70_best_pi\n"
     ]
    },
    {
     "name": "stderr",
     "output_type": "stream",
     "text": [
      "100%|██████████| 10/10 [00:02<00:00,  4.41it/s]\n",
      " 80%|████████  | 16/20 [00:41<00:10,  2.54s/it]"
     ]
    },
    {
     "name": "stdout",
     "output_type": "stream",
     "text": [
      "Loading models from ./idil_train/result/CleanupSingle-v0/idil/es-0-01J4W9R49RKQ9060E1VBXGY6XF-synth_extra_trajs-0809/2024-08-09_14-27-19/model/iq_CleanupSingle-v0_n70_l70_best_tx\n",
      "Loading models from ./idil_train/result/CleanupSingle-v0/idil/es-0-01J4W9R49RKQ9060E1VBXGY6XF-synth_extra_trajs-0809/2024-08-09_14-27-19/model/iq_CleanupSingle-v0_n70_l70_best_pi\n"
     ]
    },
    {
     "name": "stderr",
     "output_type": "stream",
     "text": [
      "100%|██████████| 10/10 [00:02<00:00,  3.51it/s]\n",
      " 85%|████████▌ | 17/20 [00:44<00:07,  2.66s/it]"
     ]
    },
    {
     "name": "stdout",
     "output_type": "stream",
     "text": [
      "Loading models from ./idil_train/result/CleanupSingle-v0/idil/es-0-01J4W6Y6HFM2JA6YMBZVC3B9YA-synth_extra_trajs-0809/2024-08-09_13-38-13/model/iq_CleanupSingle-v0_n70_l70_best_tx\n",
      "Loading models from ./idil_train/result/CleanupSingle-v0/idil/es-0-01J4W6Y6HFM2JA6YMBZVC3B9YA-synth_extra_trajs-0809/2024-08-09_13-38-13/model/iq_CleanupSingle-v0_n70_l70_best_pi\n"
     ]
    },
    {
     "name": "stderr",
     "output_type": "stream",
     "text": [
      "100%|██████████| 10/10 [00:03<00:00,  3.15it/s]\n",
      " 90%|█████████ | 18/20 [00:47<00:05,  2.84s/it]"
     ]
    },
    {
     "name": "stdout",
     "output_type": "stream",
     "text": [
      "Loading models from ./idil_train/result/CleanupSingle-v0/idil/es-0-01J4W44NBPQP04TMKJQZ9FK38G-synth_extra_trajs-0809/2024-08-09_12-49-19/model/iq_CleanupSingle-v0_n70_l70_best_tx\n",
      "Loading models from ./idil_train/result/CleanupSingle-v0/idil/es-0-01J4W44NBPQP04TMKJQZ9FK38G-synth_extra_trajs-0809/2024-08-09_12-49-19/model/iq_CleanupSingle-v0_n70_l70_best_pi\n"
     ]
    },
    {
     "name": "stderr",
     "output_type": "stream",
     "text": [
      "100%|██████████| 10/10 [00:02<00:00,  3.36it/s]\n",
      " 95%|█████████▌| 19/20 [00:50<00:02,  2.91s/it]"
     ]
    },
    {
     "name": "stdout",
     "output_type": "stream",
     "text": [
      "Loading models from ./idil_train/result/CleanupSingle-v0/idil/es-0-01J4W1ANG5AXDA4SZSPHKH12J3-synth_extra_trajs-0809/2024-08-09_12-00-10/model/iq_CleanupSingle-v0_n70_l70_best_tx\n",
      "Loading models from ./idil_train/result/CleanupSingle-v0/idil/es-0-01J4W1ANG5AXDA4SZSPHKH12J3-synth_extra_trajs-0809/2024-08-09_12-00-10/model/iq_CleanupSingle-v0_n70_l70_best_pi\n"
     ]
    },
    {
     "name": "stderr",
     "output_type": "stream",
     "text": [
      "100%|██████████| 10/10 [00:01<00:00,  5.01it/s]\n",
      "100%|██████████| 20/20 [00:52<00:00,  2.64s/it]\n"
     ]
    }
   ],
   "source": [
    "trajectories = nb_utils.get_agent_trajectories(runs=RUNS, env_name=ENV_NAME, num_trajectories=10)"
   ]
  },
  {
   "cell_type": "code",
   "execution_count": 8,
   "metadata": {},
   "outputs": [
    {
     "name": "stdout",
     "output_type": "stream",
     "text": [
      "There are 4 kvals\n",
      "Each kval has 50 cum_rewards, matching the 5 x 10 trajectories generated for each agent (using key = 100)\n"
     ]
    }
   ],
   "source": [
    "cum_rewards = nb_utils.get_cumulative_rewards(trajectories, agents)"
   ]
  },
  {
   "cell_type": "code",
   "execution_count": 9,
   "metadata": {},
   "outputs": [
    {
     "data": {
      "text/plain": [
       "(-100.0, -10.0)"
      ]
     },
     "execution_count": 9,
     "metadata": {},
     "output_type": "execute_result"
    },
    {
     "data": {
      "image/png": "[encoded data removed]",
      "text/plain": [
       "<Figure size 640x480 with 1 Axes>"
      ]
     },
     "metadata": {},
     "output_type": "display_data"
    }
   ],
   "source": [
    "nb_utils.plot_cum_rewards(cum_rewards)\n",
    "plt.gca().set_ylim([-100, -10])"
   ]
  },
  {
   "cell_type": "code",
   "execution_count": 10,
   "metadata": {},
   "outputs": [
    {
     "data": {
      "text/html": [
       "<div>\n",
       "<style scoped>\n",
       "    .dataframe tbody tr th:only-of-type {\n",
       "        vertical-align: middle;\n",
       "    }\n",
       "\n",
       "    .dataframe tbody tr th {\n",
       "        vertical-align: top;\n",
       "    }\n",
       "\n",
       "    .dataframe thead th {\n",
       "        text-align: right;\n",
       "    }\n",
       "</style>\n",
       "<table border=\"1\" class=\"dataframe\">\n",
       "  <thead>\n",
       "    <tr style=\"text-align: right;\">\n",
       "      <th></th>\n",
       "      <th>100</th>\n",
       "      <th>60</th>\n",
       "      <th>20</th>\n",
       "      <th>0</th>\n",
       "    </tr>\n",
       "  </thead>\n",
       "  <tbody>\n",
       "    <tr>\n",
       "      <th>count</th>\n",
       "      <td>50.000000</td>\n",
       "      <td>50.000000</td>\n",
       "      <td>50.000000</td>\n",
       "      <td>50.000000</td>\n",
       "    </tr>\n",
       "    <tr>\n",
       "      <th>mean</th>\n",
       "      <td>-54.240000</td>\n",
       "      <td>-62.040000</td>\n",
       "      <td>-56.920000</td>\n",
       "      <td>-60.280000</td>\n",
       "    </tr>\n",
       "    <tr>\n",
       "      <th>std</th>\n",
       "      <td>31.850134</td>\n",
       "      <td>46.873238</td>\n",
       "      <td>29.704559</td>\n",
       "      <td>43.678809</td>\n",
       "    </tr>\n",
       "    <tr>\n",
       "      <th>min</th>\n",
       "      <td>-200.000000</td>\n",
       "      <td>-200.000000</td>\n",
       "      <td>-200.000000</td>\n",
       "      <td>-200.000000</td>\n",
       "    </tr>\n",
       "    <tr>\n",
       "      <th>25%</th>\n",
       "      <td>-52.250000</td>\n",
       "      <td>-52.000000</td>\n",
       "      <td>-55.000000</td>\n",
       "      <td>-51.000000</td>\n",
       "    </tr>\n",
       "    <tr>\n",
       "      <th>50%</th>\n",
       "      <td>-46.500000</td>\n",
       "      <td>-47.000000</td>\n",
       "      <td>-49.500000</td>\n",
       "      <td>-45.500000</td>\n",
       "    </tr>\n",
       "    <tr>\n",
       "      <th>75%</th>\n",
       "      <td>-42.250000</td>\n",
       "      <td>-43.000000</td>\n",
       "      <td>-45.250000</td>\n",
       "      <td>-41.250000</td>\n",
       "    </tr>\n",
       "    <tr>\n",
       "      <th>max</th>\n",
       "      <td>-36.000000</td>\n",
       "      <td>-37.000000</td>\n",
       "      <td>-37.000000</td>\n",
       "      <td>-36.000000</td>\n",
       "    </tr>\n",
       "  </tbody>\n",
       "</table>\n",
       "</div>"
      ],
      "text/plain": [
       "              100         60          20          0  \n",
       "count   50.000000   50.000000   50.000000   50.000000\n",
       "mean   -54.240000  -62.040000  -56.920000  -60.280000\n",
       "std     31.850134   46.873238   29.704559   43.678809\n",
       "min   -200.000000 -200.000000 -200.000000 -200.000000\n",
       "25%    -52.250000  -52.000000  -55.000000  -51.000000\n",
       "50%    -46.500000  -47.000000  -49.500000  -45.500000\n",
       "75%    -42.250000  -43.000000  -45.250000  -41.250000\n",
       "max    -36.000000  -37.000000  -37.000000  -36.000000"
      ]
     },
     "execution_count": 10,
     "metadata": {},
     "output_type": "execute_result"
    }
   ],
   "source": [
    "pd.DataFrame(cum_rewards).describe()"
   ]
  },
  {
   "cell_type": "markdown",
   "metadata": {},
   "source": [
    "## evaluate mean differences between K values"
   ]
  },
  {
   "cell_type": "code",
   "execution_count": 11,
   "metadata": {},
   "outputs": [
    {
     "data": {
      "text/plain": [
       "[-38,\n",
       " -50,\n",
       " -49,\n",
       " -44,\n",
       " -50,\n",
       " -45,\n",
       " -52,\n",
       " -48,\n",
       " -50,\n",
       " -51,\n",
       " -46,\n",
       " -52,\n",
       " -52,\n",
       " -50,\n",
       " -59,\n",
       " -61,\n",
       " -47,\n",
       " -41,\n",
       " -69,\n",
       " -37,\n",
       " -50,\n",
       " -44,\n",
       " -49,\n",
       " -56,\n",
       " -44,\n",
       " -50,\n",
       " -137,\n",
       " -48,\n",
       " -56,\n",
       " -165,\n",
       " -49,\n",
       " -48,\n",
       " -47,\n",
       " -200,\n",
       " -60,\n",
       " -57,\n",
       " -56,\n",
       " -49,\n",
       " -40,\n",
       " -71,\n",
       " -49,\n",
       " -63,\n",
       " -51,\n",
       " -45,\n",
       " -50,\n",
       " -44,\n",
       " -44,\n",
       " -42,\n",
       " -43,\n",
       " -48]"
      ]
     },
     "execution_count": 11,
     "metadata": {},
     "output_type": "execute_result"
    }
   ],
   "source": [
    "cum_rewards[20]"
   ]
  },
  {
   "cell_type": "code",
   "execution_count": 12,
   "metadata": {},
   "outputs": [
    {
     "name": "stdout",
     "output_type": "stream",
     "text": [
      "K = 20\n",
      "Ttest_indResult(statistic=-0.4497867688839735, pvalue=0.6539914430941691)\n",
      "Not significant\n",
      "------------\n",
      "K = 60\n",
      "Ttest_indResult(statistic=0.19424253082663195, pvalue=0.8463900569718343)\n",
      "Not significant\n",
      "------------\n",
      "K = 100\n",
      "Ttest_indResult(statistic=-0.7900631690957246, pvalue=0.4315763428407936)\n",
      "Not significant\n",
      "------------\n"
     ]
    }
   ],
   "source": [
    "test_baseline = 0\n",
    "test_kvals = [20, 60, 100]\n",
    "\n",
    "for k in test_kvals:\n",
    "    print(f\"K = {k}\")\n",
    "    res = stats.ttest_ind(cum_rewards[test_baseline], cum_rewards[k], equal_var=False)\n",
    "    print(res)\n",
    "    if res.pvalue < 0.05:\n",
    "        print(\"Significant\")\n",
    "    else:\n",
    "        print(\"Not significant\")\n",
    "\n",
    "    print(\"---\" * 4)"
   ]
  },
  {
   "cell_type": "markdown",
   "metadata": {},
   "source": [
    "# Evaluate on test data"
   ]
  },
  {
   "cell_type": "code",
   "execution_count": 13,
   "metadata": {},
   "outputs": [],
   "source": [
    "# load test data for CleanupSingle-v0\n",
    "# load test data\n",
    "import os\n",
    "\n",
    "with open(os.path.join(\"idil_train\", \"test_data\", \"CleanupSingle-v0_50-TEST.pkl\"), \"rb\") as f:\n",
    "    test_data = pkl.load(f)"
   ]
  },
  {
   "cell_type": "code",
   "execution_count": 14,
   "metadata": {},
   "outputs": [
    {
     "name": "stderr",
     "output_type": "stream",
     "text": [
      "50it [00:08,  6.19it/s]\n"
     ]
    }
   ],
   "source": [
    "accs_by_k = nb_utils.compute_accuracy_by_kval(test_data=test_data, agents=agents)"
   ]
  },
  {
   "cell_type": "code",
   "execution_count": 15,
   "metadata": {},
   "outputs": [
    {
     "data": {
      "image/png": "[encoded data removed]",
      "text/plain": [
       "<Figure size 640x480 with 1 Axes>"
      ]
     },
     "metadata": {},
     "output_type": "display_data"
    }
   ],
   "source": [
    "nb_utils.plot_sequence_accuracy_boxplot(accs_by_k)"
   ]
  },
  {
   "cell_type": "code",
   "execution_count": 16,
   "metadata": {},
   "outputs": [
    {
     "data": {
      "text/html": [
       "<div>\n",
       "<style scoped>\n",
       "    .dataframe tbody tr th:only-of-type {\n",
       "        vertical-align: middle;\n",
       "    }\n",
       "\n",
       "    .dataframe tbody tr th {\n",
       "        vertical-align: top;\n",
       "    }\n",
       "\n",
       "    .dataframe thead th {\n",
       "        text-align: right;\n",
       "    }\n",
       "</style>\n",
       "<table border=\"1\" class=\"dataframe\">\n",
       "  <thead>\n",
       "    <tr style=\"text-align: right;\">\n",
       "      <th></th>\n",
       "      <th>100</th>\n",
       "      <th>60</th>\n",
       "      <th>20</th>\n",
       "      <th>0</th>\n",
       "    </tr>\n",
       "  </thead>\n",
       "  <tbody>\n",
       "    <tr>\n",
       "      <th>count</th>\n",
       "      <td>250.000000</td>\n",
       "      <td>250.000000</td>\n",
       "      <td>250.000000</td>\n",
       "      <td>250.000000</td>\n",
       "    </tr>\n",
       "    <tr>\n",
       "      <th>mean</th>\n",
       "      <td>0.960407</td>\n",
       "      <td>0.952086</td>\n",
       "      <td>0.957714</td>\n",
       "      <td>0.929977</td>\n",
       "    </tr>\n",
       "    <tr>\n",
       "      <th>std</th>\n",
       "      <td>0.063340</td>\n",
       "      <td>0.063372</td>\n",
       "      <td>0.064906</td>\n",
       "      <td>0.096606</td>\n",
       "    </tr>\n",
       "    <tr>\n",
       "      <th>min</th>\n",
       "      <td>0.672131</td>\n",
       "      <td>0.673077</td>\n",
       "      <td>0.673077</td>\n",
       "      <td>0.568966</td>\n",
       "    </tr>\n",
       "    <tr>\n",
       "      <th>25%</th>\n",
       "      <td>0.938776</td>\n",
       "      <td>0.923077</td>\n",
       "      <td>0.933333</td>\n",
       "      <td>0.877675</td>\n",
       "    </tr>\n",
       "    <tr>\n",
       "      <th>50%</th>\n",
       "      <td>0.991525</td>\n",
       "      <td>0.978723</td>\n",
       "      <td>1.000000</td>\n",
       "      <td>0.979158</td>\n",
       "    </tr>\n",
       "    <tr>\n",
       "      <th>75%</th>\n",
       "      <td>1.000000</td>\n",
       "      <td>1.000000</td>\n",
       "      <td>1.000000</td>\n",
       "      <td>1.000000</td>\n",
       "    </tr>\n",
       "    <tr>\n",
       "      <th>max</th>\n",
       "      <td>1.000000</td>\n",
       "      <td>1.000000</td>\n",
       "      <td>1.000000</td>\n",
       "      <td>1.000000</td>\n",
       "    </tr>\n",
       "  </tbody>\n",
       "</table>\n",
       "</div>"
      ],
      "text/plain": [
       "              100         60          20          0  \n",
       "count  250.000000  250.000000  250.000000  250.000000\n",
       "mean     0.960407    0.952086    0.957714    0.929977\n",
       "std      0.063340    0.063372    0.064906    0.096606\n",
       "min      0.672131    0.673077    0.673077    0.568966\n",
       "25%      0.938776    0.923077    0.933333    0.877675\n",
       "50%      0.991525    0.978723    1.000000    0.979158\n",
       "75%      1.000000    1.000000    1.000000    1.000000\n",
       "max      1.000000    1.000000    1.000000    1.000000"
      ]
     },
     "execution_count": 16,
     "metadata": {},
     "output_type": "execute_result"
    }
   ],
   "source": [
    "pd.DataFrame(accs_by_k).describe()"
   ]
  },
  {
   "cell_type": "markdown",
   "metadata": {},
   "source": [
    "# Evaluate `fixed_pi` models"
   ]
  },
  {
   "cell_type": "code",
   "execution_count": 15,
   "metadata": {},
   "outputs": [],
   "source": [
    "RUNS = [\n",
    "\"es-100-01J50HYWVA9B1VKTJ3Z1Q59ZG9-synth_extra_trajs-fixedpi-0810\",\n",
    "\"es-100-01J50FYKH42PXN6JGMP4PV3Z9W-synth_extra_trajs-fixedpi-0810\",\n",
    "\"es-100-01J50DYTWZ1D3Q4PFKE6VHN54M-synth_extra_trajs-fixedpi-0810\",\n",
    "\"es-100-01J50BZ12TGCPCAFBGQD3DAH9A-synth_extra_trajs-fixedpi-0810\",\n",
    "\"es-100-01J50A0HH3JC5EB39KEAKF61QR-synth_extra_trajs-fixedpi-0810\",\n",
    "\"es-60-01J5081T4SPE48MV40K1W3495A-synth_extra_trajs-fixedpi-0810\",\n",
    "\"es-60-01J5063CG8MZMTKJYDP9C7K7AW-synth_extra_trajs-fixedpi-0810\",\n",
    "\"es-60-01J50441MDA9JSTSETH5AGNEBW-synth_extra_trajs-fixedpi-0810\",\n",
    "\"es-60-01J5025B59AQHG6VXN5BZDFCW1-synth_extra_trajs-fixedpi-0810\",\n",
    "\"es-60-01J5005X7E5HSTPSJ4K7S38Z3J-synth_extra_trajs-fixedpi-0810\",\n",
    "\"es-20-01J4ZY79P0D0WKME7MEKMSNZFE-synth_extra_trajs-fixedpi-0810\",\n",
    "\"es-20-01J4ZW7YQ0GEQSF4C0K3JS29TW-synth_extra_trajs-fixedpi-0810\",\n",
    "\"es-20-01J4ZT8FSGZNZM5FA64DR61W8R-synth_extra_trajs-fixedpi-0810\",\n",
    "\"es-20-01J4ZR9R661ATZJRNBHM3EFTW1-synth_extra_trajs-fixedpi-0810\",\n",
    "\"es-20-01J4ZPAF1W7FSYYZ4YPC74PSRR-synth_extra_trajs-fixedpi-0810\",\n",
    "\"es-0-01J4ZMCF4YE5GYMVG3XBAWZ70A-synth_extra_trajs-fixedpi-0810\",\n",
    "\"es-0-01J4ZJE2CRGHDXKR5MEF0M709G-synth_extra_trajs-fixedpi-0810\",\n",
    "\"es-0-01J4ZGE3N4HV2XMP9NEY8B3A7X-synth_extra_trajs-fixedpi-0810\",\n",
    "\"es-0-01J4ZEE268ZTT50GR19M68JQNC-synth_extra_trajs-fixedpi-0810\",\n",
    "\"es-0-01J4ZCDQKQ0GMHVGPWB3041F4E-synth_extra_trajs-fixedpi-0810\",\n",
    "]"
   ]
  },
  {
   "cell_type": "code",
   "execution_count": 15,
   "metadata": {},
   "outputs": [],
   "source": [
    "from idil_algs.baselines.IQLearn.dataset.expert_dataset import ExpertDataset\n",
    "import os\n",
    "\n",
    "expert_dataset = ExpertDataset(os.path.join(\"idil_train\",\"extra_trajectories/CleanupSingle-v0_500-EXPERT-DIST.pkl\"))"
   ]
  },
  {
   "cell_type": "code",
   "execution_count": 45,
   "metadata": {},
   "outputs": [
    {
     "data": {
      "text/plain": [
       "<module 'utils' from '/home/juanhevia/IDIL/notebooks/utils.py'>"
      ]
     },
     "execution_count": 45,
     "metadata": {},
     "output_type": "execute_result"
    }
   ],
   "source": [
    "importlib.reload(nb_utils)"
   ]
  },
  {
   "cell_type": "code",
   "execution_count": 46,
   "metadata": {},
   "outputs": [
    {
     "data": {
      "text/plain": [
       "<module 'generate_trajectories' from '/home/juanhevia/IDIL/notebooks/generate_trajectories.py'>"
      ]
     },
     "execution_count": 46,
     "metadata": {},
     "output_type": "execute_result"
    }
   ],
   "source": [
    "importlib.reload(traj_utils)"
   ]
  },
  {
   "cell_type": "code",
   "execution_count": 62,
   "metadata": {},
   "outputs": [
    {
     "name": "stdout",
     "output_type": "stream",
     "text": [
      "Loading models from ./idil_train/result/CleanupSingle-v0/idil/es-100-01J50HYWVA9B1VKTJ3Z1Q59ZG9-synth_extra_trajs-fixedpi-0810/2024-08-11_06-07-47/model/iq_CleanupSingle-v0_n70_l70_best_tx\n",
      "Loading models from ./idil_train/result/CleanupSingle-v0/idil/es-100-01J50FYKH42PXN6JGMP4PV3Z9W-synth_extra_trajs-fixedpi-0810/2024-08-11_05-32-41/model/iq_CleanupSingle-v0_n70_l70_best_tx\n",
      "Loading models from ./idil_train/result/CleanupSingle-v0/idil/es-100-01J50DYTWZ1D3Q4PFKE6VHN54M-synth_extra_trajs-fixedpi-0810/2024-08-11_04-57-51/model/iq_CleanupSingle-v0_n70_l70_best_tx\n",
      "Loading models from ./idil_train/result/CleanupSingle-v0/idil/es-100-01J50BZ12TGCPCAFBGQD3DAH9A-synth_extra_trajs-fixedpi-0810/2024-08-11_04-23-00/model/iq_CleanupSingle-v0_n70_l70_best_tx\n",
      "Loading models from ./idil_train/result/CleanupSingle-v0/idil/es-100-01J50A0HH3JC5EB39KEAKF61QR-synth_extra_trajs-fixedpi-0810/2024-08-11_03-48-53/model/iq_CleanupSingle-v0_n70_l70_best_tx\n",
      "Loading models from ./idil_train/result/CleanupSingle-v0/idil/es-60-01J5081T4SPE48MV40K1W3495A-synth_extra_trajs-fixedpi-0810/2024-08-11_03-14-37/model/iq_CleanupSingle-v0_n70_l70_best_tx\n",
      "Loading models from ./idil_train/result/CleanupSingle-v0/idil/es-60-01J5063CG8MZMTKJYDP9C7K7AW-synth_extra_trajs-fixedpi-0810/2024-08-11_02-40-32/model/iq_CleanupSingle-v0_n70_l70_best_tx\n",
      "Loading models from ./idil_train/result/CleanupSingle-v0/idil/es-60-01J50441MDA9JSTSETH5AGNEBW-synth_extra_trajs-fixedpi-0810/2024-08-11_02-05-56/model/iq_CleanupSingle-v0_n70_l70_best_tx\n",
      "Loading models from ./idil_train/result/CleanupSingle-v0/idil/es-60-01J5025B59AQHG6VXN5BZDFCW1-synth_extra_trajs-fixedpi-0810/2024-08-11_01-31-41/model/iq_CleanupSingle-v0_n70_l70_best_tx\n",
      "Loading models from ./idil_train/result/CleanupSingle-v0/idil/es-60-01J5005X7E5HSTPSJ4K7S38Z3J-synth_extra_trajs-fixedpi-0810/2024-08-11_00-57-03/model/iq_CleanupSingle-v0_n70_l70_best_tx\n",
      "Loading models from ./idil_train/result/CleanupSingle-v0/idil/es-20-01J4ZY79P0D0WKME7MEKMSNZFE-synth_extra_trajs-fixedpi-0810/2024-08-11_00-22-51/model/iq_CleanupSingle-v0_n70_l70_best_tx\n",
      "Loading models from ./idil_train/result/CleanupSingle-v0/idil/es-20-01J4ZW7YQ0GEQSF4C0K3JS29TW-synth_extra_trajs-fixedpi-0810/2024-08-10_23-48-16/model/iq_CleanupSingle-v0_n70_l70_best_tx\n",
      "Loading models from ./idil_train/result/CleanupSingle-v0/idil/es-20-01J4ZT8FSGZNZM5FA64DR61W8R-synth_extra_trajs-fixedpi-0810/2024-08-10_23-13-36/model/iq_CleanupSingle-v0_n70_l70_best_tx\n",
      "Loading models from ./idil_train/result/CleanupSingle-v0/idil/es-20-01J4ZR9R661ATZJRNBHM3EFTW1-synth_extra_trajs-fixedpi-0810/2024-08-10_22-39-20/model/iq_CleanupSingle-v0_n70_l70_best_tx\n",
      "Loading models from ./idil_train/result/CleanupSingle-v0/idil/es-20-01J4ZPAF1W7FSYYZ4YPC74PSRR-synth_extra_trajs-fixedpi-0810/2024-08-10_22-04-46/model/iq_CleanupSingle-v0_n70_l70_best_tx\n",
      "Loading models from ./idil_train/result/CleanupSingle-v0/idil/es-0-01J4ZMCF4YE5GYMVG3XBAWZ70A-synth_extra_trajs-fixedpi-0810/2024-08-10_21-30-55/model/iq_CleanupSingle-v0_n70_l70_best_tx\n",
      "Loading models from ./idil_train/result/CleanupSingle-v0/idil/es-0-01J4ZJE2CRGHDXKR5MEF0M709G-synth_extra_trajs-fixedpi-0810/2024-08-10_20-56-50/model/iq_CleanupSingle-v0_n70_l70_best_tx\n",
      "Loading models from ./idil_train/result/CleanupSingle-v0/idil/es-0-01J4ZGE3N4HV2XMP9NEY8B3A7X-synth_extra_trajs-fixedpi-0810/2024-08-10_20-21-54/model/iq_CleanupSingle-v0_n70_l70_best_tx\n",
      "Loading models from ./idil_train/result/CleanupSingle-v0/idil/es-0-01J4ZEE268ZTT50GR19M68JQNC-synth_extra_trajs-fixedpi-0810/2024-08-10_19-46-56/model/iq_CleanupSingle-v0_n70_l70_best_tx\n",
      "Loading models from ./idil_train/result/CleanupSingle-v0/idil/es-0-01J4ZCDQKQ0GMHVGPWB3041F4E-synth_extra_trajs-fixedpi-0810/2024-08-10_19-11-48/model/iq_CleanupSingle-v0_n70_l70_best_tx\n"
     ]
    },
    {
     "name": "stderr",
     "output_type": "stream",
     "text": [
      "  0%|          | 0/20 [00:00<?, ?it/s]"
     ]
    },
    {
     "name": "stdout",
     "output_type": "stream",
     "text": [
      "Loading models from ./idil_train/result/CleanupSingle-v0/idil/es-100-01J50HYWVA9B1VKTJ3Z1Q59ZG9-synth_extra_trajs-fixedpi-0810/2024-08-11_06-07-47/model/iq_CleanupSingle-v0_n70_l70_best_tx\n"
     ]
    },
    {
     "name": "stderr",
     "output_type": "stream",
     "text": [
      "100%|██████████| 10/10 [00:04<00:00,  2.01it/s]\n",
      "  5%|▌         | 1/20 [00:05<01:35,  5.03s/it]"
     ]
    },
    {
     "name": "stdout",
     "output_type": "stream",
     "text": [
      "Loading models from ./idil_train/result/CleanupSingle-v0/idil/es-100-01J50FYKH42PXN6JGMP4PV3Z9W-synth_extra_trajs-fixedpi-0810/2024-08-11_05-32-41/model/iq_CleanupSingle-v0_n70_l70_best_tx\n"
     ]
    },
    {
     "name": "stderr",
     "output_type": "stream",
     "text": [
      "100%|██████████| 10/10 [00:05<00:00,  1.83it/s]\n",
      " 10%|█         | 2/20 [00:10<01:35,  5.32s/it]"
     ]
    },
    {
     "name": "stdout",
     "output_type": "stream",
     "text": [
      "Loading models from ./idil_train/result/CleanupSingle-v0/idil/es-100-01J50DYTWZ1D3Q4PFKE6VHN54M-synth_extra_trajs-fixedpi-0810/2024-08-11_04-57-51/model/iq_CleanupSingle-v0_n70_l70_best_tx\n"
     ]
    },
    {
     "name": "stderr",
     "output_type": "stream",
     "text": [
      "100%|██████████| 10/10 [00:05<00:00,  1.97it/s]\n",
      " 15%|█▌        | 3/20 [00:15<01:29,  5.24s/it]"
     ]
    },
    {
     "name": "stdout",
     "output_type": "stream",
     "text": [
      "Loading models from ./idil_train/result/CleanupSingle-v0/idil/es-100-01J50BZ12TGCPCAFBGQD3DAH9A-synth_extra_trajs-fixedpi-0810/2024-08-11_04-23-00/model/iq_CleanupSingle-v0_n70_l70_best_tx\n"
     ]
    },
    {
     "name": "stderr",
     "output_type": "stream",
     "text": [
      "100%|██████████| 10/10 [00:04<00:00,  2.04it/s]\n",
      " 20%|██        | 4/20 [00:20<01:21,  5.12s/it]"
     ]
    },
    {
     "name": "stdout",
     "output_type": "stream",
     "text": [
      "Loading models from ./idil_train/result/CleanupSingle-v0/idil/es-100-01J50A0HH3JC5EB39KEAKF61QR-synth_extra_trajs-fixedpi-0810/2024-08-11_03-48-53/model/iq_CleanupSingle-v0_n70_l70_best_tx\n"
     ]
    },
    {
     "name": "stderr",
     "output_type": "stream",
     "text": [
      "100%|██████████| 10/10 [00:04<00:00,  2.01it/s]\n",
      " 25%|██▌       | 5/20 [00:25<01:16,  5.09s/it]"
     ]
    },
    {
     "name": "stdout",
     "output_type": "stream",
     "text": [
      "Loading models from ./idil_train/result/CleanupSingle-v0/idil/es-60-01J5081T4SPE48MV40K1W3495A-synth_extra_trajs-fixedpi-0810/2024-08-11_03-14-37/model/iq_CleanupSingle-v0_n70_l70_best_tx\n"
     ]
    },
    {
     "name": "stderr",
     "output_type": "stream",
     "text": [
      "100%|██████████| 10/10 [00:05<00:00,  1.99it/s]\n",
      " 30%|███       | 6/20 [00:30<01:11,  5.09s/it]"
     ]
    },
    {
     "name": "stdout",
     "output_type": "stream",
     "text": [
      "Loading models from ./idil_train/result/CleanupSingle-v0/idil/es-60-01J5063CG8MZMTKJYDP9C7K7AW-synth_extra_trajs-fixedpi-0810/2024-08-11_02-40-32/model/iq_CleanupSingle-v0_n70_l70_best_tx\n"
     ]
    },
    {
     "name": "stderr",
     "output_type": "stream",
     "text": [
      "100%|██████████| 10/10 [00:05<00:00,  1.97it/s]\n",
      " 35%|███▌      | 7/20 [00:35<01:06,  5.10s/it]"
     ]
    },
    {
     "name": "stdout",
     "output_type": "stream",
     "text": [
      "Loading models from ./idil_train/result/CleanupSingle-v0/idil/es-60-01J50441MDA9JSTSETH5AGNEBW-synth_extra_trajs-fixedpi-0810/2024-08-11_02-05-56/model/iq_CleanupSingle-v0_n70_l70_best_tx\n"
     ]
    },
    {
     "name": "stderr",
     "output_type": "stream",
     "text": [
      "100%|██████████| 10/10 [00:05<00:00,  1.99it/s]\n",
      " 40%|████      | 8/20 [00:40<01:01,  5.09s/it]"
     ]
    },
    {
     "name": "stdout",
     "output_type": "stream",
     "text": [
      "Loading models from ./idil_train/result/CleanupSingle-v0/idil/es-60-01J5025B59AQHG6VXN5BZDFCW1-synth_extra_trajs-fixedpi-0810/2024-08-11_01-31-41/model/iq_CleanupSingle-v0_n70_l70_best_tx\n"
     ]
    },
    {
     "name": "stderr",
     "output_type": "stream",
     "text": [
      "100%|██████████| 10/10 [00:04<00:00,  2.00it/s]\n",
      " 45%|████▌     | 9/20 [00:46<00:55,  5.08s/it]"
     ]
    },
    {
     "name": "stdout",
     "output_type": "stream",
     "text": [
      "Loading models from ./idil_train/result/CleanupSingle-v0/idil/es-60-01J5005X7E5HSTPSJ4K7S38Z3J-synth_extra_trajs-fixedpi-0810/2024-08-11_00-57-03/model/iq_CleanupSingle-v0_n70_l70_best_tx\n"
     ]
    },
    {
     "name": "stderr",
     "output_type": "stream",
     "text": [
      "100%|██████████| 10/10 [00:05<00:00,  1.96it/s]\n",
      " 50%|█████     | 10/20 [00:51<00:51,  5.10s/it]"
     ]
    },
    {
     "name": "stdout",
     "output_type": "stream",
     "text": [
      "Loading models from ./idil_train/result/CleanupSingle-v0/idil/es-20-01J4ZY79P0D0WKME7MEKMSNZFE-synth_extra_trajs-fixedpi-0810/2024-08-11_00-22-51/model/iq_CleanupSingle-v0_n70_l70_best_tx\n"
     ]
    },
    {
     "name": "stderr",
     "output_type": "stream",
     "text": [
      "100%|██████████| 10/10 [00:04<00:00,  2.00it/s]\n",
      " 55%|█████▌    | 11/20 [00:56<00:45,  5.09s/it]"
     ]
    },
    {
     "name": "stdout",
     "output_type": "stream",
     "text": [
      "Loading models from ./idil_train/result/CleanupSingle-v0/idil/es-20-01J4ZW7YQ0GEQSF4C0K3JS29TW-synth_extra_trajs-fixedpi-0810/2024-08-10_23-48-16/model/iq_CleanupSingle-v0_n70_l70_best_tx\n"
     ]
    },
    {
     "name": "stderr",
     "output_type": "stream",
     "text": [
      "100%|██████████| 10/10 [00:04<00:00,  2.01it/s]\n",
      " 60%|██████    | 12/20 [01:01<00:40,  5.07s/it]"
     ]
    },
    {
     "name": "stdout",
     "output_type": "stream",
     "text": [
      "Loading models from ./idil_train/result/CleanupSingle-v0/idil/es-20-01J4ZT8FSGZNZM5FA64DR61W8R-synth_extra_trajs-fixedpi-0810/2024-08-10_23-13-36/model/iq_CleanupSingle-v0_n70_l70_best_tx\n"
     ]
    },
    {
     "name": "stderr",
     "output_type": "stream",
     "text": [
      "100%|██████████| 10/10 [00:05<00:00,  2.00it/s]\n",
      " 65%|██████▌   | 13/20 [01:06<00:35,  5.07s/it]"
     ]
    },
    {
     "name": "stdout",
     "output_type": "stream",
     "text": [
      "Loading models from ./idil_train/result/CleanupSingle-v0/idil/es-20-01J4ZR9R661ATZJRNBHM3EFTW1-synth_extra_trajs-fixedpi-0810/2024-08-10_22-39-20/model/iq_CleanupSingle-v0_n70_l70_best_tx\n"
     ]
    },
    {
     "name": "stderr",
     "output_type": "stream",
     "text": [
      "100%|██████████| 10/10 [00:04<00:00,  2.04it/s]\n",
      " 70%|███████   | 14/20 [01:11<00:30,  5.03s/it]"
     ]
    },
    {
     "name": "stdout",
     "output_type": "stream",
     "text": [
      "Loading models from ./idil_train/result/CleanupSingle-v0/idil/es-20-01J4ZPAF1W7FSYYZ4YPC74PSRR-synth_extra_trajs-fixedpi-0810/2024-08-10_22-04-46/model/iq_CleanupSingle-v0_n70_l70_best_tx\n"
     ]
    },
    {
     "name": "stderr",
     "output_type": "stream",
     "text": [
      "100%|██████████| 10/10 [00:04<00:00,  2.02it/s]\n",
      " 75%|███████▌  | 15/20 [01:16<00:25,  5.02s/it]"
     ]
    },
    {
     "name": "stdout",
     "output_type": "stream",
     "text": [
      "Loading models from ./idil_train/result/CleanupSingle-v0/idil/es-0-01J4ZMCF4YE5GYMVG3XBAWZ70A-synth_extra_trajs-fixedpi-0810/2024-08-10_21-30-55/model/iq_CleanupSingle-v0_n70_l70_best_tx\n"
     ]
    },
    {
     "name": "stderr",
     "output_type": "stream",
     "text": [
      "100%|██████████| 10/10 [00:04<00:00,  2.01it/s]\n",
      " 80%|████████  | 16/20 [01:21<00:20,  5.07s/it]"
     ]
    },
    {
     "name": "stdout",
     "output_type": "stream",
     "text": [
      "Loading models from ./idil_train/result/CleanupSingle-v0/idil/es-0-01J4ZJE2CRGHDXKR5MEF0M709G-synth_extra_trajs-fixedpi-0810/2024-08-10_20-56-50/model/iq_CleanupSingle-v0_n70_l70_best_tx\n"
     ]
    },
    {
     "name": "stderr",
     "output_type": "stream",
     "text": [
      "100%|██████████| 10/10 [00:05<00:00,  1.98it/s]\n",
      " 85%|████████▌ | 17/20 [01:26<00:15,  5.09s/it]"
     ]
    },
    {
     "name": "stdout",
     "output_type": "stream",
     "text": [
      "Loading models from ./idil_train/result/CleanupSingle-v0/idil/es-0-01J4ZGE3N4HV2XMP9NEY8B3A7X-synth_extra_trajs-fixedpi-0810/2024-08-10_20-21-54/model/iq_CleanupSingle-v0_n70_l70_best_tx\n"
     ]
    },
    {
     "name": "stderr",
     "output_type": "stream",
     "text": [
      "100%|██████████| 10/10 [00:05<00:00,  1.99it/s]\n",
      " 90%|█████████ | 18/20 [01:31<00:10,  5.08s/it]"
     ]
    },
    {
     "name": "stdout",
     "output_type": "stream",
     "text": [
      "Loading models from ./idil_train/result/CleanupSingle-v0/idil/es-0-01J4ZEE268ZTT50GR19M68JQNC-synth_extra_trajs-fixedpi-0810/2024-08-10_19-46-56/model/iq_CleanupSingle-v0_n70_l70_best_tx\n"
     ]
    },
    {
     "name": "stderr",
     "output_type": "stream",
     "text": [
      "100%|██████████| 10/10 [00:04<00:00,  2.02it/s]\n",
      " 95%|█████████▌| 19/20 [01:36<00:05,  5.06s/it]"
     ]
    },
    {
     "name": "stdout",
     "output_type": "stream",
     "text": [
      "Loading models from ./idil_train/result/CleanupSingle-v0/idil/es-0-01J4ZCDQKQ0GMHVGPWB3041F4E-synth_extra_trajs-fixedpi-0810/2024-08-10_19-11-48/model/iq_CleanupSingle-v0_n70_l70_best_tx\n"
     ]
    },
    {
     "name": "stderr",
     "output_type": "stream",
     "text": [
      "100%|██████████| 10/10 [00:04<00:00,  2.03it/s]\n",
      "100%|██████████| 20/20 [01:41<00:00,  5.08s/it]\n"
     ]
    }
   ],
   "source": [
    "agents_fixed_pi = nb_utils.get_trained_models(runs=RUNS, env_name=ENV_NAME, \n",
    "                                              load_micro=False, expert_dataset=expert_dataset)\n",
    "trajectories_fixed_pi = nb_utils.get_agent_trajectories(runs=RUNS, env_name=ENV_NAME, num_trajectories=10, \n",
    "                                                        load_micro=False, expert_dataset=expert_dataset)"
   ]
  },
  {
   "cell_type": "code",
   "execution_count": 63,
   "metadata": {},
   "outputs": [
    {
     "name": "stdout",
     "output_type": "stream",
     "text": [
      "There are 4 kvals\n",
      "Each kval has 50 cum_rewards, matching the 5 x 10 trajectories generated for each agent (using key = 100)\n"
     ]
    },
    {
     "data": {
      "image/png": "[encoded data removed]",
      "text/plain": [
       "<Figure size 640x480 with 1 Axes>"
      ]
     },
     "metadata": {},
     "output_type": "display_data"
    }
   ],
   "source": [
    "cum_rewards_fixed_pi = nb_utils.get_cumulative_rewards(trajectories_fixed_pi, agents_fixed_pi)\n",
    "nb_utils.plot_cum_rewards(cum_rewards_fixed_pi)\n",
    "# plt.gca().set_ylim([-100, -10])"
   ]
  },
  {
   "cell_type": "code",
   "execution_count": 67,
   "metadata": {},
   "outputs": [
    {
     "data": {
      "text/plain": [
       "[-1,\n",
       " -1,\n",
       " -1,\n",
       " -1,\n",
       " -1,\n",
       " -1,\n",
       " -1,\n",
       " -1,\n",
       " -1,\n",
       " -1,\n",
       " -1,\n",
       " -1,\n",
       " -1,\n",
       " -1,\n",
       " -1,\n",
       " -1,\n",
       " -1,\n",
       " -1,\n",
       " -1,\n",
       " -1,\n",
       " -1,\n",
       " -1,\n",
       " -1,\n",
       " -1,\n",
       " -1,\n",
       " -1,\n",
       " -1,\n",
       " -1,\n",
       " -1,\n",
       " -1,\n",
       " -1,\n",
       " -1,\n",
       " -1,\n",
       " -1,\n",
       " -1,\n",
       " -1,\n",
       " -1,\n",
       " -1,\n",
       " -1,\n",
       " -1,\n",
       " -1,\n",
       " -1,\n",
       " -1,\n",
       " -1,\n",
       " -1,\n",
       " -1,\n",
       " -1,\n",
       " -1,\n",
       " -1,\n",
       " -1,\n",
       " -1,\n",
       " -1,\n",
       " -1,\n",
       " -1,\n",
       " -1,\n",
       " -1,\n",
       " -1,\n",
       " -1,\n",
       " -1,\n",
       " -1,\n",
       " -1,\n",
       " -1,\n",
       " -1,\n",
       " -1,\n",
       " -1,\n",
       " -1,\n",
       " -1,\n",
       " -1,\n",
       " -1,\n",
       " -1,\n",
       " -1,\n",
       " -1,\n",
       " -1,\n",
       " -1,\n",
       " -1,\n",
       " -1,\n",
       " -1,\n",
       " -1,\n",
       " -1,\n",
       " -1,\n",
       " -1,\n",
       " -1,\n",
       " -1,\n",
       " -1,\n",
       " -1,\n",
       " -1,\n",
       " -1,\n",
       " -1,\n",
       " -1,\n",
       " -1,\n",
       " -1,\n",
       " -1,\n",
       " -1,\n",
       " -1,\n",
       " -1,\n",
       " -1,\n",
       " -1,\n",
       " -1,\n",
       " -1,\n",
       " -1,\n",
       " -1,\n",
       " -1,\n",
       " -1,\n",
       " -1,\n",
       " -1,\n",
       " -1,\n",
       " -1,\n",
       " -1,\n",
       " -1,\n",
       " -1,\n",
       " -1,\n",
       " -1,\n",
       " -1,\n",
       " -1,\n",
       " -1,\n",
       " -1,\n",
       " -1,\n",
       " -1,\n",
       " -1,\n",
       " -1,\n",
       " -1,\n",
       " -1,\n",
       " -1,\n",
       " -1,\n",
       " -1,\n",
       " -1,\n",
       " -1,\n",
       " -1,\n",
       " -1,\n",
       " -1,\n",
       " -1,\n",
       " -1,\n",
       " -1,\n",
       " -1,\n",
       " -1,\n",
       " -1,\n",
       " -1,\n",
       " -1,\n",
       " -1,\n",
       " -1,\n",
       " -1,\n",
       " -1,\n",
       " -1,\n",
       " -1,\n",
       " -1,\n",
       " -1,\n",
       " -1,\n",
       " -1,\n",
       " -1,\n",
       " -1,\n",
       " -1,\n",
       " -1,\n",
       " -1,\n",
       " -1,\n",
       " -1,\n",
       " -1,\n",
       " -1,\n",
       " -1,\n",
       " -1,\n",
       " -1,\n",
       " -1,\n",
       " -1,\n",
       " -1,\n",
       " -1,\n",
       " -1,\n",
       " -1,\n",
       " -1,\n",
       " -1,\n",
       " -1,\n",
       " -1,\n",
       " -1,\n",
       " -1,\n",
       " -1,\n",
       " -1,\n",
       " -1,\n",
       " -1,\n",
       " -1,\n",
       " -1,\n",
       " -1,\n",
       " -1,\n",
       " -1,\n",
       " -1,\n",
       " -1,\n",
       " -1,\n",
       " -1,\n",
       " -1,\n",
       " -1,\n",
       " -1,\n",
       " -1,\n",
       " -1,\n",
       " -1,\n",
       " -1,\n",
       " -1,\n",
       " -1,\n",
       " -1,\n",
       " -1,\n",
       " -1,\n",
       " -1,\n",
       " -1,\n",
       " -1]"
      ]
     },
     "execution_count": 67,
     "metadata": {},
     "output_type": "execute_result"
    }
   ],
   "source": [
    "trajectories_fixed_pi[0][0]['rewards'][0]"
   ]
  },
  {
   "cell_type": "code",
   "execution_count": 60,
   "metadata": {},
   "outputs": [
    {
     "data": {
      "text/html": [
       "<div>\n",
       "<style scoped>\n",
       "    .dataframe tbody tr th:only-of-type {\n",
       "        vertical-align: middle;\n",
       "    }\n",
       "\n",
       "    .dataframe tbody tr th {\n",
       "        vertical-align: top;\n",
       "    }\n",
       "\n",
       "    .dataframe thead th {\n",
       "        text-align: right;\n",
       "    }\n",
       "</style>\n",
       "<table border=\"1\" class=\"dataframe\">\n",
       "  <thead>\n",
       "    <tr style=\"text-align: right;\">\n",
       "      <th></th>\n",
       "      <th>100</th>\n",
       "      <th>60</th>\n",
       "      <th>20</th>\n",
       "      <th>0</th>\n",
       "    </tr>\n",
       "  </thead>\n",
       "  <tbody>\n",
       "    <tr>\n",
       "      <th>count</th>\n",
       "      <td>50.0</td>\n",
       "      <td>50.0</td>\n",
       "      <td>50.0</td>\n",
       "      <td>50.0</td>\n",
       "    </tr>\n",
       "    <tr>\n",
       "      <th>mean</th>\n",
       "      <td>-200.0</td>\n",
       "      <td>-200.0</td>\n",
       "      <td>-200.0</td>\n",
       "      <td>-200.0</td>\n",
       "    </tr>\n",
       "    <tr>\n",
       "      <th>std</th>\n",
       "      <td>0.0</td>\n",
       "      <td>0.0</td>\n",
       "      <td>0.0</td>\n",
       "      <td>0.0</td>\n",
       "    </tr>\n",
       "    <tr>\n",
       "      <th>min</th>\n",
       "      <td>-200.0</td>\n",
       "      <td>-200.0</td>\n",
       "      <td>-200.0</td>\n",
       "      <td>-200.0</td>\n",
       "    </tr>\n",
       "    <tr>\n",
       "      <th>25%</th>\n",
       "      <td>-200.0</td>\n",
       "      <td>-200.0</td>\n",
       "      <td>-200.0</td>\n",
       "      <td>-200.0</td>\n",
       "    </tr>\n",
       "    <tr>\n",
       "      <th>50%</th>\n",
       "      <td>-200.0</td>\n",
       "      <td>-200.0</td>\n",
       "      <td>-200.0</td>\n",
       "      <td>-200.0</td>\n",
       "    </tr>\n",
       "    <tr>\n",
       "      <th>75%</th>\n",
       "      <td>-200.0</td>\n",
       "      <td>-200.0</td>\n",
       "      <td>-200.0</td>\n",
       "      <td>-200.0</td>\n",
       "    </tr>\n",
       "    <tr>\n",
       "      <th>max</th>\n",
       "      <td>-200.0</td>\n",
       "      <td>-200.0</td>\n",
       "      <td>-200.0</td>\n",
       "      <td>-200.0</td>\n",
       "    </tr>\n",
       "  </tbody>\n",
       "</table>\n",
       "</div>"
      ],
      "text/plain": [
       "         100    60     20     0  \n",
       "count   50.0   50.0   50.0   50.0\n",
       "mean  -200.0 -200.0 -200.0 -200.0\n",
       "std      0.0    0.0    0.0    0.0\n",
       "min   -200.0 -200.0 -200.0 -200.0\n",
       "25%   -200.0 -200.0 -200.0 -200.0\n",
       "50%   -200.0 -200.0 -200.0 -200.0\n",
       "75%   -200.0 -200.0 -200.0 -200.0\n",
       "max   -200.0 -200.0 -200.0 -200.0"
      ]
     },
     "execution_count": 60,
     "metadata": {},
     "output_type": "execute_result"
    }
   ],
   "source": [
    "pd.DataFrame(cum_rewards_fixed_pi).describe()"
   ]
  },
  {
   "cell_type": "code",
   "execution_count": null,
   "metadata": {},
   "outputs": [],
   "source": []
  },
  {
   "cell_type": "code",
   "execution_count": 21,
   "metadata": {},
   "outputs": [
    {
     "name": "stderr",
     "output_type": "stream",
     "text": [
      "50it [00:08,  6.22it/s]\n"
     ]
    }
   ],
   "source": [
    "accs_by_k_fixed_pi = nb_utils.compute_accuracy_by_kval(test_data=test_data, agents=agents_fixed_pi)"
   ]
  },
  {
   "cell_type": "code",
   "execution_count": 33,
   "metadata": {},
   "outputs": [
    {
     "data": {
      "image/png": "[encoded data removed]",
      "text/plain": [
       "<Figure size 640x480 with 1 Axes>"
      ]
     },
     "metadata": {},
     "output_type": "display_data"
    }
   ],
   "source": [
    "nb_utils.plot_sequence_accuracy_boxplot(accs_by_k_fixed_pi)"
   ]
  },
  {
   "cell_type": "code",
   "execution_count": 23,
   "metadata": {},
   "outputs": [
    {
     "data": {
      "text/html": [
       "<div>\n",
       "<style scoped>\n",
       "    .dataframe tbody tr th:only-of-type {\n",
       "        vertical-align: middle;\n",
       "    }\n",
       "\n",
       "    .dataframe tbody tr th {\n",
       "        vertical-align: top;\n",
       "    }\n",
       "\n",
       "    .dataframe thead th {\n",
       "        text-align: right;\n",
       "    }\n",
       "</style>\n",
       "<table border=\"1\" class=\"dataframe\">\n",
       "  <thead>\n",
       "    <tr style=\"text-align: right;\">\n",
       "      <th></th>\n",
       "      <th>100</th>\n",
       "      <th>60</th>\n",
       "      <th>20</th>\n",
       "      <th>0</th>\n",
       "    </tr>\n",
       "  </thead>\n",
       "  <tbody>\n",
       "    <tr>\n",
       "      <th>count</th>\n",
       "      <td>250.000000</td>\n",
       "      <td>250.000000</td>\n",
       "      <td>250.000000</td>\n",
       "      <td>250.000000</td>\n",
       "    </tr>\n",
       "    <tr>\n",
       "      <th>mean</th>\n",
       "      <td>0.528204</td>\n",
       "      <td>0.468221</td>\n",
       "      <td>0.500402</td>\n",
       "      <td>0.581118</td>\n",
       "    </tr>\n",
       "    <tr>\n",
       "      <th>std</th>\n",
       "      <td>0.236021</td>\n",
       "      <td>0.231161</td>\n",
       "      <td>0.228577</td>\n",
       "      <td>0.222254</td>\n",
       "    </tr>\n",
       "    <tr>\n",
       "      <th>min</th>\n",
       "      <td>0.000000</td>\n",
       "      <td>0.000000</td>\n",
       "      <td>0.000000</td>\n",
       "      <td>0.043478</td>\n",
       "    </tr>\n",
       "    <tr>\n",
       "      <th>25%</th>\n",
       "      <td>0.333333</td>\n",
       "      <td>0.302637</td>\n",
       "      <td>0.326198</td>\n",
       "      <td>0.432559</td>\n",
       "    </tr>\n",
       "    <tr>\n",
       "      <th>50%</th>\n",
       "      <td>0.560488</td>\n",
       "      <td>0.469337</td>\n",
       "      <td>0.489996</td>\n",
       "      <td>0.588235</td>\n",
       "    </tr>\n",
       "    <tr>\n",
       "      <th>75%</th>\n",
       "      <td>0.702128</td>\n",
       "      <td>0.655172</td>\n",
       "      <td>0.670977</td>\n",
       "      <td>0.740338</td>\n",
       "    </tr>\n",
       "    <tr>\n",
       "      <th>max</th>\n",
       "      <td>1.000000</td>\n",
       "      <td>1.000000</td>\n",
       "      <td>1.000000</td>\n",
       "      <td>1.000000</td>\n",
       "    </tr>\n",
       "  </tbody>\n",
       "</table>\n",
       "</div>"
      ],
      "text/plain": [
       "              100         60          20          0  \n",
       "count  250.000000  250.000000  250.000000  250.000000\n",
       "mean     0.528204    0.468221    0.500402    0.581118\n",
       "std      0.236021    0.231161    0.228577    0.222254\n",
       "min      0.000000    0.000000    0.000000    0.043478\n",
       "25%      0.333333    0.302637    0.326198    0.432559\n",
       "50%      0.560488    0.469337    0.489996    0.588235\n",
       "75%      0.702128    0.655172    0.670977    0.740338\n",
       "max      1.000000    1.000000    1.000000    1.000000"
      ]
     },
     "execution_count": 23,
     "metadata": {},
     "output_type": "execute_result"
    }
   ],
   "source": [
    "pd.DataFrame(accs_by_k_fixed_pi).describe()"
   ]
  },
  {
   "cell_type": "markdown",
   "metadata": {},
   "source": [
    "## why the weird `reward` distribution?"
   ]
  },
  {
   "cell_type": "code",
   "execution_count": 50,
   "metadata": {},
   "outputs": [
    {
     "data": {
      "text/plain": [
       "<idil_algs.IDIL.utils.DiscreteExpertPolicySampler at 0x7f8c1429b4f0>"
      ]
     },
     "execution_count": 50,
     "metadata": {},
     "output_type": "execute_result"
    }
   ],
   "source": [
    "agents_fixed_pi[20][0].pi_agent"
   ]
  },
  {
   "cell_type": "markdown",
   "metadata": {},
   "source": [
    "# Evaluate `randomized` models"
   ]
  },
  {
   "cell_type": "code",
   "execution_count": 7,
   "metadata": {},
   "outputs": [],
   "source": [
    "RUNS = [\n",
    "\"es-100-01J52ANXG5XY399ZV6TYYK2NT7-extra_synth_traj-bm_randomize-0810\",\n",
    "\"es-100-01J528Q1XNNQ2ZZMBV3JXMMZPS-extra_synth_traj-bm_randomize-0810\",\n",
    "\"es-100-01J526PFX24TGFW0R2QW8WSTRF-extra_synth_traj-bm_randomize-0810\",\n",
    "\"es-100-01J524MVN9J1G7KKYJP9A0ZCGN-extra_synth_traj-bm_randomize-0810\",\n",
    "\"es-100-01J522K1GSZA7A2MV6YS6HSG6X-extra_synth_traj-bm_randomize-0810\",\n",
    "\"es-60-01J520JNB2S31MSVX4B5C4ZDVD-extra_synth_traj-bm_randomize-0810\",\n",
    "\"es-60-01J51YJ45ZHB94N7FD20FTA8QB-extra_synth_traj-bm_randomize-0810\",\n",
    "\"es-60-01J51WJ8FNX81A3EHFCK3RM8CQ-extra_synth_traj-bm_randomize-0810\",\n",
    "\"es-60-01J51TEGMPA8CY9J9AK790KKXW-extra_synth_traj-bm_randomize-0810\",\n",
    "\"es-60-01J51RCKH301BV1GQ4W5QN0DSP-extra_synth_traj-bm_randomize-0810\",\n",
    "\"es-20-01J51PBFS8HR2B5FJW267V2WM8-extra_synth_traj-bm_randomize-0810\",\n",
    "\"es-20-01J51M6E1N5FAV5HYRJVBB9D6N-extra_synth_traj-bm_randomize-0810\",\n",
    "\"es-20-01J51J56K4M9ZD9HG7BTG3JECR-extra_synth_traj-bm_randomize-0810\",\n",
    "\"es-20-01J51G7GTEQB1QR4VSYP5F4BR5-extra_synth_traj-bm_randomize-0810\",\n",
    "\"es-20-01J51E6YPNRFGV4XA4ES01ZXDF-extra_synth_traj-bm_randomize-0810\",\n",
    "\"es-0-01J51C6RB3G8FQHK1Y6G5SRCPM-extra_synth_traj-bm_randomize-0810\",\n",
    "\"es-0-01J51A86QRR64V3Y3J9A9X9XEY-extra_synth_traj-bm_randomize-0810\",\n",
    "\"es-0-01J518AGER1FQYRZ45JPPYH6RX-extra_synth_traj-bm_randomize-0810\",\n",
    "\"es-0-01J516BK0YW9VNXNKCPR9EFZ1H-extra_synth_traj-bm_randomize-0810\",\n",
    "\"es-0-01J514AH5VA80DWKMEMNNEQG2Y-extra_synth_traj-bm_randomize-0810\",\n",
    "]"
   ]
  },
  {
   "cell_type": "code",
   "execution_count": 12,
   "metadata": {},
   "outputs": [
    {
     "data": {
      "text/plain": [
       "<module 'generate_trajectories' from '/home/juanhevia/IDIL/notebooks/generate_trajectories.py'>"
      ]
     },
     "execution_count": 12,
     "metadata": {},
     "output_type": "execute_result"
    }
   ],
   "source": [
    "importlib.reload(nb_utils)\n",
    "importlib.reload(traj_utils)"
   ]
  },
  {
   "cell_type": "code",
   "execution_count": 16,
   "metadata": {},
   "outputs": [
    {
     "name": "stdout",
     "output_type": "stream",
     "text": [
      "Load micro: False\n",
      "Loading agent with fixed pi: True\n",
      "Loading models from ./idil_train/result/CleanupSingle-v0/idil/es-100-01J52ANXG5XY399ZV6TYYK2NT7-extra_synth_traj-bm_randomize-0810/2024-08-11_22-39-02/model/iq_CleanupSingle-v0_n70_l70_best_tx\n",
      "Load micro: False\n",
      "Loading agent with fixed pi: True\n",
      "Loading models from ./idil_train/result/CleanupSingle-v0/idil/es-100-01J528Q1XNNQ2ZZMBV3JXMMZPS-extra_synth_traj-bm_randomize-0810/2024-08-11_22-04-42/model/iq_CleanupSingle-v0_n70_l70_best_tx\n",
      "Load micro: False\n",
      "Loading agent with fixed pi: True\n",
      "Loading models from ./idil_train/result/CleanupSingle-v0/idil/es-100-01J526PFX24TGFW0R2QW8WSTRF-extra_synth_traj-bm_randomize-0810/2024-08-11_21-29-27/model/iq_CleanupSingle-v0_n70_l70_best_tx\n",
      "Load micro: False\n",
      "Loading agent with fixed pi: True\n",
      "Loading models from ./idil_train/result/CleanupSingle-v0/idil/es-100-01J524MVN9J1G7KKYJP9A0ZCGN-extra_synth_traj-bm_randomize-0810/2024-08-11_20-53-36/model/iq_CleanupSingle-v0_n70_l70_best_tx\n",
      "Load micro: False\n",
      "Loading agent with fixed pi: True\n",
      "Loading models from ./idil_train/result/CleanupSingle-v0/idil/es-100-01J522K1GSZA7A2MV6YS6HSG6X-extra_synth_traj-bm_randomize-0810/2024-08-11_20-17-39/model/iq_CleanupSingle-v0_n70_l70_best_tx\n",
      "Load micro: False\n",
      "Loading agent with fixed pi: True\n",
      "Loading models from ./idil_train/result/CleanupSingle-v0/idil/es-60-01J520JNB2S31MSVX4B5C4ZDVD-extra_synth_traj-bm_randomize-0810/2024-08-11_19-42-30/model/iq_CleanupSingle-v0_n70_l70_best_tx\n",
      "Load micro: False\n",
      "Loading agent with fixed pi: True\n",
      "Loading models from ./idil_train/result/CleanupSingle-v0/idil/es-60-01J51YJ45ZHB94N7FD20FTA8QB-extra_synth_traj-bm_randomize-0810/2024-08-11_19-07-15/model/iq_CleanupSingle-v0_n70_l70_best_tx\n",
      "Load micro: False\n",
      "Loading agent with fixed pi: True\n",
      "Loading models from ./idil_train/result/CleanupSingle-v0/idil/es-60-01J51WJ8FNX81A3EHFCK3RM8CQ-extra_synth_traj-bm_randomize-0810/2024-08-11_18-32-22/model/iq_CleanupSingle-v0_n70_l70_best_tx\n",
      "Load micro: False\n",
      "Loading agent with fixed pi: True\n",
      "Loading models from ./idil_train/result/CleanupSingle-v0/idil/es-60-01J51TEGMPA8CY9J9AK790KKXW-extra_synth_traj-bm_randomize-0810/2024-08-11_17-55-22/model/iq_CleanupSingle-v0_n70_l70_best_tx\n",
      "Load micro: False\n",
      "Loading agent with fixed pi: True\n",
      "Loading models from ./idil_train/result/CleanupSingle-v0/idil/es-60-01J51RCKH301BV1GQ4W5QN0DSP-extra_synth_traj-bm_randomize-0810/2024-08-11_17-19-23/model/iq_CleanupSingle-v0_n70_l70_best_tx\n",
      "Load micro: False\n",
      "Loading agent with fixed pi: True\n",
      "Loading models from ./idil_train/result/CleanupSingle-v0/idil/es-20-01J51PBFS8HR2B5FJW267V2WM8-extra_synth_traj-bm_randomize-0810/2024-08-11_16-43-49/model/iq_CleanupSingle-v0_n70_l70_best_tx\n",
      "Load micro: False\n",
      "Loading agent with fixed pi: True\n",
      "Loading models from ./idil_train/result/CleanupSingle-v0/idil/es-20-01J51M6E1N5FAV5HYRJVBB9D6N-extra_synth_traj-bm_randomize-0810/2024-08-11_16-06-06/model/iq_CleanupSingle-v0_n70_l70_best_tx\n",
      "Load micro: False\n",
      "Loading agent with fixed pi: True\n",
      "Loading models from ./idil_train/result/CleanupSingle-v0/idil/es-20-01J51J56K4M9ZD9HG7BTG3JECR-extra_synth_traj-bm_randomize-0810/2024-08-11_15-30-28/model/iq_CleanupSingle-v0_n70_l70_best_tx\n",
      "Load micro: False\n",
      "Loading agent with fixed pi: True\n",
      "Loading models from ./idil_train/result/CleanupSingle-v0/idil/es-20-01J51G7GTEQB1QR4VSYP5F4BR5-extra_synth_traj-bm_randomize-0810/2024-08-11_14-56-47/model/iq_CleanupSingle-v0_n70_l70_best_tx\n",
      "Load micro: False\n",
      "Loading agent with fixed pi: True\n",
      "Loading models from ./idil_train/result/CleanupSingle-v0/idil/es-20-01J51E6YPNRFGV4XA4ES01ZXDF-extra_synth_traj-bm_randomize-0810/2024-08-11_14-21-32/model/iq_CleanupSingle-v0_n70_l70_best_tx\n",
      "Load micro: False\n",
      "Loading agent with fixed pi: True\n",
      "Loading models from ./idil_train/result/CleanupSingle-v0/idil/es-0-01J51C6RB3G8FQHK1Y6G5SRCPM-extra_synth_traj-bm_randomize-0810/2024-08-11_13-46-28/model/iq_CleanupSingle-v0_n70_l70_best_tx\n",
      "Load micro: False\n",
      "Loading agent with fixed pi: True\n",
      "Loading models from ./idil_train/result/CleanupSingle-v0/idil/es-0-01J51A86QRR64V3Y3J9A9X9XEY-extra_synth_traj-bm_randomize-0810/2024-08-11_13-12-18/model/iq_CleanupSingle-v0_n70_l70_best_tx\n",
      "Load micro: False\n",
      "Loading agent with fixed pi: True\n",
      "Loading models from ./idil_train/result/CleanupSingle-v0/idil/es-0-01J518AGER1FQYRZ45JPPYH6RX-extra_synth_traj-bm_randomize-0810/2024-08-11_12-38-37/model/iq_CleanupSingle-v0_n70_l70_best_tx\n",
      "Load micro: False\n",
      "Loading agent with fixed pi: True\n",
      "Loading models from ./idil_train/result/CleanupSingle-v0/idil/es-0-01J516BK0YW9VNXNKCPR9EFZ1H-extra_synth_traj-bm_randomize-0810/2024-08-11_12-04-15/model/iq_CleanupSingle-v0_n70_l70_best_tx\n",
      "Load micro: False\n",
      "Loading agent with fixed pi: True\n",
      "Loading models from ./idil_train/result/CleanupSingle-v0/idil/es-0-01J514AH5VA80DWKMEMNNEQG2Y-extra_synth_traj-bm_randomize-0810/2024-08-11_11-28-43/model/iq_CleanupSingle-v0_n70_l70_best_tx\n"
     ]
    },
    {
     "name": "stderr",
     "output_type": "stream",
     "text": [
      "  0%|          | 0/20 [00:00<?, ?it/s]"
     ]
    },
    {
     "name": "stdout",
     "output_type": "stream",
     "text": [
      "Load micro: False\n",
      "Loading agent with fixed pi: True\n",
      "Loading models from ./idil_train/result/CleanupSingle-v0/idil/es-100-01J52ANXG5XY399ZV6TYYK2NT7-extra_synth_traj-bm_randomize-0810/2024-08-11_22-39-02/model/iq_CleanupSingle-v0_n70_l70_best_tx\n"
     ]
    },
    {
     "name": "stderr",
     "output_type": "stream",
     "text": [
      "100%|██████████| 10/10 [00:04<00:00,  2.39it/s]\n",
      "  5%|▌         | 1/20 [00:04<01:20,  4.23s/it]"
     ]
    },
    {
     "name": "stdout",
     "output_type": "stream",
     "text": [
      "Load micro: False\n",
      "Loading agent with fixed pi: True\n",
      "Loading models from ./idil_train/result/CleanupSingle-v0/idil/es-100-01J528Q1XNNQ2ZZMBV3JXMMZPS-extra_synth_traj-bm_randomize-0810/2024-08-11_22-04-42/model/iq_CleanupSingle-v0_n70_l70_best_tx\n"
     ]
    },
    {
     "name": "stderr",
     "output_type": "stream",
     "text": [
      "100%|██████████| 10/10 [00:04<00:00,  2.34it/s]\n",
      " 10%|█         | 2/20 [00:08<01:18,  4.37s/it]"
     ]
    },
    {
     "name": "stdout",
     "output_type": "stream",
     "text": [
      "Load micro: False\n",
      "Loading agent with fixed pi: True\n",
      "Loading models from ./idil_train/result/CleanupSingle-v0/idil/es-100-01J526PFX24TGFW0R2QW8WSTRF-extra_synth_traj-bm_randomize-0810/2024-08-11_21-29-27/model/iq_CleanupSingle-v0_n70_l70_best_tx\n"
     ]
    },
    {
     "name": "stderr",
     "output_type": "stream",
     "text": [
      "100%|██████████| 10/10 [00:04<00:00,  2.36it/s]\n",
      " 15%|█▌        | 3/20 [00:12<01:13,  4.33s/it]"
     ]
    },
    {
     "name": "stdout",
     "output_type": "stream",
     "text": [
      "Load micro: False\n",
      "Loading agent with fixed pi: True\n",
      "Loading models from ./idil_train/result/CleanupSingle-v0/idil/es-100-01J524MVN9J1G7KKYJP9A0ZCGN-extra_synth_traj-bm_randomize-0810/2024-08-11_20-53-36/model/iq_CleanupSingle-v0_n70_l70_best_tx\n"
     ]
    },
    {
     "name": "stderr",
     "output_type": "stream",
     "text": [
      "100%|██████████| 10/10 [00:03<00:00,  2.69it/s]\n",
      " 20%|██        | 4/20 [00:16<01:05,  4.11s/it]"
     ]
    },
    {
     "name": "stdout",
     "output_type": "stream",
     "text": [
      "Load micro: False\n",
      "Loading agent with fixed pi: True\n",
      "Loading models from ./idil_train/result/CleanupSingle-v0/idil/es-100-01J522K1GSZA7A2MV6YS6HSG6X-extra_synth_traj-bm_randomize-0810/2024-08-11_20-17-39/model/iq_CleanupSingle-v0_n70_l70_best_tx\n"
     ]
    },
    {
     "name": "stderr",
     "output_type": "stream",
     "text": [
      "100%|██████████| 10/10 [00:03<00:00,  2.68it/s]\n",
      " 25%|██▌       | 5/20 [00:20<00:59,  3.99s/it]"
     ]
    },
    {
     "name": "stdout",
     "output_type": "stream",
     "text": [
      "Load micro: False\n",
      "Loading agent with fixed pi: True\n",
      "Loading models from ./idil_train/result/CleanupSingle-v0/idil/es-60-01J520JNB2S31MSVX4B5C4ZDVD-extra_synth_traj-bm_randomize-0810/2024-08-11_19-42-30/model/iq_CleanupSingle-v0_n70_l70_best_tx\n"
     ]
    },
    {
     "name": "stderr",
     "output_type": "stream",
     "text": [
      "100%|██████████| 10/10 [00:03<00:00,  2.69it/s]\n",
      " 30%|███       | 6/20 [00:24<00:54,  3.91s/it]"
     ]
    },
    {
     "name": "stdout",
     "output_type": "stream",
     "text": [
      "Load micro: False\n",
      "Loading agent with fixed pi: True\n",
      "Loading models from ./idil_train/result/CleanupSingle-v0/idil/es-60-01J51YJ45ZHB94N7FD20FTA8QB-extra_synth_traj-bm_randomize-0810/2024-08-11_19-07-15/model/iq_CleanupSingle-v0_n70_l70_best_tx\n"
     ]
    },
    {
     "name": "stderr",
     "output_type": "stream",
     "text": [
      "100%|██████████| 10/10 [00:03<00:00,  2.67it/s]\n",
      " 35%|███▌      | 7/20 [00:28<00:50,  3.87s/it]"
     ]
    },
    {
     "name": "stdout",
     "output_type": "stream",
     "text": [
      "Load micro: False\n",
      "Loading agent with fixed pi: True\n",
      "Loading models from ./idil_train/result/CleanupSingle-v0/idil/es-60-01J51WJ8FNX81A3EHFCK3RM8CQ-extra_synth_traj-bm_randomize-0810/2024-08-11_18-32-22/model/iq_CleanupSingle-v0_n70_l70_best_tx\n"
     ]
    },
    {
     "name": "stderr",
     "output_type": "stream",
     "text": [
      "100%|██████████| 10/10 [00:03<00:00,  2.69it/s]\n",
      " 40%|████      | 8/20 [00:31<00:46,  3.84s/it]"
     ]
    },
    {
     "name": "stdout",
     "output_type": "stream",
     "text": [
      "Load micro: False\n",
      "Loading agent with fixed pi: True\n",
      "Loading models from ./idil_train/result/CleanupSingle-v0/idil/es-60-01J51TEGMPA8CY9J9AK790KKXW-extra_synth_traj-bm_randomize-0810/2024-08-11_17-55-22/model/iq_CleanupSingle-v0_n70_l70_best_tx\n"
     ]
    },
    {
     "name": "stderr",
     "output_type": "stream",
     "text": [
      "100%|██████████| 10/10 [00:03<00:00,  2.67it/s]\n",
      " 45%|████▌     | 9/20 [00:35<00:42,  3.82s/it]"
     ]
    },
    {
     "name": "stdout",
     "output_type": "stream",
     "text": [
      "Load micro: False\n",
      "Loading agent with fixed pi: True\n",
      "Loading models from ./idil_train/result/CleanupSingle-v0/idil/es-60-01J51RCKH301BV1GQ4W5QN0DSP-extra_synth_traj-bm_randomize-0810/2024-08-11_17-19-23/model/iq_CleanupSingle-v0_n70_l70_best_tx\n"
     ]
    },
    {
     "name": "stderr",
     "output_type": "stream",
     "text": [
      "100%|██████████| 10/10 [00:03<00:00,  2.69it/s]\n",
      " 50%|█████     | 10/20 [00:39<00:38,  3.81s/it]"
     ]
    },
    {
     "name": "stdout",
     "output_type": "stream",
     "text": [
      "Load micro: False\n",
      "Loading agent with fixed pi: True\n",
      "Loading models from ./idil_train/result/CleanupSingle-v0/idil/es-20-01J51PBFS8HR2B5FJW267V2WM8-extra_synth_traj-bm_randomize-0810/2024-08-11_16-43-49/model/iq_CleanupSingle-v0_n70_l70_best_tx\n"
     ]
    },
    {
     "name": "stderr",
     "output_type": "stream",
     "text": [
      "100%|██████████| 10/10 [00:03<00:00,  2.69it/s]\n",
      " 55%|█████▌    | 11/20 [00:43<00:34,  3.79s/it]"
     ]
    },
    {
     "name": "stdout",
     "output_type": "stream",
     "text": [
      "Load micro: False\n",
      "Loading agent with fixed pi: True\n",
      "Loading models from ./idil_train/result/CleanupSingle-v0/idil/es-20-01J51M6E1N5FAV5HYRJVBB9D6N-extra_synth_traj-bm_randomize-0810/2024-08-11_16-06-06/model/iq_CleanupSingle-v0_n70_l70_best_tx\n"
     ]
    },
    {
     "name": "stderr",
     "output_type": "stream",
     "text": [
      "100%|██████████| 10/10 [00:03<00:00,  2.68it/s]\n",
      " 60%|██████    | 12/20 [00:46<00:30,  3.79s/it]"
     ]
    },
    {
     "name": "stdout",
     "output_type": "stream",
     "text": [
      "Load micro: False\n",
      "Loading agent with fixed pi: True\n",
      "Loading models from ./idil_train/result/CleanupSingle-v0/idil/es-20-01J51J56K4M9ZD9HG7BTG3JECR-extra_synth_traj-bm_randomize-0810/2024-08-11_15-30-28/model/iq_CleanupSingle-v0_n70_l70_best_tx\n"
     ]
    },
    {
     "name": "stderr",
     "output_type": "stream",
     "text": [
      "100%|██████████| 10/10 [00:03<00:00,  2.66it/s]\n",
      " 65%|██████▌   | 13/20 [00:50<00:26,  3.80s/it]"
     ]
    },
    {
     "name": "stdout",
     "output_type": "stream",
     "text": [
      "Load micro: False\n",
      "Loading agent with fixed pi: True\n",
      "Loading models from ./idil_train/result/CleanupSingle-v0/idil/es-20-01J51G7GTEQB1QR4VSYP5F4BR5-extra_synth_traj-bm_randomize-0810/2024-08-11_14-56-47/model/iq_CleanupSingle-v0_n70_l70_best_tx\n"
     ]
    },
    {
     "name": "stderr",
     "output_type": "stream",
     "text": [
      "100%|██████████| 10/10 [00:03<00:00,  2.62it/s]\n",
      " 70%|███████   | 14/20 [00:54<00:22,  3.82s/it]"
     ]
    },
    {
     "name": "stdout",
     "output_type": "stream",
     "text": [
      "Load micro: False\n",
      "Loading agent with fixed pi: True\n",
      "Loading models from ./idil_train/result/CleanupSingle-v0/idil/es-20-01J51E6YPNRFGV4XA4ES01ZXDF-extra_synth_traj-bm_randomize-0810/2024-08-11_14-21-32/model/iq_CleanupSingle-v0_n70_l70_best_tx\n"
     ]
    },
    {
     "name": "stderr",
     "output_type": "stream",
     "text": [
      "100%|██████████| 10/10 [00:03<00:00,  2.64it/s]\n",
      " 75%|███████▌  | 15/20 [00:58<00:19,  3.83s/it]"
     ]
    },
    {
     "name": "stdout",
     "output_type": "stream",
     "text": [
      "Load micro: False\n",
      "Loading agent with fixed pi: True\n",
      "Loading models from ./idil_train/result/CleanupSingle-v0/idil/es-0-01J51C6RB3G8FQHK1Y6G5SRCPM-extra_synth_traj-bm_randomize-0810/2024-08-11_13-46-28/model/iq_CleanupSingle-v0_n70_l70_best_tx\n"
     ]
    },
    {
     "name": "stderr",
     "output_type": "stream",
     "text": [
      "100%|██████████| 10/10 [00:03<00:00,  2.69it/s]\n",
      " 80%|████████  | 16/20 [01:02<00:15,  3.81s/it]"
     ]
    },
    {
     "name": "stdout",
     "output_type": "stream",
     "text": [
      "Load micro: False\n",
      "Loading agent with fixed pi: True\n",
      "Loading models from ./idil_train/result/CleanupSingle-v0/idil/es-0-01J51A86QRR64V3Y3J9A9X9XEY-extra_synth_traj-bm_randomize-0810/2024-08-11_13-12-18/model/iq_CleanupSingle-v0_n70_l70_best_tx\n"
     ]
    },
    {
     "name": "stderr",
     "output_type": "stream",
     "text": [
      "100%|██████████| 10/10 [00:03<00:00,  2.79it/s]\n",
      " 85%|████████▌ | 17/20 [01:05<00:11,  3.75s/it]"
     ]
    },
    {
     "name": "stdout",
     "output_type": "stream",
     "text": [
      "Load micro: False\n",
      "Loading agent with fixed pi: True\n",
      "Loading models from ./idil_train/result/CleanupSingle-v0/idil/es-0-01J518AGER1FQYRZ45JPPYH6RX-extra_synth_traj-bm_randomize-0810/2024-08-11_12-38-37/model/iq_CleanupSingle-v0_n70_l70_best_tx\n"
     ]
    },
    {
     "name": "stderr",
     "output_type": "stream",
     "text": [
      "100%|██████████| 10/10 [00:03<00:00,  2.82it/s]\n",
      " 90%|█████████ | 18/20 [01:09<00:07,  3.71s/it]"
     ]
    },
    {
     "name": "stdout",
     "output_type": "stream",
     "text": [
      "Load micro: False\n",
      "Loading agent with fixed pi: True\n",
      "Loading models from ./idil_train/result/CleanupSingle-v0/idil/es-0-01J516BK0YW9VNXNKCPR9EFZ1H-extra_synth_traj-bm_randomize-0810/2024-08-11_12-04-15/model/iq_CleanupSingle-v0_n70_l70_best_tx\n"
     ]
    },
    {
     "name": "stderr",
     "output_type": "stream",
     "text": [
      "100%|██████████| 10/10 [00:03<00:00,  2.81it/s]\n",
      " 95%|█████████▌| 19/20 [01:13<00:03,  3.68s/it]"
     ]
    },
    {
     "name": "stdout",
     "output_type": "stream",
     "text": [
      "Load micro: False\n",
      "Loading agent with fixed pi: True\n",
      "Loading models from ./idil_train/result/CleanupSingle-v0/idil/es-0-01J514AH5VA80DWKMEMNNEQG2Y-extra_synth_traj-bm_randomize-0810/2024-08-11_11-28-43/model/iq_CleanupSingle-v0_n70_l70_best_tx\n"
     ]
    },
    {
     "name": "stderr",
     "output_type": "stream",
     "text": [
      "100%|██████████| 10/10 [00:03<00:00,  2.77it/s]\n",
      "100%|██████████| 20/20 [01:16<00:00,  3.84s/it]\n"
     ]
    }
   ],
   "source": [
    "agents_control = nb_utils.get_trained_models(runs=RUNS, env_name=ENV_NAME, load_micro=False, expert_dataset=expert_dataset)\n",
    "trajectories_control = nb_utils.get_agent_trajectories(runs=RUNS, env_name=ENV_NAME, num_trajectories=10, load_micro=False, expert_dataset=expert_dataset)"
   ]
  },
  {
   "cell_type": "code",
   "execution_count": 17,
   "metadata": {},
   "outputs": [
    {
     "name": "stdout",
     "output_type": "stream",
     "text": [
      "There are 4 kvals\n",
      "Each kval has 50 cum_rewards, matching the 5 x 10 trajectories generated for each agent (using key = 100)\n"
     ]
    },
    {
     "data": {
      "image/png": "[encoded data removed]",
      "text/plain": [
       "<Figure size 640x480 with 1 Axes>"
      ]
     },
     "metadata": {},
     "output_type": "display_data"
    }
   ],
   "source": [
    "cum_rewards_control = nb_utils.get_cumulative_rewards(trajectories_control, agents_control)\n",
    "nb_utils.plot_cum_rewards(cum_rewards_control)\n",
    "# plt.gca().set_ylim([-100, -10])"
   ]
  },
  {
   "cell_type": "code",
   "execution_count": null,
   "metadata": {},
   "outputs": [
    {
     "data": {
      "text/html": [
       "<div>\n",
       "<style scoped>\n",
       "    .dataframe tbody tr th:only-of-type {\n",
       "        vertical-align: middle;\n",
       "    }\n",
       "\n",
       "    .dataframe tbody tr th {\n",
       "        vertical-align: top;\n",
       "    }\n",
       "\n",
       "    .dataframe thead th {\n",
       "        text-align: right;\n",
       "    }\n",
       "</style>\n",
       "<table border=\"1\" class=\"dataframe\">\n",
       "  <thead>\n",
       "    <tr style=\"text-align: right;\">\n",
       "      <th></th>\n",
       "      <th>100</th>\n",
       "      <th>60</th>\n",
       "      <th>20</th>\n",
       "      <th>0</th>\n",
       "    </tr>\n",
       "  </thead>\n",
       "  <tbody>\n",
       "    <tr>\n",
       "      <th>count</th>\n",
       "      <td>50.0</td>\n",
       "      <td>50.0</td>\n",
       "      <td>50.0</td>\n",
       "      <td>50.0</td>\n",
       "    </tr>\n",
       "    <tr>\n",
       "      <th>mean</th>\n",
       "      <td>-200.0</td>\n",
       "      <td>-200.0</td>\n",
       "      <td>-200.0</td>\n",
       "      <td>-200.0</td>\n",
       "    </tr>\n",
       "    <tr>\n",
       "      <th>std</th>\n",
       "      <td>0.0</td>\n",
       "      <td>0.0</td>\n",
       "      <td>0.0</td>\n",
       "      <td>0.0</td>\n",
       "    </tr>\n",
       "    <tr>\n",
       "      <th>min</th>\n",
       "      <td>-200.0</td>\n",
       "      <td>-200.0</td>\n",
       "      <td>-200.0</td>\n",
       "      <td>-200.0</td>\n",
       "    </tr>\n",
       "    <tr>\n",
       "      <th>25%</th>\n",
       "      <td>-200.0</td>\n",
       "      <td>-200.0</td>\n",
       "      <td>-200.0</td>\n",
       "      <td>-200.0</td>\n",
       "    </tr>\n",
       "    <tr>\n",
       "      <th>50%</th>\n",
       "      <td>-200.0</td>\n",
       "      <td>-200.0</td>\n",
       "      <td>-200.0</td>\n",
       "      <td>-200.0</td>\n",
       "    </tr>\n",
       "    <tr>\n",
       "      <th>75%</th>\n",
       "      <td>-200.0</td>\n",
       "      <td>-200.0</td>\n",
       "      <td>-200.0</td>\n",
       "      <td>-200.0</td>\n",
       "    </tr>\n",
       "    <tr>\n",
       "      <th>max</th>\n",
       "      <td>-200.0</td>\n",
       "      <td>-200.0</td>\n",
       "      <td>-200.0</td>\n",
       "      <td>-200.0</td>\n",
       "    </tr>\n",
       "  </tbody>\n",
       "</table>\n",
       "</div>"
      ],
      "text/plain": [
       "         100    60     20     0  \n",
       "count   50.0   50.0   50.0   50.0\n",
       "mean  -200.0 -200.0 -200.0 -200.0\n",
       "std      0.0    0.0    0.0    0.0\n",
       "min   -200.0 -200.0 -200.0 -200.0\n",
       "25%   -200.0 -200.0 -200.0 -200.0\n",
       "50%   -200.0 -200.0 -200.0 -200.0\n",
       "75%   -200.0 -200.0 -200.0 -200.0\n",
       "max   -200.0 -200.0 -200.0 -200.0"
      ]
     },
     "metadata": {},
     "output_type": "display_data"
    }
   ],
   "source": [
    "pd.DataFrame(cum_rewards_fixed_pi).describe()"
   ]
  },
  {
   "cell_type": "code",
   "execution_count": null,
   "metadata": {},
   "outputs": [],
   "source": []
  },
  {
   "cell_type": "code",
   "execution_count": null,
   "metadata": {},
   "outputs": [
    {
     "name": "stderr",
     "output_type": "stream",
     "text": [
      "50it [00:08,  6.22it/s]\n"
     ]
    }
   ],
   "source": [
    "accs_by_k_fixed_pi = nb_utils.compute_accuracy_by_kval(test_data=test_data, agents=agents_fixed_pi)"
   ]
  },
  {
   "cell_type": "code",
   "execution_count": null,
   "metadata": {},
   "outputs": [
    {
     "data": {
      "image/png": "[encoded data removed]",
      "text/plain": [
       "<Figure size 640x480 with 1 Axes>"
      ]
     },
     "metadata": {},
     "output_type": "display_data"
    }
   ],
   "source": [
    "nb_utils.plot_sequence_accuracy_boxplot(accs_by_k_fixed_pi)"
   ]
  },
  {
   "cell_type": "code",
   "execution_count": null,
   "metadata": {},
   "outputs": [
    {
     "data": {
      "text/html": [
       "<div>\n",
       "<style scoped>\n",
       "    .dataframe tbody tr th:only-of-type {\n",
       "        vertical-align: middle;\n",
       "    }\n",
       "\n",
       "    .dataframe tbody tr th {\n",
       "        vertical-align: top;\n",
       "    }\n",
       "\n",
       "    .dataframe thead th {\n",
       "        text-align: right;\n",
       "    }\n",
       "</style>\n",
       "<table border=\"1\" class=\"dataframe\">\n",
       "  <thead>\n",
       "    <tr style=\"text-align: right;\">\n",
       "      <th></th>\n",
       "      <th>100</th>\n",
       "      <th>60</th>\n",
       "      <th>20</th>\n",
       "      <th>0</th>\n",
       "    </tr>\n",
       "  </thead>\n",
       "  <tbody>\n",
       "    <tr>\n",
       "      <th>count</th>\n",
       "      <td>250.000000</td>\n",
       "      <td>250.000000</td>\n",
       "      <td>250.000000</td>\n",
       "      <td>250.000000</td>\n",
       "    </tr>\n",
       "    <tr>\n",
       "      <th>mean</th>\n",
       "      <td>0.528204</td>\n",
       "      <td>0.468221</td>\n",
       "      <td>0.500402</td>\n",
       "      <td>0.581118</td>\n",
       "    </tr>\n",
       "    <tr>\n",
       "      <th>std</th>\n",
       "      <td>0.236021</td>\n",
       "      <td>0.231161</td>\n",
       "      <td>0.228577</td>\n",
       "      <td>0.222254</td>\n",
       "    </tr>\n",
       "    <tr>\n",
       "      <th>min</th>\n",
       "      <td>0.000000</td>\n",
       "      <td>0.000000</td>\n",
       "      <td>0.000000</td>\n",
       "      <td>0.043478</td>\n",
       "    </tr>\n",
       "    <tr>\n",
       "      <th>25%</th>\n",
       "      <td>0.333333</td>\n",
       "      <td>0.302637</td>\n",
       "      <td>0.326198</td>\n",
       "      <td>0.432559</td>\n",
       "    </tr>\n",
       "    <tr>\n",
       "      <th>50%</th>\n",
       "      <td>0.560488</td>\n",
       "      <td>0.469337</td>\n",
       "      <td>0.489996</td>\n",
       "      <td>0.588235</td>\n",
       "    </tr>\n",
       "    <tr>\n",
       "      <th>75%</th>\n",
       "      <td>0.702128</td>\n",
       "      <td>0.655172</td>\n",
       "      <td>0.670977</td>\n",
       "      <td>0.740338</td>\n",
       "    </tr>\n",
       "    <tr>\n",
       "      <th>max</th>\n",
       "      <td>1.000000</td>\n",
       "      <td>1.000000</td>\n",
       "      <td>1.000000</td>\n",
       "      <td>1.000000</td>\n",
       "    </tr>\n",
       "  </tbody>\n",
       "</table>\n",
       "</div>"
      ],
      "text/plain": [
       "              100         60          20          0  \n",
       "count  250.000000  250.000000  250.000000  250.000000\n",
       "mean     0.528204    0.468221    0.500402    0.581118\n",
       "std      0.236021    0.231161    0.228577    0.222254\n",
       "min      0.000000    0.000000    0.000000    0.043478\n",
       "25%      0.333333    0.302637    0.326198    0.432559\n",
       "50%      0.560488    0.469337    0.489996    0.588235\n",
       "75%      0.702128    0.655172    0.670977    0.740338\n",
       "max      1.000000    1.000000    1.000000    1.000000"
      ]
     },
     "metadata": {},
     "output_type": "display_data"
    }
   ],
   "source": [
    "pd.DataFrame(accs_by_k_fixed_pi).describe()"
   ]
  },
  {
   "cell_type": "code",
   "execution_count": null,
   "metadata": {},
   "outputs": [],
   "source": []
  },
  {
   "cell_type": "markdown",
   "metadata": {},
   "source": [
    "# Visuals for comparing aganist `randomized` benchmark\n",
    "\n",
    "Remove the `fixed_pi` models from the analysis for now, because there seems to be a bug in the way it is sampling actions from the expert. This is affecting the macro-policy learning.\n",
    "\n",
    "Compare the learned model using the extra synth trajectories with the `randomized` benchmark.\n",
    "\n",
    "- Run a hypotehsis test to check significant mean difference between the cumulative rewards of the models\n",
    "- For same `k` values:\n",
    "    - plot the **mean cumulative rewards** of the models, with the shaded area showing the standard deviation.\n",
    "    - plot the **lengths of the trajectories generated** by the models under each regime (`random` and `entropy scoring`)\n",
    "    - plot the **accuracy for latent prediction** on a test set"
   ]
  },
  {
   "cell_type": "markdown",
   "metadata": {},
   "source": []
  }
 ],
 "metadata": {
  "kernelspec": {
   "display_name": "aidil",
   "language": "python",
   "name": "python3"
  },
  "language_info": {
   "codemirror_mode": {
    "name": "ipython",
    "version": 3
   },
   "file_extension": ".py",
   "mimetype": "text/x-python",
   "name": "python",
   "nbconvert_exporter": "python",
   "pygments_lexer": "ipython3",
   "version": "3.8.19"
  }
 },
 "nbformat": 4,
 "nbformat_minor": 2
}
