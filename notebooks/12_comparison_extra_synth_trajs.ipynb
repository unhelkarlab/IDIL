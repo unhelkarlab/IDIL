{
 "cells": [
  {
   "cell_type": "code",
   "execution_count": 1,
   "metadata": {},
   "outputs": [
    {
     "name": "stdout",
     "output_type": "stream",
     "text": [
      "/home/juanhevia/IDIL\n"
     ]
    }
   ],
   "source": [
    "%cd .."
   ]
  },
  {
   "cell_type": "code",
   "execution_count": 2,
   "metadata": {},
   "outputs": [
    {
     "name": "stdout",
     "output_type": "stream",
     "text": [
      "pygame 2.6.0 (SDL 2.28.4, Python 3.8.19)\n",
      "Hello from the pygame community. https://www.pygame.org/contribute.html\n"
     ]
    }
   ],
   "source": [
    "import pandas as pd\n",
    "import numpy as np \n",
    "import matplotlib.pyplot as plt\n",
    "import pickle as pkl\n",
    "import generate_trajectories as traj_utils\n",
    "import utils as nb_utils\n",
    "from collections import defaultdict"
   ]
  },
  {
   "cell_type": "code",
   "execution_count": 3,
   "metadata": {},
   "outputs": [],
   "source": [
    "import importlib\n",
    "import scipy.stats as stats"
   ]
  },
  {
   "cell_type": "code",
   "execution_count": 4,
   "metadata": {},
   "outputs": [
    {
     "data": {
      "text/plain": [
       "<module 'utils' from '/home/juanhevia/IDIL/notebooks/utils.py'>"
      ]
     },
     "execution_count": 4,
     "metadata": {},
     "output_type": "execute_result"
    }
   ],
   "source": [
    "importlib.reload(nb_utils)"
   ]
  },
  {
   "cell_type": "code",
   "execution_count": 5,
   "metadata": {},
   "outputs": [],
   "source": [
    "RUNS = [\n",
    "\"es-100-01J4XR6C47AKQ5KNJWNR679E8R-synth_extra_trajs-0809\",\n",
    "\"es-100-01J4XNDCER2DMYYRXEJZXJ2271-synth_extra_trajs-0809\",\n",
    "\"es-100-01J4XJMMP9N8S3TQN4SESDZCTR-synth_extra_trajs-0809\",\n",
    "\"es-100-01J4XFW8RHVVYCTJ5Y3C2BTBF9-synth_extra_trajs-0809\",\n",
    "\"es-100-01J4XD2HX2Y2FBMBEWEE6RGH40-synth_extra_trajs-0809\",\n",
    "\"es-60-01J4XA99JZKFM2DW2EEA0XSZK7-synth_extra_trajs-0809\",\n",
    "\"es-60-01J4X7FCX4VVR4C8QJ01PCR57Q-synth_extra_trajs-0809\",\n",
    "\"es-60-01J4X4MRGFV2KTEQJW4GNMQKXS-synth_extra_trajs-0809\",\n",
    "\"es-60-01J4X1WBK8J8F3XXHZBVQSGMP2-synth_extra_trajs-0809\",\n",
    "\"es-60-01J4WYYDPHHAGRHK4Q4TS1GM0Y-synth_extra_trajs-0809\",\n",
    "\"es-20-01J4WW1WMZN9APJJ8NF115HQDC-synth_extra_trajs-0809\",\n",
    "\"es-20-01J4WS66ZBGJCDXQ4QTE33S2HX-synth_extra_trajs-0809\",\n",
    "\"es-20-01J4WP99BEQC5G4DNBK4S7RYXQ-synth_extra_trajs-0809\",\n",
    "\"es-20-01J4WKD4YREQT0RPPCFVT3BFSA-synth_extra_trajs-0809\",\n",
    "\"es-20-01J4WGGVYCEYXKM7DZ1TQT2KFQ-synth_extra_trajs-0809\",\n",
    "\"es-0-01J4WDKJRBQJA5TRN78KD9V55P-synth_extra_trajs-0809\",\n",
    "\"es-0-01J4W9R49RKQ9060E1VBXGY6XF-synth_extra_trajs-0809\",\n",
    "\"es-0-01J4W6Y6HFM2JA6YMBZVC3B9YA-synth_extra_trajs-0809\",\n",
    "\"es-0-01J4W44NBPQP04TMKJQZ9FK38G-synth_extra_trajs-0809\",\n",
    "\"es-0-01J4W1ANG5AXDA4SZSPHKH12J3-synth_extra_trajs-0809\",\n",
    "]\n",
    "\n",
    "ENV_NAME = \"CleanupSingle-v0\""
   ]
  },
  {
   "cell_type": "code",
   "execution_count": 6,
   "metadata": {},
   "outputs": [
    {
     "name": "stdout",
     "output_type": "stream",
     "text": [
      "Loading models from ./idil_train/result/CleanupSingle-v0/idil/es-100-01J4XR6C47AKQ5KNJWNR679E8R-synth_extra_trajs-0809/2024-08-10_03-59-01/model/iq_CleanupSingle-v0_n70_l70_best_tx\n",
      "Loading models from ./idil_train/result/CleanupSingle-v0/idil/es-100-01J4XR6C47AKQ5KNJWNR679E8R-synth_extra_trajs-0809/2024-08-10_03-59-01/model/iq_CleanupSingle-v0_n70_l70_best_pi\n",
      "Loading models from ./idil_train/result/CleanupSingle-v0/idil/es-100-01J4XNDCER2DMYYRXEJZXJ2271-synth_extra_trajs-0809/2024-08-10_03-10-25/model/iq_CleanupSingle-v0_n70_l70_best_tx\n",
      "Loading models from ./idil_train/result/CleanupSingle-v0/idil/es-100-01J4XNDCER2DMYYRXEJZXJ2271-synth_extra_trajs-0809/2024-08-10_03-10-25/model/iq_CleanupSingle-v0_n70_l70_best_pi\n",
      "Loading models from ./idil_train/result/CleanupSingle-v0/idil/es-100-01J4XJMMP9N8S3TQN4SESDZCTR-synth_extra_trajs-0809/2024-08-10_02-21-57/model/iq_CleanupSingle-v0_n70_l70_best_tx\n",
      "Loading models from ./idil_train/result/CleanupSingle-v0/idil/es-100-01J4XJMMP9N8S3TQN4SESDZCTR-synth_extra_trajs-0809/2024-08-10_02-21-57/model/iq_CleanupSingle-v0_n70_l70_best_pi\n",
      "Loading models from ./idil_train/result/CleanupSingle-v0/idil/es-100-01J4XFW8RHVVYCTJ5Y3C2BTBF9-synth_extra_trajs-0809/2024-08-10_01-33-41/model/iq_CleanupSingle-v0_n70_l70_best_tx\n",
      "Loading models from ./idil_train/result/CleanupSingle-v0/idil/es-100-01J4XFW8RHVVYCTJ5Y3C2BTBF9-synth_extra_trajs-0809/2024-08-10_01-33-41/model/iq_CleanupSingle-v0_n70_l70_best_pi\n",
      "Loading models from ./idil_train/result/CleanupSingle-v0/idil/es-100-01J4XD2HX2Y2FBMBEWEE6RGH40-synth_extra_trajs-0809/2024-08-10_00-44-41/model/iq_CleanupSingle-v0_n70_l70_best_tx\n",
      "Loading models from ./idil_train/result/CleanupSingle-v0/idil/es-100-01J4XD2HX2Y2FBMBEWEE6RGH40-synth_extra_trajs-0809/2024-08-10_00-44-41/model/iq_CleanupSingle-v0_n70_l70_best_pi\n",
      "Loading models from ./idil_train/result/CleanupSingle-v0/idil/es-60-01J4XA99JZKFM2DW2EEA0XSZK7-synth_extra_trajs-0809/2024-08-09_23-55-56/model/iq_CleanupSingle-v0_n70_l70_best_tx\n",
      "Loading models from ./idil_train/result/CleanupSingle-v0/idil/es-60-01J4XA99JZKFM2DW2EEA0XSZK7-synth_extra_trajs-0809/2024-08-09_23-55-56/model/iq_CleanupSingle-v0_n70_l70_best_pi\n",
      "Loading models from ./idil_train/result/CleanupSingle-v0/idil/es-60-01J4X7FCX4VVR4C8QJ01PCR57Q-synth_extra_trajs-0809/2024-08-09_23-06-51/model/iq_CleanupSingle-v0_n70_l70_best_tx\n",
      "Loading models from ./idil_train/result/CleanupSingle-v0/idil/es-60-01J4X7FCX4VVR4C8QJ01PCR57Q-synth_extra_trajs-0809/2024-08-09_23-06-51/model/iq_CleanupSingle-v0_n70_l70_best_pi\n",
      "Loading models from ./idil_train/result/CleanupSingle-v0/idil/es-60-01J4X4MRGFV2KTEQJW4GNMQKXS-synth_extra_trajs-0809/2024-08-09_22-17-21/model/iq_CleanupSingle-v0_n70_l70_best_tx\n",
      "Loading models from ./idil_train/result/CleanupSingle-v0/idil/es-60-01J4X4MRGFV2KTEQJW4GNMQKXS-synth_extra_trajs-0809/2024-08-09_22-17-21/model/iq_CleanupSingle-v0_n70_l70_best_pi\n",
      "Loading models from ./idil_train/result/CleanupSingle-v0/idil/es-60-01J4X1WBK8J8F3XXHZBVQSGMP2-synth_extra_trajs-0809/2024-08-09_21-29-04/model/iq_CleanupSingle-v0_n70_l70_best_tx\n",
      "Loading models from ./idil_train/result/CleanupSingle-v0/idil/es-60-01J4X1WBK8J8F3XXHZBVQSGMP2-synth_extra_trajs-0809/2024-08-09_21-29-04/model/iq_CleanupSingle-v0_n70_l70_best_pi\n",
      "Loading models from ./idil_train/result/CleanupSingle-v0/idil/es-60-01J4WYYDPHHAGRHK4Q4TS1GM0Y-synth_extra_trajs-0809/2024-08-09_20-37-46/model/iq_CleanupSingle-v0_n70_l70_best_tx\n",
      "Loading models from ./idil_train/result/CleanupSingle-v0/idil/es-60-01J4WYYDPHHAGRHK4Q4TS1GM0Y-synth_extra_trajs-0809/2024-08-09_20-37-46/model/iq_CleanupSingle-v0_n70_l70_best_pi\n",
      "Loading models from ./idil_train/result/CleanupSingle-v0/idil/es-20-01J4WW1WMZN9APJJ8NF115HQDC-synth_extra_trajs-0809/2024-08-09_19-47-14/model/iq_CleanupSingle-v0_n70_l70_best_tx\n",
      "Loading models from ./idil_train/result/CleanupSingle-v0/idil/es-20-01J4WW1WMZN9APJJ8NF115HQDC-synth_extra_trajs-0809/2024-08-09_19-47-14/model/iq_CleanupSingle-v0_n70_l70_best_pi\n",
      "Loading models from ./idil_train/result/CleanupSingle-v0/idil/es-20-01J4WS66ZBGJCDXQ4QTE33S2HX-synth_extra_trajs-0809/2024-08-09_18-57-09/model/iq_CleanupSingle-v0_n70_l70_best_tx\n",
      "Loading models from ./idil_train/result/CleanupSingle-v0/idil/es-20-01J4WS66ZBGJCDXQ4QTE33S2HX-synth_extra_trajs-0809/2024-08-09_18-57-09/model/iq_CleanupSingle-v0_n70_l70_best_pi\n",
      "Loading models from ./idil_train/result/CleanupSingle-v0/idil/es-20-01J4WP99BEQC5G4DNBK4S7RYXQ-synth_extra_trajs-0809/2024-08-09_18-06-25/model/iq_CleanupSingle-v0_n70_l70_best_tx\n",
      "Loading models from ./idil_train/result/CleanupSingle-v0/idil/es-20-01J4WP99BEQC5G4DNBK4S7RYXQ-synth_extra_trajs-0809/2024-08-09_18-06-25/model/iq_CleanupSingle-v0_n70_l70_best_pi\n",
      "Loading models from ./idil_train/result/CleanupSingle-v0/idil/es-20-01J4WKD4YREQT0RPPCFVT3BFSA-synth_extra_trajs-0809/2024-08-09_17-16-05/model/iq_CleanupSingle-v0_n70_l70_best_tx\n",
      "Loading models from ./idil_train/result/CleanupSingle-v0/idil/es-20-01J4WKD4YREQT0RPPCFVT3BFSA-synth_extra_trajs-0809/2024-08-09_17-16-05/model/iq_CleanupSingle-v0_n70_l70_best_pi\n",
      "Loading models from ./idil_train/result/CleanupSingle-v0/idil/es-20-01J4WGGVYCEYXKM7DZ1TQT2KFQ-synth_extra_trajs-0809/2024-08-09_16-25-42/model/iq_CleanupSingle-v0_n70_l70_best_tx\n",
      "Loading models from ./idil_train/result/CleanupSingle-v0/idil/es-20-01J4WGGVYCEYXKM7DZ1TQT2KFQ-synth_extra_trajs-0809/2024-08-09_16-25-42/model/iq_CleanupSingle-v0_n70_l70_best_pi\n",
      "Loading models from ./idil_train/result/CleanupSingle-v0/idil/es-0-01J4WDKJRBQJA5TRN78KD9V55P-synth_extra_trajs-0809/2024-08-09_15-34-46/model/iq_CleanupSingle-v0_n70_l70_best_tx\n",
      "Loading models from ./idil_train/result/CleanupSingle-v0/idil/es-0-01J4WDKJRBQJA5TRN78KD9V55P-synth_extra_trajs-0809/2024-08-09_15-34-46/model/iq_CleanupSingle-v0_n70_l70_best_pi\n",
      "Loading models from ./idil_train/result/CleanupSingle-v0/idil/es-0-01J4W9R49RKQ9060E1VBXGY6XF-synth_extra_trajs-0809/2024-08-09_14-27-19/model/iq_CleanupSingle-v0_n70_l70_best_tx\n",
      "Loading models from ./idil_train/result/CleanupSingle-v0/idil/es-0-01J4W9R49RKQ9060E1VBXGY6XF-synth_extra_trajs-0809/2024-08-09_14-27-19/model/iq_CleanupSingle-v0_n70_l70_best_pi\n",
      "Loading models from ./idil_train/result/CleanupSingle-v0/idil/es-0-01J4W6Y6HFM2JA6YMBZVC3B9YA-synth_extra_trajs-0809/2024-08-09_13-38-13/model/iq_CleanupSingle-v0_n70_l70_best_tx\n",
      "Loading models from ./idil_train/result/CleanupSingle-v0/idil/es-0-01J4W6Y6HFM2JA6YMBZVC3B9YA-synth_extra_trajs-0809/2024-08-09_13-38-13/model/iq_CleanupSingle-v0_n70_l70_best_pi\n",
      "Loading models from ./idil_train/result/CleanupSingle-v0/idil/es-0-01J4W44NBPQP04TMKJQZ9FK38G-synth_extra_trajs-0809/2024-08-09_12-49-19/model/iq_CleanupSingle-v0_n70_l70_best_tx\n",
      "Loading models from ./idil_train/result/CleanupSingle-v0/idil/es-0-01J4W44NBPQP04TMKJQZ9FK38G-synth_extra_trajs-0809/2024-08-09_12-49-19/model/iq_CleanupSingle-v0_n70_l70_best_pi\n",
      "Loading models from ./idil_train/result/CleanupSingle-v0/idil/es-0-01J4W1ANG5AXDA4SZSPHKH12J3-synth_extra_trajs-0809/2024-08-09_12-00-10/model/iq_CleanupSingle-v0_n70_l70_best_tx\n",
      "Loading models from ./idil_train/result/CleanupSingle-v0/idil/es-0-01J4W1ANG5AXDA4SZSPHKH12J3-synth_extra_trajs-0809/2024-08-09_12-00-10/model/iq_CleanupSingle-v0_n70_l70_best_pi\n"
     ]
    }
   ],
   "source": [
    "agents = nb_utils.get_trained_models(runs=RUNS, env_name=ENV_NAME)"
   ]
  },
  {
   "cell_type": "code",
   "execution_count": 7,
   "metadata": {},
   "outputs": [
    {
     "name": "stderr",
     "output_type": "stream",
     "text": [
      "  0%|          | 0/20 [00:00<?, ?it/s]"
     ]
    },
    {
     "name": "stdout",
     "output_type": "stream",
     "text": [
      "Loading models from ./idil_train/result/CleanupSingle-v0/idil/es-100-01J4XR6C47AKQ5KNJWNR679E8R-synth_extra_trajs-0809/2024-08-10_03-59-01/model/iq_CleanupSingle-v0_n70_l70_best_tx\n",
      "Loading models from ./idil_train/result/CleanupSingle-v0/idil/es-100-01J4XR6C47AKQ5KNJWNR679E8R-synth_extra_trajs-0809/2024-08-10_03-59-01/model/iq_CleanupSingle-v0_n70_l70_best_pi\n"
     ]
    },
    {
     "name": "stderr",
     "output_type": "stream",
     "text": [
      "100%|██████████| 10/10 [00:03<00:00,  2.94it/s]\n",
      "  5%|▌         | 1/20 [00:03<01:06,  3.50s/it]"
     ]
    },
    {
     "name": "stdout",
     "output_type": "stream",
     "text": [
      "Loading models from ./idil_train/result/CleanupSingle-v0/idil/es-100-01J4XNDCER2DMYYRXEJZXJ2271-synth_extra_trajs-0809/2024-08-10_03-10-25/model/iq_CleanupSingle-v0_n70_l70_best_tx\n",
      "Loading models from ./idil_train/result/CleanupSingle-v0/idil/es-100-01J4XNDCER2DMYYRXEJZXJ2271-synth_extra_trajs-0809/2024-08-10_03-10-25/model/iq_CleanupSingle-v0_n70_l70_best_pi\n"
     ]
    },
    {
     "name": "stderr",
     "output_type": "stream",
     "text": [
      "100%|██████████| 10/10 [00:02<00:00,  4.26it/s]\n",
      " 10%|█         | 2/20 [00:05<00:51,  2.88s/it]"
     ]
    },
    {
     "name": "stdout",
     "output_type": "stream",
     "text": [
      "Loading models from ./idil_train/result/CleanupSingle-v0/idil/es-100-01J4XJMMP9N8S3TQN4SESDZCTR-synth_extra_trajs-0809/2024-08-10_02-21-57/model/iq_CleanupSingle-v0_n70_l70_best_tx\n",
      "Loading models from ./idil_train/result/CleanupSingle-v0/idil/es-100-01J4XJMMP9N8S3TQN4SESDZCTR-synth_extra_trajs-0809/2024-08-10_02-21-57/model/iq_CleanupSingle-v0_n70_l70_best_pi\n"
     ]
    },
    {
     "name": "stderr",
     "output_type": "stream",
     "text": [
      "100%|██████████| 10/10 [00:02<00:00,  4.87it/s]\n",
      " 15%|█▌        | 3/20 [00:08<00:43,  2.55s/it]"
     ]
    },
    {
     "name": "stdout",
     "output_type": "stream",
     "text": [
      "Loading models from ./idil_train/result/CleanupSingle-v0/idil/es-100-01J4XFW8RHVVYCTJ5Y3C2BTBF9-synth_extra_trajs-0809/2024-08-10_01-33-41/model/iq_CleanupSingle-v0_n70_l70_best_tx\n",
      "Loading models from ./idil_train/result/CleanupSingle-v0/idil/es-100-01J4XFW8RHVVYCTJ5Y3C2BTBF9-synth_extra_trajs-0809/2024-08-10_01-33-41/model/iq_CleanupSingle-v0_n70_l70_best_pi\n"
     ]
    },
    {
     "name": "stderr",
     "output_type": "stream",
     "text": [
      "100%|██████████| 10/10 [00:02<00:00,  3.61it/s]\n",
      " 20%|██        | 4/20 [00:10<00:42,  2.67s/it]"
     ]
    },
    {
     "name": "stdout",
     "output_type": "stream",
     "text": [
      "Loading models from ./idil_train/result/CleanupSingle-v0/idil/es-100-01J4XD2HX2Y2FBMBEWEE6RGH40-synth_extra_trajs-0809/2024-08-10_00-44-41/model/iq_CleanupSingle-v0_n70_l70_best_tx\n",
      "Loading models from ./idil_train/result/CleanupSingle-v0/idil/es-100-01J4XD2HX2Y2FBMBEWEE6RGH40-synth_extra_trajs-0809/2024-08-10_00-44-41/model/iq_CleanupSingle-v0_n70_l70_best_pi\n"
     ]
    },
    {
     "name": "stderr",
     "output_type": "stream",
     "text": [
      "  0%|          | 0/10 [00:00<?, ?it/s]\n",
      " 20%|██        | 4/20 [00:11<00:45,  2.83s/it]\n"
     ]
    },
    {
     "ename": "KeyboardInterrupt",
     "evalue": "",
     "output_type": "error",
     "traceback": [
      "\u001b[0;31m---------------------------------------------------------------------------\u001b[0m",
      "\u001b[0;31mKeyboardInterrupt\u001b[0m                         Traceback (most recent call last)",
      "\u001b[1;32m/home/juanhevia/IDIL/notebooks/12_comparison_extra_synth_trajs.ipynb Cell 7\u001b[0m line \u001b[0;36m1\n\u001b[0;32m----> <a href='vscode-notebook-cell://ssh-remote%2B7b22686f73744e616d65223a2253657276657256616962686176556e68656c6b6172227d/home/juanhevia/IDIL/notebooks/12_comparison_extra_synth_trajs.ipynb#W6sdnNjb2RlLXJlbW90ZQ%3D%3D?line=0'>1</a>\u001b[0m trajectories \u001b[39m=\u001b[39m nb_utils\u001b[39m.\u001b[39;49mget_agent_trajectories(runs\u001b[39m=\u001b[39;49mRUNS, env_name\u001b[39m=\u001b[39;49mENV_NAME, num_trajectories\u001b[39m=\u001b[39;49m\u001b[39m10\u001b[39;49m)\n",
      "File \u001b[0;32m~/IDIL/notebooks/utils.py:93\u001b[0m, in \u001b[0;36mget_agent_trajectories\u001b[0;34m(runs, env_name, num_trajectories, load_micro, expert_dataset)\u001b[0m\n\u001b[1;32m     90\u001b[0m trajectories \u001b[39m=\u001b[39m defaultdict(\u001b[39mlist\u001b[39m)\n\u001b[1;32m     92\u001b[0m \u001b[39mfor\u001b[39;00m run \u001b[39min\u001b[39;00m tqdm(runs):\n\u001b[0;32m---> 93\u001b[0m     traj_data \u001b[39m=\u001b[39m traj_utils\u001b[39m.\u001b[39;49mgenerate_agent_trajectories(run_id\u001b[39m=\u001b[39;49mrun, num_trajectories\u001b[39m=\u001b[39;49mnum_trajectories, env_name\u001b[39m=\u001b[39;49menv_name, \n\u001b[1;32m     94\u001b[0m                                                        load_micro\u001b[39m=\u001b[39;49mload_micro, expert_dataset\u001b[39m=\u001b[39;49mexpert_dataset)\n\u001b[1;32m     95\u001b[0m     kval \u001b[39m=\u001b[39m \u001b[39mint\u001b[39m(run\u001b[39m.\u001b[39msplit(\u001b[39m\"\u001b[39m\u001b[39m-\u001b[39m\u001b[39m\"\u001b[39m)[\u001b[39m1\u001b[39m])\n\u001b[1;32m     97\u001b[0m     trajectories[kval]\u001b[39m.\u001b[39mappend(traj_data)\n",
      "File \u001b[0;32m~/IDIL/notebooks/generate_trajectories.py:81\u001b[0m, in \u001b[0;36mgenerate_agent_trajectories\u001b[0;34m(run_id, env_name, num_trajectories, load_micro, expert_dataset)\u001b[0m\n\u001b[1;32m     78\u001b[0m trajectories \u001b[39m=\u001b[39m defaultdict(\u001b[39mlist\u001b[39m)\n\u001b[1;32m     80\u001b[0m \u001b[39mfor\u001b[39;00m _ \u001b[39min\u001b[39;00m tqdm(\u001b[39mrange\u001b[39m(num_trajectories)):\n\u001b[0;32m---> 81\u001b[0m     traj \u001b[39m=\u001b[39m generate_trajectory(agent, config, env)\n\u001b[1;32m     82\u001b[0m     \u001b[39mfor\u001b[39;00m key, value \u001b[39min\u001b[39;00m traj\u001b[39m.\u001b[39mitems():\n\u001b[1;32m     83\u001b[0m         trajectories[key]\u001b[39m.\u001b[39mappend(value)\n",
      "File \u001b[0;32m~/IDIL/notebooks/generate_trajectories.py:47\u001b[0m, in \u001b[0;36mgenerate_trajectory\u001b[0;34m(agent, run_config, env)\u001b[0m\n\u001b[1;32m     45\u001b[0m     action \u001b[39m=\u001b[39m agent\u001b[39m.\u001b[39mchoose_policy_action(state, latent, sample\u001b[39m=\u001b[39m\u001b[39mTrue\u001b[39;00m)\n\u001b[1;32m     46\u001b[0m     next_state, _reward, done, info \u001b[39m=\u001b[39m env\u001b[39m.\u001b[39mstep(action)\n\u001b[0;32m---> 47\u001b[0m     next_latent \u001b[39m=\u001b[39m agent\u001b[39m.\u001b[39;49mchoose_mental_state(next_state, latent, sample\u001b[39m=\u001b[39;49m\u001b[39mTrue\u001b[39;49;00m)\n\u001b[1;32m     49\u001b[0m reward \u001b[39m+\u001b[39m\u001b[39m=\u001b[39m _reward\n\u001b[1;32m     51\u001b[0m \u001b[39m# save data\u001b[39;00m\n",
      "File \u001b[0;32m~/IDIL/idil_algs/IDIL/agent/mental_iql.py:170\u001b[0m, in \u001b[0;36mMentalIQL.choose_mental_state\u001b[0;34m(self, state, prev_option, sample)\u001b[0m\n\u001b[1;32m    169\u001b[0m \u001b[39mdef\u001b[39;00m \u001b[39mchoose_mental_state\u001b[39m(\u001b[39mself\u001b[39m, state, prev_option, sample\u001b[39m=\u001b[39m\u001b[39mFalse\u001b[39;00m):\n\u001b[0;32m--> 170\u001b[0m   \u001b[39mreturn\u001b[39;00m \u001b[39mself\u001b[39;49m\u001b[39m.\u001b[39;49mtx_agent\u001b[39m.\u001b[39;49mchoose_action(state, prev_option, sample)\n",
      "File \u001b[0;32m~/IDIL/idil_algs/IDIL/agent/option_softq.py:77\u001b[0m, in \u001b[0;36mOptionSoftQ.choose_action\u001b[0;34m(self, obs, option, sample)\u001b[0m\n\u001b[1;32m     74\u001b[0m option \u001b[39m=\u001b[39m \u001b[39mself\u001b[39m\u001b[39m.\u001b[39mconv_input(option, \u001b[39mFalse\u001b[39;00m, \u001b[39m1\u001b[39m)\n\u001b[1;32m     76\u001b[0m \u001b[39mwith\u001b[39;00m torch\u001b[39m.\u001b[39mno_grad():\n\u001b[0;32m---> 77\u001b[0m   q \u001b[39m=\u001b[39m \u001b[39mself\u001b[39;49m\u001b[39m.\u001b[39;49mq_net(obs, option)\n\u001b[1;32m     78\u001b[0m   dist \u001b[39m=\u001b[39m F\u001b[39m.\u001b[39msoftmax(q \u001b[39m/\u001b[39m \u001b[39mself\u001b[39m\u001b[39m.\u001b[39malpha, dim\u001b[39m=\u001b[39m\u001b[39m-\u001b[39m\u001b[39m1\u001b[39m)\n\u001b[1;32m     79\u001b[0m   dist \u001b[39m=\u001b[39m Categorical(dist)\n",
      "File \u001b[0;32m~/miniconda3/envs/aidil/lib/python3.8/site-packages/torch/nn/modules/module.py:1532\u001b[0m, in \u001b[0;36mModule._wrapped_call_impl\u001b[0;34m(self, *args, **kwargs)\u001b[0m\n\u001b[1;32m   1530\u001b[0m     \u001b[39mreturn\u001b[39;00m \u001b[39mself\u001b[39m\u001b[39m.\u001b[39m_compiled_call_impl(\u001b[39m*\u001b[39margs, \u001b[39m*\u001b[39m\u001b[39m*\u001b[39mkwargs)  \u001b[39m# type: ignore[misc]\u001b[39;00m\n\u001b[1;32m   1531\u001b[0m \u001b[39melse\u001b[39;00m:\n\u001b[0;32m-> 1532\u001b[0m     \u001b[39mreturn\u001b[39;00m \u001b[39mself\u001b[39;49m\u001b[39m.\u001b[39;49m_call_impl(\u001b[39m*\u001b[39;49margs, \u001b[39m*\u001b[39;49m\u001b[39m*\u001b[39;49mkwargs)\n",
      "File \u001b[0;32m~/miniconda3/envs/aidil/lib/python3.8/site-packages/torch/nn/modules/module.py:1541\u001b[0m, in \u001b[0;36mModule._call_impl\u001b[0;34m(self, *args, **kwargs)\u001b[0m\n\u001b[1;32m   1536\u001b[0m \u001b[39m# If we don't have any hooks, we want to skip the rest of the logic in\u001b[39;00m\n\u001b[1;32m   1537\u001b[0m \u001b[39m# this function, and just call forward.\u001b[39;00m\n\u001b[1;32m   1538\u001b[0m \u001b[39mif\u001b[39;00m \u001b[39mnot\u001b[39;00m (\u001b[39mself\u001b[39m\u001b[39m.\u001b[39m_backward_hooks \u001b[39mor\u001b[39;00m \u001b[39mself\u001b[39m\u001b[39m.\u001b[39m_backward_pre_hooks \u001b[39mor\u001b[39;00m \u001b[39mself\u001b[39m\u001b[39m.\u001b[39m_forward_hooks \u001b[39mor\u001b[39;00m \u001b[39mself\u001b[39m\u001b[39m.\u001b[39m_forward_pre_hooks\n\u001b[1;32m   1539\u001b[0m         \u001b[39mor\u001b[39;00m _global_backward_pre_hooks \u001b[39mor\u001b[39;00m _global_backward_hooks\n\u001b[1;32m   1540\u001b[0m         \u001b[39mor\u001b[39;00m _global_forward_hooks \u001b[39mor\u001b[39;00m _global_forward_pre_hooks):\n\u001b[0;32m-> 1541\u001b[0m     \u001b[39mreturn\u001b[39;00m forward_call(\u001b[39m*\u001b[39;49margs, \u001b[39m*\u001b[39;49m\u001b[39m*\u001b[39;49mkwargs)\n\u001b[1;32m   1543\u001b[0m \u001b[39mtry\u001b[39;00m:\n\u001b[1;32m   1544\u001b[0m     result \u001b[39m=\u001b[39m \u001b[39mNone\u001b[39;00m\n",
      "File \u001b[0;32m~/IDIL/idil_algs/IDIL/agent/nn_models.py:88\u001b[0m, in \u001b[0;36mSimpleOptionQNetwork.forward\u001b[0;34m(self, state, option, *args)\u001b[0m\n\u001b[1;32m     83\u001b[0m \u001b[39mdef\u001b[39;00m \u001b[39mforward\u001b[39m(\u001b[39mself\u001b[39m, state, option, \u001b[39m*\u001b[39margs):\n\u001b[1;32m     84\u001b[0m \u001b[39m  \u001b[39m\u001b[39m'''\u001b[39;00m\n\u001b[1;32m     85\u001b[0m \u001b[39m  if option is None, the shape of return is (n_batch, option_dim, action_dim)\u001b[39;00m\n\u001b[1;32m     86\u001b[0m \u001b[39m  otherwise, the shape of return is (n_batch, action_dim)\u001b[39;00m\n\u001b[1;32m     87\u001b[0m \u001b[39m  '''\u001b[39;00m\n\u001b[0;32m---> 88\u001b[0m   out \u001b[39m=\u001b[39m torch\u001b[39m.\u001b[39mstack([m(state) \u001b[39mfor\u001b[39;00m m \u001b[39min\u001b[39;00m \u001b[39mself\u001b[39m\u001b[39m.\u001b[39mQ1], dim\u001b[39m=\u001b[39m\u001b[39m-\u001b[39m\u001b[39m2\u001b[39m)\n\u001b[1;32m     90\u001b[0m   \u001b[39mif\u001b[39;00m option \u001b[39mis\u001b[39;00m \u001b[39mnot\u001b[39;00m \u001b[39mNone\u001b[39;00m:\n\u001b[1;32m     91\u001b[0m     option_idx \u001b[39m=\u001b[39m option\u001b[39m.\u001b[39mlong()\u001b[39m.\u001b[39mview(\u001b[39m-\u001b[39m\u001b[39m1\u001b[39m, \u001b[39m1\u001b[39m, \u001b[39m1\u001b[39m)\u001b[39m.\u001b[39mexpand(\u001b[39m-\u001b[39m\u001b[39m1\u001b[39m, \u001b[39m1\u001b[39m, out\u001b[39m.\u001b[39mshape[\u001b[39m-\u001b[39m\u001b[39m1\u001b[39m])\n",
      "File \u001b[0;32m~/IDIL/idil_algs/IDIL/agent/nn_models.py:88\u001b[0m, in \u001b[0;36m<listcomp>\u001b[0;34m(.0)\u001b[0m\n\u001b[1;32m     83\u001b[0m \u001b[39mdef\u001b[39;00m \u001b[39mforward\u001b[39m(\u001b[39mself\u001b[39m, state, option, \u001b[39m*\u001b[39margs):\n\u001b[1;32m     84\u001b[0m \u001b[39m  \u001b[39m\u001b[39m'''\u001b[39;00m\n\u001b[1;32m     85\u001b[0m \u001b[39m  if option is None, the shape of return is (n_batch, option_dim, action_dim)\u001b[39;00m\n\u001b[1;32m     86\u001b[0m \u001b[39m  otherwise, the shape of return is (n_batch, action_dim)\u001b[39;00m\n\u001b[1;32m     87\u001b[0m \u001b[39m  '''\u001b[39;00m\n\u001b[0;32m---> 88\u001b[0m   out \u001b[39m=\u001b[39m torch\u001b[39m.\u001b[39mstack([m(state) \u001b[39mfor\u001b[39;00m m \u001b[39min\u001b[39;00m \u001b[39mself\u001b[39m\u001b[39m.\u001b[39mQ1], dim\u001b[39m=\u001b[39m\u001b[39m-\u001b[39m\u001b[39m2\u001b[39m)\n\u001b[1;32m     90\u001b[0m   \u001b[39mif\u001b[39;00m option \u001b[39mis\u001b[39;00m \u001b[39mnot\u001b[39;00m \u001b[39mNone\u001b[39;00m:\n\u001b[1;32m     91\u001b[0m     option_idx \u001b[39m=\u001b[39m option\u001b[39m.\u001b[39mlong()\u001b[39m.\u001b[39mview(\u001b[39m-\u001b[39m\u001b[39m1\u001b[39m, \u001b[39m1\u001b[39m, \u001b[39m1\u001b[39m)\u001b[39m.\u001b[39mexpand(\u001b[39m-\u001b[39m\u001b[39m1\u001b[39m, \u001b[39m1\u001b[39m, out\u001b[39m.\u001b[39mshape[\u001b[39m-\u001b[39m\u001b[39m1\u001b[39m])\n",
      "File \u001b[0;32m~/miniconda3/envs/aidil/lib/python3.8/site-packages/torch/nn/modules/module.py:1532\u001b[0m, in \u001b[0;36mModule._wrapped_call_impl\u001b[0;34m(self, *args, **kwargs)\u001b[0m\n\u001b[1;32m   1530\u001b[0m     \u001b[39mreturn\u001b[39;00m \u001b[39mself\u001b[39m\u001b[39m.\u001b[39m_compiled_call_impl(\u001b[39m*\u001b[39margs, \u001b[39m*\u001b[39m\u001b[39m*\u001b[39mkwargs)  \u001b[39m# type: ignore[misc]\u001b[39;00m\n\u001b[1;32m   1531\u001b[0m \u001b[39melse\u001b[39;00m:\n\u001b[0;32m-> 1532\u001b[0m     \u001b[39mreturn\u001b[39;00m \u001b[39mself\u001b[39;49m\u001b[39m.\u001b[39;49m_call_impl(\u001b[39m*\u001b[39;49margs, \u001b[39m*\u001b[39;49m\u001b[39m*\u001b[39;49mkwargs)\n",
      "File \u001b[0;32m~/miniconda3/envs/aidil/lib/python3.8/site-packages/torch/nn/modules/module.py:1541\u001b[0m, in \u001b[0;36mModule._call_impl\u001b[0;34m(self, *args, **kwargs)\u001b[0m\n\u001b[1;32m   1536\u001b[0m \u001b[39m# If we don't have any hooks, we want to skip the rest of the logic in\u001b[39;00m\n\u001b[1;32m   1537\u001b[0m \u001b[39m# this function, and just call forward.\u001b[39;00m\n\u001b[1;32m   1538\u001b[0m \u001b[39mif\u001b[39;00m \u001b[39mnot\u001b[39;00m (\u001b[39mself\u001b[39m\u001b[39m.\u001b[39m_backward_hooks \u001b[39mor\u001b[39;00m \u001b[39mself\u001b[39m\u001b[39m.\u001b[39m_backward_pre_hooks \u001b[39mor\u001b[39;00m \u001b[39mself\u001b[39m\u001b[39m.\u001b[39m_forward_hooks \u001b[39mor\u001b[39;00m \u001b[39mself\u001b[39m\u001b[39m.\u001b[39m_forward_pre_hooks\n\u001b[1;32m   1539\u001b[0m         \u001b[39mor\u001b[39;00m _global_backward_pre_hooks \u001b[39mor\u001b[39;00m _global_backward_hooks\n\u001b[1;32m   1540\u001b[0m         \u001b[39mor\u001b[39;00m _global_forward_hooks \u001b[39mor\u001b[39;00m _global_forward_pre_hooks):\n\u001b[0;32m-> 1541\u001b[0m     \u001b[39mreturn\u001b[39;00m forward_call(\u001b[39m*\u001b[39;49margs, \u001b[39m*\u001b[39;49m\u001b[39m*\u001b[39;49mkwargs)\n\u001b[1;32m   1543\u001b[0m \u001b[39mtry\u001b[39;00m:\n\u001b[1;32m   1544\u001b[0m     result \u001b[39m=\u001b[39m \u001b[39mNone\u001b[39;00m\n",
      "File \u001b[0;32m~/miniconda3/envs/aidil/lib/python3.8/site-packages/torch/nn/modules/container.py:217\u001b[0m, in \u001b[0;36mSequential.forward\u001b[0;34m(self, input)\u001b[0m\n\u001b[1;32m    215\u001b[0m \u001b[39mdef\u001b[39;00m \u001b[39mforward\u001b[39m(\u001b[39mself\u001b[39m, \u001b[39minput\u001b[39m):\n\u001b[1;32m    216\u001b[0m     \u001b[39mfor\u001b[39;00m module \u001b[39min\u001b[39;00m \u001b[39mself\u001b[39m:\n\u001b[0;32m--> 217\u001b[0m         \u001b[39minput\u001b[39m \u001b[39m=\u001b[39m module(\u001b[39minput\u001b[39;49m)\n\u001b[1;32m    218\u001b[0m     \u001b[39mreturn\u001b[39;00m \u001b[39minput\u001b[39m\n",
      "File \u001b[0;32m~/miniconda3/envs/aidil/lib/python3.8/site-packages/torch/nn/modules/module.py:1532\u001b[0m, in \u001b[0;36mModule._wrapped_call_impl\u001b[0;34m(self, *args, **kwargs)\u001b[0m\n\u001b[1;32m   1530\u001b[0m     \u001b[39mreturn\u001b[39;00m \u001b[39mself\u001b[39m\u001b[39m.\u001b[39m_compiled_call_impl(\u001b[39m*\u001b[39margs, \u001b[39m*\u001b[39m\u001b[39m*\u001b[39mkwargs)  \u001b[39m# type: ignore[misc]\u001b[39;00m\n\u001b[1;32m   1531\u001b[0m \u001b[39melse\u001b[39;00m:\n\u001b[0;32m-> 1532\u001b[0m     \u001b[39mreturn\u001b[39;00m \u001b[39mself\u001b[39;49m\u001b[39m.\u001b[39;49m_call_impl(\u001b[39m*\u001b[39;49margs, \u001b[39m*\u001b[39;49m\u001b[39m*\u001b[39;49mkwargs)\n",
      "File \u001b[0;32m~/miniconda3/envs/aidil/lib/python3.8/site-packages/torch/nn/modules/module.py:1541\u001b[0m, in \u001b[0;36mModule._call_impl\u001b[0;34m(self, *args, **kwargs)\u001b[0m\n\u001b[1;32m   1536\u001b[0m \u001b[39m# If we don't have any hooks, we want to skip the rest of the logic in\u001b[39;00m\n\u001b[1;32m   1537\u001b[0m \u001b[39m# this function, and just call forward.\u001b[39;00m\n\u001b[1;32m   1538\u001b[0m \u001b[39mif\u001b[39;00m \u001b[39mnot\u001b[39;00m (\u001b[39mself\u001b[39m\u001b[39m.\u001b[39m_backward_hooks \u001b[39mor\u001b[39;00m \u001b[39mself\u001b[39m\u001b[39m.\u001b[39m_backward_pre_hooks \u001b[39mor\u001b[39;00m \u001b[39mself\u001b[39m\u001b[39m.\u001b[39m_forward_hooks \u001b[39mor\u001b[39;00m \u001b[39mself\u001b[39m\u001b[39m.\u001b[39m_forward_pre_hooks\n\u001b[1;32m   1539\u001b[0m         \u001b[39mor\u001b[39;00m _global_backward_pre_hooks \u001b[39mor\u001b[39;00m _global_backward_hooks\n\u001b[1;32m   1540\u001b[0m         \u001b[39mor\u001b[39;00m _global_forward_hooks \u001b[39mor\u001b[39;00m _global_forward_pre_hooks):\n\u001b[0;32m-> 1541\u001b[0m     \u001b[39mreturn\u001b[39;00m forward_call(\u001b[39m*\u001b[39;49margs, \u001b[39m*\u001b[39;49m\u001b[39m*\u001b[39;49mkwargs)\n\u001b[1;32m   1543\u001b[0m \u001b[39mtry\u001b[39;00m:\n\u001b[1;32m   1544\u001b[0m     result \u001b[39m=\u001b[39m \u001b[39mNone\u001b[39;00m\n",
      "File \u001b[0;32m~/miniconda3/envs/aidil/lib/python3.8/site-packages/torch/nn/modules/activation.py:103\u001b[0m, in \u001b[0;36mReLU.forward\u001b[0;34m(self, input)\u001b[0m\n\u001b[1;32m    102\u001b[0m \u001b[39mdef\u001b[39;00m \u001b[39mforward\u001b[39m(\u001b[39mself\u001b[39m, \u001b[39minput\u001b[39m: Tensor) \u001b[39m-\u001b[39m\u001b[39m>\u001b[39m Tensor:\n\u001b[0;32m--> 103\u001b[0m     \u001b[39mreturn\u001b[39;00m F\u001b[39m.\u001b[39;49mrelu(\u001b[39minput\u001b[39;49m, inplace\u001b[39m=\u001b[39;49m\u001b[39mself\u001b[39;49m\u001b[39m.\u001b[39;49minplace)\n",
      "File \u001b[0;32m~/miniconda3/envs/aidil/lib/python3.8/site-packages/torch/nn/functional.py:1500\u001b[0m, in \u001b[0;36mrelu\u001b[0;34m(input, inplace)\u001b[0m\n\u001b[1;32m   1498\u001b[0m     result \u001b[39m=\u001b[39m torch\u001b[39m.\u001b[39mrelu_(\u001b[39minput\u001b[39m)\n\u001b[1;32m   1499\u001b[0m \u001b[39melse\u001b[39;00m:\n\u001b[0;32m-> 1500\u001b[0m     result \u001b[39m=\u001b[39m torch\u001b[39m.\u001b[39;49mrelu(\u001b[39minput\u001b[39;49m)\n\u001b[1;32m   1501\u001b[0m \u001b[39mreturn\u001b[39;00m result\n",
      "\u001b[0;31mKeyboardInterrupt\u001b[0m: "
     ]
    }
   ],
   "source": [
    "trajectories = nb_utils.get_agent_trajectories(runs=RUNS, env_name=ENV_NAME, num_trajectories=10)"
   ]
  },
  {
   "cell_type": "code",
   "execution_count": null,
   "metadata": {},
   "outputs": [
    {
     "name": "stdout",
     "output_type": "stream",
     "text": [
      "There are 4 kvals\n",
      "Each kval has 50 cum_rewards, matching the 5 x 10 trajectories generated for each agent (using key = 100)\n"
     ]
    }
   ],
   "source": [
    "cum_rewards = nb_utils.get_cumulative_rewards(trajectories, agents)"
   ]
  },
  {
   "cell_type": "code",
   "execution_count": null,
   "metadata": {},
   "outputs": [
    {
     "data": {
      "text/plain": [
       "(-100.0, -10.0)"
      ]
     },
     "execution_count": 9,
     "metadata": {},
     "output_type": "execute_result"
    },
    {
     "data": {
      "image/png": "[encoded data removed]",
      "text/plain": [
       "<Figure size 640x480 with 1 Axes>"
      ]
     },
     "metadata": {},
     "output_type": "display_data"
    }
   ],
   "source": [
    "nb_utils.plot_cum_rewards(cum_rewards)\n",
    "plt.gca().set_ylim([-100, -10])"
   ]
  },
  {
   "cell_type": "code",
   "execution_count": null,
   "metadata": {},
   "outputs": [
    {
     "data": {
      "text/html": [
       "<div>\n",
       "<style scoped>\n",
       "    .dataframe tbody tr th:only-of-type {\n",
       "        vertical-align: middle;\n",
       "    }\n",
       "\n",
       "    .dataframe tbody tr th {\n",
       "        vertical-align: top;\n",
       "    }\n",
       "\n",
       "    .dataframe thead th {\n",
       "        text-align: right;\n",
       "    }\n",
       "</style>\n",
       "<table border=\"1\" class=\"dataframe\">\n",
       "  <thead>\n",
       "    <tr style=\"text-align: right;\">\n",
       "      <th></th>\n",
       "      <th>100</th>\n",
       "      <th>60</th>\n",
       "      <th>20</th>\n",
       "      <th>0</th>\n",
       "    </tr>\n",
       "  </thead>\n",
       "  <tbody>\n",
       "    <tr>\n",
       "      <th>count</th>\n",
       "      <td>50.00000</td>\n",
       "      <td>50.00000</td>\n",
       "      <td>50.000000</td>\n",
       "      <td>50.000000</td>\n",
       "    </tr>\n",
       "    <tr>\n",
       "      <th>mean</th>\n",
       "      <td>-56.32000</td>\n",
       "      <td>-51.88000</td>\n",
       "      <td>-60.280000</td>\n",
       "      <td>-57.260000</td>\n",
       "    </tr>\n",
       "    <tr>\n",
       "      <th>std</th>\n",
       "      <td>37.59366</td>\n",
       "      <td>21.33182</td>\n",
       "      <td>39.457567</td>\n",
       "      <td>37.887486</td>\n",
       "    </tr>\n",
       "    <tr>\n",
       "      <th>min</th>\n",
       "      <td>-200.00000</td>\n",
       "      <td>-174.00000</td>\n",
       "      <td>-200.000000</td>\n",
       "      <td>-200.000000</td>\n",
       "    </tr>\n",
       "    <tr>\n",
       "      <th>25%</th>\n",
       "      <td>-50.75000</td>\n",
       "      <td>-53.50000</td>\n",
       "      <td>-57.250000</td>\n",
       "      <td>-52.750000</td>\n",
       "    </tr>\n",
       "    <tr>\n",
       "      <th>50%</th>\n",
       "      <td>-45.00000</td>\n",
       "      <td>-46.00000</td>\n",
       "      <td>-46.500000</td>\n",
       "      <td>-45.500000</td>\n",
       "    </tr>\n",
       "    <tr>\n",
       "      <th>75%</th>\n",
       "      <td>-42.00000</td>\n",
       "      <td>-43.00000</td>\n",
       "      <td>-44.000000</td>\n",
       "      <td>-42.000000</td>\n",
       "    </tr>\n",
       "    <tr>\n",
       "      <th>max</th>\n",
       "      <td>-38.00000</td>\n",
       "      <td>-37.00000</td>\n",
       "      <td>-38.000000</td>\n",
       "      <td>-37.000000</td>\n",
       "    </tr>\n",
       "  </tbody>\n",
       "</table>\n",
       "</div>"
      ],
      "text/plain": [
       "             100        60          20          0  \n",
       "count   50.00000   50.00000   50.000000   50.000000\n",
       "mean   -56.32000  -51.88000  -60.280000  -57.260000\n",
       "std     37.59366   21.33182   39.457567   37.887486\n",
       "min   -200.00000 -174.00000 -200.000000 -200.000000\n",
       "25%    -50.75000  -53.50000  -57.250000  -52.750000\n",
       "50%    -45.00000  -46.00000  -46.500000  -45.500000\n",
       "75%    -42.00000  -43.00000  -44.000000  -42.000000\n",
       "max    -38.00000  -37.00000  -38.000000  -37.000000"
      ]
     },
     "execution_count": 10,
     "metadata": {},
     "output_type": "execute_result"
    }
   ],
   "source": [
    "pd.DataFrame(cum_rewards).describe()"
   ]
  },
  {
   "cell_type": "markdown",
   "metadata": {},
   "source": [
    "## evaluate mean differences between K values"
   ]
  },
  {
   "cell_type": "code",
   "execution_count": null,
   "metadata": {},
   "outputs": [
    {
     "name": "stdout",
     "output_type": "stream",
     "text": [
      "K = 20\n",
      "Ttest_indResult(statistic=0.39037764148960985, pvalue=0.6971059670652483)\n",
      "Not significant\n",
      "------------\n",
      "K = 60\n",
      "Ttest_indResult(statistic=-0.8749394510701033, pvalue=0.384319779513428)\n",
      "Not significant\n",
      "------------\n",
      "K = 100\n",
      "Ttest_indResult(statistic=-0.12453346602367504, pvalue=0.9011480072766609)\n",
      "Not significant\n",
      "------------\n"
     ]
    }
   ],
   "source": [
    "test_baseline = 0\n",
    "test_kvals = [20, 60, 100]\n",
    "\n",
    "for k in test_kvals:\n",
    "    print(f\"K = {k}\")\n",
    "    res = stats.ttest_ind(cum_rewards[test_baseline], cum_rewards[k], equal_var=False)\n",
    "    print(res)\n",
    "    if res.pvalue < 0.05:\n",
    "        print(\"Significant\")\n",
    "    else:\n",
    "        print(\"Not significant\")\n",
    "\n",
    "    print(\"---\" * 4)"
   ]
  },
  {
   "cell_type": "markdown",
   "metadata": {},
   "source": [
    "# Evaluate on test data"
   ]
  },
  {
   "cell_type": "code",
   "execution_count": null,
   "metadata": {},
   "outputs": [],
   "source": [
    "# load test data for CleanupSingle-v0\n",
    "# load test data\n",
    "import os\n",
    "\n",
    "with open(os.path.join(\"idil_train\", \"test_data\", \"CleanupSingle-v0_50-TEST.pkl\"), \"rb\") as f:\n",
    "    test_data = pkl.load(f)"
   ]
  },
  {
   "cell_type": "code",
   "execution_count": null,
   "metadata": {},
   "outputs": [
    {
     "name": "stderr",
     "output_type": "stream",
     "text": [
      "50it [00:08,  5.83it/s]\n"
     ]
    }
   ],
   "source": [
    "accs_by_k = nb_utils.compute_accuracy_by_kval(test_data=test_data, agents=agents)"
   ]
  },
  {
   "cell_type": "code",
   "execution_count": null,
   "metadata": {},
   "outputs": [
    {
     "data": {
      "image/png": "[encoded data removed]",
      "text/plain": [
       "<Figure size 640x480 with 1 Axes>"
      ]
     },
     "metadata": {},
     "output_type": "display_data"
    }
   ],
   "source": [
    "nb_utils.plot_sequence_accuracy_boxplot(accs_by_k)"
   ]
  },
  {
   "cell_type": "code",
   "execution_count": null,
   "metadata": {},
   "outputs": [
    {
     "data": {
      "text/html": [
       "<div>\n",
       "<style scoped>\n",
       "    .dataframe tbody tr th:only-of-type {\n",
       "        vertical-align: middle;\n",
       "    }\n",
       "\n",
       "    .dataframe tbody tr th {\n",
       "        vertical-align: top;\n",
       "    }\n",
       "\n",
       "    .dataframe thead th {\n",
       "        text-align: right;\n",
       "    }\n",
       "</style>\n",
       "<table border=\"1\" class=\"dataframe\">\n",
       "  <thead>\n",
       "    <tr style=\"text-align: right;\">\n",
       "      <th></th>\n",
       "      <th>100</th>\n",
       "      <th>60</th>\n",
       "      <th>20</th>\n",
       "      <th>0</th>\n",
       "    </tr>\n",
       "  </thead>\n",
       "  <tbody>\n",
       "    <tr>\n",
       "      <th>count</th>\n",
       "      <td>250.000000</td>\n",
       "      <td>250.000000</td>\n",
       "      <td>250.000000</td>\n",
       "      <td>250.000000</td>\n",
       "    </tr>\n",
       "    <tr>\n",
       "      <th>mean</th>\n",
       "      <td>0.960407</td>\n",
       "      <td>0.952086</td>\n",
       "      <td>0.957714</td>\n",
       "      <td>0.929977</td>\n",
       "    </tr>\n",
       "    <tr>\n",
       "      <th>std</th>\n",
       "      <td>0.063340</td>\n",
       "      <td>0.063372</td>\n",
       "      <td>0.064906</td>\n",
       "      <td>0.096606</td>\n",
       "    </tr>\n",
       "    <tr>\n",
       "      <th>min</th>\n",
       "      <td>0.672131</td>\n",
       "      <td>0.673077</td>\n",
       "      <td>0.673077</td>\n",
       "      <td>0.568966</td>\n",
       "    </tr>\n",
       "    <tr>\n",
       "      <th>25%</th>\n",
       "      <td>0.938776</td>\n",
       "      <td>0.923077</td>\n",
       "      <td>0.933333</td>\n",
       "      <td>0.877675</td>\n",
       "    </tr>\n",
       "    <tr>\n",
       "      <th>50%</th>\n",
       "      <td>0.991525</td>\n",
       "      <td>0.978723</td>\n",
       "      <td>1.000000</td>\n",
       "      <td>0.979158</td>\n",
       "    </tr>\n",
       "    <tr>\n",
       "      <th>75%</th>\n",
       "      <td>1.000000</td>\n",
       "      <td>1.000000</td>\n",
       "      <td>1.000000</td>\n",
       "      <td>1.000000</td>\n",
       "    </tr>\n",
       "    <tr>\n",
       "      <th>max</th>\n",
       "      <td>1.000000</td>\n",
       "      <td>1.000000</td>\n",
       "      <td>1.000000</td>\n",
       "      <td>1.000000</td>\n",
       "    </tr>\n",
       "  </tbody>\n",
       "</table>\n",
       "</div>"
      ],
      "text/plain": [
       "              100         60          20          0  \n",
       "count  250.000000  250.000000  250.000000  250.000000\n",
       "mean     0.960407    0.952086    0.957714    0.929977\n",
       "std      0.063340    0.063372    0.064906    0.096606\n",
       "min      0.672131    0.673077    0.673077    0.568966\n",
       "25%      0.938776    0.923077    0.933333    0.877675\n",
       "50%      0.991525    0.978723    1.000000    0.979158\n",
       "75%      1.000000    1.000000    1.000000    1.000000\n",
       "max      1.000000    1.000000    1.000000    1.000000"
      ]
     },
     "execution_count": 15,
     "metadata": {},
     "output_type": "execute_result"
    }
   ],
   "source": [
    "pd.DataFrame(accs_by_k).describe()"
   ]
  },
  {
   "cell_type": "code",
   "execution_count": null,
   "metadata": {},
   "outputs": [
    {
     "name": "stdout",
     "output_type": "stream",
     "text": [
      "K = 20\n",
      "Ttest_indResult(statistic=-3.768063001800442, pvalue=0.0001871487489721436)\n",
      "Significant\n",
      "------------\n",
      "K = 60\n",
      "Ttest_indResult(statistic=-3.0255954716295084, pvalue=0.0026304068846197443)\n",
      "Significant\n",
      "------------\n",
      "K = 100\n",
      "Ttest_indResult(statistic=-4.164914286630631, pvalue=3.7660245210506694e-05)\n",
      "Significant\n",
      "------------\n"
     ]
    }
   ],
   "source": [
    "test_baseline = 0\n",
    "test_kvals = [20, 60, 100]\n",
    "\n",
    "for k in test_kvals:\n",
    "    print(f\"K = {k}\")\n",
    "    res = stats.ttest_ind(accs_by_k[test_baseline], accs_by_k[k], equal_var=False)\n",
    "    print(res)\n",
    "    if res.pvalue < 0.05:\n",
    "        print(\"Significant\")\n",
    "    else:\n",
    "        print(\"Not significant\")\n",
    "\n",
    "    print(\"---\" * 4)"
   ]
  },
  {
   "cell_type": "markdown",
   "metadata": {},
   "source": [
    "# Evaluate `fixed_pi` models"
   ]
  },
  {
   "cell_type": "code",
   "execution_count": 17,
   "metadata": {},
   "outputs": [],
   "source": [
    "RUNS = [\n",
    "\"es-100-01J50HYWVA9B1VKTJ3Z1Q59ZG9-synth_extra_trajs-fixedpi-0810\",\n",
    "\"es-100-01J50FYKH42PXN6JGMP4PV3Z9W-synth_extra_trajs-fixedpi-0810\",\n",
    "\"es-100-01J50DYTWZ1D3Q4PFKE6VHN54M-synth_extra_trajs-fixedpi-0810\",\n",
    "\"es-100-01J50BZ12TGCPCAFBGQD3DAH9A-synth_extra_trajs-fixedpi-0810\",\n",
    "\"es-100-01J50A0HH3JC5EB39KEAKF61QR-synth_extra_trajs-fixedpi-0810\",\n",
    "\"es-60-01J5081T4SPE48MV40K1W3495A-synth_extra_trajs-fixedpi-0810\",\n",
    "\"es-60-01J5063CG8MZMTKJYDP9C7K7AW-synth_extra_trajs-fixedpi-0810\",\n",
    "\"es-60-01J50441MDA9JSTSETH5AGNEBW-synth_extra_trajs-fixedpi-0810\",\n",
    "\"es-60-01J5025B59AQHG6VXN5BZDFCW1-synth_extra_trajs-fixedpi-0810\",\n",
    "\"es-60-01J5005X7E5HSTPSJ4K7S38Z3J-synth_extra_trajs-fixedpi-0810\",\n",
    "\"es-20-01J4ZY79P0D0WKME7MEKMSNZFE-synth_extra_trajs-fixedpi-0810\",\n",
    "\"es-20-01J4ZW7YQ0GEQSF4C0K3JS29TW-synth_extra_trajs-fixedpi-0810\",\n",
    "\"es-20-01J4ZT8FSGZNZM5FA64DR61W8R-synth_extra_trajs-fixedpi-0810\",\n",
    "\"es-20-01J4ZR9R661ATZJRNBHM3EFTW1-synth_extra_trajs-fixedpi-0810\",\n",
    "\"es-20-01J4ZPAF1W7FSYYZ4YPC74PSRR-synth_extra_trajs-fixedpi-0810\",\n",
    "\"es-0-01J4ZMCF4YE5GYMVG3XBAWZ70A-synth_extra_trajs-fixedpi-0810\",\n",
    "\"es-0-01J4ZJE2CRGHDXKR5MEF0M709G-synth_extra_trajs-fixedpi-0810\",\n",
    "\"es-0-01J4ZGE3N4HV2XMP9NEY8B3A7X-synth_extra_trajs-fixedpi-0810\",\n",
    "\"es-0-01J4ZEE268ZTT50GR19M68JQNC-synth_extra_trajs-fixedpi-0810\",\n",
    "\"es-0-01J4ZCDQKQ0GMHVGPWB3041F4E-synth_extra_trajs-fixedpi-0810\",\n",
    "]"
   ]
  },
  {
   "cell_type": "code",
   "execution_count": 18,
   "metadata": {},
   "outputs": [],
   "source": [
    "from idil_algs.baselines.IQLearn.dataset.expert_dataset import ExpertDataset\n",
    "import os\n",
    "\n",
    "expert_dataset = ExpertDataset(os.path.join(\"idil_train\",\"extra_trajectories/CleanupSingle-v0_500-EXPERT-DIST.pkl\"))"
   ]
  },
  {
   "cell_type": "code",
   "execution_count": 19,
   "metadata": {},
   "outputs": [
    {
     "data": {
      "text/plain": [
       "<module 'utils' from '/home/juanhevia/IDIL/notebooks/utils.py'>"
      ]
     },
     "execution_count": 19,
     "metadata": {},
     "output_type": "execute_result"
    }
   ],
   "source": [
    "importlib.reload(nb_utils)"
   ]
  },
  {
   "cell_type": "code",
   "execution_count": 20,
   "metadata": {},
   "outputs": [
    {
     "data": {
      "text/plain": [
       "<module 'generate_trajectories' from '/home/juanhevia/IDIL/notebooks/generate_trajectories.py'>"
      ]
     },
     "execution_count": 20,
     "metadata": {},
     "output_type": "execute_result"
    }
   ],
   "source": [
    "importlib.reload(traj_utils)"
   ]
  },
  {
   "cell_type": "code",
   "execution_count": 21,
   "metadata": {},
   "outputs": [
    {
     "name": "stdout",
     "output_type": "stream",
     "text": [
      "Loading models from ./idil_train/result/CleanupSingle-v0/idil/es-100-01J50HYWVA9B1VKTJ3Z1Q59ZG9-synth_extra_trajs-fixedpi-0810/2024-08-11_06-07-47/model/iq_CleanupSingle-v0_n70_l70_best_tx\n",
      "Loading models from ./idil_train/result/CleanupSingle-v0/idil/es-100-01J50FYKH42PXN6JGMP4PV3Z9W-synth_extra_trajs-fixedpi-0810/2024-08-11_05-32-41/model/iq_CleanupSingle-v0_n70_l70_best_tx\n",
      "Loading models from ./idil_train/result/CleanupSingle-v0/idil/es-100-01J50DYTWZ1D3Q4PFKE6VHN54M-synth_extra_trajs-fixedpi-0810/2024-08-11_04-57-51/model/iq_CleanupSingle-v0_n70_l70_best_tx\n",
      "Loading models from ./idil_train/result/CleanupSingle-v0/idil/es-100-01J50BZ12TGCPCAFBGQD3DAH9A-synth_extra_trajs-fixedpi-0810/2024-08-11_04-23-00/model/iq_CleanupSingle-v0_n70_l70_best_tx\n",
      "Loading models from ./idil_train/result/CleanupSingle-v0/idil/es-100-01J50A0HH3JC5EB39KEAKF61QR-synth_extra_trajs-fixedpi-0810/2024-08-11_03-48-53/model/iq_CleanupSingle-v0_n70_l70_best_tx\n",
      "Loading models from ./idil_train/result/CleanupSingle-v0/idil/es-60-01J5081T4SPE48MV40K1W3495A-synth_extra_trajs-fixedpi-0810/2024-08-11_03-14-37/model/iq_CleanupSingle-v0_n70_l70_best_tx\n",
      "Loading models from ./idil_train/result/CleanupSingle-v0/idil/es-60-01J5063CG8MZMTKJYDP9C7K7AW-synth_extra_trajs-fixedpi-0810/2024-08-11_02-40-32/model/iq_CleanupSingle-v0_n70_l70_best_tx\n",
      "Loading models from ./idil_train/result/CleanupSingle-v0/idil/es-60-01J50441MDA9JSTSETH5AGNEBW-synth_extra_trajs-fixedpi-0810/2024-08-11_02-05-56/model/iq_CleanupSingle-v0_n70_l70_best_tx\n",
      "Loading models from ./idil_train/result/CleanupSingle-v0/idil/es-60-01J5025B59AQHG6VXN5BZDFCW1-synth_extra_trajs-fixedpi-0810/2024-08-11_01-31-41/model/iq_CleanupSingle-v0_n70_l70_best_tx\n",
      "Loading models from ./idil_train/result/CleanupSingle-v0/idil/es-60-01J5005X7E5HSTPSJ4K7S38Z3J-synth_extra_trajs-fixedpi-0810/2024-08-11_00-57-03/model/iq_CleanupSingle-v0_n70_l70_best_tx\n",
      "Loading models from ./idil_train/result/CleanupSingle-v0/idil/es-20-01J4ZY79P0D0WKME7MEKMSNZFE-synth_extra_trajs-fixedpi-0810/2024-08-11_00-22-51/model/iq_CleanupSingle-v0_n70_l70_best_tx\n",
      "Loading models from ./idil_train/result/CleanupSingle-v0/idil/es-20-01J4ZW7YQ0GEQSF4C0K3JS29TW-synth_extra_trajs-fixedpi-0810/2024-08-10_23-48-16/model/iq_CleanupSingle-v0_n70_l70_best_tx\n",
      "Loading models from ./idil_train/result/CleanupSingle-v0/idil/es-20-01J4ZT8FSGZNZM5FA64DR61W8R-synth_extra_trajs-fixedpi-0810/2024-08-10_23-13-36/model/iq_CleanupSingle-v0_n70_l70_best_tx\n",
      "Loading models from ./idil_train/result/CleanupSingle-v0/idil/es-20-01J4ZR9R661ATZJRNBHM3EFTW1-synth_extra_trajs-fixedpi-0810/2024-08-10_22-39-20/model/iq_CleanupSingle-v0_n70_l70_best_tx\n",
      "Loading models from ./idil_train/result/CleanupSingle-v0/idil/es-20-01J4ZPAF1W7FSYYZ4YPC74PSRR-synth_extra_trajs-fixedpi-0810/2024-08-10_22-04-46/model/iq_CleanupSingle-v0_n70_l70_best_tx\n",
      "Loading models from ./idil_train/result/CleanupSingle-v0/idil/es-0-01J4ZMCF4YE5GYMVG3XBAWZ70A-synth_extra_trajs-fixedpi-0810/2024-08-10_21-30-55/model/iq_CleanupSingle-v0_n70_l70_best_tx\n",
      "Loading models from ./idil_train/result/CleanupSingle-v0/idil/es-0-01J4ZJE2CRGHDXKR5MEF0M709G-synth_extra_trajs-fixedpi-0810/2024-08-10_20-56-50/model/iq_CleanupSingle-v0_n70_l70_best_tx\n",
      "Loading models from ./idil_train/result/CleanupSingle-v0/idil/es-0-01J4ZGE3N4HV2XMP9NEY8B3A7X-synth_extra_trajs-fixedpi-0810/2024-08-10_20-21-54/model/iq_CleanupSingle-v0_n70_l70_best_tx\n",
      "Loading models from ./idil_train/result/CleanupSingle-v0/idil/es-0-01J4ZEE268ZTT50GR19M68JQNC-synth_extra_trajs-fixedpi-0810/2024-08-10_19-46-56/model/iq_CleanupSingle-v0_n70_l70_best_tx\n",
      "Loading models from ./idil_train/result/CleanupSingle-v0/idil/es-0-01J4ZCDQKQ0GMHVGPWB3041F4E-synth_extra_trajs-fixedpi-0810/2024-08-10_19-11-48/model/iq_CleanupSingle-v0_n70_l70_best_tx\n"
     ]
    },
    {
     "name": "stderr",
     "output_type": "stream",
     "text": [
      "  0%|          | 0/20 [00:00<?, ?it/s]"
     ]
    },
    {
     "name": "stdout",
     "output_type": "stream",
     "text": [
      "Loading models from ./idil_train/result/CleanupSingle-v0/idil/es-100-01J50HYWVA9B1VKTJ3Z1Q59ZG9-synth_extra_trajs-fixedpi-0810/2024-08-11_06-07-47/model/iq_CleanupSingle-v0_n70_l70_best_tx\n"
     ]
    },
    {
     "name": "stderr",
     "output_type": "stream",
     "text": [
      "100%|██████████| 10/10 [00:05<00:00,  2.00it/s]\n",
      "  5%|▌         | 1/20 [00:05<01:36,  5.07s/it]"
     ]
    },
    {
     "name": "stdout",
     "output_type": "stream",
     "text": [
      "Loading models from ./idil_train/result/CleanupSingle-v0/idil/es-100-01J50FYKH42PXN6JGMP4PV3Z9W-synth_extra_trajs-fixedpi-0810/2024-08-11_05-32-41/model/iq_CleanupSingle-v0_n70_l70_best_tx\n"
     ]
    },
    {
     "name": "stderr",
     "output_type": "stream",
     "text": [
      "100%|██████████| 10/10 [00:05<00:00,  2.00it/s]\n",
      " 10%|█         | 2/20 [00:10<01:31,  5.07s/it]"
     ]
    },
    {
     "name": "stdout",
     "output_type": "stream",
     "text": [
      "Loading models from ./idil_train/result/CleanupSingle-v0/idil/es-100-01J50DYTWZ1D3Q4PFKE6VHN54M-synth_extra_trajs-fixedpi-0810/2024-08-11_04-57-51/model/iq_CleanupSingle-v0_n70_l70_best_tx\n"
     ]
    },
    {
     "name": "stderr",
     "output_type": "stream",
     "text": [
      "100%|██████████| 10/10 [00:04<00:00,  2.01it/s]\n",
      " 15%|█▌        | 3/20 [00:15<01:25,  5.05s/it]"
     ]
    },
    {
     "name": "stdout",
     "output_type": "stream",
     "text": [
      "Loading models from ./idil_train/result/CleanupSingle-v0/idil/es-100-01J50BZ12TGCPCAFBGQD3DAH9A-synth_extra_trajs-fixedpi-0810/2024-08-11_04-23-00/model/iq_CleanupSingle-v0_n70_l70_best_tx\n"
     ]
    },
    {
     "name": "stderr",
     "output_type": "stream",
     "text": [
      "100%|██████████| 10/10 [00:05<00:00,  1.98it/s]\n",
      " 20%|██        | 4/20 [00:20<01:21,  5.07s/it]"
     ]
    },
    {
     "name": "stdout",
     "output_type": "stream",
     "text": [
      "Loading models from ./idil_train/result/CleanupSingle-v0/idil/es-100-01J50A0HH3JC5EB39KEAKF61QR-synth_extra_trajs-fixedpi-0810/2024-08-11_03-48-53/model/iq_CleanupSingle-v0_n70_l70_best_tx\n"
     ]
    },
    {
     "name": "stderr",
     "output_type": "stream",
     "text": [
      "100%|██████████| 10/10 [00:04<00:00,  2.00it/s]\n",
      " 25%|██▌       | 5/20 [00:25<01:15,  5.06s/it]"
     ]
    },
    {
     "name": "stdout",
     "output_type": "stream",
     "text": [
      "Loading models from ./idil_train/result/CleanupSingle-v0/idil/es-60-01J5081T4SPE48MV40K1W3495A-synth_extra_trajs-fixedpi-0810/2024-08-11_03-14-37/model/iq_CleanupSingle-v0_n70_l70_best_tx\n"
     ]
    },
    {
     "name": "stderr",
     "output_type": "stream",
     "text": [
      "100%|██████████| 10/10 [00:05<00:00,  2.00it/s]\n",
      " 30%|███       | 6/20 [00:30<01:10,  5.06s/it]"
     ]
    },
    {
     "name": "stdout",
     "output_type": "stream",
     "text": [
      "Loading models from ./idil_train/result/CleanupSingle-v0/idil/es-60-01J5063CG8MZMTKJYDP9C7K7AW-synth_extra_trajs-fixedpi-0810/2024-08-11_02-40-32/model/iq_CleanupSingle-v0_n70_l70_best_tx\n"
     ]
    },
    {
     "name": "stderr",
     "output_type": "stream",
     "text": [
      "100%|██████████| 10/10 [00:05<00:00,  1.99it/s]\n",
      " 35%|███▌      | 7/20 [00:35<01:05,  5.07s/it]"
     ]
    },
    {
     "name": "stdout",
     "output_type": "stream",
     "text": [
      "Loading models from ./idil_train/result/CleanupSingle-v0/idil/es-60-01J50441MDA9JSTSETH5AGNEBW-synth_extra_trajs-fixedpi-0810/2024-08-11_02-05-56/model/iq_CleanupSingle-v0_n70_l70_best_tx\n"
     ]
    },
    {
     "name": "stderr",
     "output_type": "stream",
     "text": [
      "100%|██████████| 10/10 [00:04<00:00,  2.01it/s]\n",
      " 40%|████      | 8/20 [00:40<01:00,  5.06s/it]"
     ]
    },
    {
     "name": "stdout",
     "output_type": "stream",
     "text": [
      "Loading models from ./idil_train/result/CleanupSingle-v0/idil/es-60-01J5025B59AQHG6VXN5BZDFCW1-synth_extra_trajs-fixedpi-0810/2024-08-11_01-31-41/model/iq_CleanupSingle-v0_n70_l70_best_tx\n"
     ]
    },
    {
     "name": "stderr",
     "output_type": "stream",
     "text": [
      "100%|██████████| 10/10 [00:04<00:00,  2.01it/s]\n",
      " 45%|████▌     | 9/20 [00:45<00:55,  5.05s/it]"
     ]
    },
    {
     "name": "stdout",
     "output_type": "stream",
     "text": [
      "Loading models from ./idil_train/result/CleanupSingle-v0/idil/es-60-01J5005X7E5HSTPSJ4K7S38Z3J-synth_extra_trajs-fixedpi-0810/2024-08-11_00-57-03/model/iq_CleanupSingle-v0_n70_l70_best_tx\n"
     ]
    },
    {
     "name": "stderr",
     "output_type": "stream",
     "text": [
      "100%|██████████| 10/10 [00:04<00:00,  2.01it/s]\n",
      " 50%|█████     | 10/20 [00:50<00:50,  5.04s/it]"
     ]
    },
    {
     "name": "stdout",
     "output_type": "stream",
     "text": [
      "Loading models from ./idil_train/result/CleanupSingle-v0/idil/es-20-01J4ZY79P0D0WKME7MEKMSNZFE-synth_extra_trajs-fixedpi-0810/2024-08-11_00-22-51/model/iq_CleanupSingle-v0_n70_l70_best_tx\n"
     ]
    },
    {
     "name": "stderr",
     "output_type": "stream",
     "text": [
      "100%|██████████| 10/10 [00:04<00:00,  2.01it/s]\n",
      " 55%|█████▌    | 11/20 [00:55<00:45,  5.04s/it]"
     ]
    },
    {
     "name": "stdout",
     "output_type": "stream",
     "text": [
      "Loading models from ./idil_train/result/CleanupSingle-v0/idil/es-20-01J4ZW7YQ0GEQSF4C0K3JS29TW-synth_extra_trajs-fixedpi-0810/2024-08-10_23-48-16/model/iq_CleanupSingle-v0_n70_l70_best_tx\n"
     ]
    },
    {
     "name": "stderr",
     "output_type": "stream",
     "text": [
      "100%|██████████| 10/10 [00:04<00:00,  2.01it/s]\n",
      " 60%|██████    | 12/20 [01:00<00:40,  5.04s/it]"
     ]
    },
    {
     "name": "stdout",
     "output_type": "stream",
     "text": [
      "Loading models from ./idil_train/result/CleanupSingle-v0/idil/es-20-01J4ZT8FSGZNZM5FA64DR61W8R-synth_extra_trajs-fixedpi-0810/2024-08-10_23-13-36/model/iq_CleanupSingle-v0_n70_l70_best_tx\n"
     ]
    },
    {
     "name": "stderr",
     "output_type": "stream",
     "text": [
      "100%|██████████| 10/10 [00:04<00:00,  2.00it/s]\n",
      " 65%|██████▌   | 13/20 [01:05<00:35,  5.04s/it]"
     ]
    },
    {
     "name": "stdout",
     "output_type": "stream",
     "text": [
      "Loading models from ./idil_train/result/CleanupSingle-v0/idil/es-20-01J4ZR9R661ATZJRNBHM3EFTW1-synth_extra_trajs-fixedpi-0810/2024-08-10_22-39-20/model/iq_CleanupSingle-v0_n70_l70_best_tx\n"
     ]
    },
    {
     "name": "stderr",
     "output_type": "stream",
     "text": [
      "100%|██████████| 10/10 [00:04<00:00,  2.00it/s]\n",
      " 70%|███████   | 14/20 [01:10<00:30,  5.04s/it]"
     ]
    },
    {
     "name": "stdout",
     "output_type": "stream",
     "text": [
      "Loading models from ./idil_train/result/CleanupSingle-v0/idil/es-20-01J4ZPAF1W7FSYYZ4YPC74PSRR-synth_extra_trajs-fixedpi-0810/2024-08-10_22-04-46/model/iq_CleanupSingle-v0_n70_l70_best_tx\n"
     ]
    },
    {
     "name": "stderr",
     "output_type": "stream",
     "text": [
      "100%|██████████| 10/10 [00:04<00:00,  2.00it/s]\n",
      " 75%|███████▌  | 15/20 [01:15<00:25,  5.04s/it]"
     ]
    },
    {
     "name": "stdout",
     "output_type": "stream",
     "text": [
      "Loading models from ./idil_train/result/CleanupSingle-v0/idil/es-0-01J4ZMCF4YE5GYMVG3XBAWZ70A-synth_extra_trajs-fixedpi-0810/2024-08-10_21-30-55/model/iq_CleanupSingle-v0_n70_l70_best_tx\n"
     ]
    },
    {
     "name": "stderr",
     "output_type": "stream",
     "text": [
      "100%|██████████| 10/10 [00:04<00:00,  2.01it/s]\n",
      " 80%|████████  | 16/20 [01:20<00:20,  5.04s/it]"
     ]
    },
    {
     "name": "stdout",
     "output_type": "stream",
     "text": [
      "Loading models from ./idil_train/result/CleanupSingle-v0/idil/es-0-01J4ZJE2CRGHDXKR5MEF0M709G-synth_extra_trajs-fixedpi-0810/2024-08-10_20-56-50/model/iq_CleanupSingle-v0_n70_l70_best_tx\n"
     ]
    },
    {
     "name": "stderr",
     "output_type": "stream",
     "text": [
      "100%|██████████| 10/10 [00:04<00:00,  2.01it/s]\n",
      " 85%|████████▌ | 17/20 [01:25<00:15,  5.04s/it]"
     ]
    },
    {
     "name": "stdout",
     "output_type": "stream",
     "text": [
      "Loading models from ./idil_train/result/CleanupSingle-v0/idil/es-0-01J4ZGE3N4HV2XMP9NEY8B3A7X-synth_extra_trajs-fixedpi-0810/2024-08-10_20-21-54/model/iq_CleanupSingle-v0_n70_l70_best_tx\n"
     ]
    },
    {
     "name": "stderr",
     "output_type": "stream",
     "text": [
      "100%|██████████| 10/10 [00:05<00:00,  2.00it/s]\n",
      " 90%|█████████ | 18/20 [01:30<00:10,  5.05s/it]"
     ]
    },
    {
     "name": "stdout",
     "output_type": "stream",
     "text": [
      "Loading models from ./idil_train/result/CleanupSingle-v0/idil/es-0-01J4ZEE268ZTT50GR19M68JQNC-synth_extra_trajs-fixedpi-0810/2024-08-10_19-46-56/model/iq_CleanupSingle-v0_n70_l70_best_tx\n"
     ]
    },
    {
     "name": "stderr",
     "output_type": "stream",
     "text": [
      "100%|██████████| 10/10 [00:05<00:00,  2.00it/s]\n",
      " 95%|█████████▌| 19/20 [01:35<00:05,  5.05s/it]"
     ]
    },
    {
     "name": "stdout",
     "output_type": "stream",
     "text": [
      "Loading models from ./idil_train/result/CleanupSingle-v0/idil/es-0-01J4ZCDQKQ0GMHVGPWB3041F4E-synth_extra_trajs-fixedpi-0810/2024-08-10_19-11-48/model/iq_CleanupSingle-v0_n70_l70_best_tx\n"
     ]
    },
    {
     "name": "stderr",
     "output_type": "stream",
     "text": [
      "100%|██████████| 10/10 [00:05<00:00,  1.98it/s]\n",
      "100%|██████████| 20/20 [01:41<00:00,  5.05s/it]\n"
     ]
    }
   ],
   "source": [
    "agents_fixed_pi = nb_utils.get_trained_models(runs=RUNS, env_name=ENV_NAME, \n",
    "                                              load_micro=False, expert_dataset=expert_dataset)\n",
    "trajectories_fixed_pi = nb_utils.get_agent_trajectories(runs=RUNS, env_name=ENV_NAME, num_trajectories=10, \n",
    "                                                        load_micro=False, expert_dataset=expert_dataset)"
   ]
  },
  {
   "cell_type": "code",
   "execution_count": 63,
   "metadata": {},
   "outputs": [
    {
     "name": "stdout",
     "output_type": "stream",
     "text": [
      "There are 4 kvals\n",
      "Each kval has 50 cum_rewards, matching the 5 x 10 trajectories generated for each agent (using key = 100)\n"
     ]
    },
    {
     "data": {
      "image/png": "[encoded data removed]",
      "text/plain": [
       "<Figure size 640x480 with 1 Axes>"
      ]
     },
     "metadata": {},
     "output_type": "display_data"
    }
   ],
   "source": [
    "cum_rewards_fixed_pi = nb_utils.get_cumulative_rewards(trajectories_fixed_pi, agents_fixed_pi)\n",
    "nb_utils.plot_cum_rewards(cum_rewards_fixed_pi)\n",
    "# plt.gca().set_ylim([-100, -10])"
   ]
  },
  {
   "cell_type": "code",
   "execution_count": 67,
   "metadata": {},
   "outputs": [
    {
     "data": {
      "text/plain": [
       "[-1,\n",
       " -1,\n",
       " -1,\n",
       " -1,\n",
       " -1,\n",
       " -1,\n",
       " -1,\n",
       " -1,\n",
       " -1,\n",
       " -1,\n",
       " -1,\n",
       " -1,\n",
       " -1,\n",
       " -1,\n",
       " -1,\n",
       " -1,\n",
       " -1,\n",
       " -1,\n",
       " -1,\n",
       " -1,\n",
       " -1,\n",
       " -1,\n",
       " -1,\n",
       " -1,\n",
       " -1,\n",
       " -1,\n",
       " -1,\n",
       " -1,\n",
       " -1,\n",
       " -1,\n",
       " -1,\n",
       " -1,\n",
       " -1,\n",
       " -1,\n",
       " -1,\n",
       " -1,\n",
       " -1,\n",
       " -1,\n",
       " -1,\n",
       " -1,\n",
       " -1,\n",
       " -1,\n",
       " -1,\n",
       " -1,\n",
       " -1,\n",
       " -1,\n",
       " -1,\n",
       " -1,\n",
       " -1,\n",
       " -1,\n",
       " -1,\n",
       " -1,\n",
       " -1,\n",
       " -1,\n",
       " -1,\n",
       " -1,\n",
       " -1,\n",
       " -1,\n",
       " -1,\n",
       " -1,\n",
       " -1,\n",
       " -1,\n",
       " -1,\n",
       " -1,\n",
       " -1,\n",
       " -1,\n",
       " -1,\n",
       " -1,\n",
       " -1,\n",
       " -1,\n",
       " -1,\n",
       " -1,\n",
       " -1,\n",
       " -1,\n",
       " -1,\n",
       " -1,\n",
       " -1,\n",
       " -1,\n",
       " -1,\n",
       " -1,\n",
       " -1,\n",
       " -1,\n",
       " -1,\n",
       " -1,\n",
       " -1,\n",
       " -1,\n",
       " -1,\n",
       " -1,\n",
       " -1,\n",
       " -1,\n",
       " -1,\n",
       " -1,\n",
       " -1,\n",
       " -1,\n",
       " -1,\n",
       " -1,\n",
       " -1,\n",
       " -1,\n",
       " -1,\n",
       " -1,\n",
       " -1,\n",
       " -1,\n",
       " -1,\n",
       " -1,\n",
       " -1,\n",
       " -1,\n",
       " -1,\n",
       " -1,\n",
       " -1,\n",
       " -1,\n",
       " -1,\n",
       " -1,\n",
       " -1,\n",
       " -1,\n",
       " -1,\n",
       " -1,\n",
       " -1,\n",
       " -1,\n",
       " -1,\n",
       " -1,\n",
       " -1,\n",
       " -1,\n",
       " -1,\n",
       " -1,\n",
       " -1,\n",
       " -1,\n",
       " -1,\n",
       " -1,\n",
       " -1,\n",
       " -1,\n",
       " -1,\n",
       " -1,\n",
       " -1,\n",
       " -1,\n",
       " -1,\n",
       " -1,\n",
       " -1,\n",
       " -1,\n",
       " -1,\n",
       " -1,\n",
       " -1,\n",
       " -1,\n",
       " -1,\n",
       " -1,\n",
       " -1,\n",
       " -1,\n",
       " -1,\n",
       " -1,\n",
       " -1,\n",
       " -1,\n",
       " -1,\n",
       " -1,\n",
       " -1,\n",
       " -1,\n",
       " -1,\n",
       " -1,\n",
       " -1,\n",
       " -1,\n",
       " -1,\n",
       " -1,\n",
       " -1,\n",
       " -1,\n",
       " -1,\n",
       " -1,\n",
       " -1,\n",
       " -1,\n",
       " -1,\n",
       " -1,\n",
       " -1,\n",
       " -1,\n",
       " -1,\n",
       " -1,\n",
       " -1,\n",
       " -1,\n",
       " -1,\n",
       " -1,\n",
       " -1,\n",
       " -1,\n",
       " -1,\n",
       " -1,\n",
       " -1,\n",
       " -1,\n",
       " -1,\n",
       " -1,\n",
       " -1,\n",
       " -1,\n",
       " -1,\n",
       " -1,\n",
       " -1,\n",
       " -1,\n",
       " -1,\n",
       " -1,\n",
       " -1,\n",
       " -1,\n",
       " -1,\n",
       " -1,\n",
       " -1,\n",
       " -1,\n",
       " -1,\n",
       " -1]"
      ]
     },
     "execution_count": 67,
     "metadata": {},
     "output_type": "execute_result"
    }
   ],
   "source": [
    "trajectories_fixed_pi[0][0]['rewards'][0]"
   ]
  },
  {
   "cell_type": "code",
   "execution_count": 60,
   "metadata": {},
   "outputs": [
    {
     "data": {
      "text/html": [
       "<div>\n",
       "<style scoped>\n",
       "    .dataframe tbody tr th:only-of-type {\n",
       "        vertical-align: middle;\n",
       "    }\n",
       "\n",
       "    .dataframe tbody tr th {\n",
       "        vertical-align: top;\n",
       "    }\n",
       "\n",
       "    .dataframe thead th {\n",
       "        text-align: right;\n",
       "    }\n",
       "</style>\n",
       "<table border=\"1\" class=\"dataframe\">\n",
       "  <thead>\n",
       "    <tr style=\"text-align: right;\">\n",
       "      <th></th>\n",
       "      <th>100</th>\n",
       "      <th>60</th>\n",
       "      <th>20</th>\n",
       "      <th>0</th>\n",
       "    </tr>\n",
       "  </thead>\n",
       "  <tbody>\n",
       "    <tr>\n",
       "      <th>count</th>\n",
       "      <td>50.0</td>\n",
       "      <td>50.0</td>\n",
       "      <td>50.0</td>\n",
       "      <td>50.0</td>\n",
       "    </tr>\n",
       "    <tr>\n",
       "      <th>mean</th>\n",
       "      <td>-200.0</td>\n",
       "      <td>-200.0</td>\n",
       "      <td>-200.0</td>\n",
       "      <td>-200.0</td>\n",
       "    </tr>\n",
       "    <tr>\n",
       "      <th>std</th>\n",
       "      <td>0.0</td>\n",
       "      <td>0.0</td>\n",
       "      <td>0.0</td>\n",
       "      <td>0.0</td>\n",
       "    </tr>\n",
       "    <tr>\n",
       "      <th>min</th>\n",
       "      <td>-200.0</td>\n",
       "      <td>-200.0</td>\n",
       "      <td>-200.0</td>\n",
       "      <td>-200.0</td>\n",
       "    </tr>\n",
       "    <tr>\n",
       "      <th>25%</th>\n",
       "      <td>-200.0</td>\n",
       "      <td>-200.0</td>\n",
       "      <td>-200.0</td>\n",
       "      <td>-200.0</td>\n",
       "    </tr>\n",
       "    <tr>\n",
       "      <th>50%</th>\n",
       "      <td>-200.0</td>\n",
       "      <td>-200.0</td>\n",
       "      <td>-200.0</td>\n",
       "      <td>-200.0</td>\n",
       "    </tr>\n",
       "    <tr>\n",
       "      <th>75%</th>\n",
       "      <td>-200.0</td>\n",
       "      <td>-200.0</td>\n",
       "      <td>-200.0</td>\n",
       "      <td>-200.0</td>\n",
       "    </tr>\n",
       "    <tr>\n",
       "      <th>max</th>\n",
       "      <td>-200.0</td>\n",
       "      <td>-200.0</td>\n",
       "      <td>-200.0</td>\n",
       "      <td>-200.0</td>\n",
       "    </tr>\n",
       "  </tbody>\n",
       "</table>\n",
       "</div>"
      ],
      "text/plain": [
       "         100    60     20     0  \n",
       "count   50.0   50.0   50.0   50.0\n",
       "mean  -200.0 -200.0 -200.0 -200.0\n",
       "std      0.0    0.0    0.0    0.0\n",
       "min   -200.0 -200.0 -200.0 -200.0\n",
       "25%   -200.0 -200.0 -200.0 -200.0\n",
       "50%   -200.0 -200.0 -200.0 -200.0\n",
       "75%   -200.0 -200.0 -200.0 -200.0\n",
       "max   -200.0 -200.0 -200.0 -200.0"
      ]
     },
     "execution_count": 60,
     "metadata": {},
     "output_type": "execute_result"
    }
   ],
   "source": [
    "pd.DataFrame(cum_rewards_fixed_pi).describe()"
   ]
  },
  {
   "cell_type": "code",
   "execution_count": null,
   "metadata": {},
   "outputs": [],
   "source": []
  },
  {
   "cell_type": "code",
   "execution_count": 21,
   "metadata": {},
   "outputs": [
    {
     "name": "stderr",
     "output_type": "stream",
     "text": [
      "50it [00:08,  6.22it/s]\n"
     ]
    }
   ],
   "source": [
    "accs_by_k_fixed_pi = nb_utils.compute_accuracy_by_kval(test_data=test_data, agents=agents_fixed_pi)"
   ]
  },
  {
   "cell_type": "code",
   "execution_count": 33,
   "metadata": {},
   "outputs": [
    {
     "data": {
      "image/png": "[encoded data removed]",
      "text/plain": [
       "<Figure size 640x480 with 1 Axes>"
      ]
     },
     "metadata": {},
     "output_type": "display_data"
    }
   ],
   "source": [
    "nb_utils.plot_sequence_accuracy_boxplot(accs_by_k_fixed_pi)"
   ]
  },
  {
   "cell_type": "code",
   "execution_count": 23,
   "metadata": {},
   "outputs": [
    {
     "data": {
      "text/html": [
       "<div>\n",
       "<style scoped>\n",
       "    .dataframe tbody tr th:only-of-type {\n",
       "        vertical-align: middle;\n",
       "    }\n",
       "\n",
       "    .dataframe tbody tr th {\n",
       "        vertical-align: top;\n",
       "    }\n",
       "\n",
       "    .dataframe thead th {\n",
       "        text-align: right;\n",
       "    }\n",
       "</style>\n",
       "<table border=\"1\" class=\"dataframe\">\n",
       "  <thead>\n",
       "    <tr style=\"text-align: right;\">\n",
       "      <th></th>\n",
       "      <th>100</th>\n",
       "      <th>60</th>\n",
       "      <th>20</th>\n",
       "      <th>0</th>\n",
       "    </tr>\n",
       "  </thead>\n",
       "  <tbody>\n",
       "    <tr>\n",
       "      <th>count</th>\n",
       "      <td>250.000000</td>\n",
       "      <td>250.000000</td>\n",
       "      <td>250.000000</td>\n",
       "      <td>250.000000</td>\n",
       "    </tr>\n",
       "    <tr>\n",
       "      <th>mean</th>\n",
       "      <td>0.528204</td>\n",
       "      <td>0.468221</td>\n",
       "      <td>0.500402</td>\n",
       "      <td>0.581118</td>\n",
       "    </tr>\n",
       "    <tr>\n",
       "      <th>std</th>\n",
       "      <td>0.236021</td>\n",
       "      <td>0.231161</td>\n",
       "      <td>0.228577</td>\n",
       "      <td>0.222254</td>\n",
       "    </tr>\n",
       "    <tr>\n",
       "      <th>min</th>\n",
       "      <td>0.000000</td>\n",
       "      <td>0.000000</td>\n",
       "      <td>0.000000</td>\n",
       "      <td>0.043478</td>\n",
       "    </tr>\n",
       "    <tr>\n",
       "      <th>25%</th>\n",
       "      <td>0.333333</td>\n",
       "      <td>0.302637</td>\n",
       "      <td>0.326198</td>\n",
       "      <td>0.432559</td>\n",
       "    </tr>\n",
       "    <tr>\n",
       "      <th>50%</th>\n",
       "      <td>0.560488</td>\n",
       "      <td>0.469337</td>\n",
       "      <td>0.489996</td>\n",
       "      <td>0.588235</td>\n",
       "    </tr>\n",
       "    <tr>\n",
       "      <th>75%</th>\n",
       "      <td>0.702128</td>\n",
       "      <td>0.655172</td>\n",
       "      <td>0.670977</td>\n",
       "      <td>0.740338</td>\n",
       "    </tr>\n",
       "    <tr>\n",
       "      <th>max</th>\n",
       "      <td>1.000000</td>\n",
       "      <td>1.000000</td>\n",
       "      <td>1.000000</td>\n",
       "      <td>1.000000</td>\n",
       "    </tr>\n",
       "  </tbody>\n",
       "</table>\n",
       "</div>"
      ],
      "text/plain": [
       "              100         60          20          0  \n",
       "count  250.000000  250.000000  250.000000  250.000000\n",
       "mean     0.528204    0.468221    0.500402    0.581118\n",
       "std      0.236021    0.231161    0.228577    0.222254\n",
       "min      0.000000    0.000000    0.000000    0.043478\n",
       "25%      0.333333    0.302637    0.326198    0.432559\n",
       "50%      0.560488    0.469337    0.489996    0.588235\n",
       "75%      0.702128    0.655172    0.670977    0.740338\n",
       "max      1.000000    1.000000    1.000000    1.000000"
      ]
     },
     "execution_count": 23,
     "metadata": {},
     "output_type": "execute_result"
    }
   ],
   "source": [
    "pd.DataFrame(accs_by_k_fixed_pi).describe()"
   ]
  },
  {
   "cell_type": "markdown",
   "metadata": {},
   "source": [
    "## why the weird `reward` distribution?"
   ]
  },
  {
   "cell_type": "code",
   "execution_count": 50,
   "metadata": {},
   "outputs": [
    {
     "data": {
      "text/plain": [
       "<idil_algs.IDIL.utils.DiscreteExpertPolicySampler at 0x7f8c1429b4f0>"
      ]
     },
     "execution_count": 50,
     "metadata": {},
     "output_type": "execute_result"
    }
   ],
   "source": [
    "agents_fixed_pi[20][0].pi_agent"
   ]
  },
  {
   "cell_type": "markdown",
   "metadata": {},
   "source": [
    "# Evaluate `randomized` models"
   ]
  },
  {
   "cell_type": "code",
   "execution_count": 17,
   "metadata": {},
   "outputs": [],
   "source": [
    "RUNS = [\n",
    "\"es-0-01J53TSKK0RB81XFWG2BZ4CHP7-extra_synth_traj-bm_randomize-nofep-0812\",\n",
    "\"es-0-01J53QZVQ1KS7SSNMNAXRAZTEE-extra_synth_traj-bm_randomize-nofep-0812\",\n",
    "\"es-0-01J53N53F267FQQB9YDGQVMJV8-extra_synth_traj-bm_randomize-nofep-0812\",\n",
    "\"es-0-01J53J7CGEKC5H83HMNXTQ4C09-extra_synth_traj-bm_randomize-nofep-0812\",\n",
    "]"
   ]
  },
  {
   "cell_type": "code",
   "execution_count": 18,
   "metadata": {},
   "outputs": [],
   "source": [
    "from idil_algs.baselines.IQLearn.dataset.expert_dataset import ExpertDataset\n",
    "import os\n",
    "\n",
    "expert_dataset = ExpertDataset(os.path.join(\"idil_train\",\"extra_trajectories/CleanupSingle-v0_500-EXPERT-DIST.pkl\"))"
   ]
  },
  {
   "cell_type": "code",
   "execution_count": 22,
   "metadata": {},
   "outputs": [
    {
     "data": {
      "text/plain": [
       "<module 'generate_trajectories' from '/home/juanhevia/IDIL/notebooks/generate_trajectories.py'>"
      ]
     },
     "execution_count": 22,
     "metadata": {},
     "output_type": "execute_result"
    }
   ],
   "source": [
    "importlib.reload(nb_utils)\n",
    "importlib.reload(traj_utils)"
   ]
  },
  {
   "cell_type": "code",
   "execution_count": 19,
   "metadata": {},
   "outputs": [
    {
     "name": "stdout",
     "output_type": "stream",
     "text": [
      "Loading models from ./idil_train/result/CleanupSingle-v0/idil/es-0-01J53TSKK0RB81XFWG2BZ4CHP7-extra_synth_traj-bm_randomize-nofep-0812/2024-08-12_12-39-55/model/iq_CleanupSingle-v0_n70_l70_best_tx\n",
      "Loading models from ./idil_train/result/CleanupSingle-v0/idil/es-0-01J53TSKK0RB81XFWG2BZ4CHP7-extra_synth_traj-bm_randomize-nofep-0812/2024-08-12_12-39-55/model/iq_CleanupSingle-v0_n70_l70_best_pi\n",
      "Loading models from ./idil_train/result/CleanupSingle-v0/idil/es-0-01J53QZVQ1KS7SSNMNAXRAZTEE-extra_synth_traj-bm_randomize-nofep-0812/2024-08-12_11-50-54/model/iq_CleanupSingle-v0_n70_l70_best_tx\n",
      "Loading models from ./idil_train/result/CleanupSingle-v0/idil/es-0-01J53QZVQ1KS7SSNMNAXRAZTEE-extra_synth_traj-bm_randomize-nofep-0812/2024-08-12_11-50-54/model/iq_CleanupSingle-v0_n70_l70_best_pi\n",
      "Loading models from ./idil_train/result/CleanupSingle-v0/idil/es-0-01J53N53F267FQQB9YDGQVMJV8-extra_synth_traj-bm_randomize-nofep-0812/2024-08-12_11-01-20/model/iq_CleanupSingle-v0_n70_l70_best_tx\n",
      "Loading models from ./idil_train/result/CleanupSingle-v0/idil/es-0-01J53N53F267FQQB9YDGQVMJV8-extra_synth_traj-bm_randomize-nofep-0812/2024-08-12_11-01-20/model/iq_CleanupSingle-v0_n70_l70_best_pi\n",
      "Loading models from ./idil_train/result/CleanupSingle-v0/idil/es-0-01J53J7CGEKC5H83HMNXTQ4C09-extra_synth_traj-bm_randomize-nofep-0812/2024-08-12_10-10-09/model/iq_CleanupSingle-v0_n70_l70_best_tx\n",
      "Loading models from ./idil_train/result/CleanupSingle-v0/idil/es-0-01J53J7CGEKC5H83HMNXTQ4C09-extra_synth_traj-bm_randomize-nofep-0812/2024-08-12_10-10-09/model/iq_CleanupSingle-v0_n70_l70_best_pi\n"
     ]
    },
    {
     "name": "stderr",
     "output_type": "stream",
     "text": [
      "  0%|          | 0/4 [00:00<?, ?it/s]"
     ]
    },
    {
     "name": "stdout",
     "output_type": "stream",
     "text": [
      "Loading models from ./idil_train/result/CleanupSingle-v0/idil/es-0-01J53TSKK0RB81XFWG2BZ4CHP7-extra_synth_traj-bm_randomize-nofep-0812/2024-08-12_12-39-55/model/iq_CleanupSingle-v0_n70_l70_best_tx\n",
      "Loading models from ./idil_train/result/CleanupSingle-v0/idil/es-0-01J53TSKK0RB81XFWG2BZ4CHP7-extra_synth_traj-bm_randomize-nofep-0812/2024-08-12_12-39-55/model/iq_CleanupSingle-v0_n70_l70_best_pi\n"
     ]
    },
    {
     "name": "stderr",
     "output_type": "stream",
     "text": [
      "100%|██████████| 10/10 [00:02<00:00,  3.77it/s]\n",
      " 25%|██▌       | 1/4 [00:02<00:08,  2.75s/it]"
     ]
    },
    {
     "name": "stdout",
     "output_type": "stream",
     "text": [
      "Loading models from ./idil_train/result/CleanupSingle-v0/idil/es-0-01J53QZVQ1KS7SSNMNAXRAZTEE-extra_synth_traj-bm_randomize-nofep-0812/2024-08-12_11-50-54/model/iq_CleanupSingle-v0_n70_l70_best_tx\n",
      "Loading models from ./idil_train/result/CleanupSingle-v0/idil/es-0-01J53QZVQ1KS7SSNMNAXRAZTEE-extra_synth_traj-bm_randomize-nofep-0812/2024-08-12_11-50-54/model/iq_CleanupSingle-v0_n70_l70_best_pi\n"
     ]
    },
    {
     "name": "stderr",
     "output_type": "stream",
     "text": [
      "100%|██████████| 10/10 [00:02<00:00,  4.31it/s]\n",
      " 50%|█████     | 2/4 [00:05<00:05,  2.55s/it]"
     ]
    },
    {
     "name": "stdout",
     "output_type": "stream",
     "text": [
      "Loading models from ./idil_train/result/CleanupSingle-v0/idil/es-0-01J53N53F267FQQB9YDGQVMJV8-extra_synth_traj-bm_randomize-nofep-0812/2024-08-12_11-01-20/model/iq_CleanupSingle-v0_n70_l70_best_tx\n",
      "Loading models from ./idil_train/result/CleanupSingle-v0/idil/es-0-01J53N53F267FQQB9YDGQVMJV8-extra_synth_traj-bm_randomize-nofep-0812/2024-08-12_11-01-20/model/iq_CleanupSingle-v0_n70_l70_best_pi\n"
     ]
    },
    {
     "name": "stderr",
     "output_type": "stream",
     "text": [
      "100%|██████████| 10/10 [00:02<00:00,  4.69it/s]\n",
      " 75%|███████▌  | 3/4 [00:07<00:02,  2.40s/it]"
     ]
    },
    {
     "name": "stdout",
     "output_type": "stream",
     "text": [
      "Loading models from ./idil_train/result/CleanupSingle-v0/idil/es-0-01J53J7CGEKC5H83HMNXTQ4C09-extra_synth_traj-bm_randomize-nofep-0812/2024-08-12_10-10-09/model/iq_CleanupSingle-v0_n70_l70_best_tx\n",
      "Loading models from ./idil_train/result/CleanupSingle-v0/idil/es-0-01J53J7CGEKC5H83HMNXTQ4C09-extra_synth_traj-bm_randomize-nofep-0812/2024-08-12_10-10-09/model/iq_CleanupSingle-v0_n70_l70_best_pi\n"
     ]
    },
    {
     "name": "stderr",
     "output_type": "stream",
     "text": [
      "100%|██████████| 10/10 [00:03<00:00,  3.15it/s]\n",
      "100%|██████████| 4/4 [00:10<00:00,  2.66s/it]\n"
     ]
    }
   ],
   "source": [
    "agents_control = nb_utils.get_trained_models(runs=RUNS, env_name=ENV_NAME, load_micro=True)\n",
    "trajectories_control = nb_utils.get_agent_trajectories(runs=RUNS, env_name=ENV_NAME, num_trajectories=10, load_micro=True)"
   ]
  },
  {
   "cell_type": "code",
   "execution_count": 20,
   "metadata": {},
   "outputs": [
    {
     "name": "stdout",
     "output_type": "stream",
     "text": [
      "There are 1 kvals\n",
      "Each kval has 0 cum_rewards, matching the 4 x 10 trajectories generated for each agent (using key = 0)\n"
     ]
    }
   ],
   "source": [
    "cum_rewards_control = nb_utils.get_cumulative_rewards(trajectories_control, agents_control)\n",
    "# pd.DataFrame(cum_rewards_control).describe()"
   ]
  },
  {
   "cell_type": "code",
   "execution_count": 22,
   "metadata": {},
   "outputs": [
    {
     "data": {
      "text/plain": [
       "<matplotlib.lines.Line2D at 0x7fadb81cccd0>"
      ]
     },
     "execution_count": 22,
     "metadata": {},
     "output_type": "execute_result"
    },
    {
     "data": {
      "image/png": "[encoded data removed]",
      "text/plain": [
       "<Figure size 640x480 with 1 Axes>"
      ]
     },
     "metadata": {},
     "output_type": "display_data"
    }
   ],
   "source": [
    "nb_utils.plot_cum_rewards(cum_rewards)\n",
    "plt.gca().set_ylim([-100, -10])\n",
    "plt.gca().axhline(y=np.mean(cum_rewards_control[0]), color='black', linestyle='--', alpha=0.5)\n",
    "plt.gca().axhline(y=np.mean(cum_rewards_control[0]) + np.std(cum_rewards_control[0]), color='black', linestyle='--', alpha=0.5)\n",
    "plt.gca().axhline(y=np.mean(cum_rewards_control[0]) - np.std(cum_rewards_control[0]), color='black', linestyle='--', alpha=0.5)"
   ]
  },
  {
   "cell_type": "code",
   "execution_count": 30,
   "metadata": {},
   "outputs": [
    {
     "name": "stdout",
     "output_type": "stream",
     "text": [
      "K = 20\n",
      "Ttest_indResult(statistic=0.9310528857737593, pvalue=0.35442589366271626)\n",
      "Not significant\n",
      "------------\n",
      "K = 60\n",
      "Ttest_indResult(statistic=-0.35163338047089976, pvalue=0.7261278190394945)\n",
      "Not significant\n",
      "------------\n",
      "K = 100\n",
      "Ttest_indResult(statistic=0.3797532835838839, pvalue=0.7050522036857799)\n",
      "Not significant\n",
      "------------\n"
     ]
    }
   ],
   "source": [
    "test_baseline = 0\n",
    "test_kvals = [20, 60, 100]\n",
    "\n",
    "for k in test_kvals:\n",
    "    print(f\"K = {k}\")\n",
    "    res = stats.ttest_ind(cum_rewards_control[test_baseline], cum_rewards[k], equal_var=False)\n",
    "    print(res)\n",
    "    if res.pvalue < 0.05:\n",
    "        print(\"Significant\")\n",
    "    else:\n",
    "        print(\"Not significant\")\n",
    "\n",
    "    print(\"---\" * 4)"
   ]
  },
  {
   "cell_type": "code",
   "execution_count": 24,
   "metadata": {},
   "outputs": [
    {
     "name": "stderr",
     "output_type": "stream",
     "text": [
      "50it [00:01, 29.66it/s]\n"
     ]
    }
   ],
   "source": [
    "accs_by_k_control = nb_utils.compute_accuracy_by_kval(test_data=test_data, agents=agents_control)"
   ]
  },
  {
   "cell_type": "code",
   "execution_count": 25,
   "metadata": {},
   "outputs": [
    {
     "data": {
      "text/plain": [
       "<matplotlib.legend.Legend at 0x7fadac13cb20>"
      ]
     },
     "execution_count": 25,
     "metadata": {},
     "output_type": "execute_result"
    },
    {
     "data": {
      "image/png": "[encoded data removed]",
      "text/plain": [
       "<Figure size 640x480 with 1 Axes>"
      ]
     },
     "metadata": {},
     "output_type": "display_data"
    }
   ],
   "source": [
    "nb_utils.plot_sequence_accuracy_boxplot(accs_by_k)\n",
    "# add benchmark with control mean\n",
    "plt.gca().axhline(y=np.mean(accs_by_k_control[0]), color='brown', linestyle='--', alpha=0.9, lw=3, label=\"Control Mean\")\n",
    "# add standard deviation\n",
    "plt.gca().axhline(y=np.mean(accs_by_k_control[0]) + np.std(accs_by_k_control[0]), color='brown', linestyle='--', alpha=0.5, label=\"Control Mean +/- 1 SD\")\n",
    "plt.gca().axhline(y=np.mean(accs_by_k_control[0]) - np.std(accs_by_k_control[0]), color='brown', linestyle='--', alpha=0.5)\n",
    "plt.gca().grid(alpha=0.4)\n",
    "plt.gca().legend(bbox_to_anchor=(1.05, 1), loc='upper left', borderaxespad=0.)"
   ]
  },
  {
   "cell_type": "code",
   "execution_count": 26,
   "metadata": {},
   "outputs": [
    {
     "data": {
      "text/html": [
       "<div>\n",
       "<style scoped>\n",
       "    .dataframe tbody tr th:only-of-type {\n",
       "        vertical-align: middle;\n",
       "    }\n",
       "\n",
       "    .dataframe tbody tr th {\n",
       "        vertical-align: top;\n",
       "    }\n",
       "\n",
       "    .dataframe thead th {\n",
       "        text-align: right;\n",
       "    }\n",
       "</style>\n",
       "<table border=\"1\" class=\"dataframe\">\n",
       "  <thead>\n",
       "    <tr style=\"text-align: right;\">\n",
       "      <th></th>\n",
       "      <th>0</th>\n",
       "    </tr>\n",
       "  </thead>\n",
       "  <tbody>\n",
       "    <tr>\n",
       "      <th>count</th>\n",
       "      <td>200.000000</td>\n",
       "    </tr>\n",
       "    <tr>\n",
       "      <th>mean</th>\n",
       "      <td>0.884898</td>\n",
       "    </tr>\n",
       "    <tr>\n",
       "      <th>std</th>\n",
       "      <td>0.118346</td>\n",
       "    </tr>\n",
       "    <tr>\n",
       "      <th>min</th>\n",
       "      <td>0.518519</td>\n",
       "    </tr>\n",
       "    <tr>\n",
       "      <th>25%</th>\n",
       "      <td>0.822222</td>\n",
       "    </tr>\n",
       "    <tr>\n",
       "      <th>50%</th>\n",
       "      <td>0.915254</td>\n",
       "    </tr>\n",
       "    <tr>\n",
       "      <th>75%</th>\n",
       "      <td>1.000000</td>\n",
       "    </tr>\n",
       "    <tr>\n",
       "      <th>max</th>\n",
       "      <td>1.000000</td>\n",
       "    </tr>\n",
       "  </tbody>\n",
       "</table>\n",
       "</div>"
      ],
      "text/plain": [
       "                0\n",
       "count  200.000000\n",
       "mean     0.884898\n",
       "std      0.118346\n",
       "min      0.518519\n",
       "25%      0.822222\n",
       "50%      0.915254\n",
       "75%      1.000000\n",
       "max      1.000000"
      ]
     },
     "execution_count": 26,
     "metadata": {},
     "output_type": "execute_result"
    }
   ],
   "source": [
    "pd.DataFrame(accs_by_k_control).describe()"
   ]
  },
  {
   "cell_type": "code",
   "execution_count": 28,
   "metadata": {},
   "outputs": [
    {
     "name": "stdout",
     "output_type": "stream",
     "text": [
      "K = 20\n",
      "Ttest_indResult(statistic=-7.811998760030269, pvalue=1.0145145515956303e-13)\n",
      "Significant\n",
      "------------\n",
      "K = 60\n",
      "Ttest_indResult(statistic=-7.241120302111989, pvalue=4.056280954761617e-12)\n",
      "Significant\n",
      "------------\n",
      "K = 100\n",
      "Ttest_indResult(statistic=-8.138638089101905, pvalue=1.2059877558871793e-14)\n",
      "Significant\n",
      "------------\n"
     ]
    }
   ],
   "source": [
    "test_baseline = 0\n",
    "test_kvals = [20, 60, 100]\n",
    "\n",
    "for k in test_kvals:\n",
    "    print(f\"K = {k}\")\n",
    "    res = stats.ttest_ind(accs_by_k_control[test_baseline], accs_by_k[k], equal_var=False)\n",
    "    print(res)\n",
    "    if res.pvalue < 0.05:\n",
    "        print(\"Significant\")\n",
    "    else:\n",
    "        print(\"Not significant\")\n",
    "\n",
    "    print(\"---\" * 4)"
   ]
  },
  {
   "cell_type": "code",
   "execution_count": null,
   "metadata": {},
   "outputs": [],
   "source": []
  },
  {
   "cell_type": "code",
   "execution_count": null,
   "metadata": {},
   "outputs": [],
   "source": []
  },
  {
   "cell_type": "markdown",
   "metadata": {},
   "source": [
    "# Visuals for comparing aganist `randomized` benchmark\n",
    "\n",
    "Remove the `fixed_pi` models from the analysis for now, because there seems to be a bug in the way it is sampling actions from the expert. This is affecting the macro-policy learning.\n",
    "\n",
    "Compare the learned model using the extra synth trajectories with the `randomized` benchmark.\n",
    "\n",
    "- Run a hypotehsis test to check significant mean difference between the cumulative rewards of the models\n",
    "- For same `k` values:\n",
    "    - plot the **mean cumulative rewards** of the models, with the shaded area showing the standard deviation.\n",
    "    - plot the **lengths of the trajectories generated** by the models under each regime (`random` and `entropy scoring`)\n",
    "    - plot the **accuracy for latent prediction** on a test set"
   ]
  },
  {
   "cell_type": "markdown",
   "metadata": {},
   "source": []
  }
 ],
 "metadata": {
  "kernelspec": {
   "display_name": "aidil",
   "language": "python",
   "name": "python3"
  },
  "language_info": {
   "codemirror_mode": {
    "name": "ipython",
    "version": 3
   },
   "file_extension": ".py",
   "mimetype": "text/x-python",
   "name": "python",
   "nbconvert_exporter": "python",
   "pygments_lexer": "ipython3",
   "version": "3.8.19"
  }
 },
 "nbformat": 4,
 "nbformat_minor": 2
}
