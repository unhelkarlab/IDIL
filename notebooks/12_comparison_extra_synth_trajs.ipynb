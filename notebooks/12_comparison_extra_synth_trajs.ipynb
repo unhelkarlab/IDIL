{
 "cells": [
  {
   "cell_type": "code",
   "execution_count": 1,
   "metadata": {},
   "outputs": [
    {
     "name": "stdout",
     "output_type": "stream",
     "text": [
      "/home/juanhevia/IDIL\n"
     ]
    }
   ],
   "source": [
    "%cd .."
   ]
  },
  {
   "cell_type": "code",
   "execution_count": 2,
   "metadata": {},
   "outputs": [
    {
     "name": "stdout",
     "output_type": "stream",
     "text": [
      "pygame 2.6.0 (SDL 2.28.4, Python 3.8.19)\n",
      "Hello from the pygame community. https://www.pygame.org/contribute.html\n"
     ]
    }
   ],
   "source": [
    "import pandas as pd\n",
    "import numpy as np \n",
    "import matplotlib.pyplot as plt\n",
    "import pickle as pkl\n",
    "import generate_trajectories as traj_utils\n",
    "import utils as nb_utils\n",
    "from collections import defaultdict\n",
    "import importlib\n",
    "import scipy.stats as stats"
   ]
  },
  {
   "cell_type": "code",
   "execution_count": 4,
   "metadata": {},
   "outputs": [
    {
     "data": {
      "text/plain": [
       "<module 'utils' from '/home/juanhevia/IDIL/notebooks/utils.py'>"
      ]
     },
     "execution_count": 4,
     "metadata": {},
     "output_type": "execute_result"
    }
   ],
   "source": [
    "importlib.reload(nb_utils)"
   ]
  },
  {
   "cell_type": "code",
   "execution_count": 5,
   "metadata": {},
   "outputs": [],
   "source": [
    "RUNS = [\n",
    "\"es-100-01J4XR6C47AKQ5KNJWNR679E8R-synth_extra_trajs-0809\",\n",
    "\"es-100-01J4XNDCER2DMYYRXEJZXJ2271-synth_extra_trajs-0809\",\n",
    "\"es-100-01J4XJMMP9N8S3TQN4SESDZCTR-synth_extra_trajs-0809\",\n",
    "\"es-100-01J4XFW8RHVVYCTJ5Y3C2BTBF9-synth_extra_trajs-0809\",\n",
    "\"es-100-01J4XD2HX2Y2FBMBEWEE6RGH40-synth_extra_trajs-0809\",\n",
    "\"es-60-01J4XA99JZKFM2DW2EEA0XSZK7-synth_extra_trajs-0809\",\n",
    "\"es-60-01J4X7FCX4VVR4C8QJ01PCR57Q-synth_extra_trajs-0809\",\n",
    "\"es-60-01J4X4MRGFV2KTEQJW4GNMQKXS-synth_extra_trajs-0809\",\n",
    "\"es-60-01J4X1WBK8J8F3XXHZBVQSGMP2-synth_extra_trajs-0809\",\n",
    "\"es-60-01J4WYYDPHHAGRHK4Q4TS1GM0Y-synth_extra_trajs-0809\",\n",
    "\"es-20-01J4WW1WMZN9APJJ8NF115HQDC-synth_extra_trajs-0809\",\n",
    "\"es-20-01J4WS66ZBGJCDXQ4QTE33S2HX-synth_extra_trajs-0809\",\n",
    "\"es-20-01J4WP99BEQC5G4DNBK4S7RYXQ-synth_extra_trajs-0809\",\n",
    "\"es-20-01J4WKD4YREQT0RPPCFVT3BFSA-synth_extra_trajs-0809\",\n",
    "\"es-20-01J4WGGVYCEYXKM7DZ1TQT2KFQ-synth_extra_trajs-0809\",\n",
    "\"es-0-01J4WDKJRBQJA5TRN78KD9V55P-synth_extra_trajs-0809\",\n",
    "\"es-0-01J4W9R49RKQ9060E1VBXGY6XF-synth_extra_trajs-0809\",\n",
    "\"es-0-01J4W6Y6HFM2JA6YMBZVC3B9YA-synth_extra_trajs-0809\",\n",
    "\"es-0-01J4W44NBPQP04TMKJQZ9FK38G-synth_extra_trajs-0809\",\n",
    "\"es-0-01J4W1ANG5AXDA4SZSPHKH12J3-synth_extra_trajs-0809\",\n",
    "]\n",
    "\n",
    "ENV_NAME = \"CleanupSingle-v0\""
   ]
  },
  {
   "cell_type": "code",
   "execution_count": 6,
   "metadata": {},
   "outputs": [
    {
     "name": "stdout",
     "output_type": "stream",
     "text": [
      "Loading models from ./idil_train/result/CleanupSingle-v0/idil/es-100-01J4XR6C47AKQ5KNJWNR679E8R-synth_extra_trajs-0809/2024-08-10_03-59-01/model/iq_CleanupSingle-v0_n70_l70_best_tx\n",
      "Loading models from ./idil_train/result/CleanupSingle-v0/idil/es-100-01J4XR6C47AKQ5KNJWNR679E8R-synth_extra_trajs-0809/2024-08-10_03-59-01/model/iq_CleanupSingle-v0_n70_l70_best_pi\n",
      "Loading models from ./idil_train/result/CleanupSingle-v0/idil/es-100-01J4XNDCER2DMYYRXEJZXJ2271-synth_extra_trajs-0809/2024-08-10_03-10-25/model/iq_CleanupSingle-v0_n70_l70_best_tx\n",
      "Loading models from ./idil_train/result/CleanupSingle-v0/idil/es-100-01J4XNDCER2DMYYRXEJZXJ2271-synth_extra_trajs-0809/2024-08-10_03-10-25/model/iq_CleanupSingle-v0_n70_l70_best_pi\n",
      "Loading models from ./idil_train/result/CleanupSingle-v0/idil/es-100-01J4XJMMP9N8S3TQN4SESDZCTR-synth_extra_trajs-0809/2024-08-10_02-21-57/model/iq_CleanupSingle-v0_n70_l70_best_tx\n",
      "Loading models from ./idil_train/result/CleanupSingle-v0/idil/es-100-01J4XJMMP9N8S3TQN4SESDZCTR-synth_extra_trajs-0809/2024-08-10_02-21-57/model/iq_CleanupSingle-v0_n70_l70_best_pi\n",
      "Loading models from ./idil_train/result/CleanupSingle-v0/idil/es-100-01J4XFW8RHVVYCTJ5Y3C2BTBF9-synth_extra_trajs-0809/2024-08-10_01-33-41/model/iq_CleanupSingle-v0_n70_l70_best_tx\n",
      "Loading models from ./idil_train/result/CleanupSingle-v0/idil/es-100-01J4XFW8RHVVYCTJ5Y3C2BTBF9-synth_extra_trajs-0809/2024-08-10_01-33-41/model/iq_CleanupSingle-v0_n70_l70_best_pi\n",
      "Loading models from ./idil_train/result/CleanupSingle-v0/idil/es-100-01J4XD2HX2Y2FBMBEWEE6RGH40-synth_extra_trajs-0809/2024-08-10_00-44-41/model/iq_CleanupSingle-v0_n70_l70_best_tx\n",
      "Loading models from ./idil_train/result/CleanupSingle-v0/idil/es-100-01J4XD2HX2Y2FBMBEWEE6RGH40-synth_extra_trajs-0809/2024-08-10_00-44-41/model/iq_CleanupSingle-v0_n70_l70_best_pi\n",
      "Loading models from ./idil_train/result/CleanupSingle-v0/idil/es-60-01J4XA99JZKFM2DW2EEA0XSZK7-synth_extra_trajs-0809/2024-08-09_23-55-56/model/iq_CleanupSingle-v0_n70_l70_best_tx\n",
      "Loading models from ./idil_train/result/CleanupSingle-v0/idil/es-60-01J4XA99JZKFM2DW2EEA0XSZK7-synth_extra_trajs-0809/2024-08-09_23-55-56/model/iq_CleanupSingle-v0_n70_l70_best_pi\n",
      "Loading models from ./idil_train/result/CleanupSingle-v0/idil/es-60-01J4X7FCX4VVR4C8QJ01PCR57Q-synth_extra_trajs-0809/2024-08-09_23-06-51/model/iq_CleanupSingle-v0_n70_l70_best_tx\n",
      "Loading models from ./idil_train/result/CleanupSingle-v0/idil/es-60-01J4X7FCX4VVR4C8QJ01PCR57Q-synth_extra_trajs-0809/2024-08-09_23-06-51/model/iq_CleanupSingle-v0_n70_l70_best_pi\n",
      "Loading models from ./idil_train/result/CleanupSingle-v0/idil/es-60-01J4X4MRGFV2KTEQJW4GNMQKXS-synth_extra_trajs-0809/2024-08-09_22-17-21/model/iq_CleanupSingle-v0_n70_l70_best_tx\n",
      "Loading models from ./idil_train/result/CleanupSingle-v0/idil/es-60-01J4X4MRGFV2KTEQJW4GNMQKXS-synth_extra_trajs-0809/2024-08-09_22-17-21/model/iq_CleanupSingle-v0_n70_l70_best_pi\n",
      "Loading models from ./idil_train/result/CleanupSingle-v0/idil/es-60-01J4X1WBK8J8F3XXHZBVQSGMP2-synth_extra_trajs-0809/2024-08-09_21-29-04/model/iq_CleanupSingle-v0_n70_l70_best_tx\n",
      "Loading models from ./idil_train/result/CleanupSingle-v0/idil/es-60-01J4X1WBK8J8F3XXHZBVQSGMP2-synth_extra_trajs-0809/2024-08-09_21-29-04/model/iq_CleanupSingle-v0_n70_l70_best_pi\n",
      "Loading models from ./idil_train/result/CleanupSingle-v0/idil/es-60-01J4WYYDPHHAGRHK4Q4TS1GM0Y-synth_extra_trajs-0809/2024-08-09_20-37-46/model/iq_CleanupSingle-v0_n70_l70_best_tx\n",
      "Loading models from ./idil_train/result/CleanupSingle-v0/idil/es-60-01J4WYYDPHHAGRHK4Q4TS1GM0Y-synth_extra_trajs-0809/2024-08-09_20-37-46/model/iq_CleanupSingle-v0_n70_l70_best_pi\n",
      "Loading models from ./idil_train/result/CleanupSingle-v0/idil/es-20-01J4WW1WMZN9APJJ8NF115HQDC-synth_extra_trajs-0809/2024-08-09_19-47-14/model/iq_CleanupSingle-v0_n70_l70_best_tx\n",
      "Loading models from ./idil_train/result/CleanupSingle-v0/idil/es-20-01J4WW1WMZN9APJJ8NF115HQDC-synth_extra_trajs-0809/2024-08-09_19-47-14/model/iq_CleanupSingle-v0_n70_l70_best_pi\n",
      "Loading models from ./idil_train/result/CleanupSingle-v0/idil/es-20-01J4WS66ZBGJCDXQ4QTE33S2HX-synth_extra_trajs-0809/2024-08-09_18-57-09/model/iq_CleanupSingle-v0_n70_l70_best_tx\n",
      "Loading models from ./idil_train/result/CleanupSingle-v0/idil/es-20-01J4WS66ZBGJCDXQ4QTE33S2HX-synth_extra_trajs-0809/2024-08-09_18-57-09/model/iq_CleanupSingle-v0_n70_l70_best_pi\n",
      "Loading models from ./idil_train/result/CleanupSingle-v0/idil/es-20-01J4WP99BEQC5G4DNBK4S7RYXQ-synth_extra_trajs-0809/2024-08-09_18-06-25/model/iq_CleanupSingle-v0_n70_l70_best_tx\n",
      "Loading models from ./idil_train/result/CleanupSingle-v0/idil/es-20-01J4WP99BEQC5G4DNBK4S7RYXQ-synth_extra_trajs-0809/2024-08-09_18-06-25/model/iq_CleanupSingle-v0_n70_l70_best_pi\n",
      "Loading models from ./idil_train/result/CleanupSingle-v0/idil/es-20-01J4WKD4YREQT0RPPCFVT3BFSA-synth_extra_trajs-0809/2024-08-09_17-16-05/model/iq_CleanupSingle-v0_n70_l70_best_tx\n",
      "Loading models from ./idil_train/result/CleanupSingle-v0/idil/es-20-01J4WKD4YREQT0RPPCFVT3BFSA-synth_extra_trajs-0809/2024-08-09_17-16-05/model/iq_CleanupSingle-v0_n70_l70_best_pi\n",
      "Loading models from ./idil_train/result/CleanupSingle-v0/idil/es-20-01J4WGGVYCEYXKM7DZ1TQT2KFQ-synth_extra_trajs-0809/2024-08-09_16-25-42/model/iq_CleanupSingle-v0_n70_l70_best_tx\n",
      "Loading models from ./idil_train/result/CleanupSingle-v0/idil/es-20-01J4WGGVYCEYXKM7DZ1TQT2KFQ-synth_extra_trajs-0809/2024-08-09_16-25-42/model/iq_CleanupSingle-v0_n70_l70_best_pi\n",
      "Loading models from ./idil_train/result/CleanupSingle-v0/idil/es-0-01J4WDKJRBQJA5TRN78KD9V55P-synth_extra_trajs-0809/2024-08-09_15-34-46/model/iq_CleanupSingle-v0_n70_l70_best_tx\n",
      "Loading models from ./idil_train/result/CleanupSingle-v0/idil/es-0-01J4WDKJRBQJA5TRN78KD9V55P-synth_extra_trajs-0809/2024-08-09_15-34-46/model/iq_CleanupSingle-v0_n70_l70_best_pi\n",
      "Loading models from ./idil_train/result/CleanupSingle-v0/idil/es-0-01J4W9R49RKQ9060E1VBXGY6XF-synth_extra_trajs-0809/2024-08-09_14-27-19/model/iq_CleanupSingle-v0_n70_l70_best_tx\n",
      "Loading models from ./idil_train/result/CleanupSingle-v0/idil/es-0-01J4W9R49RKQ9060E1VBXGY6XF-synth_extra_trajs-0809/2024-08-09_14-27-19/model/iq_CleanupSingle-v0_n70_l70_best_pi\n",
      "Loading models from ./idil_train/result/CleanupSingle-v0/idil/es-0-01J4W6Y6HFM2JA6YMBZVC3B9YA-synth_extra_trajs-0809/2024-08-09_13-38-13/model/iq_CleanupSingle-v0_n70_l70_best_tx\n",
      "Loading models from ./idil_train/result/CleanupSingle-v0/idil/es-0-01J4W6Y6HFM2JA6YMBZVC3B9YA-synth_extra_trajs-0809/2024-08-09_13-38-13/model/iq_CleanupSingle-v0_n70_l70_best_pi\n",
      "Loading models from ./idil_train/result/CleanupSingle-v0/idil/es-0-01J4W44NBPQP04TMKJQZ9FK38G-synth_extra_trajs-0809/2024-08-09_12-49-19/model/iq_CleanupSingle-v0_n70_l70_best_tx\n",
      "Loading models from ./idil_train/result/CleanupSingle-v0/idil/es-0-01J4W44NBPQP04TMKJQZ9FK38G-synth_extra_trajs-0809/2024-08-09_12-49-19/model/iq_CleanupSingle-v0_n70_l70_best_pi\n",
      "Loading models from ./idil_train/result/CleanupSingle-v0/idil/es-0-01J4W1ANG5AXDA4SZSPHKH12J3-synth_extra_trajs-0809/2024-08-09_12-00-10/model/iq_CleanupSingle-v0_n70_l70_best_tx\n",
      "Loading models from ./idil_train/result/CleanupSingle-v0/idil/es-0-01J4W1ANG5AXDA4SZSPHKH12J3-synth_extra_trajs-0809/2024-08-09_12-00-10/model/iq_CleanupSingle-v0_n70_l70_best_pi\n"
     ]
    }
   ],
   "source": [
    "agents = nb_utils.get_trained_models(runs=RUNS, env_name=ENV_NAME)"
   ]
  },
  {
   "cell_type": "code",
   "execution_count": 7,
   "metadata": {},
   "outputs": [
    {
     "name": "stderr",
     "output_type": "stream",
     "text": [
      "  0%|          | 0/20 [00:00<?, ?it/s]"
     ]
    },
    {
     "name": "stdout",
     "output_type": "stream",
     "text": [
      "Loading models from ./idil_train/result/CleanupSingle-v0/idil/es-100-01J4XR6C47AKQ5KNJWNR679E8R-synth_extra_trajs-0809/2024-08-10_03-59-01/model/iq_CleanupSingle-v0_n70_l70_best_tx\n",
      "Loading models from ./idil_train/result/CleanupSingle-v0/idil/es-100-01J4XR6C47AKQ5KNJWNR679E8R-synth_extra_trajs-0809/2024-08-10_03-59-01/model/iq_CleanupSingle-v0_n70_l70_best_pi\n"
     ]
    },
    {
     "name": "stderr",
     "output_type": "stream",
     "text": [
      "100%|██████████| 10/10 [00:02<00:00,  4.30it/s]\n",
      "  5%|▌         | 1/20 [00:02<00:45,  2.41s/it]"
     ]
    },
    {
     "name": "stdout",
     "output_type": "stream",
     "text": [
      "Loading models from ./idil_train/result/CleanupSingle-v0/idil/es-100-01J4XNDCER2DMYYRXEJZXJ2271-synth_extra_trajs-0809/2024-08-10_03-10-25/model/iq_CleanupSingle-v0_n70_l70_best_tx\n",
      "Loading models from ./idil_train/result/CleanupSingle-v0/idil/es-100-01J4XNDCER2DMYYRXEJZXJ2271-synth_extra_trajs-0809/2024-08-10_03-10-25/model/iq_CleanupSingle-v0_n70_l70_best_pi\n"
     ]
    },
    {
     "name": "stderr",
     "output_type": "stream",
     "text": [
      "100%|██████████| 10/10 [00:01<00:00,  5.20it/s]\n",
      " 10%|█         | 2/20 [00:04<00:39,  2.17s/it]"
     ]
    },
    {
     "name": "stdout",
     "output_type": "stream",
     "text": [
      "Loading models from ./idil_train/result/CleanupSingle-v0/idil/es-100-01J4XJMMP9N8S3TQN4SESDZCTR-synth_extra_trajs-0809/2024-08-10_02-21-57/model/iq_CleanupSingle-v0_n70_l70_best_tx\n",
      "Loading models from ./idil_train/result/CleanupSingle-v0/idil/es-100-01J4XJMMP9N8S3TQN4SESDZCTR-synth_extra_trajs-0809/2024-08-10_02-21-57/model/iq_CleanupSingle-v0_n70_l70_best_pi\n"
     ]
    },
    {
     "name": "stderr",
     "output_type": "stream",
     "text": [
      "100%|██████████| 10/10 [00:01<00:00,  6.88it/s]\n",
      " 15%|█▌        | 3/20 [00:05<00:31,  1.87s/it]"
     ]
    },
    {
     "name": "stdout",
     "output_type": "stream",
     "text": [
      "Loading models from ./idil_train/result/CleanupSingle-v0/idil/es-100-01J4XFW8RHVVYCTJ5Y3C2BTBF9-synth_extra_trajs-0809/2024-08-10_01-33-41/model/iq_CleanupSingle-v0_n70_l70_best_tx\n",
      "Loading models from ./idil_train/result/CleanupSingle-v0/idil/es-100-01J4XFW8RHVVYCTJ5Y3C2BTBF9-synth_extra_trajs-0809/2024-08-10_01-33-41/model/iq_CleanupSingle-v0_n70_l70_best_pi\n"
     ]
    },
    {
     "name": "stderr",
     "output_type": "stream",
     "text": [
      "100%|██████████| 10/10 [00:01<00:00,  5.53it/s]\n",
      " 20%|██        | 4/20 [00:07<00:30,  1.88s/it]"
     ]
    },
    {
     "name": "stdout",
     "output_type": "stream",
     "text": [
      "Loading models from ./idil_train/result/CleanupSingle-v0/idil/es-100-01J4XD2HX2Y2FBMBEWEE6RGH40-synth_extra_trajs-0809/2024-08-10_00-44-41/model/iq_CleanupSingle-v0_n70_l70_best_tx\n",
      "Loading models from ./idil_train/result/CleanupSingle-v0/idil/es-100-01J4XD2HX2Y2FBMBEWEE6RGH40-synth_extra_trajs-0809/2024-08-10_00-44-41/model/iq_CleanupSingle-v0_n70_l70_best_pi\n"
     ]
    },
    {
     "name": "stderr",
     "output_type": "stream",
     "text": [
      "100%|██████████| 10/10 [00:01<00:00,  5.24it/s]\n",
      " 25%|██▌       | 5/20 [00:09<00:28,  1.92s/it]"
     ]
    },
    {
     "name": "stdout",
     "output_type": "stream",
     "text": [
      "Loading models from ./idil_train/result/CleanupSingle-v0/idil/es-60-01J4XA99JZKFM2DW2EEA0XSZK7-synth_extra_trajs-0809/2024-08-09_23-55-56/model/iq_CleanupSingle-v0_n70_l70_best_tx\n",
      "Loading models from ./idil_train/result/CleanupSingle-v0/idil/es-60-01J4XA99JZKFM2DW2EEA0XSZK7-synth_extra_trajs-0809/2024-08-09_23-55-56/model/iq_CleanupSingle-v0_n70_l70_best_pi\n"
     ]
    },
    {
     "name": "stderr",
     "output_type": "stream",
     "text": [
      "100%|██████████| 10/10 [00:01<00:00,  6.78it/s]\n",
      " 30%|███       | 6/20 [00:11<00:25,  1.79s/it]"
     ]
    },
    {
     "name": "stdout",
     "output_type": "stream",
     "text": [
      "Loading models from ./idil_train/result/CleanupSingle-v0/idil/es-60-01J4X7FCX4VVR4C8QJ01PCR57Q-synth_extra_trajs-0809/2024-08-09_23-06-51/model/iq_CleanupSingle-v0_n70_l70_best_tx\n",
      "Loading models from ./idil_train/result/CleanupSingle-v0/idil/es-60-01J4X7FCX4VVR4C8QJ01PCR57Q-synth_extra_trajs-0809/2024-08-09_23-06-51/model/iq_CleanupSingle-v0_n70_l70_best_pi\n"
     ]
    },
    {
     "name": "stderr",
     "output_type": "stream",
     "text": [
      "100%|██████████| 10/10 [00:02<00:00,  4.88it/s]\n",
      " 35%|███▌      | 7/20 [00:13<00:24,  1.90s/it]"
     ]
    },
    {
     "name": "stdout",
     "output_type": "stream",
     "text": [
      "Loading models from ./idil_train/result/CleanupSingle-v0/idil/es-60-01J4X4MRGFV2KTEQJW4GNMQKXS-synth_extra_trajs-0809/2024-08-09_22-17-21/model/iq_CleanupSingle-v0_n70_l70_best_tx\n",
      "Loading models from ./idil_train/result/CleanupSingle-v0/idil/es-60-01J4X4MRGFV2KTEQJW4GNMQKXS-synth_extra_trajs-0809/2024-08-09_22-17-21/model/iq_CleanupSingle-v0_n70_l70_best_pi\n"
     ]
    },
    {
     "name": "stderr",
     "output_type": "stream",
     "text": [
      "100%|██████████| 10/10 [00:01<00:00,  6.58it/s]\n",
      " 40%|████      | 8/20 [00:15<00:21,  1.81s/it]"
     ]
    },
    {
     "name": "stdout",
     "output_type": "stream",
     "text": [
      "Loading models from ./idil_train/result/CleanupSingle-v0/idil/es-60-01J4X1WBK8J8F3XXHZBVQSGMP2-synth_extra_trajs-0809/2024-08-09_21-29-04/model/iq_CleanupSingle-v0_n70_l70_best_tx\n",
      "Loading models from ./idil_train/result/CleanupSingle-v0/idil/es-60-01J4X1WBK8J8F3XXHZBVQSGMP2-synth_extra_trajs-0809/2024-08-09_21-29-04/model/iq_CleanupSingle-v0_n70_l70_best_pi\n"
     ]
    },
    {
     "name": "stderr",
     "output_type": "stream",
     "text": [
      "100%|██████████| 10/10 [00:01<00:00,  5.01it/s]\n",
      " 45%|████▌     | 9/20 [00:17<00:20,  1.89s/it]"
     ]
    },
    {
     "name": "stdout",
     "output_type": "stream",
     "text": [
      "Loading models from ./idil_train/result/CleanupSingle-v0/idil/es-60-01J4WYYDPHHAGRHK4Q4TS1GM0Y-synth_extra_trajs-0809/2024-08-09_20-37-46/model/iq_CleanupSingle-v0_n70_l70_best_tx\n",
      "Loading models from ./idil_train/result/CleanupSingle-v0/idil/es-60-01J4WYYDPHHAGRHK4Q4TS1GM0Y-synth_extra_trajs-0809/2024-08-09_20-37-46/model/iq_CleanupSingle-v0_n70_l70_best_pi\n"
     ]
    },
    {
     "name": "stderr",
     "output_type": "stream",
     "text": [
      "100%|██████████| 10/10 [00:01<00:00,  6.14it/s]\n",
      " 50%|█████     | 10/20 [00:18<00:18,  1.84s/it]"
     ]
    },
    {
     "name": "stdout",
     "output_type": "stream",
     "text": [
      "Loading models from ./idil_train/result/CleanupSingle-v0/idil/es-20-01J4WW1WMZN9APJJ8NF115HQDC-synth_extra_trajs-0809/2024-08-09_19-47-14/model/iq_CleanupSingle-v0_n70_l70_best_tx\n",
      "Loading models from ./idil_train/result/CleanupSingle-v0/idil/es-20-01J4WW1WMZN9APJJ8NF115HQDC-synth_extra_trajs-0809/2024-08-09_19-47-14/model/iq_CleanupSingle-v0_n70_l70_best_pi\n"
     ]
    },
    {
     "name": "stderr",
     "output_type": "stream",
     "text": [
      "100%|██████████| 10/10 [00:03<00:00,  3.27it/s]\n",
      " 55%|█████▌    | 11/20 [00:22<00:20,  2.23s/it]"
     ]
    },
    {
     "name": "stdout",
     "output_type": "stream",
     "text": [
      "Loading models from ./idil_train/result/CleanupSingle-v0/idil/es-20-01J4WS66ZBGJCDXQ4QTE33S2HX-synth_extra_trajs-0809/2024-08-09_18-57-09/model/iq_CleanupSingle-v0_n70_l70_best_tx\n",
      "Loading models from ./idil_train/result/CleanupSingle-v0/idil/es-20-01J4WS66ZBGJCDXQ4QTE33S2HX-synth_extra_trajs-0809/2024-08-09_18-57-09/model/iq_CleanupSingle-v0_n70_l70_best_pi\n"
     ]
    },
    {
     "name": "stderr",
     "output_type": "stream",
     "text": [
      "100%|██████████| 10/10 [00:02<00:00,  4.95it/s]\n",
      " 60%|██████    | 12/20 [00:24<00:17,  2.19s/it]"
     ]
    },
    {
     "name": "stdout",
     "output_type": "stream",
     "text": [
      "Loading models from ./idil_train/result/CleanupSingle-v0/idil/es-20-01J4WP99BEQC5G4DNBK4S7RYXQ-synth_extra_trajs-0809/2024-08-09_18-06-25/model/iq_CleanupSingle-v0_n70_l70_best_tx\n",
      "Loading models from ./idil_train/result/CleanupSingle-v0/idil/es-20-01J4WP99BEQC5G4DNBK4S7RYXQ-synth_extra_trajs-0809/2024-08-09_18-06-25/model/iq_CleanupSingle-v0_n70_l70_best_pi\n"
     ]
    },
    {
     "name": "stderr",
     "output_type": "stream",
     "text": [
      "100%|██████████| 10/10 [00:01<00:00,  5.62it/s]\n",
      " 65%|██████▌   | 13/20 [00:25<00:14,  2.09s/it]"
     ]
    },
    {
     "name": "stdout",
     "output_type": "stream",
     "text": [
      "Loading models from ./idil_train/result/CleanupSingle-v0/idil/es-20-01J4WKD4YREQT0RPPCFVT3BFSA-synth_extra_trajs-0809/2024-08-09_17-16-05/model/iq_CleanupSingle-v0_n70_l70_best_tx\n",
      "Loading models from ./idil_train/result/CleanupSingle-v0/idil/es-20-01J4WKD4YREQT0RPPCFVT3BFSA-synth_extra_trajs-0809/2024-08-09_17-16-05/model/iq_CleanupSingle-v0_n70_l70_best_pi\n"
     ]
    },
    {
     "name": "stderr",
     "output_type": "stream",
     "text": [
      "100%|██████████| 10/10 [00:01<00:00,  5.67it/s]\n",
      " 70%|███████   | 14/20 [00:27<00:12,  2.02s/it]"
     ]
    },
    {
     "name": "stdout",
     "output_type": "stream",
     "text": [
      "Loading models from ./idil_train/result/CleanupSingle-v0/idil/es-20-01J4WGGVYCEYXKM7DZ1TQT2KFQ-synth_extra_trajs-0809/2024-08-09_16-25-42/model/iq_CleanupSingle-v0_n70_l70_best_tx\n",
      "Loading models from ./idil_train/result/CleanupSingle-v0/idil/es-20-01J4WGGVYCEYXKM7DZ1TQT2KFQ-synth_extra_trajs-0809/2024-08-09_16-25-42/model/iq_CleanupSingle-v0_n70_l70_best_pi\n"
     ]
    },
    {
     "name": "stderr",
     "output_type": "stream",
     "text": [
      "100%|██████████| 10/10 [00:01<00:00,  6.86it/s]\n",
      " 75%|███████▌  | 15/20 [00:29<00:09,  1.87s/it]"
     ]
    },
    {
     "name": "stdout",
     "output_type": "stream",
     "text": [
      "Loading models from ./idil_train/result/CleanupSingle-v0/idil/es-0-01J4WDKJRBQJA5TRN78KD9V55P-synth_extra_trajs-0809/2024-08-09_15-34-46/model/iq_CleanupSingle-v0_n70_l70_best_tx\n",
      "Loading models from ./idil_train/result/CleanupSingle-v0/idil/es-0-01J4WDKJRBQJA5TRN78KD9V55P-synth_extra_trajs-0809/2024-08-09_15-34-46/model/iq_CleanupSingle-v0_n70_l70_best_pi\n"
     ]
    },
    {
     "name": "stderr",
     "output_type": "stream",
     "text": [
      "100%|██████████| 10/10 [00:01<00:00,  6.68it/s]\n",
      " 80%|████████  | 16/20 [00:30<00:07,  1.78s/it]"
     ]
    },
    {
     "name": "stdout",
     "output_type": "stream",
     "text": [
      "Loading models from ./idil_train/result/CleanupSingle-v0/idil/es-0-01J4W9R49RKQ9060E1VBXGY6XF-synth_extra_trajs-0809/2024-08-09_14-27-19/model/iq_CleanupSingle-v0_n70_l70_best_tx\n",
      "Loading models from ./idil_train/result/CleanupSingle-v0/idil/es-0-01J4W9R49RKQ9060E1VBXGY6XF-synth_extra_trajs-0809/2024-08-09_14-27-19/model/iq_CleanupSingle-v0_n70_l70_best_pi\n"
     ]
    },
    {
     "name": "stderr",
     "output_type": "stream",
     "text": [
      "100%|██████████| 10/10 [00:01<00:00,  5.13it/s]\n",
      " 85%|████████▌ | 17/20 [00:32<00:05,  1.85s/it]"
     ]
    },
    {
     "name": "stdout",
     "output_type": "stream",
     "text": [
      "Loading models from ./idil_train/result/CleanupSingle-v0/idil/es-0-01J4W6Y6HFM2JA6YMBZVC3B9YA-synth_extra_trajs-0809/2024-08-09_13-38-13/model/iq_CleanupSingle-v0_n70_l70_best_tx\n",
      "Loading models from ./idil_train/result/CleanupSingle-v0/idil/es-0-01J4W6Y6HFM2JA6YMBZVC3B9YA-synth_extra_trajs-0809/2024-08-09_13-38-13/model/iq_CleanupSingle-v0_n70_l70_best_pi\n"
     ]
    },
    {
     "name": "stderr",
     "output_type": "stream",
     "text": [
      "100%|██████████| 10/10 [00:01<00:00,  7.03it/s]\n",
      " 90%|█████████ | 18/20 [00:34<00:03,  1.75s/it]"
     ]
    },
    {
     "name": "stdout",
     "output_type": "stream",
     "text": [
      "Loading models from ./idil_train/result/CleanupSingle-v0/idil/es-0-01J4W44NBPQP04TMKJQZ9FK38G-synth_extra_trajs-0809/2024-08-09_12-49-19/model/iq_CleanupSingle-v0_n70_l70_best_tx\n",
      "Loading models from ./idil_train/result/CleanupSingle-v0/idil/es-0-01J4W44NBPQP04TMKJQZ9FK38G-synth_extra_trajs-0809/2024-08-09_12-49-19/model/iq_CleanupSingle-v0_n70_l70_best_pi\n"
     ]
    },
    {
     "name": "stderr",
     "output_type": "stream",
     "text": [
      "100%|██████████| 10/10 [00:03<00:00,  2.52it/s]\n",
      " 95%|█████████▌| 19/20 [00:38<00:02,  2.43s/it]"
     ]
    },
    {
     "name": "stdout",
     "output_type": "stream",
     "text": [
      "Loading models from ./idil_train/result/CleanupSingle-v0/idil/es-0-01J4W1ANG5AXDA4SZSPHKH12J3-synth_extra_trajs-0809/2024-08-09_12-00-10/model/iq_CleanupSingle-v0_n70_l70_best_tx\n",
      "Loading models from ./idil_train/result/CleanupSingle-v0/idil/es-0-01J4W1ANG5AXDA4SZSPHKH12J3-synth_extra_trajs-0809/2024-08-09_12-00-10/model/iq_CleanupSingle-v0_n70_l70_best_pi\n"
     ]
    },
    {
     "name": "stderr",
     "output_type": "stream",
     "text": [
      "100%|██████████| 10/10 [00:01<00:00,  5.08it/s]\n",
      "100%|██████████| 20/20 [00:40<00:00,  2.03s/it]\n"
     ]
    }
   ],
   "source": [
    "trajectories = nb_utils.get_agent_trajectories(runs=RUNS, env_name=ENV_NAME, num_trajectories=10)"
   ]
  },
  {
   "cell_type": "code",
   "execution_count": 8,
   "metadata": {},
   "outputs": [
    {
     "name": "stdout",
     "output_type": "stream",
     "text": [
      "There are 4 kvals\n",
      "Each kval has 50 cum_rewards, matching the 5 x 10 trajectories generated for each agent (using key = 100)\n"
     ]
    }
   ],
   "source": [
    "cum_rewards = nb_utils.get_cumulative_rewards(trajectories, agents)"
   ]
  },
  {
   "cell_type": "code",
   "execution_count": 9,
   "metadata": {},
   "outputs": [
    {
     "data": {
      "text/plain": [
       "(-100.0, -10.0)"
      ]
     },
     "execution_count": 9,
     "metadata": {},
     "output_type": "execute_result"
    },
    {
     "data": {
      "image/png": "[encoded data removed]",
      "text/plain": [
       "<Figure size 640x480 with 1 Axes>"
      ]
     },
     "metadata": {},
     "output_type": "display_data"
    }
   ],
   "source": [
    "nb_utils.plot_cum_rewards(cum_rewards)\n",
    "plt.gca().set_ylim([-100, -10])"
   ]
  },
  {
   "cell_type": "code",
   "execution_count": 10,
   "metadata": {},
   "outputs": [
    {
     "data": {
      "text/html": [
       "<div>\n",
       "<style scoped>\n",
       "    .dataframe tbody tr th:only-of-type {\n",
       "        vertical-align: middle;\n",
       "    }\n",
       "\n",
       "    .dataframe tbody tr th {\n",
       "        vertical-align: top;\n",
       "    }\n",
       "\n",
       "    .dataframe thead th {\n",
       "        text-align: right;\n",
       "    }\n",
       "</style>\n",
       "<table border=\"1\" class=\"dataframe\">\n",
       "  <thead>\n",
       "    <tr style=\"text-align: right;\">\n",
       "      <th></th>\n",
       "      <th>100</th>\n",
       "      <th>60</th>\n",
       "      <th>20</th>\n",
       "      <th>0</th>\n",
       "    </tr>\n",
       "  </thead>\n",
       "  <tbody>\n",
       "    <tr>\n",
       "      <th>count</th>\n",
       "      <td>50.000000</td>\n",
       "      <td>50.000000</td>\n",
       "      <td>50.000000</td>\n",
       "      <td>50.000000</td>\n",
       "    </tr>\n",
       "    <tr>\n",
       "      <th>mean</th>\n",
       "      <td>-54.800000</td>\n",
       "      <td>-51.840000</td>\n",
       "      <td>-62.580000</td>\n",
       "      <td>-66.880000</td>\n",
       "    </tr>\n",
       "    <tr>\n",
       "      <th>std</th>\n",
       "      <td>34.870021</td>\n",
       "      <td>26.015976</td>\n",
       "      <td>42.045209</td>\n",
       "      <td>51.558423</td>\n",
       "    </tr>\n",
       "    <tr>\n",
       "      <th>min</th>\n",
       "      <td>-200.000000</td>\n",
       "      <td>-200.000000</td>\n",
       "      <td>-200.000000</td>\n",
       "      <td>-200.000000</td>\n",
       "    </tr>\n",
       "    <tr>\n",
       "      <th>25%</th>\n",
       "      <td>-53.000000</td>\n",
       "      <td>-51.000000</td>\n",
       "      <td>-56.500000</td>\n",
       "      <td>-57.500000</td>\n",
       "    </tr>\n",
       "    <tr>\n",
       "      <th>50%</th>\n",
       "      <td>-45.000000</td>\n",
       "      <td>-46.000000</td>\n",
       "      <td>-49.000000</td>\n",
       "      <td>-44.500000</td>\n",
       "    </tr>\n",
       "    <tr>\n",
       "      <th>75%</th>\n",
       "      <td>-40.000000</td>\n",
       "      <td>-42.250000</td>\n",
       "      <td>-44.250000</td>\n",
       "      <td>-41.250000</td>\n",
       "    </tr>\n",
       "    <tr>\n",
       "      <th>max</th>\n",
       "      <td>-36.000000</td>\n",
       "      <td>-36.000000</td>\n",
       "      <td>-39.000000</td>\n",
       "      <td>-37.000000</td>\n",
       "    </tr>\n",
       "  </tbody>\n",
       "</table>\n",
       "</div>"
      ],
      "text/plain": [
       "              100         60          20          0  \n",
       "count   50.000000   50.000000   50.000000   50.000000\n",
       "mean   -54.800000  -51.840000  -62.580000  -66.880000\n",
       "std     34.870021   26.015976   42.045209   51.558423\n",
       "min   -200.000000 -200.000000 -200.000000 -200.000000\n",
       "25%    -53.000000  -51.000000  -56.500000  -57.500000\n",
       "50%    -45.000000  -46.000000  -49.000000  -44.500000\n",
       "75%    -40.000000  -42.250000  -44.250000  -41.250000\n",
       "max    -36.000000  -36.000000  -39.000000  -37.000000"
      ]
     },
     "execution_count": 10,
     "metadata": {},
     "output_type": "execute_result"
    }
   ],
   "source": [
    "pd.DataFrame(cum_rewards).describe()"
   ]
  },
  {
   "cell_type": "markdown",
   "metadata": {},
   "source": [
    "## evaluate mean differences between K values"
   ]
  },
  {
   "cell_type": "code",
   "execution_count": 11,
   "metadata": {},
   "outputs": [
    {
     "name": "stdout",
     "output_type": "stream",
     "text": [
      "K = 20\n",
      "Ttest_indResult(statistic=-0.4570295580147173, pvalue=0.6487021535611674)\n",
      "Not significant\n",
      "------------\n",
      "K = 60\n",
      "Ttest_indResult(statistic=-1.8415277827704513, pvalue=0.06963849110077518)\n",
      "Not significant\n",
      "------------\n",
      "K = 100\n",
      "Ttest_indResult(statistic=-1.372339339057828, pvalue=0.17352367924763318)\n",
      "Not significant\n",
      "------------\n"
     ]
    }
   ],
   "source": [
    "test_baseline = 0\n",
    "test_kvals = [20, 60, 100]\n",
    "\n",
    "for k in test_kvals:\n",
    "    print(f\"K = {k}\")\n",
    "    res = stats.ttest_ind(cum_rewards[test_baseline], cum_rewards[k], equal_var=False)\n",
    "    print(res)\n",
    "    if res.pvalue < 0.05:\n",
    "        print(\"Significant\")\n",
    "    else:\n",
    "        print(\"Not significant\")\n",
    "\n",
    "    print(\"---\" * 4)"
   ]
  },
  {
   "cell_type": "markdown",
   "metadata": {},
   "source": [
    "# Evaluate on test data"
   ]
  },
  {
   "cell_type": "code",
   "execution_count": 12,
   "metadata": {},
   "outputs": [],
   "source": [
    "# load test data for CleanupSingle-v0\n",
    "# load test data\n",
    "import os\n",
    "\n",
    "with open(os.path.join(\"idil_train\", \"test_data\", \"CleanupSingle-v0_50-TEST.pkl\"), \"rb\") as f:\n",
    "    test_data = pkl.load(f)"
   ]
  },
  {
   "cell_type": "code",
   "execution_count": 13,
   "metadata": {},
   "outputs": [
    {
     "name": "stderr",
     "output_type": "stream",
     "text": [
      "50it [00:06,  7.62it/s]\n"
     ]
    }
   ],
   "source": [
    "accs_by_k = nb_utils.compute_accuracy_by_kval(test_data=test_data, agents=agents)"
   ]
  },
  {
   "cell_type": "code",
   "execution_count": 14,
   "metadata": {},
   "outputs": [
    {
     "data": {
      "image/png": "[encoded data removed]",
      "text/plain": [
       "<Figure size 640x480 with 1 Axes>"
      ]
     },
     "metadata": {},
     "output_type": "display_data"
    }
   ],
   "source": [
    "nb_utils.plot_sequence_accuracy_boxplot(accs_by_k)"
   ]
  },
  {
   "cell_type": "code",
   "execution_count": 15,
   "metadata": {},
   "outputs": [
    {
     "data": {
      "text/html": [
       "<div>\n",
       "<style scoped>\n",
       "    .dataframe tbody tr th:only-of-type {\n",
       "        vertical-align: middle;\n",
       "    }\n",
       "\n",
       "    .dataframe tbody tr th {\n",
       "        vertical-align: top;\n",
       "    }\n",
       "\n",
       "    .dataframe thead th {\n",
       "        text-align: right;\n",
       "    }\n",
       "</style>\n",
       "<table border=\"1\" class=\"dataframe\">\n",
       "  <thead>\n",
       "    <tr style=\"text-align: right;\">\n",
       "      <th></th>\n",
       "      <th>100</th>\n",
       "      <th>60</th>\n",
       "      <th>20</th>\n",
       "      <th>0</th>\n",
       "    </tr>\n",
       "  </thead>\n",
       "  <tbody>\n",
       "    <tr>\n",
       "      <th>count</th>\n",
       "      <td>250.000000</td>\n",
       "      <td>250.000000</td>\n",
       "      <td>250.000000</td>\n",
       "      <td>250.000000</td>\n",
       "    </tr>\n",
       "    <tr>\n",
       "      <th>mean</th>\n",
       "      <td>0.960407</td>\n",
       "      <td>0.952086</td>\n",
       "      <td>0.957714</td>\n",
       "      <td>0.929977</td>\n",
       "    </tr>\n",
       "    <tr>\n",
       "      <th>std</th>\n",
       "      <td>0.063340</td>\n",
       "      <td>0.063372</td>\n",
       "      <td>0.064906</td>\n",
       "      <td>0.096606</td>\n",
       "    </tr>\n",
       "    <tr>\n",
       "      <th>min</th>\n",
       "      <td>0.672131</td>\n",
       "      <td>0.673077</td>\n",
       "      <td>0.673077</td>\n",
       "      <td>0.568966</td>\n",
       "    </tr>\n",
       "    <tr>\n",
       "      <th>25%</th>\n",
       "      <td>0.938776</td>\n",
       "      <td>0.923077</td>\n",
       "      <td>0.933333</td>\n",
       "      <td>0.877675</td>\n",
       "    </tr>\n",
       "    <tr>\n",
       "      <th>50%</th>\n",
       "      <td>0.991525</td>\n",
       "      <td>0.978723</td>\n",
       "      <td>1.000000</td>\n",
       "      <td>0.979158</td>\n",
       "    </tr>\n",
       "    <tr>\n",
       "      <th>75%</th>\n",
       "      <td>1.000000</td>\n",
       "      <td>1.000000</td>\n",
       "      <td>1.000000</td>\n",
       "      <td>1.000000</td>\n",
       "    </tr>\n",
       "    <tr>\n",
       "      <th>max</th>\n",
       "      <td>1.000000</td>\n",
       "      <td>1.000000</td>\n",
       "      <td>1.000000</td>\n",
       "      <td>1.000000</td>\n",
       "    </tr>\n",
       "  </tbody>\n",
       "</table>\n",
       "</div>"
      ],
      "text/plain": [
       "              100         60          20          0  \n",
       "count  250.000000  250.000000  250.000000  250.000000\n",
       "mean     0.960407    0.952086    0.957714    0.929977\n",
       "std      0.063340    0.063372    0.064906    0.096606\n",
       "min      0.672131    0.673077    0.673077    0.568966\n",
       "25%      0.938776    0.923077    0.933333    0.877675\n",
       "50%      0.991525    0.978723    1.000000    0.979158\n",
       "75%      1.000000    1.000000    1.000000    1.000000\n",
       "max      1.000000    1.000000    1.000000    1.000000"
      ]
     },
     "execution_count": 15,
     "metadata": {},
     "output_type": "execute_result"
    }
   ],
   "source": [
    "pd.DataFrame(accs_by_k).describe()"
   ]
  },
  {
   "cell_type": "code",
   "execution_count": 16,
   "metadata": {},
   "outputs": [
    {
     "name": "stdout",
     "output_type": "stream",
     "text": [
      "K = 20\n",
      "Ttest_indResult(statistic=-3.768063001800442, pvalue=0.0001871487489721436)\n",
      "Significant\n",
      "------------\n",
      "K = 60\n",
      "Ttest_indResult(statistic=-3.0255954716295084, pvalue=0.0026304068846197443)\n",
      "Significant\n",
      "------------\n",
      "K = 100\n",
      "Ttest_indResult(statistic=-4.164914286630631, pvalue=3.7660245210506694e-05)\n",
      "Significant\n",
      "------------\n"
     ]
    }
   ],
   "source": [
    "test_baseline = 0\n",
    "test_kvals = [20, 60, 100]\n",
    "\n",
    "for k in test_kvals:\n",
    "    print(f\"K = {k}\")\n",
    "    res = stats.ttest_ind(accs_by_k[test_baseline], accs_by_k[k], equal_var=False)\n",
    "    print(res)\n",
    "    if res.pvalue < 0.05:\n",
    "        print(\"Significant\")\n",
    "    else:\n",
    "        print(\"Not significant\")\n",
    "\n",
    "    print(\"---\" * 4)"
   ]
  },
  {
   "cell_type": "markdown",
   "metadata": {},
   "source": [
    "# Evaluate `fixed_pi` models"
   ]
  },
  {
   "cell_type": "code",
   "execution_count": 17,
   "metadata": {},
   "outputs": [],
   "source": [
    "RUNS = [\n",
    "\"es-100-01J50HYWVA9B1VKTJ3Z1Q59ZG9-synth_extra_trajs-fixedpi-0810\",\n",
    "\"es-100-01J50FYKH42PXN6JGMP4PV3Z9W-synth_extra_trajs-fixedpi-0810\",\n",
    "\"es-100-01J50DYTWZ1D3Q4PFKE6VHN54M-synth_extra_trajs-fixedpi-0810\",\n",
    "\"es-100-01J50BZ12TGCPCAFBGQD3DAH9A-synth_extra_trajs-fixedpi-0810\",\n",
    "\"es-100-01J50A0HH3JC5EB39KEAKF61QR-synth_extra_trajs-fixedpi-0810\",\n",
    "\"es-60-01J5081T4SPE48MV40K1W3495A-synth_extra_trajs-fixedpi-0810\",\n",
    "\"es-60-01J5063CG8MZMTKJYDP9C7K7AW-synth_extra_trajs-fixedpi-0810\",\n",
    "\"es-60-01J50441MDA9JSTSETH5AGNEBW-synth_extra_trajs-fixedpi-0810\",\n",
    "\"es-60-01J5025B59AQHG6VXN5BZDFCW1-synth_extra_trajs-fixedpi-0810\",\n",
    "\"es-60-01J5005X7E5HSTPSJ4K7S38Z3J-synth_extra_trajs-fixedpi-0810\",\n",
    "\"es-20-01J4ZY79P0D0WKME7MEKMSNZFE-synth_extra_trajs-fixedpi-0810\",\n",
    "\"es-20-01J4ZW7YQ0GEQSF4C0K3JS29TW-synth_extra_trajs-fixedpi-0810\",\n",
    "\"es-20-01J4ZT8FSGZNZM5FA64DR61W8R-synth_extra_trajs-fixedpi-0810\",\n",
    "\"es-20-01J4ZR9R661ATZJRNBHM3EFTW1-synth_extra_trajs-fixedpi-0810\",\n",
    "\"es-20-01J4ZPAF1W7FSYYZ4YPC74PSRR-synth_extra_trajs-fixedpi-0810\",\n",
    "\"es-0-01J4ZMCF4YE5GYMVG3XBAWZ70A-synth_extra_trajs-fixedpi-0810\",\n",
    "\"es-0-01J4ZJE2CRGHDXKR5MEF0M709G-synth_extra_trajs-fixedpi-0810\",\n",
    "\"es-0-01J4ZGE3N4HV2XMP9NEY8B3A7X-synth_extra_trajs-fixedpi-0810\",\n",
    "\"es-0-01J4ZEE268ZTT50GR19M68JQNC-synth_extra_trajs-fixedpi-0810\",\n",
    "\"es-0-01J4ZCDQKQ0GMHVGPWB3041F4E-synth_extra_trajs-fixedpi-0810\",\n",
    "]"
   ]
  },
  {
   "cell_type": "code",
   "execution_count": 18,
   "metadata": {},
   "outputs": [],
   "source": [
    "from idil_algs.baselines.IQLearn.dataset.expert_dataset import ExpertDataset\n",
    "import os\n",
    "\n",
    "expert_dataset = ExpertDataset(os.path.join(\"idil_train\",\"extra_trajectories/CleanupSingle-v0_500-EXPERT-DIST.pkl\"))"
   ]
  },
  {
   "cell_type": "code",
   "execution_count": 19,
   "metadata": {},
   "outputs": [
    {
     "data": {
      "text/plain": [
       "<module 'utils' from '/home/juanhevia/IDIL/notebooks/utils.py'>"
      ]
     },
     "execution_count": 19,
     "metadata": {},
     "output_type": "execute_result"
    }
   ],
   "source": [
    "importlib.reload(nb_utils)"
   ]
  },
  {
   "cell_type": "code",
   "execution_count": 20,
   "metadata": {},
   "outputs": [
    {
     "data": {
      "text/plain": [
       "<module 'generate_trajectories' from '/home/juanhevia/IDIL/notebooks/generate_trajectories.py'>"
      ]
     },
     "execution_count": 20,
     "metadata": {},
     "output_type": "execute_result"
    }
   ],
   "source": [
    "importlib.reload(traj_utils)"
   ]
  },
  {
   "cell_type": "code",
   "execution_count": 21,
   "metadata": {},
   "outputs": [
    {
     "name": "stdout",
     "output_type": "stream",
     "text": [
      "Loading models from ./idil_train/result/CleanupSingle-v0/idil/es-100-01J50HYWVA9B1VKTJ3Z1Q59ZG9-synth_extra_trajs-fixedpi-0810/2024-08-11_06-07-47/model/iq_CleanupSingle-v0_n70_l70_best_tx\n",
      "Loading models from ./idil_train/result/CleanupSingle-v0/idil/es-100-01J50FYKH42PXN6JGMP4PV3Z9W-synth_extra_trajs-fixedpi-0810/2024-08-11_05-32-41/model/iq_CleanupSingle-v0_n70_l70_best_tx\n",
      "Loading models from ./idil_train/result/CleanupSingle-v0/idil/es-100-01J50DYTWZ1D3Q4PFKE6VHN54M-synth_extra_trajs-fixedpi-0810/2024-08-11_04-57-51/model/iq_CleanupSingle-v0_n70_l70_best_tx\n",
      "Loading models from ./idil_train/result/CleanupSingle-v0/idil/es-100-01J50BZ12TGCPCAFBGQD3DAH9A-synth_extra_trajs-fixedpi-0810/2024-08-11_04-23-00/model/iq_CleanupSingle-v0_n70_l70_best_tx\n",
      "Loading models from ./idil_train/result/CleanupSingle-v0/idil/es-100-01J50A0HH3JC5EB39KEAKF61QR-synth_extra_trajs-fixedpi-0810/2024-08-11_03-48-53/model/iq_CleanupSingle-v0_n70_l70_best_tx\n",
      "Loading models from ./idil_train/result/CleanupSingle-v0/idil/es-60-01J5081T4SPE48MV40K1W3495A-synth_extra_trajs-fixedpi-0810/2024-08-11_03-14-37/model/iq_CleanupSingle-v0_n70_l70_best_tx\n",
      "Loading models from ./idil_train/result/CleanupSingle-v0/idil/es-60-01J5063CG8MZMTKJYDP9C7K7AW-synth_extra_trajs-fixedpi-0810/2024-08-11_02-40-32/model/iq_CleanupSingle-v0_n70_l70_best_tx\n",
      "Loading models from ./idil_train/result/CleanupSingle-v0/idil/es-60-01J50441MDA9JSTSETH5AGNEBW-synth_extra_trajs-fixedpi-0810/2024-08-11_02-05-56/model/iq_CleanupSingle-v0_n70_l70_best_tx\n",
      "Loading models from ./idil_train/result/CleanupSingle-v0/idil/es-60-01J5025B59AQHG6VXN5BZDFCW1-synth_extra_trajs-fixedpi-0810/2024-08-11_01-31-41/model/iq_CleanupSingle-v0_n70_l70_best_tx\n",
      "Loading models from ./idil_train/result/CleanupSingle-v0/idil/es-60-01J5005X7E5HSTPSJ4K7S38Z3J-synth_extra_trajs-fixedpi-0810/2024-08-11_00-57-03/model/iq_CleanupSingle-v0_n70_l70_best_tx\n",
      "Loading models from ./idil_train/result/CleanupSingle-v0/idil/es-20-01J4ZY79P0D0WKME7MEKMSNZFE-synth_extra_trajs-fixedpi-0810/2024-08-11_00-22-51/model/iq_CleanupSingle-v0_n70_l70_best_tx\n",
      "Loading models from ./idil_train/result/CleanupSingle-v0/idil/es-20-01J4ZW7YQ0GEQSF4C0K3JS29TW-synth_extra_trajs-fixedpi-0810/2024-08-10_23-48-16/model/iq_CleanupSingle-v0_n70_l70_best_tx\n",
      "Loading models from ./idil_train/result/CleanupSingle-v0/idil/es-20-01J4ZT8FSGZNZM5FA64DR61W8R-synth_extra_trajs-fixedpi-0810/2024-08-10_23-13-36/model/iq_CleanupSingle-v0_n70_l70_best_tx\n",
      "Loading models from ./idil_train/result/CleanupSingle-v0/idil/es-20-01J4ZR9R661ATZJRNBHM3EFTW1-synth_extra_trajs-fixedpi-0810/2024-08-10_22-39-20/model/iq_CleanupSingle-v0_n70_l70_best_tx\n",
      "Loading models from ./idil_train/result/CleanupSingle-v0/idil/es-20-01J4ZPAF1W7FSYYZ4YPC74PSRR-synth_extra_trajs-fixedpi-0810/2024-08-10_22-04-46/model/iq_CleanupSingle-v0_n70_l70_best_tx\n",
      "Loading models from ./idil_train/result/CleanupSingle-v0/idil/es-0-01J4ZMCF4YE5GYMVG3XBAWZ70A-synth_extra_trajs-fixedpi-0810/2024-08-10_21-30-55/model/iq_CleanupSingle-v0_n70_l70_best_tx\n",
      "Loading models from ./idil_train/result/CleanupSingle-v0/idil/es-0-01J4ZJE2CRGHDXKR5MEF0M709G-synth_extra_trajs-fixedpi-0810/2024-08-10_20-56-50/model/iq_CleanupSingle-v0_n70_l70_best_tx\n",
      "Loading models from ./idil_train/result/CleanupSingle-v0/idil/es-0-01J4ZGE3N4HV2XMP9NEY8B3A7X-synth_extra_trajs-fixedpi-0810/2024-08-10_20-21-54/model/iq_CleanupSingle-v0_n70_l70_best_tx\n",
      "Loading models from ./idil_train/result/CleanupSingle-v0/idil/es-0-01J4ZEE268ZTT50GR19M68JQNC-synth_extra_trajs-fixedpi-0810/2024-08-10_19-46-56/model/iq_CleanupSingle-v0_n70_l70_best_tx\n",
      "Loading models from ./idil_train/result/CleanupSingle-v0/idil/es-0-01J4ZCDQKQ0GMHVGPWB3041F4E-synth_extra_trajs-fixedpi-0810/2024-08-10_19-11-48/model/iq_CleanupSingle-v0_n70_l70_best_tx\n"
     ]
    },
    {
     "name": "stderr",
     "output_type": "stream",
     "text": [
      "  0%|          | 0/20 [00:00<?, ?it/s]"
     ]
    },
    {
     "name": "stdout",
     "output_type": "stream",
     "text": [
      "Loading models from ./idil_train/result/CleanupSingle-v0/idil/es-100-01J50HYWVA9B1VKTJ3Z1Q59ZG9-synth_extra_trajs-fixedpi-0810/2024-08-11_06-07-47/model/iq_CleanupSingle-v0_n70_l70_best_tx\n"
     ]
    },
    {
     "name": "stderr",
     "output_type": "stream",
     "text": [
      "100%|██████████| 10/10 [00:05<00:00,  2.00it/s]\n",
      "  5%|▌         | 1/20 [00:05<01:36,  5.07s/it]"
     ]
    },
    {
     "name": "stdout",
     "output_type": "stream",
     "text": [
      "Loading models from ./idil_train/result/CleanupSingle-v0/idil/es-100-01J50FYKH42PXN6JGMP4PV3Z9W-synth_extra_trajs-fixedpi-0810/2024-08-11_05-32-41/model/iq_CleanupSingle-v0_n70_l70_best_tx\n"
     ]
    },
    {
     "name": "stderr",
     "output_type": "stream",
     "text": [
      "100%|██████████| 10/10 [00:05<00:00,  2.00it/s]\n",
      " 10%|█         | 2/20 [00:10<01:31,  5.07s/it]"
     ]
    },
    {
     "name": "stdout",
     "output_type": "stream",
     "text": [
      "Loading models from ./idil_train/result/CleanupSingle-v0/idil/es-100-01J50DYTWZ1D3Q4PFKE6VHN54M-synth_extra_trajs-fixedpi-0810/2024-08-11_04-57-51/model/iq_CleanupSingle-v0_n70_l70_best_tx\n"
     ]
    },
    {
     "name": "stderr",
     "output_type": "stream",
     "text": [
      "100%|██████████| 10/10 [00:04<00:00,  2.01it/s]\n",
      " 15%|█▌        | 3/20 [00:15<01:25,  5.05s/it]"
     ]
    },
    {
     "name": "stdout",
     "output_type": "stream",
     "text": [
      "Loading models from ./idil_train/result/CleanupSingle-v0/idil/es-100-01J50BZ12TGCPCAFBGQD3DAH9A-synth_extra_trajs-fixedpi-0810/2024-08-11_04-23-00/model/iq_CleanupSingle-v0_n70_l70_best_tx\n"
     ]
    },
    {
     "name": "stderr",
     "output_type": "stream",
     "text": [
      "100%|██████████| 10/10 [00:05<00:00,  1.98it/s]\n",
      " 20%|██        | 4/20 [00:20<01:21,  5.07s/it]"
     ]
    },
    {
     "name": "stdout",
     "output_type": "stream",
     "text": [
      "Loading models from ./idil_train/result/CleanupSingle-v0/idil/es-100-01J50A0HH3JC5EB39KEAKF61QR-synth_extra_trajs-fixedpi-0810/2024-08-11_03-48-53/model/iq_CleanupSingle-v0_n70_l70_best_tx\n"
     ]
    },
    {
     "name": "stderr",
     "output_type": "stream",
     "text": [
      "100%|██████████| 10/10 [00:04<00:00,  2.00it/s]\n",
      " 25%|██▌       | 5/20 [00:25<01:15,  5.06s/it]"
     ]
    },
    {
     "name": "stdout",
     "output_type": "stream",
     "text": [
      "Loading models from ./idil_train/result/CleanupSingle-v0/idil/es-60-01J5081T4SPE48MV40K1W3495A-synth_extra_trajs-fixedpi-0810/2024-08-11_03-14-37/model/iq_CleanupSingle-v0_n70_l70_best_tx\n"
     ]
    },
    {
     "name": "stderr",
     "output_type": "stream",
     "text": [
      "100%|██████████| 10/10 [00:05<00:00,  2.00it/s]\n",
      " 30%|███       | 6/20 [00:30<01:10,  5.06s/it]"
     ]
    },
    {
     "name": "stdout",
     "output_type": "stream",
     "text": [
      "Loading models from ./idil_train/result/CleanupSingle-v0/idil/es-60-01J5063CG8MZMTKJYDP9C7K7AW-synth_extra_trajs-fixedpi-0810/2024-08-11_02-40-32/model/iq_CleanupSingle-v0_n70_l70_best_tx\n"
     ]
    },
    {
     "name": "stderr",
     "output_type": "stream",
     "text": [
      "100%|██████████| 10/10 [00:05<00:00,  1.99it/s]\n",
      " 35%|███▌      | 7/20 [00:35<01:05,  5.07s/it]"
     ]
    },
    {
     "name": "stdout",
     "output_type": "stream",
     "text": [
      "Loading models from ./idil_train/result/CleanupSingle-v0/idil/es-60-01J50441MDA9JSTSETH5AGNEBW-synth_extra_trajs-fixedpi-0810/2024-08-11_02-05-56/model/iq_CleanupSingle-v0_n70_l70_best_tx\n"
     ]
    },
    {
     "name": "stderr",
     "output_type": "stream",
     "text": [
      "100%|██████████| 10/10 [00:04<00:00,  2.01it/s]\n",
      " 40%|████      | 8/20 [00:40<01:00,  5.06s/it]"
     ]
    },
    {
     "name": "stdout",
     "output_type": "stream",
     "text": [
      "Loading models from ./idil_train/result/CleanupSingle-v0/idil/es-60-01J5025B59AQHG6VXN5BZDFCW1-synth_extra_trajs-fixedpi-0810/2024-08-11_01-31-41/model/iq_CleanupSingle-v0_n70_l70_best_tx\n"
     ]
    },
    {
     "name": "stderr",
     "output_type": "stream",
     "text": [
      "100%|██████████| 10/10 [00:04<00:00,  2.01it/s]\n",
      " 45%|████▌     | 9/20 [00:45<00:55,  5.05s/it]"
     ]
    },
    {
     "name": "stdout",
     "output_type": "stream",
     "text": [
      "Loading models from ./idil_train/result/CleanupSingle-v0/idil/es-60-01J5005X7E5HSTPSJ4K7S38Z3J-synth_extra_trajs-fixedpi-0810/2024-08-11_00-57-03/model/iq_CleanupSingle-v0_n70_l70_best_tx\n"
     ]
    },
    {
     "name": "stderr",
     "output_type": "stream",
     "text": [
      "100%|██████████| 10/10 [00:04<00:00,  2.01it/s]\n",
      " 50%|█████     | 10/20 [00:50<00:50,  5.04s/it]"
     ]
    },
    {
     "name": "stdout",
     "output_type": "stream",
     "text": [
      "Loading models from ./idil_train/result/CleanupSingle-v0/idil/es-20-01J4ZY79P0D0WKME7MEKMSNZFE-synth_extra_trajs-fixedpi-0810/2024-08-11_00-22-51/model/iq_CleanupSingle-v0_n70_l70_best_tx\n"
     ]
    },
    {
     "name": "stderr",
     "output_type": "stream",
     "text": [
      "100%|██████████| 10/10 [00:04<00:00,  2.01it/s]\n",
      " 55%|█████▌    | 11/20 [00:55<00:45,  5.04s/it]"
     ]
    },
    {
     "name": "stdout",
     "output_type": "stream",
     "text": [
      "Loading models from ./idil_train/result/CleanupSingle-v0/idil/es-20-01J4ZW7YQ0GEQSF4C0K3JS29TW-synth_extra_trajs-fixedpi-0810/2024-08-10_23-48-16/model/iq_CleanupSingle-v0_n70_l70_best_tx\n"
     ]
    },
    {
     "name": "stderr",
     "output_type": "stream",
     "text": [
      "100%|██████████| 10/10 [00:04<00:00,  2.01it/s]\n",
      " 60%|██████    | 12/20 [01:00<00:40,  5.04s/it]"
     ]
    },
    {
     "name": "stdout",
     "output_type": "stream",
     "text": [
      "Loading models from ./idil_train/result/CleanupSingle-v0/idil/es-20-01J4ZT8FSGZNZM5FA64DR61W8R-synth_extra_trajs-fixedpi-0810/2024-08-10_23-13-36/model/iq_CleanupSingle-v0_n70_l70_best_tx\n"
     ]
    },
    {
     "name": "stderr",
     "output_type": "stream",
     "text": [
      "100%|██████████| 10/10 [00:04<00:00,  2.00it/s]\n",
      " 65%|██████▌   | 13/20 [01:05<00:35,  5.04s/it]"
     ]
    },
    {
     "name": "stdout",
     "output_type": "stream",
     "text": [
      "Loading models from ./idil_train/result/CleanupSingle-v0/idil/es-20-01J4ZR9R661ATZJRNBHM3EFTW1-synth_extra_trajs-fixedpi-0810/2024-08-10_22-39-20/model/iq_CleanupSingle-v0_n70_l70_best_tx\n"
     ]
    },
    {
     "name": "stderr",
     "output_type": "stream",
     "text": [
      "100%|██████████| 10/10 [00:04<00:00,  2.00it/s]\n",
      " 70%|███████   | 14/20 [01:10<00:30,  5.04s/it]"
     ]
    },
    {
     "name": "stdout",
     "output_type": "stream",
     "text": [
      "Loading models from ./idil_train/result/CleanupSingle-v0/idil/es-20-01J4ZPAF1W7FSYYZ4YPC74PSRR-synth_extra_trajs-fixedpi-0810/2024-08-10_22-04-46/model/iq_CleanupSingle-v0_n70_l70_best_tx\n"
     ]
    },
    {
     "name": "stderr",
     "output_type": "stream",
     "text": [
      "100%|██████████| 10/10 [00:04<00:00,  2.00it/s]\n",
      " 75%|███████▌  | 15/20 [01:15<00:25,  5.04s/it]"
     ]
    },
    {
     "name": "stdout",
     "output_type": "stream",
     "text": [
      "Loading models from ./idil_train/result/CleanupSingle-v0/idil/es-0-01J4ZMCF4YE5GYMVG3XBAWZ70A-synth_extra_trajs-fixedpi-0810/2024-08-10_21-30-55/model/iq_CleanupSingle-v0_n70_l70_best_tx\n"
     ]
    },
    {
     "name": "stderr",
     "output_type": "stream",
     "text": [
      "100%|██████████| 10/10 [00:04<00:00,  2.01it/s]\n",
      " 80%|████████  | 16/20 [01:20<00:20,  5.04s/it]"
     ]
    },
    {
     "name": "stdout",
     "output_type": "stream",
     "text": [
      "Loading models from ./idil_train/result/CleanupSingle-v0/idil/es-0-01J4ZJE2CRGHDXKR5MEF0M709G-synth_extra_trajs-fixedpi-0810/2024-08-10_20-56-50/model/iq_CleanupSingle-v0_n70_l70_best_tx\n"
     ]
    },
    {
     "name": "stderr",
     "output_type": "stream",
     "text": [
      "100%|██████████| 10/10 [00:04<00:00,  2.01it/s]\n",
      " 85%|████████▌ | 17/20 [01:25<00:15,  5.04s/it]"
     ]
    },
    {
     "name": "stdout",
     "output_type": "stream",
     "text": [
      "Loading models from ./idil_train/result/CleanupSingle-v0/idil/es-0-01J4ZGE3N4HV2XMP9NEY8B3A7X-synth_extra_trajs-fixedpi-0810/2024-08-10_20-21-54/model/iq_CleanupSingle-v0_n70_l70_best_tx\n"
     ]
    },
    {
     "name": "stderr",
     "output_type": "stream",
     "text": [
      "100%|██████████| 10/10 [00:05<00:00,  2.00it/s]\n",
      " 90%|█████████ | 18/20 [01:30<00:10,  5.05s/it]"
     ]
    },
    {
     "name": "stdout",
     "output_type": "stream",
     "text": [
      "Loading models from ./idil_train/result/CleanupSingle-v0/idil/es-0-01J4ZEE268ZTT50GR19M68JQNC-synth_extra_trajs-fixedpi-0810/2024-08-10_19-46-56/model/iq_CleanupSingle-v0_n70_l70_best_tx\n"
     ]
    },
    {
     "name": "stderr",
     "output_type": "stream",
     "text": [
      "100%|██████████| 10/10 [00:05<00:00,  2.00it/s]\n",
      " 95%|█████████▌| 19/20 [01:35<00:05,  5.05s/it]"
     ]
    },
    {
     "name": "stdout",
     "output_type": "stream",
     "text": [
      "Loading models from ./idil_train/result/CleanupSingle-v0/idil/es-0-01J4ZCDQKQ0GMHVGPWB3041F4E-synth_extra_trajs-fixedpi-0810/2024-08-10_19-11-48/model/iq_CleanupSingle-v0_n70_l70_best_tx\n"
     ]
    },
    {
     "name": "stderr",
     "output_type": "stream",
     "text": [
      "100%|██████████| 10/10 [00:05<00:00,  1.98it/s]\n",
      "100%|██████████| 20/20 [01:41<00:00,  5.05s/it]\n"
     ]
    }
   ],
   "source": [
    "agents_fixed_pi = nb_utils.get_trained_models(runs=RUNS, env_name=ENV_NAME, \n",
    "                                              load_micro=False, expert_dataset=expert_dataset)\n",
    "trajectories_fixed_pi = nb_utils.get_agent_trajectories(runs=RUNS, env_name=ENV_NAME, num_trajectories=10, \n",
    "                                                        load_micro=False, expert_dataset=expert_dataset)"
   ]
  },
  {
   "cell_type": "code",
   "execution_count": 63,
   "metadata": {},
   "outputs": [
    {
     "name": "stdout",
     "output_type": "stream",
     "text": [
      "There are 4 kvals\n",
      "Each kval has 50 cum_rewards, matching the 5 x 10 trajectories generated for each agent (using key = 100)\n"
     ]
    },
    {
     "data": {
      "image/png": "[encoded data removed]",
      "text/plain": [
       "<Figure size 640x480 with 1 Axes>"
      ]
     },
     "metadata": {},
     "output_type": "display_data"
    }
   ],
   "source": [
    "cum_rewards_fixed_pi = nb_utils.get_cumulative_rewards(trajectories_fixed_pi, agents_fixed_pi)\n",
    "nb_utils.plot_cum_rewards(cum_rewards_fixed_pi)\n",
    "# plt.gca().set_ylim([-100, -10])"
   ]
  },
  {
   "cell_type": "code",
   "execution_count": 67,
   "metadata": {},
   "outputs": [
    {
     "data": {
      "text/plain": [
       "[-1,\n",
       " -1,\n",
       " -1,\n",
       " -1,\n",
       " -1,\n",
       " -1,\n",
       " -1,\n",
       " -1,\n",
       " -1,\n",
       " -1,\n",
       " -1,\n",
       " -1,\n",
       " -1,\n",
       " -1,\n",
       " -1,\n",
       " -1,\n",
       " -1,\n",
       " -1,\n",
       " -1,\n",
       " -1,\n",
       " -1,\n",
       " -1,\n",
       " -1,\n",
       " -1,\n",
       " -1,\n",
       " -1,\n",
       " -1,\n",
       " -1,\n",
       " -1,\n",
       " -1,\n",
       " -1,\n",
       " -1,\n",
       " -1,\n",
       " -1,\n",
       " -1,\n",
       " -1,\n",
       " -1,\n",
       " -1,\n",
       " -1,\n",
       " -1,\n",
       " -1,\n",
       " -1,\n",
       " -1,\n",
       " -1,\n",
       " -1,\n",
       " -1,\n",
       " -1,\n",
       " -1,\n",
       " -1,\n",
       " -1,\n",
       " -1,\n",
       " -1,\n",
       " -1,\n",
       " -1,\n",
       " -1,\n",
       " -1,\n",
       " -1,\n",
       " -1,\n",
       " -1,\n",
       " -1,\n",
       " -1,\n",
       " -1,\n",
       " -1,\n",
       " -1,\n",
       " -1,\n",
       " -1,\n",
       " -1,\n",
       " -1,\n",
       " -1,\n",
       " -1,\n",
       " -1,\n",
       " -1,\n",
       " -1,\n",
       " -1,\n",
       " -1,\n",
       " -1,\n",
       " -1,\n",
       " -1,\n",
       " -1,\n",
       " -1,\n",
       " -1,\n",
       " -1,\n",
       " -1,\n",
       " -1,\n",
       " -1,\n",
       " -1,\n",
       " -1,\n",
       " -1,\n",
       " -1,\n",
       " -1,\n",
       " -1,\n",
       " -1,\n",
       " -1,\n",
       " -1,\n",
       " -1,\n",
       " -1,\n",
       " -1,\n",
       " -1,\n",
       " -1,\n",
       " -1,\n",
       " -1,\n",
       " -1,\n",
       " -1,\n",
       " -1,\n",
       " -1,\n",
       " -1,\n",
       " -1,\n",
       " -1,\n",
       " -1,\n",
       " -1,\n",
       " -1,\n",
       " -1,\n",
       " -1,\n",
       " -1,\n",
       " -1,\n",
       " -1,\n",
       " -1,\n",
       " -1,\n",
       " -1,\n",
       " -1,\n",
       " -1,\n",
       " -1,\n",
       " -1,\n",
       " -1,\n",
       " -1,\n",
       " -1,\n",
       " -1,\n",
       " -1,\n",
       " -1,\n",
       " -1,\n",
       " -1,\n",
       " -1,\n",
       " -1,\n",
       " -1,\n",
       " -1,\n",
       " -1,\n",
       " -1,\n",
       " -1,\n",
       " -1,\n",
       " -1,\n",
       " -1,\n",
       " -1,\n",
       " -1,\n",
       " -1,\n",
       " -1,\n",
       " -1,\n",
       " -1,\n",
       " -1,\n",
       " -1,\n",
       " -1,\n",
       " -1,\n",
       " -1,\n",
       " -1,\n",
       " -1,\n",
       " -1,\n",
       " -1,\n",
       " -1,\n",
       " -1,\n",
       " -1,\n",
       " -1,\n",
       " -1,\n",
       " -1,\n",
       " -1,\n",
       " -1,\n",
       " -1,\n",
       " -1,\n",
       " -1,\n",
       " -1,\n",
       " -1,\n",
       " -1,\n",
       " -1,\n",
       " -1,\n",
       " -1,\n",
       " -1,\n",
       " -1,\n",
       " -1,\n",
       " -1,\n",
       " -1,\n",
       " -1,\n",
       " -1,\n",
       " -1,\n",
       " -1,\n",
       " -1,\n",
       " -1,\n",
       " -1,\n",
       " -1,\n",
       " -1,\n",
       " -1,\n",
       " -1,\n",
       " -1,\n",
       " -1,\n",
       " -1,\n",
       " -1,\n",
       " -1,\n",
       " -1,\n",
       " -1,\n",
       " -1,\n",
       " -1,\n",
       " -1,\n",
       " -1]"
      ]
     },
     "execution_count": 67,
     "metadata": {},
     "output_type": "execute_result"
    }
   ],
   "source": [
    "trajectories_fixed_pi[0][0]['rewards'][0]"
   ]
  },
  {
   "cell_type": "code",
   "execution_count": 60,
   "metadata": {},
   "outputs": [
    {
     "data": {
      "text/html": [
       "<div>\n",
       "<style scoped>\n",
       "    .dataframe tbody tr th:only-of-type {\n",
       "        vertical-align: middle;\n",
       "    }\n",
       "\n",
       "    .dataframe tbody tr th {\n",
       "        vertical-align: top;\n",
       "    }\n",
       "\n",
       "    .dataframe thead th {\n",
       "        text-align: right;\n",
       "    }\n",
       "</style>\n",
       "<table border=\"1\" class=\"dataframe\">\n",
       "  <thead>\n",
       "    <tr style=\"text-align: right;\">\n",
       "      <th></th>\n",
       "      <th>100</th>\n",
       "      <th>60</th>\n",
       "      <th>20</th>\n",
       "      <th>0</th>\n",
       "    </tr>\n",
       "  </thead>\n",
       "  <tbody>\n",
       "    <tr>\n",
       "      <th>count</th>\n",
       "      <td>50.0</td>\n",
       "      <td>50.0</td>\n",
       "      <td>50.0</td>\n",
       "      <td>50.0</td>\n",
       "    </tr>\n",
       "    <tr>\n",
       "      <th>mean</th>\n",
       "      <td>-200.0</td>\n",
       "      <td>-200.0</td>\n",
       "      <td>-200.0</td>\n",
       "      <td>-200.0</td>\n",
       "    </tr>\n",
       "    <tr>\n",
       "      <th>std</th>\n",
       "      <td>0.0</td>\n",
       "      <td>0.0</td>\n",
       "      <td>0.0</td>\n",
       "      <td>0.0</td>\n",
       "    </tr>\n",
       "    <tr>\n",
       "      <th>min</th>\n",
       "      <td>-200.0</td>\n",
       "      <td>-200.0</td>\n",
       "      <td>-200.0</td>\n",
       "      <td>-200.0</td>\n",
       "    </tr>\n",
       "    <tr>\n",
       "      <th>25%</th>\n",
       "      <td>-200.0</td>\n",
       "      <td>-200.0</td>\n",
       "      <td>-200.0</td>\n",
       "      <td>-200.0</td>\n",
       "    </tr>\n",
       "    <tr>\n",
       "      <th>50%</th>\n",
       "      <td>-200.0</td>\n",
       "      <td>-200.0</td>\n",
       "      <td>-200.0</td>\n",
       "      <td>-200.0</td>\n",
       "    </tr>\n",
       "    <tr>\n",
       "      <th>75%</th>\n",
       "      <td>-200.0</td>\n",
       "      <td>-200.0</td>\n",
       "      <td>-200.0</td>\n",
       "      <td>-200.0</td>\n",
       "    </tr>\n",
       "    <tr>\n",
       "      <th>max</th>\n",
       "      <td>-200.0</td>\n",
       "      <td>-200.0</td>\n",
       "      <td>-200.0</td>\n",
       "      <td>-200.0</td>\n",
       "    </tr>\n",
       "  </tbody>\n",
       "</table>\n",
       "</div>"
      ],
      "text/plain": [
       "         100    60     20     0  \n",
       "count   50.0   50.0   50.0   50.0\n",
       "mean  -200.0 -200.0 -200.0 -200.0\n",
       "std      0.0    0.0    0.0    0.0\n",
       "min   -200.0 -200.0 -200.0 -200.0\n",
       "25%   -200.0 -200.0 -200.0 -200.0\n",
       "50%   -200.0 -200.0 -200.0 -200.0\n",
       "75%   -200.0 -200.0 -200.0 -200.0\n",
       "max   -200.0 -200.0 -200.0 -200.0"
      ]
     },
     "execution_count": 60,
     "metadata": {},
     "output_type": "execute_result"
    }
   ],
   "source": [
    "pd.DataFrame(cum_rewards_fixed_pi).describe()"
   ]
  },
  {
   "cell_type": "code",
   "execution_count": null,
   "metadata": {},
   "outputs": [],
   "source": []
  },
  {
   "cell_type": "code",
   "execution_count": 21,
   "metadata": {},
   "outputs": [
    {
     "name": "stderr",
     "output_type": "stream",
     "text": [
      "50it [00:08,  6.22it/s]\n"
     ]
    }
   ],
   "source": [
    "accs_by_k_fixed_pi = nb_utils.compute_accuracy_by_kval(test_data=test_data, agents=agents_fixed_pi)"
   ]
  },
  {
   "cell_type": "code",
   "execution_count": 33,
   "metadata": {},
   "outputs": [
    {
     "data": {
      "image/png": "[encoded data removed]",
      "text/plain": [
       "<Figure size 640x480 with 1 Axes>"
      ]
     },
     "metadata": {},
     "output_type": "display_data"
    }
   ],
   "source": [
    "nb_utils.plot_sequence_accuracy_boxplot(accs_by_k_fixed_pi)"
   ]
  },
  {
   "cell_type": "code",
   "execution_count": 23,
   "metadata": {},
   "outputs": [
    {
     "data": {
      "text/html": [
       "<div>\n",
       "<style scoped>\n",
       "    .dataframe tbody tr th:only-of-type {\n",
       "        vertical-align: middle;\n",
       "    }\n",
       "\n",
       "    .dataframe tbody tr th {\n",
       "        vertical-align: top;\n",
       "    }\n",
       "\n",
       "    .dataframe thead th {\n",
       "        text-align: right;\n",
       "    }\n",
       "</style>\n",
       "<table border=\"1\" class=\"dataframe\">\n",
       "  <thead>\n",
       "    <tr style=\"text-align: right;\">\n",
       "      <th></th>\n",
       "      <th>100</th>\n",
       "      <th>60</th>\n",
       "      <th>20</th>\n",
       "      <th>0</th>\n",
       "    </tr>\n",
       "  </thead>\n",
       "  <tbody>\n",
       "    <tr>\n",
       "      <th>count</th>\n",
       "      <td>250.000000</td>\n",
       "      <td>250.000000</td>\n",
       "      <td>250.000000</td>\n",
       "      <td>250.000000</td>\n",
       "    </tr>\n",
       "    <tr>\n",
       "      <th>mean</th>\n",
       "      <td>0.528204</td>\n",
       "      <td>0.468221</td>\n",
       "      <td>0.500402</td>\n",
       "      <td>0.581118</td>\n",
       "    </tr>\n",
       "    <tr>\n",
       "      <th>std</th>\n",
       "      <td>0.236021</td>\n",
       "      <td>0.231161</td>\n",
       "      <td>0.228577</td>\n",
       "      <td>0.222254</td>\n",
       "    </tr>\n",
       "    <tr>\n",
       "      <th>min</th>\n",
       "      <td>0.000000</td>\n",
       "      <td>0.000000</td>\n",
       "      <td>0.000000</td>\n",
       "      <td>0.043478</td>\n",
       "    </tr>\n",
       "    <tr>\n",
       "      <th>25%</th>\n",
       "      <td>0.333333</td>\n",
       "      <td>0.302637</td>\n",
       "      <td>0.326198</td>\n",
       "      <td>0.432559</td>\n",
       "    </tr>\n",
       "    <tr>\n",
       "      <th>50%</th>\n",
       "      <td>0.560488</td>\n",
       "      <td>0.469337</td>\n",
       "      <td>0.489996</td>\n",
       "      <td>0.588235</td>\n",
       "    </tr>\n",
       "    <tr>\n",
       "      <th>75%</th>\n",
       "      <td>0.702128</td>\n",
       "      <td>0.655172</td>\n",
       "      <td>0.670977</td>\n",
       "      <td>0.740338</td>\n",
       "    </tr>\n",
       "    <tr>\n",
       "      <th>max</th>\n",
       "      <td>1.000000</td>\n",
       "      <td>1.000000</td>\n",
       "      <td>1.000000</td>\n",
       "      <td>1.000000</td>\n",
       "    </tr>\n",
       "  </tbody>\n",
       "</table>\n",
       "</div>"
      ],
      "text/plain": [
       "              100         60          20          0  \n",
       "count  250.000000  250.000000  250.000000  250.000000\n",
       "mean     0.528204    0.468221    0.500402    0.581118\n",
       "std      0.236021    0.231161    0.228577    0.222254\n",
       "min      0.000000    0.000000    0.000000    0.043478\n",
       "25%      0.333333    0.302637    0.326198    0.432559\n",
       "50%      0.560488    0.469337    0.489996    0.588235\n",
       "75%      0.702128    0.655172    0.670977    0.740338\n",
       "max      1.000000    1.000000    1.000000    1.000000"
      ]
     },
     "execution_count": 23,
     "metadata": {},
     "output_type": "execute_result"
    }
   ],
   "source": [
    "pd.DataFrame(accs_by_k_fixed_pi).describe()"
   ]
  },
  {
   "cell_type": "markdown",
   "metadata": {},
   "source": [
    "## why the weird `reward` distribution?"
   ]
  },
  {
   "cell_type": "code",
   "execution_count": 50,
   "metadata": {},
   "outputs": [
    {
     "data": {
      "text/plain": [
       "<idil_algs.IDIL.utils.DiscreteExpertPolicySampler at 0x7f8c1429b4f0>"
      ]
     },
     "execution_count": 50,
     "metadata": {},
     "output_type": "execute_result"
    }
   ],
   "source": [
    "agents_fixed_pi[20][0].pi_agent"
   ]
  },
  {
   "cell_type": "markdown",
   "metadata": {},
   "source": [
    "# Evaluate `randomized` models"
   ]
  },
  {
   "cell_type": "code",
   "execution_count": 17,
   "metadata": {},
   "outputs": [],
   "source": [
    "RUNS = [\n",
    "\"es-100-01J5584R669FFFZBS76AVJHFS1-extra_synth_traj-bm_randomize-nofep-0812\",\n",
    "\"es-100-01J5559Y612R9XHVBEVJ92GFX9-extra_synth_traj-bm_randomize-nofep-0812\",\n",
    "\"es-100-01J552H4JQDCRYETWCA70555QP-extra_synth_traj-bm_randomize-nofep-0812\",\n",
    "\"es-100-01J54ZQ6SM288VM279K5C5JBN5-extra_synth_traj-bm_randomize-nofep-0812\",\n",
    "\"es-100-01J54WXQA094K6YDQ9KJAAMXWE-extra_synth_traj-bm_randomize-nofep-0812\",\n",
    "\"es-60-01J54T6DDF5289YV3XS3GR3RAD-extra_synth_traj-bm_randomize-nofep-0812\",\n",
    "\"es-60-01J54QDAYRCM604ER7AQECQV53-extra_synth_traj-bm_randomize-nofep-0812\",\n",
    "\"es-60-01J54MMN216J310F07ECFYGPDR-extra_synth_traj-bm_randomize-nofep-0812\",\n",
    "\"es-60-01J54HVDHBJNADWHXHX43F58VM-extra_synth_traj-bm_randomize-nofep-0812\",\n",
    "\"es-60-01J54EVK6DAJ1BPDR7PW1R7PAC-extra_synth_traj-bm_randomize-nofep-0812\",\n",
    "\"es-20-01J54BYPDP2DX6109VQP5761ZQ-extra_synth_traj-bm_randomize-nofep-0812\",\n",
    "\"es-20-01J54939PHED0DVK5H6FPDG5H1-extra_synth_traj-bm_randomize-nofep-0812\",\n",
    "\"es-20-01J5465RDA1FBB7WVMHV7GSTAD-extra_synth_traj-bm_randomize-nofep-0812\",\n",
    "\"es-20-01J543AGH1NY54ZK96SDSYME0B-extra_synth_traj-bm_randomize-nofep-0812\",\n",
    "\"es-20-01J540F0T02QTH7BY8E1B1P16D-extra_synth_traj-bm_randomize-nofep-0812\",\n",
    "\"es-0-01J53XK5T3VNHVDFTEQ624898Y-extra_synth_traj-bm_randomize-nofep-0812\",\n",
    "\"es-0-01J53TSKK0RB81XFWG2BZ4CHP7-extra_synth_traj-bm_randomize-nofep-0812\",\n",
    "\"es-0-01J53QZVQ1KS7SSNMNAXRAZTEE-extra_synth_traj-bm_randomize-nofep-0812\",\n",
    "\"es-0-01J53N53F267FQQB9YDGQVMJV8-extra_synth_traj-bm_randomize-nofep-0812\",\n",
    "\"es-0-01J53J7CGEKC5H83HMNXTQ4C09-extra_synth_traj-bm_randomize-nofep-0812\",\n",
    "]"
   ]
  },
  {
   "cell_type": "code",
   "execution_count": 18,
   "metadata": {},
   "outputs": [],
   "source": [
    "from idil_algs.baselines.IQLearn.dataset.expert_dataset import ExpertDataset\n",
    "import os\n",
    "\n",
    "expert_dataset = ExpertDataset(os.path.join(\"idil_train\",\"extra_trajectories/CleanupSingle-v0_500-EXPERT-DIST.pkl\"))"
   ]
  },
  {
   "cell_type": "code",
   "execution_count": 22,
   "metadata": {},
   "outputs": [
    {
     "data": {
      "text/plain": [
       "<module 'generate_trajectories' from '/home/juanhevia/IDIL/notebooks/generate_trajectories.py'>"
      ]
     },
     "execution_count": 22,
     "metadata": {},
     "output_type": "execute_result"
    }
   ],
   "source": [
    "importlib.reload(nb_utils)\n",
    "importlib.reload(traj_utils)"
   ]
  },
  {
   "cell_type": "code",
   "execution_count": 19,
   "metadata": {},
   "outputs": [
    {
     "name": "stdout",
     "output_type": "stream",
     "text": [
      "Loading models from ./idil_train/result/CleanupSingle-v0/idil/es-100-01J5584R669FFFZBS76AVJHFS1-extra_synth_traj-bm_randomize-nofep-0812/2024-08-13_01-52-26/model/iq_CleanupSingle-v0_n70_l70_best_tx\n",
      "Loading models from ./idil_train/result/CleanupSingle-v0/idil/es-100-01J5584R669FFFZBS76AVJHFS1-extra_synth_traj-bm_randomize-nofep-0812/2024-08-13_01-52-26/model/iq_CleanupSingle-v0_n70_l70_best_pi\n",
      "Loading models from ./idil_train/result/CleanupSingle-v0/idil/es-100-01J5559Y612R9XHVBEVJ92GFX9-extra_synth_traj-bm_randomize-nofep-0812/2024-08-13_01-02-50/model/iq_CleanupSingle-v0_n70_l70_best_tx\n",
      "Loading models from ./idil_train/result/CleanupSingle-v0/idil/es-100-01J5559Y612R9XHVBEVJ92GFX9-extra_synth_traj-bm_randomize-nofep-0812/2024-08-13_01-02-50/model/iq_CleanupSingle-v0_n70_l70_best_pi\n",
      "Loading models from ./idil_train/result/CleanupSingle-v0/idil/es-100-01J552H4JQDCRYETWCA70555QP-extra_synth_traj-bm_randomize-nofep-0812/2024-08-13_00-14-20/model/iq_CleanupSingle-v0_n70_l70_best_tx\n",
      "Loading models from ./idil_train/result/CleanupSingle-v0/idil/es-100-01J552H4JQDCRYETWCA70555QP-extra_synth_traj-bm_randomize-nofep-0812/2024-08-13_00-14-20/model/iq_CleanupSingle-v0_n70_l70_best_pi\n",
      "Loading models from ./idil_train/result/CleanupSingle-v0/idil/es-100-01J54ZQ6SM288VM279K5C5JBN5-extra_synth_traj-bm_randomize-nofep-0812/2024-08-12_23-25-13/model/iq_CleanupSingle-v0_n70_l70_best_tx\n",
      "Loading models from ./idil_train/result/CleanupSingle-v0/idil/es-100-01J54ZQ6SM288VM279K5C5JBN5-extra_synth_traj-bm_randomize-nofep-0812/2024-08-12_23-25-13/model/iq_CleanupSingle-v0_n70_l70_best_pi\n",
      "Loading models from ./idil_train/result/CleanupSingle-v0/idil/es-100-01J54WXQA094K6YDQ9KJAAMXWE-extra_synth_traj-bm_randomize-nofep-0812/2024-08-12_22-36-21/model/iq_CleanupSingle-v0_n70_l70_best_tx\n",
      "Loading models from ./idil_train/result/CleanupSingle-v0/idil/es-100-01J54WXQA094K6YDQ9KJAAMXWE-extra_synth_traj-bm_randomize-nofep-0812/2024-08-12_22-36-21/model/iq_CleanupSingle-v0_n70_l70_best_pi\n",
      "Loading models from ./idil_train/result/CleanupSingle-v0/idil/es-60-01J54T6DDF5289YV3XS3GR3RAD-extra_synth_traj-bm_randomize-nofep-0812/2024-08-12_21-48-40/model/iq_CleanupSingle-v0_n70_l70_best_tx\n",
      "Loading models from ./idil_train/result/CleanupSingle-v0/idil/es-60-01J54T6DDF5289YV3XS3GR3RAD-extra_synth_traj-bm_randomize-nofep-0812/2024-08-12_21-48-40/model/iq_CleanupSingle-v0_n70_l70_best_pi\n",
      "Loading models from ./idil_train/result/CleanupSingle-v0/idil/es-60-01J54QDAYRCM604ER7AQECQV53-extra_synth_traj-bm_randomize-nofep-0812/2024-08-12_21-00-01/model/iq_CleanupSingle-v0_n70_l70_best_tx\n",
      "Loading models from ./idil_train/result/CleanupSingle-v0/idil/es-60-01J54QDAYRCM604ER7AQECQV53-extra_synth_traj-bm_randomize-nofep-0812/2024-08-12_21-00-01/model/iq_CleanupSingle-v0_n70_l70_best_pi\n",
      "Loading models from ./idil_train/result/CleanupSingle-v0/idil/es-60-01J54MMN216J310F07ECFYGPDR-extra_synth_traj-bm_randomize-nofep-0812/2024-08-12_20-11-35/model/iq_CleanupSingle-v0_n70_l70_best_tx\n",
      "Loading models from ./idil_train/result/CleanupSingle-v0/idil/es-60-01J54MMN216J310F07ECFYGPDR-extra_synth_traj-bm_randomize-nofep-0812/2024-08-12_20-11-35/model/iq_CleanupSingle-v0_n70_l70_best_pi\n",
      "Loading models from ./idil_train/result/CleanupSingle-v0/idil/es-60-01J54HVDHBJNADWHXHX43F58VM-extra_synth_traj-bm_randomize-nofep-0812/2024-08-12_19-22-51/model/iq_CleanupSingle-v0_n70_l70_best_tx\n",
      "Loading models from ./idil_train/result/CleanupSingle-v0/idil/es-60-01J54HVDHBJNADWHXHX43F58VM-extra_synth_traj-bm_randomize-nofep-0812/2024-08-12_19-22-51/model/iq_CleanupSingle-v0_n70_l70_best_pi\n",
      "Loading models from ./idil_train/result/CleanupSingle-v0/idil/es-60-01J54EVK6DAJ1BPDR7PW1R7PAC-extra_synth_traj-bm_randomize-nofep-0812/2024-08-12_18-30-31/model/iq_CleanupSingle-v0_n70_l70_best_tx\n",
      "Loading models from ./idil_train/result/CleanupSingle-v0/idil/es-60-01J54EVK6DAJ1BPDR7PW1R7PAC-extra_synth_traj-bm_randomize-nofep-0812/2024-08-12_18-30-31/model/iq_CleanupSingle-v0_n70_l70_best_pi\n",
      "Loading models from ./idil_train/result/CleanupSingle-v0/idil/es-20-01J54BYPDP2DX6109VQP5761ZQ-extra_synth_traj-bm_randomize-nofep-0812/2024-08-12_17-39-47/model/iq_CleanupSingle-v0_n70_l70_best_tx\n",
      "Loading models from ./idil_train/result/CleanupSingle-v0/idil/es-20-01J54BYPDP2DX6109VQP5761ZQ-extra_synth_traj-bm_randomize-nofep-0812/2024-08-12_17-39-47/model/iq_CleanupSingle-v0_n70_l70_best_pi\n",
      "Loading models from ./idil_train/result/CleanupSingle-v0/idil/es-20-01J54939PHED0DVK5H6FPDG5H1-extra_synth_traj-bm_randomize-nofep-0812/2024-08-12_16-49-52/model/iq_CleanupSingle-v0_n70_l70_best_tx\n",
      "Loading models from ./idil_train/result/CleanupSingle-v0/idil/es-20-01J54939PHED0DVK5H6FPDG5H1-extra_synth_traj-bm_randomize-nofep-0812/2024-08-12_16-49-52/model/iq_CleanupSingle-v0_n70_l70_best_pi\n",
      "Loading models from ./idil_train/result/CleanupSingle-v0/idil/es-20-01J5465RDA1FBB7WVMHV7GSTAD-extra_synth_traj-bm_randomize-nofep-0812/2024-08-12_15-58-47/model/iq_CleanupSingle-v0_n70_l70_best_tx\n",
      "Loading models from ./idil_train/result/CleanupSingle-v0/idil/es-20-01J5465RDA1FBB7WVMHV7GSTAD-extra_synth_traj-bm_randomize-nofep-0812/2024-08-12_15-58-47/model/iq_CleanupSingle-v0_n70_l70_best_pi\n",
      "Loading models from ./idil_train/result/CleanupSingle-v0/idil/es-20-01J543AGH1NY54ZK96SDSYME0B-extra_synth_traj-bm_randomize-nofep-0812/2024-08-12_15-08-57/model/iq_CleanupSingle-v0_n70_l70_best_tx\n",
      "Loading models from ./idil_train/result/CleanupSingle-v0/idil/es-20-01J543AGH1NY54ZK96SDSYME0B-extra_synth_traj-bm_randomize-nofep-0812/2024-08-12_15-08-57/model/iq_CleanupSingle-v0_n70_l70_best_pi\n",
      "Loading models from ./idil_train/result/CleanupSingle-v0/idil/es-20-01J540F0T02QTH7BY8E1B1P16D-extra_synth_traj-bm_randomize-nofep-0812/2024-08-12_14-18-59/model/iq_CleanupSingle-v0_n70_l70_best_tx\n",
      "Loading models from ./idil_train/result/CleanupSingle-v0/idil/es-20-01J540F0T02QTH7BY8E1B1P16D-extra_synth_traj-bm_randomize-nofep-0812/2024-08-12_14-18-59/model/iq_CleanupSingle-v0_n70_l70_best_pi\n",
      "Loading models from ./idil_train/result/CleanupSingle-v0/idil/es-0-01J53XK5T3VNHVDFTEQ624898Y-extra_synth_traj-bm_randomize-nofep-0812/2024-08-12_13-28-50/model/iq_CleanupSingle-v0_n70_l70_best_tx\n",
      "Loading models from ./idil_train/result/CleanupSingle-v0/idil/es-0-01J53XK5T3VNHVDFTEQ624898Y-extra_synth_traj-bm_randomize-nofep-0812/2024-08-12_13-28-50/model/iq_CleanupSingle-v0_n70_l70_best_pi\n",
      "Loading models from ./idil_train/result/CleanupSingle-v0/idil/es-0-01J53TSKK0RB81XFWG2BZ4CHP7-extra_synth_traj-bm_randomize-nofep-0812/2024-08-12_12-39-55/model/iq_CleanupSingle-v0_n70_l70_best_tx\n",
      "Loading models from ./idil_train/result/CleanupSingle-v0/idil/es-0-01J53TSKK0RB81XFWG2BZ4CHP7-extra_synth_traj-bm_randomize-nofep-0812/2024-08-12_12-39-55/model/iq_CleanupSingle-v0_n70_l70_best_pi\n",
      "Loading models from ./idil_train/result/CleanupSingle-v0/idil/es-0-01J53QZVQ1KS7SSNMNAXRAZTEE-extra_synth_traj-bm_randomize-nofep-0812/2024-08-12_11-50-54/model/iq_CleanupSingle-v0_n70_l70_best_tx\n",
      "Loading models from ./idil_train/result/CleanupSingle-v0/idil/es-0-01J53QZVQ1KS7SSNMNAXRAZTEE-extra_synth_traj-bm_randomize-nofep-0812/2024-08-12_11-50-54/model/iq_CleanupSingle-v0_n70_l70_best_pi\n",
      "Loading models from ./idil_train/result/CleanupSingle-v0/idil/es-0-01J53N53F267FQQB9YDGQVMJV8-extra_synth_traj-bm_randomize-nofep-0812/2024-08-12_11-01-20/model/iq_CleanupSingle-v0_n70_l70_best_tx\n",
      "Loading models from ./idil_train/result/CleanupSingle-v0/idil/es-0-01J53N53F267FQQB9YDGQVMJV8-extra_synth_traj-bm_randomize-nofep-0812/2024-08-12_11-01-20/model/iq_CleanupSingle-v0_n70_l70_best_pi\n",
      "Loading models from ./idil_train/result/CleanupSingle-v0/idil/es-0-01J53J7CGEKC5H83HMNXTQ4C09-extra_synth_traj-bm_randomize-nofep-0812/2024-08-12_10-10-09/model/iq_CleanupSingle-v0_n70_l70_best_tx\n",
      "Loading models from ./idil_train/result/CleanupSingle-v0/idil/es-0-01J53J7CGEKC5H83HMNXTQ4C09-extra_synth_traj-bm_randomize-nofep-0812/2024-08-12_10-10-09/model/iq_CleanupSingle-v0_n70_l70_best_pi\n"
     ]
    },
    {
     "name": "stderr",
     "output_type": "stream",
     "text": [
      "  0%|          | 0/20 [00:00<?, ?it/s]"
     ]
    },
    {
     "name": "stdout",
     "output_type": "stream",
     "text": [
      "Loading models from ./idil_train/result/CleanupSingle-v0/idil/es-100-01J5584R669FFFZBS76AVJHFS1-extra_synth_traj-bm_randomize-nofep-0812/2024-08-13_01-52-26/model/iq_CleanupSingle-v0_n70_l70_best_tx\n",
      "Loading models from ./idil_train/result/CleanupSingle-v0/idil/es-100-01J5584R669FFFZBS76AVJHFS1-extra_synth_traj-bm_randomize-nofep-0812/2024-08-13_01-52-26/model/iq_CleanupSingle-v0_n70_l70_best_pi\n"
     ]
    },
    {
     "name": "stderr",
     "output_type": "stream",
     "text": [
      "100%|██████████| 10/10 [00:02<00:00,  4.97it/s]\n",
      "  5%|▌         | 1/20 [00:02<00:39,  2.09s/it]"
     ]
    },
    {
     "name": "stdout",
     "output_type": "stream",
     "text": [
      "Loading models from ./idil_train/result/CleanupSingle-v0/idil/es-100-01J5559Y612R9XHVBEVJ92GFX9-extra_synth_traj-bm_randomize-nofep-0812/2024-08-13_01-02-50/model/iq_CleanupSingle-v0_n70_l70_best_tx\n",
      "Loading models from ./idil_train/result/CleanupSingle-v0/idil/es-100-01J5559Y612R9XHVBEVJ92GFX9-extra_synth_traj-bm_randomize-nofep-0812/2024-08-13_01-02-50/model/iq_CleanupSingle-v0_n70_l70_best_pi\n"
     ]
    },
    {
     "name": "stderr",
     "output_type": "stream",
     "text": [
      "100%|██████████| 10/10 [00:01<00:00,  6.95it/s]\n",
      " 10%|█         | 2/20 [00:03<00:31,  1.75s/it]"
     ]
    },
    {
     "name": "stdout",
     "output_type": "stream",
     "text": [
      "Loading models from ./idil_train/result/CleanupSingle-v0/idil/es-100-01J552H4JQDCRYETWCA70555QP-extra_synth_traj-bm_randomize-nofep-0812/2024-08-13_00-14-20/model/iq_CleanupSingle-v0_n70_l70_best_tx\n",
      "Loading models from ./idil_train/result/CleanupSingle-v0/idil/es-100-01J552H4JQDCRYETWCA70555QP-extra_synth_traj-bm_randomize-nofep-0812/2024-08-13_00-14-20/model/iq_CleanupSingle-v0_n70_l70_best_pi\n"
     ]
    },
    {
     "name": "stderr",
     "output_type": "stream",
     "text": [
      "100%|██████████| 10/10 [00:01<00:00,  6.69it/s]\n",
      " 15%|█▌        | 3/20 [00:05<00:28,  1.67s/it]"
     ]
    },
    {
     "name": "stdout",
     "output_type": "stream",
     "text": [
      "Loading models from ./idil_train/result/CleanupSingle-v0/idil/es-100-01J54ZQ6SM288VM279K5C5JBN5-extra_synth_traj-bm_randomize-nofep-0812/2024-08-12_23-25-13/model/iq_CleanupSingle-v0_n70_l70_best_tx\n",
      "Loading models from ./idil_train/result/CleanupSingle-v0/idil/es-100-01J54ZQ6SM288VM279K5C5JBN5-extra_synth_traj-bm_randomize-nofep-0812/2024-08-12_23-25-13/model/iq_CleanupSingle-v0_n70_l70_best_pi\n"
     ]
    },
    {
     "name": "stderr",
     "output_type": "stream",
     "text": [
      "100%|██████████| 10/10 [00:01<00:00,  6.57it/s]\n",
      " 20%|██        | 4/20 [00:06<00:26,  1.64s/it]"
     ]
    },
    {
     "name": "stdout",
     "output_type": "stream",
     "text": [
      "Loading models from ./idil_train/result/CleanupSingle-v0/idil/es-100-01J54WXQA094K6YDQ9KJAAMXWE-extra_synth_traj-bm_randomize-nofep-0812/2024-08-12_22-36-21/model/iq_CleanupSingle-v0_n70_l70_best_tx\n",
      "Loading models from ./idil_train/result/CleanupSingle-v0/idil/es-100-01J54WXQA094K6YDQ9KJAAMXWE-extra_synth_traj-bm_randomize-nofep-0812/2024-08-12_22-36-21/model/iq_CleanupSingle-v0_n70_l70_best_pi\n"
     ]
    },
    {
     "name": "stderr",
     "output_type": "stream",
     "text": [
      "100%|██████████| 10/10 [00:02<00:00,  4.07it/s]\n",
      " 25%|██▌       | 5/20 [00:09<00:29,  1.96s/it]"
     ]
    },
    {
     "name": "stdout",
     "output_type": "stream",
     "text": [
      "Loading models from ./idil_train/result/CleanupSingle-v0/idil/es-60-01J54T6DDF5289YV3XS3GR3RAD-extra_synth_traj-bm_randomize-nofep-0812/2024-08-12_21-48-40/model/iq_CleanupSingle-v0_n70_l70_best_tx\n",
      "Loading models from ./idil_train/result/CleanupSingle-v0/idil/es-60-01J54T6DDF5289YV3XS3GR3RAD-extra_synth_traj-bm_randomize-nofep-0812/2024-08-12_21-48-40/model/iq_CleanupSingle-v0_n70_l70_best_pi\n"
     ]
    },
    {
     "name": "stderr",
     "output_type": "stream",
     "text": [
      "100%|██████████| 10/10 [00:01<00:00,  6.51it/s]\n",
      " 30%|███       | 6/20 [00:10<00:25,  1.84s/it]"
     ]
    },
    {
     "name": "stdout",
     "output_type": "stream",
     "text": [
      "Loading models from ./idil_train/result/CleanupSingle-v0/idil/es-60-01J54QDAYRCM604ER7AQECQV53-extra_synth_traj-bm_randomize-nofep-0812/2024-08-12_21-00-01/model/iq_CleanupSingle-v0_n70_l70_best_tx\n",
      "Loading models from ./idil_train/result/CleanupSingle-v0/idil/es-60-01J54QDAYRCM604ER7AQECQV53-extra_synth_traj-bm_randomize-nofep-0812/2024-08-12_21-00-01/model/iq_CleanupSingle-v0_n70_l70_best_pi\n"
     ]
    },
    {
     "name": "stderr",
     "output_type": "stream",
     "text": [
      "100%|██████████| 10/10 [00:01<00:00,  6.77it/s]\n",
      " 35%|███▌      | 7/20 [00:12<00:22,  1.75s/it]"
     ]
    },
    {
     "name": "stdout",
     "output_type": "stream",
     "text": [
      "Loading models from ./idil_train/result/CleanupSingle-v0/idil/es-60-01J54MMN216J310F07ECFYGPDR-extra_synth_traj-bm_randomize-nofep-0812/2024-08-12_20-11-35/model/iq_CleanupSingle-v0_n70_l70_best_tx\n",
      "Loading models from ./idil_train/result/CleanupSingle-v0/idil/es-60-01J54MMN216J310F07ECFYGPDR-extra_synth_traj-bm_randomize-nofep-0812/2024-08-12_20-11-35/model/iq_CleanupSingle-v0_n70_l70_best_pi\n"
     ]
    },
    {
     "name": "stderr",
     "output_type": "stream",
     "text": [
      "100%|██████████| 10/10 [00:02<00:00,  3.87it/s]\n",
      " 40%|████      | 8/20 [00:15<00:24,  2.04s/it]"
     ]
    },
    {
     "name": "stdout",
     "output_type": "stream",
     "text": [
      "Loading models from ./idil_train/result/CleanupSingle-v0/idil/es-60-01J54HVDHBJNADWHXHX43F58VM-extra_synth_traj-bm_randomize-nofep-0812/2024-08-12_19-22-51/model/iq_CleanupSingle-v0_n70_l70_best_tx\n",
      "Loading models from ./idil_train/result/CleanupSingle-v0/idil/es-60-01J54HVDHBJNADWHXHX43F58VM-extra_synth_traj-bm_randomize-nofep-0812/2024-08-12_19-22-51/model/iq_CleanupSingle-v0_n70_l70_best_pi\n"
     ]
    },
    {
     "name": "stderr",
     "output_type": "stream",
     "text": [
      "100%|██████████| 10/10 [00:01<00:00,  6.69it/s]\n",
      " 45%|████▌     | 9/20 [00:16<00:20,  1.89s/it]"
     ]
    },
    {
     "name": "stdout",
     "output_type": "stream",
     "text": [
      "Loading models from ./idil_train/result/CleanupSingle-v0/idil/es-60-01J54EVK6DAJ1BPDR7PW1R7PAC-extra_synth_traj-bm_randomize-nofep-0812/2024-08-12_18-30-31/model/iq_CleanupSingle-v0_n70_l70_best_tx\n",
      "Loading models from ./idil_train/result/CleanupSingle-v0/idil/es-60-01J54EVK6DAJ1BPDR7PW1R7PAC-extra_synth_traj-bm_randomize-nofep-0812/2024-08-12_18-30-31/model/iq_CleanupSingle-v0_n70_l70_best_pi\n"
     ]
    },
    {
     "name": "stderr",
     "output_type": "stream",
     "text": [
      "100%|██████████| 10/10 [00:01<00:00,  6.18it/s]\n",
      " 50%|█████     | 10/20 [00:18<00:18,  1.83s/it]"
     ]
    },
    {
     "name": "stdout",
     "output_type": "stream",
     "text": [
      "Loading models from ./idil_train/result/CleanupSingle-v0/idil/es-20-01J54BYPDP2DX6109VQP5761ZQ-extra_synth_traj-bm_randomize-nofep-0812/2024-08-12_17-39-47/model/iq_CleanupSingle-v0_n70_l70_best_tx\n",
      "Loading models from ./idil_train/result/CleanupSingle-v0/idil/es-20-01J54BYPDP2DX6109VQP5761ZQ-extra_synth_traj-bm_randomize-nofep-0812/2024-08-12_17-39-47/model/iq_CleanupSingle-v0_n70_l70_best_pi\n"
     ]
    },
    {
     "name": "stderr",
     "output_type": "stream",
     "text": [
      "100%|██████████| 10/10 [00:02<00:00,  3.65it/s]\n",
      " 55%|█████▌    | 11/20 [00:21<00:19,  2.14s/it]"
     ]
    },
    {
     "name": "stdout",
     "output_type": "stream",
     "text": [
      "Loading models from ./idil_train/result/CleanupSingle-v0/idil/es-20-01J54939PHED0DVK5H6FPDG5H1-extra_synth_traj-bm_randomize-nofep-0812/2024-08-12_16-49-52/model/iq_CleanupSingle-v0_n70_l70_best_tx\n",
      "Loading models from ./idil_train/result/CleanupSingle-v0/idil/es-20-01J54939PHED0DVK5H6FPDG5H1-extra_synth_traj-bm_randomize-nofep-0812/2024-08-12_16-49-52/model/iq_CleanupSingle-v0_n70_l70_best_pi\n"
     ]
    },
    {
     "name": "stderr",
     "output_type": "stream",
     "text": [
      "100%|██████████| 10/10 [00:02<00:00,  4.96it/s]\n",
      " 60%|██████    | 12/20 [00:23<00:17,  2.13s/it]"
     ]
    },
    {
     "name": "stdout",
     "output_type": "stream",
     "text": [
      "Loading models from ./idil_train/result/CleanupSingle-v0/idil/es-20-01J5465RDA1FBB7WVMHV7GSTAD-extra_synth_traj-bm_randomize-nofep-0812/2024-08-12_15-58-47/model/iq_CleanupSingle-v0_n70_l70_best_tx\n",
      "Loading models from ./idil_train/result/CleanupSingle-v0/idil/es-20-01J5465RDA1FBB7WVMHV7GSTAD-extra_synth_traj-bm_randomize-nofep-0812/2024-08-12_15-58-47/model/iq_CleanupSingle-v0_n70_l70_best_pi\n"
     ]
    },
    {
     "name": "stderr",
     "output_type": "stream",
     "text": [
      "100%|██████████| 10/10 [00:01<00:00,  5.44it/s]\n",
      " 65%|██████▌   | 13/20 [00:25<00:14,  2.07s/it]"
     ]
    },
    {
     "name": "stdout",
     "output_type": "stream",
     "text": [
      "Loading models from ./idil_train/result/CleanupSingle-v0/idil/es-20-01J543AGH1NY54ZK96SDSYME0B-extra_synth_traj-bm_randomize-nofep-0812/2024-08-12_15-08-57/model/iq_CleanupSingle-v0_n70_l70_best_tx\n",
      "Loading models from ./idil_train/result/CleanupSingle-v0/idil/es-20-01J543AGH1NY54ZK96SDSYME0B-extra_synth_traj-bm_randomize-nofep-0812/2024-08-12_15-08-57/model/iq_CleanupSingle-v0_n70_l70_best_pi\n"
     ]
    },
    {
     "name": "stderr",
     "output_type": "stream",
     "text": [
      "100%|██████████| 10/10 [00:01<00:00,  5.26it/s]\n",
      " 70%|███████   | 14/20 [00:27<00:12,  2.04s/it]"
     ]
    },
    {
     "name": "stdout",
     "output_type": "stream",
     "text": [
      "Loading models from ./idil_train/result/CleanupSingle-v0/idil/es-20-01J540F0T02QTH7BY8E1B1P16D-extra_synth_traj-bm_randomize-nofep-0812/2024-08-12_14-18-59/model/iq_CleanupSingle-v0_n70_l70_best_tx\n",
      "Loading models from ./idil_train/result/CleanupSingle-v0/idil/es-20-01J540F0T02QTH7BY8E1B1P16D-extra_synth_traj-bm_randomize-nofep-0812/2024-08-12_14-18-59/model/iq_CleanupSingle-v0_n70_l70_best_pi\n"
     ]
    },
    {
     "name": "stderr",
     "output_type": "stream",
     "text": [
      "100%|██████████| 10/10 [00:01<00:00,  6.28it/s]\n",
      " 75%|███████▌  | 15/20 [00:28<00:09,  1.93s/it]"
     ]
    },
    {
     "name": "stdout",
     "output_type": "stream",
     "text": [
      "Loading models from ./idil_train/result/CleanupSingle-v0/idil/es-0-01J53XK5T3VNHVDFTEQ624898Y-extra_synth_traj-bm_randomize-nofep-0812/2024-08-12_13-28-50/model/iq_CleanupSingle-v0_n70_l70_best_tx\n",
      "Loading models from ./idil_train/result/CleanupSingle-v0/idil/es-0-01J53XK5T3VNHVDFTEQ624898Y-extra_synth_traj-bm_randomize-nofep-0812/2024-08-12_13-28-50/model/iq_CleanupSingle-v0_n70_l70_best_pi\n"
     ]
    },
    {
     "name": "stderr",
     "output_type": "stream",
     "text": [
      "100%|██████████| 10/10 [00:02<00:00,  4.29it/s]\n",
      " 80%|████████  | 16/20 [00:31<00:08,  2.08s/it]"
     ]
    },
    {
     "name": "stdout",
     "output_type": "stream",
     "text": [
      "Loading models from ./idil_train/result/CleanupSingle-v0/idil/es-0-01J53TSKK0RB81XFWG2BZ4CHP7-extra_synth_traj-bm_randomize-nofep-0812/2024-08-12_12-39-55/model/iq_CleanupSingle-v0_n70_l70_best_tx\n",
      "Loading models from ./idil_train/result/CleanupSingle-v0/idil/es-0-01J53TSKK0RB81XFWG2BZ4CHP7-extra_synth_traj-bm_randomize-nofep-0812/2024-08-12_12-39-55/model/iq_CleanupSingle-v0_n70_l70_best_pi\n"
     ]
    },
    {
     "name": "stderr",
     "output_type": "stream",
     "text": [
      "100%|██████████| 10/10 [00:01<00:00,  5.05it/s]\n",
      " 85%|████████▌ | 17/20 [00:33<00:06,  2.07s/it]"
     ]
    },
    {
     "name": "stdout",
     "output_type": "stream",
     "text": [
      "Loading models from ./idil_train/result/CleanupSingle-v0/idil/es-0-01J53QZVQ1KS7SSNMNAXRAZTEE-extra_synth_traj-bm_randomize-nofep-0812/2024-08-12_11-50-54/model/iq_CleanupSingle-v0_n70_l70_best_tx\n",
      "Loading models from ./idil_train/result/CleanupSingle-v0/idil/es-0-01J53QZVQ1KS7SSNMNAXRAZTEE-extra_synth_traj-bm_randomize-nofep-0812/2024-08-12_11-50-54/model/iq_CleanupSingle-v0_n70_l70_best_pi\n"
     ]
    },
    {
     "name": "stderr",
     "output_type": "stream",
     "text": [
      "100%|██████████| 10/10 [00:01<00:00,  6.27it/s]\n",
      " 90%|█████████ | 18/20 [00:35<00:03,  1.96s/it]"
     ]
    },
    {
     "name": "stdout",
     "output_type": "stream",
     "text": [
      "Loading models from ./idil_train/result/CleanupSingle-v0/idil/es-0-01J53N53F267FQQB9YDGQVMJV8-extra_synth_traj-bm_randomize-nofep-0812/2024-08-12_11-01-20/model/iq_CleanupSingle-v0_n70_l70_best_tx\n",
      "Loading models from ./idil_train/result/CleanupSingle-v0/idil/es-0-01J53N53F267FQQB9YDGQVMJV8-extra_synth_traj-bm_randomize-nofep-0812/2024-08-12_11-01-20/model/iq_CleanupSingle-v0_n70_l70_best_pi\n"
     ]
    },
    {
     "name": "stderr",
     "output_type": "stream",
     "text": [
      "100%|██████████| 10/10 [00:02<00:00,  4.38it/s]\n",
      " 95%|█████████▌| 19/20 [00:37<00:02,  2.08s/it]"
     ]
    },
    {
     "name": "stdout",
     "output_type": "stream",
     "text": [
      "Loading models from ./idil_train/result/CleanupSingle-v0/idil/es-0-01J53J7CGEKC5H83HMNXTQ4C09-extra_synth_traj-bm_randomize-nofep-0812/2024-08-12_10-10-09/model/iq_CleanupSingle-v0_n70_l70_best_tx\n",
      "Loading models from ./idil_train/result/CleanupSingle-v0/idil/es-0-01J53J7CGEKC5H83HMNXTQ4C09-extra_synth_traj-bm_randomize-nofep-0812/2024-08-12_10-10-09/model/iq_CleanupSingle-v0_n70_l70_best_pi\n"
     ]
    },
    {
     "name": "stderr",
     "output_type": "stream",
     "text": [
      "100%|██████████| 10/10 [00:01<00:00,  6.03it/s]\n",
      "100%|██████████| 20/20 [00:39<00:00,  1.96s/it]\n"
     ]
    }
   ],
   "source": [
    "agents_control = nb_utils.get_trained_models(runs=RUNS, env_name=ENV_NAME, load_micro=True)\n",
    "trajectories_control = nb_utils.get_agent_trajectories(runs=RUNS, env_name=ENV_NAME, num_trajectories=10, load_micro=True)"
   ]
  },
  {
   "cell_type": "code",
   "execution_count": 20,
   "metadata": {},
   "outputs": [
    {
     "name": "stdout",
     "output_type": "stream",
     "text": [
      "There are 4 kvals\n",
      "Each kval has 50 cum_rewards, matching the 5 x 10 trajectories generated for each agent (using key = 100)\n"
     ]
    }
   ],
   "source": [
    "cum_rewards_control = nb_utils.get_cumulative_rewards(trajectories_control, agents_control)\n",
    "# pd.DataFrame(cum_rewards_control).describe()"
   ]
  },
  {
   "cell_type": "code",
   "execution_count": 21,
   "metadata": {},
   "outputs": [
    {
     "data": {
      "text/plain": [
       "(-100.0, -10.0)"
      ]
     },
     "execution_count": 21,
     "metadata": {},
     "output_type": "execute_result"
    },
    {
     "data": {
      "image/png": "[encoded data removed]",
      "text/plain": [
       "<Figure size 640x480 with 1 Axes>"
      ]
     },
     "metadata": {},
     "output_type": "display_data"
    }
   ],
   "source": [
    "nb_utils.plot_cum_rewards(cum_rewards)\n",
    "plt.gca().set_ylim([-100, -10])"
   ]
  },
  {
   "cell_type": "code",
   "execution_count": 22,
   "metadata": {},
   "outputs": [
    {
     "data": {
      "text/plain": [
       "(-100.0, -10.0)"
      ]
     },
     "execution_count": 22,
     "metadata": {},
     "output_type": "execute_result"
    },
    {
     "data": {
      "image/png": "[encoded data removed]",
      "text/plain": [
       "<Figure size 640x480 with 1 Axes>"
      ]
     },
     "metadata": {},
     "output_type": "display_data"
    }
   ],
   "source": [
    "nb_utils.plot_cum_rewards(cum_rewards_control)\n",
    "plt.gca().set_ylim([-100, -10])"
   ]
  },
  {
   "cell_type": "code",
   "execution_count": 30,
   "metadata": {},
   "outputs": [
    {
     "name": "stdout",
     "output_type": "stream",
     "text": [
      "Control - Statistics\n",
      "count     50.000000\n",
      "mean     -56.880000\n",
      "std       27.877019\n",
      "min     -178.000000\n",
      "25%      -56.250000\n",
      "50%      -47.500000\n",
      "75%      -41.000000\n",
      "max      -36.000000\n",
      "dtype: float64\n",
      "------------\n",
      "Entropy Score - Statistics\n",
      "count     50.000000\n",
      "mean     -66.880000\n",
      "std       51.558423\n",
      "min     -200.000000\n",
      "25%      -57.500000\n",
      "50%      -44.500000\n",
      "75%      -41.250000\n",
      "max      -37.000000\n",
      "dtype: float64\n"
     ]
    }
   ],
   "source": [
    "# compare control and entropy scoring\n",
    "print(f\"Control - Statistics\")\n",
    "print(pd.Series(cum_rewards_control[0]).describe())\n",
    "\n",
    "print(\"---\" * 4)\n",
    "print(\"Entropy Score - Statistics\")\n",
    "print(pd.Series(cum_rewards[0]).describe())"
   ]
  },
  {
   "cell_type": "code",
   "execution_count": 23,
   "metadata": {},
   "outputs": [
    {
     "name": "stdout",
     "output_type": "stream",
     "text": [
      "K = 20\n",
      "Ttest_indResult(statistic=0.7989546500280597, pvalue=0.4265408570297946)\n",
      "Not significant\n",
      "------------\n",
      "K = 60\n",
      "Ttest_indResult(statistic=-0.9346293847898115, pvalue=0.35228749552961114)\n",
      "Not significant\n",
      "------------\n",
      "K = 100\n",
      "Ttest_indResult(statistic=-0.32945008057331115, pvalue=0.7425526455046625)\n",
      "Not significant\n",
      "------------\n"
     ]
    }
   ],
   "source": [
    "test_baseline = 0\n",
    "test_kvals = [20, 60, 100]\n",
    "\n",
    "for k in test_kvals:\n",
    "    print(f\"K = {k}\")\n",
    "    res = stats.ttest_ind(cum_rewards_control[test_baseline], cum_rewards[k], equal_var=False)\n",
    "    print(res)\n",
    "    if res.pvalue < 0.05:\n",
    "        print(\"Significant\")\n",
    "    else:\n",
    "        print(\"Not significant\")\n",
    "\n",
    "    print(\"---\" * 4)"
   ]
  },
  {
   "cell_type": "code",
   "execution_count": 24,
   "metadata": {},
   "outputs": [
    {
     "name": "stderr",
     "output_type": "stream",
     "text": [
      "50it [00:07,  6.77it/s]\n"
     ]
    }
   ],
   "source": [
    "accs_by_k_control = nb_utils.compute_accuracy_by_kval(test_data=test_data, agents=agents_control)"
   ]
  },
  {
   "cell_type": "code",
   "execution_count": 25,
   "metadata": {},
   "outputs": [
    {
     "name": "stderr",
     "output_type": "stream",
     "text": [
      "WARNING:matplotlib.legend:No artists with labels found to put in legend.  Note that artists whose label start with an underscore are ignored when legend() is called with no argument.\n"
     ]
    },
    {
     "data": {
      "text/plain": [
       "<matplotlib.legend.Legend at 0x7f1ab3ab9f10>"
      ]
     },
     "execution_count": 25,
     "metadata": {},
     "output_type": "execute_result"
    },
    {
     "data": {
      "image/png": "[encoded data removed]",
      "text/plain": [
       "<Figure size 640x480 with 1 Axes>"
      ]
     },
     "metadata": {},
     "output_type": "display_data"
    }
   ],
   "source": [
    "nb_utils.plot_sequence_accuracy_boxplot(accs_by_k)\n",
    "# add benchmark with control mean\n",
    "# plt.gca().axhline(y=np.mean(accs_by_k_control[0]), color='brown', linestyle='--', alpha=0.9, lw=3, label=\"Control Mean\")\n",
    "# # add standard deviation\n",
    "# plt.gca().axhline(y=np.mean(accs_by_k_control[0]) + np.std(accs_by_k_control[0]), color='brown', linestyle='--', alpha=0.5, label=\"Control Mean +/- 1 SD\")\n",
    "# plt.gca().axhline(y=np.mean(accs_by_k_control[0]) - np.std(accs_by_k_control[0]), color='brown', linestyle='--', alpha=0.5)\n",
    "plt.gca().grid(alpha=0.4)\n",
    "plt.gca().legend(bbox_to_anchor=(1.05, 1), loc='upper left', borderaxespad=0.)"
   ]
  },
  {
   "cell_type": "code",
   "execution_count": 26,
   "metadata": {},
   "outputs": [
    {
     "data": {
      "text/html": [
       "<div>\n",
       "<style scoped>\n",
       "    .dataframe tbody tr th:only-of-type {\n",
       "        vertical-align: middle;\n",
       "    }\n",
       "\n",
       "    .dataframe tbody tr th {\n",
       "        vertical-align: top;\n",
       "    }\n",
       "\n",
       "    .dataframe thead th {\n",
       "        text-align: right;\n",
       "    }\n",
       "</style>\n",
       "<table border=\"1\" class=\"dataframe\">\n",
       "  <thead>\n",
       "    <tr style=\"text-align: right;\">\n",
       "      <th></th>\n",
       "      <th>0</th>\n",
       "    </tr>\n",
       "  </thead>\n",
       "  <tbody>\n",
       "    <tr>\n",
       "      <th>count</th>\n",
       "      <td>200.000000</td>\n",
       "    </tr>\n",
       "    <tr>\n",
       "      <th>mean</th>\n",
       "      <td>0.884898</td>\n",
       "    </tr>\n",
       "    <tr>\n",
       "      <th>std</th>\n",
       "      <td>0.118346</td>\n",
       "    </tr>\n",
       "    <tr>\n",
       "      <th>min</th>\n",
       "      <td>0.518519</td>\n",
       "    </tr>\n",
       "    <tr>\n",
       "      <th>25%</th>\n",
       "      <td>0.822222</td>\n",
       "    </tr>\n",
       "    <tr>\n",
       "      <th>50%</th>\n",
       "      <td>0.915254</td>\n",
       "    </tr>\n",
       "    <tr>\n",
       "      <th>75%</th>\n",
       "      <td>1.000000</td>\n",
       "    </tr>\n",
       "    <tr>\n",
       "      <th>max</th>\n",
       "      <td>1.000000</td>\n",
       "    </tr>\n",
       "  </tbody>\n",
       "</table>\n",
       "</div>"
      ],
      "text/plain": [
       "                0\n",
       "count  200.000000\n",
       "mean     0.884898\n",
       "std      0.118346\n",
       "min      0.518519\n",
       "25%      0.822222\n",
       "50%      0.915254\n",
       "75%      1.000000\n",
       "max      1.000000"
      ]
     },
     "execution_count": 26,
     "metadata": {},
     "output_type": "execute_result"
    }
   ],
   "source": [
    "pd.DataFrame(accs_by_k_control).describe()"
   ]
  },
  {
   "cell_type": "code",
   "execution_count": 28,
   "metadata": {},
   "outputs": [
    {
     "name": "stdout",
     "output_type": "stream",
     "text": [
      "K = 20\n",
      "Ttest_indResult(statistic=-7.811998760030269, pvalue=1.0145145515956303e-13)\n",
      "Significant\n",
      "------------\n",
      "K = 60\n",
      "Ttest_indResult(statistic=-7.241120302111989, pvalue=4.056280954761617e-12)\n",
      "Significant\n",
      "------------\n",
      "K = 100\n",
      "Ttest_indResult(statistic=-8.138638089101905, pvalue=1.2059877558871793e-14)\n",
      "Significant\n",
      "------------\n"
     ]
    }
   ],
   "source": [
    "test_baseline = 0\n",
    "test_kvals = [20, 60, 100]\n",
    "\n",
    "for k in test_kvals:\n",
    "    print(f\"K = {k}\")\n",
    "    res = stats.ttest_ind(accs_by_k_control[test_baseline], accs_by_k[k], equal_var=False)\n",
    "    print(res)\n",
    "    if res.pvalue < 0.05:\n",
    "        print(\"Significant\")\n",
    "    else:\n",
    "        print(\"Not significant\")\n",
    "\n",
    "    print(\"---\" * 4)"
   ]
  },
  {
   "cell_type": "code",
   "execution_count": null,
   "metadata": {},
   "outputs": [],
   "source": []
  },
  {
   "cell_type": "code",
   "execution_count": null,
   "metadata": {},
   "outputs": [],
   "source": []
  },
  {
   "cell_type": "markdown",
   "metadata": {},
   "source": [
    "# Visuals for comparing aganist `randomized` benchmark\n",
    "\n",
    "Remove the `fixed_pi` models from the analysis for now, because there seems to be a bug in the way it is sampling actions from the expert. This is affecting the macro-policy learning.\n",
    "\n",
    "Compare the learned model using the extra synth trajectories with the `randomized` benchmark.\n",
    "\n",
    "- Run a hypotehsis test to check significant mean difference between the cumulative rewards of the models\n",
    "- For same `k` values:\n",
    "    - plot the **mean cumulative rewards** of the models, with the shaded area showing the standard deviation.\n",
    "    - plot the **lengths of the trajectories generated** by the models under each regime (`random` and `entropy scoring`)\n",
    "    - plot the **accuracy for latent prediction** on a test set"
   ]
  },
  {
   "cell_type": "markdown",
   "metadata": {},
   "source": []
  }
 ],
 "metadata": {
  "kernelspec": {
   "display_name": "aidil",
   "language": "python",
   "name": "python3"
  },
  "language_info": {
   "codemirror_mode": {
    "name": "ipython",
    "version": 3
   },
   "file_extension": ".py",
   "mimetype": "text/x-python",
   "name": "python",
   "nbconvert_exporter": "python",
   "pygments_lexer": "ipython3",
   "version": "3.8.19"
  }
 },
 "nbformat": 4,
 "nbformat_minor": 2
}
