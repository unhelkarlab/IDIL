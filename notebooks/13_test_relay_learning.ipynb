{
 "cells": [
  {
   "cell_type": "code",
   "execution_count": 1,
   "metadata": {},
   "outputs": [
    {
     "name": "stdout",
     "output_type": "stream",
     "text": [
      "Import error. Trying to rebuild mujoco_py.\n",
      "running build_ext\n",
      "building 'mujoco_py.cymj' extension\n",
      "gcc -pthread -B /home/juanhevia/miniconda3/envs/aidil/compiler_compat -Wl,--sysroot=/ -Wsign-compare -DNDEBUG -g -fwrapv -O3 -Wall -fPIC -I/home/juanhevia/miniconda3/envs/aidil/lib/python3.8/site-packages/mujoco_py -I/home/juanhevia/.mujoco/mujoco210/include -I/home/juanhevia/miniconda3/envs/aidil/lib/python3.8/site-packages/numpy/core/include -I/home/juanhevia/miniconda3/envs/aidil/lib/python3.8/site-packages/mujoco_py/vendor/egl -I/home/juanhevia/miniconda3/envs/aidil/include/python3.8 -c /home/juanhevia/miniconda3/envs/aidil/lib/python3.8/site-packages/mujoco_py/cymj.c -o /home/juanhevia/miniconda3/envs/aidil/lib/python3.8/site-packages/mujoco_py/generated/_pyxbld_2.1.2.14_38_linuxgpuextensionbuilder/temp.linux-x86_64-cpython-38/home/juanhevia/miniconda3/envs/aidil/lib/python3.8/site-packages/mujoco_py/cymj.o -fopenmp -w\n",
      "gcc -pthread -B /home/juanhevia/miniconda3/envs/aidil/compiler_compat -Wl,--sysroot=/ -Wsign-compare -DNDEBUG -g -fwrapv -O3 -Wall -fPIC -I/home/juanhevia/miniconda3/envs/aidil/lib/python3.8/site-packages/mujoco_py -I/home/juanhevia/.mujoco/mujoco210/include -I/home/juanhevia/miniconda3/envs/aidil/lib/python3.8/site-packages/numpy/core/include -I/home/juanhevia/miniconda3/envs/aidil/lib/python3.8/site-packages/mujoco_py/vendor/egl -I/home/juanhevia/miniconda3/envs/aidil/include/python3.8 -c /home/juanhevia/miniconda3/envs/aidil/lib/python3.8/site-packages/mujoco_py/gl/eglshim.c -o /home/juanhevia/miniconda3/envs/aidil/lib/python3.8/site-packages/mujoco_py/generated/_pyxbld_2.1.2.14_38_linuxgpuextensionbuilder/temp.linux-x86_64-cpython-38/home/juanhevia/miniconda3/envs/aidil/lib/python3.8/site-packages/mujoco_py/gl/eglshim.o -fopenmp -w\n",
      "gcc -pthread -shared -B /home/juanhevia/miniconda3/envs/aidil/compiler_compat -L/home/juanhevia/miniconda3/envs/aidil/lib -Wl,-rpath=/home/juanhevia/miniconda3/envs/aidil/lib -Wl,--no-as-needed -Wl,--sysroot=/ /home/juanhevia/miniconda3/envs/aidil/lib/python3.8/site-packages/mujoco_py/generated/_pyxbld_2.1.2.14_38_linuxgpuextensionbuilder/temp.linux-x86_64-cpython-38/home/juanhevia/miniconda3/envs/aidil/lib/python3.8/site-packages/mujoco_py/cymj.o /home/juanhevia/miniconda3/envs/aidil/lib/python3.8/site-packages/mujoco_py/generated/_pyxbld_2.1.2.14_38_linuxgpuextensionbuilder/temp.linux-x86_64-cpython-38/home/juanhevia/miniconda3/envs/aidil/lib/python3.8/site-packages/mujoco_py/gl/eglshim.o -L/home/juanhevia/.mujoco/mujoco210/bin -Wl,--enable-new-dtags,-R/home/juanhevia/.mujoco/mujoco210/bin -lmujoco210 -lglewegl -o /home/juanhevia/miniconda3/envs/aidil/lib/python3.8/site-packages/mujoco_py/generated/_pyxbld_2.1.2.14_38_linuxgpuextensionbuilder/lib.linux-x86_64-cpython-38/mujoco_py/cymj.cpython-38-x86_64-linux-gnu.so -fopenmp\n"
     ]
    }
   ],
   "source": [
    "import os\n",
    "os.environ[\"LD_LIBRARY_PATH\"] = os.environ.get(\"LD_LIBRARY_PATH\", \"\") + \":/home/juanhevia/.mujoco/mujoco210/bin\" + \":/usr/lib/nvidia\"\n",
    "\n",
    "import gymnasium as gym\n",
    "\n",
    "env = gym.make('FrankaKitchen-v1', tasks_to_complete=['microwave', 'kettle'])"
   ]
  },
  {
   "cell_type": "code",
   "execution_count": 10,
   "metadata": {},
   "outputs": [],
   "source": [
    "observation, completion = env.reset()"
   ]
  },
  {
   "cell_type": "code",
   "execution_count": 11,
   "metadata": {},
   "outputs": [
    {
     "data": {
      "text/plain": [
       "{'observation': array([ 1.48373517e-01, -1.76786921e+00,  1.84310579e+00, -2.47642075e+00,\n",
       "         2.59821230e-01,  7.11861473e-01,  1.59516926e+00,  4.70929928e-02,\n",
       "         3.70123350e-02,  5.61609327e-04, -4.26777672e-04,  6.17844027e-05,\n",
       "         4.29579345e-05,  5.89775555e-04,  3.94553859e-04, -1.45973770e-04,\n",
       "         9.84699118e-04, -9.90497917e-04, -2.49603301e-04, -5.00880853e-05,\n",
       "         3.15154334e-05, -4.49173718e-05, -3.98255439e-06, -4.23922591e-05,\n",
       "         6.30152529e-05,  4.05944132e-05,  4.62561230e-04, -2.25863289e-04,\n",
       "        -4.63004709e-04, -6.44275022e-03, -1.79515972e-03,  1.10694433e-03,\n",
       "        -2.69381195e-01,  3.50385057e-01,  1.61944757e+00,  9.99971180e-01,\n",
       "         4.00734098e-03, -6.58565725e-03, -2.20661095e-04,  1.86856193e-06,\n",
       "         2.21364499e-06,  1.75829445e-06, -5.86398869e-07,  6.43153980e-07,\n",
       "         1.86751353e-06, -1.29018745e-06,  2.18919646e-06,  1.02910069e-06,\n",
       "         2.45620476e-06, -9.13445209e-07,  7.37849383e-06,  3.02451507e-05,\n",
       "        -2.05489071e-05,  1.15216810e-06,  4.02022395e-08, -5.52018972e-07,\n",
       "        -2.48170791e-05,  1.31143846e-05,  1.60337753e-05]),\n",
       " 'achieved_goal': {'microwave': array([0.0010801]),\n",
       "  'kettle': array([-2.69397440e-01,  3.50383255e-01,  1.61944683e+00,  9.99970159e-01,\n",
       "          4.03883905e-03, -6.58004743e-03, -2.66621172e-04])},\n",
       " 'desired_goal': {'microwave': array([-0.75]),\n",
       "  'kettle': array([-0.23,  0.75,  1.62,  0.99,  0.  ,  0.  , -0.06])}}"
      ]
     },
     "execution_count": 11,
     "metadata": {},
     "output_type": "execute_result"
    }
   ],
   "source": [
    "observation"
   ]
  },
  {
   "cell_type": "code",
   "execution_count": 12,
   "metadata": {},
   "outputs": [
    {
     "data": {
      "text/plain": [
       "{'tasks_to_complete': ['kettle', 'microwave'],\n",
       " 'episode_task_completions': [],\n",
       " 'step_task_completions': []}"
      ]
     },
     "execution_count": 12,
     "metadata": {},
     "output_type": "execute_result"
    }
   ],
   "source": [
    "completion"
   ]
  },
  {
   "cell_type": "markdown",
   "metadata": {},
   "source": [
    "# Can I pass it to a `Monitor`?"
   ]
  },
  {
   "cell_type": "code",
   "execution_count": 13,
   "metadata": {},
   "outputs": [],
   "source": [
    "from stable_baselines3.common.monitor import Monitor"
   ]
  },
  {
   "cell_type": "code",
   "execution_count": 14,
   "metadata": {},
   "outputs": [],
   "source": [
    "mon = Monitor(env, \"test_gymnasium\")"
   ]
  },
  {
   "cell_type": "code",
   "execution_count": 21,
   "metadata": {},
   "outputs": [],
   "source": [
    "res = env.step(env.action_space.sample())"
   ]
  },
  {
   "cell_type": "code",
   "execution_count": 22,
   "metadata": {},
   "outputs": [
    {
     "ename": "ValueError",
     "evalue": "too many values to unpack (expected 4)",
     "output_type": "error",
     "traceback": [
      "\u001b[0;31m---------------------------------------------------------------------------\u001b[0m",
      "\u001b[0;31mValueError\u001b[0m                                Traceback (most recent call last)",
      "\u001b[1;32m/home/juanhevia/IDIL/notebooks/13_test_relay_learning.ipynb Cell 9\u001b[0m line \u001b[0;36m1\n\u001b[0;32m----> <a href='vscode-notebook-cell://ssh-remote%2B7b22686f73744e616d65223a2253657276657256616962686176556e68656c6b6172227d/home/juanhevia/IDIL/notebooks/13_test_relay_learning.ipynb#X14sdnNjb2RlLXJlbW90ZQ%3D%3D?line=0'>1</a>\u001b[0m res \u001b[39m=\u001b[39m mon\u001b[39m.\u001b[39;49mstep(mon\u001b[39m.\u001b[39;49maction_space\u001b[39m.\u001b[39;49msample())\n",
      "File \u001b[0;32m~/miniconda3/envs/aidil/lib/python3.8/site-packages/stable_baselines3/common/monitor.py:95\u001b[0m, in \u001b[0;36mMonitor.step\u001b[0;34m(self, action)\u001b[0m\n\u001b[1;32m     93\u001b[0m \u001b[39mif\u001b[39;00m \u001b[39mself\u001b[39m\u001b[39m.\u001b[39mneeds_reset:\n\u001b[1;32m     94\u001b[0m     \u001b[39mraise\u001b[39;00m \u001b[39mRuntimeError\u001b[39;00m(\u001b[39m\"\u001b[39m\u001b[39mTried to step environment that needs reset\u001b[39m\u001b[39m\"\u001b[39m)\n\u001b[0;32m---> 95\u001b[0m observation, reward, done, info \u001b[39m=\u001b[39m \u001b[39mself\u001b[39m\u001b[39m.\u001b[39menv\u001b[39m.\u001b[39mstep(action)\n\u001b[1;32m     96\u001b[0m \u001b[39mself\u001b[39m\u001b[39m.\u001b[39mrewards\u001b[39m.\u001b[39mappend(reward)\n\u001b[1;32m     97\u001b[0m \u001b[39mif\u001b[39;00m done:\n",
      "\u001b[0;31mValueError\u001b[0m: too many values to unpack (expected 4)"
     ]
    }
   ],
   "source": [
    "res = mon.step(mon.action_space.sample())"
   ]
  },
  {
   "cell_type": "code",
   "execution_count": 24,
   "metadata": {},
   "outputs": [
    {
     "data": {
      "text/plain": [
       "{'observation': array([ 4.45437995e-02, -1.76426911e+00,  1.85665632e+00, -2.45411465e+00,\n",
       "         3.60638360e-01,  7.67122226e-01,  1.60421277e+00,  3.05994698e-02,\n",
       "         3.93501090e-02, -5.36792331e-01,  4.69529635e-03, -1.43176285e-01,\n",
       "         3.70991335e-02,  8.78811031e-02,  1.69983173e-02,  3.00017565e-01,\n",
       "        -1.36680906e-01,  9.17656045e-03, -1.88976142e-04,  4.63681424e-07,\n",
       "         2.64083299e-05,  2.22646399e-07,  2.12701786e-05,  4.57921758e-07,\n",
       "         2.97629379e-05,  5.38054564e-07,  4.21610400e-05,  7.71993246e-06,\n",
       "        -1.75263235e-05, -6.44036316e-03, -7.03522983e-05, -2.22885733e-06,\n",
       "        -2.69436532e-01,  3.50369098e-01,  1.61935201e+00,  1.00000155e+00,\n",
       "         3.68772369e-06,  2.72704062e-05, -3.25689853e-04,  2.82100424e-04,\n",
       "         1.97393703e-06, -7.09550177e-06,  1.76433960e-06,  2.98250412e-05,\n",
       "        -2.23264694e-06, -4.99880263e-05, -1.46262443e-06, -2.66915080e-04,\n",
       "        -1.69760271e-05,  2.60583887e-04,  1.00308323e-06,  6.43211523e-04,\n",
       "        -4.53701162e-04, -2.67320970e-04, -9.94032552e-08,  2.31627543e-03,\n",
       "        -2.19480527e-06,  2.03160582e-02,  8.43340424e-07]),\n",
       " 'achieved_goal': {'microwave': array([3.49978805e-05]),\n",
       "  'kettle': array([-2.69439180e-01,  3.50370168e-01,  1.61935356e+00,  9.99999955e-01,\n",
       "         -1.01819681e-06,  6.30249850e-05, -2.92000409e-04])},\n",
       " 'desired_goal': {'microwave': array([-0.75]),\n",
       "  'kettle': array([-0.23,  0.75,  1.62,  0.99,  0.  ,  0.  , -0.06])}}"
      ]
     },
     "execution_count": 24,
     "metadata": {},
     "output_type": "execute_result"
    }
   ],
   "source": [
    "res[0]"
   ]
  },
  {
   "cell_type": "code",
   "execution_count": 25,
   "metadata": {},
   "outputs": [
    {
     "data": {
      "text/plain": [
       "0.0"
      ]
     },
     "execution_count": 25,
     "metadata": {},
     "output_type": "execute_result"
    }
   ],
   "source": [
    "res[1]"
   ]
  },
  {
   "cell_type": "code",
   "execution_count": 26,
   "metadata": {},
   "outputs": [
    {
     "data": {
      "text/plain": [
       "False"
      ]
     },
     "execution_count": 26,
     "metadata": {},
     "output_type": "execute_result"
    }
   ],
   "source": [
    "res[2]"
   ]
  },
  {
   "cell_type": "code",
   "execution_count": 27,
   "metadata": {},
   "outputs": [
    {
     "data": {
      "text/plain": [
       "False"
      ]
     },
     "execution_count": 27,
     "metadata": {},
     "output_type": "execute_result"
    }
   ],
   "source": [
    "res[3]"
   ]
  },
  {
   "cell_type": "code",
   "execution_count": 28,
   "metadata": {},
   "outputs": [
    {
     "data": {
      "text/plain": [
       "{'tasks_to_complete': ['kettle', 'microwave'],\n",
       " 'step_task_completions': [],\n",
       " 'episode_task_completions': []}"
      ]
     },
     "execution_count": 28,
     "metadata": {},
     "output_type": "execute_result"
    }
   ],
   "source": [
    "res[4]"
   ]
  }
 ],
 "metadata": {
  "kernelspec": {
   "display_name": "aidil",
   "language": "python",
   "name": "python3"
  },
  "language_info": {
   "codemirror_mode": {
    "name": "ipython",
    "version": 3
   },
   "file_extension": ".py",
   "mimetype": "text/x-python",
   "name": "python",
   "nbconvert_exporter": "python",
   "pygments_lexer": "ipython3",
   "version": "3.8.19"
  }
 },
 "nbformat": 4,
 "nbformat_minor": 2
}
