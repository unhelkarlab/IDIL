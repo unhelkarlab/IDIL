{
 "cells": [
  {
   "cell_type": "code",
   "execution_count": 2,
   "metadata": {},
   "outputs": [
    {
     "name": "stderr",
     "output_type": "stream",
     "text": [
      "/home/juanhevia/miniconda3/envs/aidil/lib/python3.8/site-packages/gymnasium/envs/registration.py:694: UserWarning: \u001b[33mWARN: Overriding environment CartPole-v0 already in registry.\u001b[0m\n",
      "  logger.warn(f\"Overriding environment {new_spec.id} already in registry.\")\n",
      "/home/juanhevia/miniconda3/envs/aidil/lib/python3.8/site-packages/gymnasium/envs/registration.py:694: UserWarning: \u001b[33mWARN: Overriding environment CartPole-v1 already in registry.\u001b[0m\n",
      "  logger.warn(f\"Overriding environment {new_spec.id} already in registry.\")\n",
      "/home/juanhevia/miniconda3/envs/aidil/lib/python3.8/site-packages/gymnasium/envs/registration.py:694: UserWarning: \u001b[33mWARN: Overriding environment MountainCar-v0 already in registry.\u001b[0m\n",
      "  logger.warn(f\"Overriding environment {new_spec.id} already in registry.\")\n",
      "/home/juanhevia/miniconda3/envs/aidil/lib/python3.8/site-packages/gymnasium/envs/registration.py:694: UserWarning: \u001b[33mWARN: Overriding environment MountainCarContinuous-v0 already in registry.\u001b[0m\n",
      "  logger.warn(f\"Overriding environment {new_spec.id} already in registry.\")\n",
      "/home/juanhevia/miniconda3/envs/aidil/lib/python3.8/site-packages/gymnasium/envs/registration.py:694: UserWarning: \u001b[33mWARN: Overriding environment Pendulum-v1 already in registry.\u001b[0m\n",
      "  logger.warn(f\"Overriding environment {new_spec.id} already in registry.\")\n",
      "/home/juanhevia/miniconda3/envs/aidil/lib/python3.8/site-packages/gymnasium/envs/registration.py:694: UserWarning: \u001b[33mWARN: Overriding environment Acrobot-v1 already in registry.\u001b[0m\n",
      "  logger.warn(f\"Overriding environment {new_spec.id} already in registry.\")\n",
      "/home/juanhevia/miniconda3/envs/aidil/lib/python3.8/site-packages/gymnasium/envs/registration.py:694: UserWarning: \u001b[33mWARN: Overriding environment phys2d/CartPole-v0 already in registry.\u001b[0m\n",
      "  logger.warn(f\"Overriding environment {new_spec.id} already in registry.\")\n",
      "/home/juanhevia/miniconda3/envs/aidil/lib/python3.8/site-packages/gymnasium/envs/registration.py:694: UserWarning: \u001b[33mWARN: Overriding environment phys2d/CartPole-v1 already in registry.\u001b[0m\n",
      "  logger.warn(f\"Overriding environment {new_spec.id} already in registry.\")\n",
      "/home/juanhevia/miniconda3/envs/aidil/lib/python3.8/site-packages/gymnasium/envs/registration.py:694: UserWarning: \u001b[33mWARN: Overriding environment phys2d/Pendulum-v0 already in registry.\u001b[0m\n",
      "  logger.warn(f\"Overriding environment {new_spec.id} already in registry.\")\n",
      "/home/juanhevia/miniconda3/envs/aidil/lib/python3.8/site-packages/gymnasium/envs/registration.py:694: UserWarning: \u001b[33mWARN: Overriding environment LunarLander-v2 already in registry.\u001b[0m\n",
      "  logger.warn(f\"Overriding environment {new_spec.id} already in registry.\")\n",
      "/home/juanhevia/miniconda3/envs/aidil/lib/python3.8/site-packages/gymnasium/envs/registration.py:694: UserWarning: \u001b[33mWARN: Overriding environment LunarLanderContinuous-v2 already in registry.\u001b[0m\n",
      "  logger.warn(f\"Overriding environment {new_spec.id} already in registry.\")\n",
      "/home/juanhevia/miniconda3/envs/aidil/lib/python3.8/site-packages/gymnasium/envs/registration.py:694: UserWarning: \u001b[33mWARN: Overriding environment BipedalWalker-v3 already in registry.\u001b[0m\n",
      "  logger.warn(f\"Overriding environment {new_spec.id} already in registry.\")\n",
      "/home/juanhevia/miniconda3/envs/aidil/lib/python3.8/site-packages/gymnasium/envs/registration.py:694: UserWarning: \u001b[33mWARN: Overriding environment BipedalWalkerHardcore-v3 already in registry.\u001b[0m\n",
      "  logger.warn(f\"Overriding environment {new_spec.id} already in registry.\")\n",
      "/home/juanhevia/miniconda3/envs/aidil/lib/python3.8/site-packages/gymnasium/envs/registration.py:694: UserWarning: \u001b[33mWARN: Overriding environment CarRacing-v2 already in registry.\u001b[0m\n",
      "  logger.warn(f\"Overriding environment {new_spec.id} already in registry.\")\n",
      "/home/juanhevia/miniconda3/envs/aidil/lib/python3.8/site-packages/gymnasium/envs/registration.py:694: UserWarning: \u001b[33mWARN: Overriding environment Blackjack-v1 already in registry.\u001b[0m\n",
      "  logger.warn(f\"Overriding environment {new_spec.id} already in registry.\")\n",
      "/home/juanhevia/miniconda3/envs/aidil/lib/python3.8/site-packages/gymnasium/envs/registration.py:694: UserWarning: \u001b[33mWARN: Overriding environment FrozenLake-v1 already in registry.\u001b[0m\n",
      "  logger.warn(f\"Overriding environment {new_spec.id} already in registry.\")\n",
      "/home/juanhevia/miniconda3/envs/aidil/lib/python3.8/site-packages/gymnasium/envs/registration.py:694: UserWarning: \u001b[33mWARN: Overriding environment FrozenLake8x8-v1 already in registry.\u001b[0m\n",
      "  logger.warn(f\"Overriding environment {new_spec.id} already in registry.\")\n",
      "/home/juanhevia/miniconda3/envs/aidil/lib/python3.8/site-packages/gymnasium/envs/registration.py:694: UserWarning: \u001b[33mWARN: Overriding environment CliffWalking-v0 already in registry.\u001b[0m\n",
      "  logger.warn(f\"Overriding environment {new_spec.id} already in registry.\")\n",
      "/home/juanhevia/miniconda3/envs/aidil/lib/python3.8/site-packages/gymnasium/envs/registration.py:694: UserWarning: \u001b[33mWARN: Overriding environment Taxi-v3 already in registry.\u001b[0m\n",
      "  logger.warn(f\"Overriding environment {new_spec.id} already in registry.\")\n",
      "/home/juanhevia/miniconda3/envs/aidil/lib/python3.8/site-packages/gymnasium/envs/registration.py:694: UserWarning: \u001b[33mWARN: Overriding environment tabular/Blackjack-v0 already in registry.\u001b[0m\n",
      "  logger.warn(f\"Overriding environment {new_spec.id} already in registry.\")\n",
      "/home/juanhevia/miniconda3/envs/aidil/lib/python3.8/site-packages/gymnasium/envs/registration.py:694: UserWarning: \u001b[33mWARN: Overriding environment tabular/CliffWalking-v0 already in registry.\u001b[0m\n",
      "  logger.warn(f\"Overriding environment {new_spec.id} already in registry.\")\n",
      "/home/juanhevia/miniconda3/envs/aidil/lib/python3.8/site-packages/gymnasium/envs/registration.py:694: UserWarning: \u001b[33mWARN: Overriding environment Reacher-v2 already in registry.\u001b[0m\n",
      "  logger.warn(f\"Overriding environment {new_spec.id} already in registry.\")\n",
      "/home/juanhevia/miniconda3/envs/aidil/lib/python3.8/site-packages/gymnasium/envs/registration.py:694: UserWarning: \u001b[33mWARN: Overriding environment Reacher-v4 already in registry.\u001b[0m\n",
      "  logger.warn(f\"Overriding environment {new_spec.id} already in registry.\")\n",
      "/home/juanhevia/miniconda3/envs/aidil/lib/python3.8/site-packages/gymnasium/envs/registration.py:694: UserWarning: \u001b[33mWARN: Overriding environment Pusher-v2 already in registry.\u001b[0m\n",
      "  logger.warn(f\"Overriding environment {new_spec.id} already in registry.\")\n",
      "/home/juanhevia/miniconda3/envs/aidil/lib/python3.8/site-packages/gymnasium/envs/registration.py:694: UserWarning: \u001b[33mWARN: Overriding environment Pusher-v4 already in registry.\u001b[0m\n",
      "  logger.warn(f\"Overriding environment {new_spec.id} already in registry.\")\n",
      "/home/juanhevia/miniconda3/envs/aidil/lib/python3.8/site-packages/gymnasium/envs/registration.py:694: UserWarning: \u001b[33mWARN: Overriding environment InvertedPendulum-v2 already in registry.\u001b[0m\n",
      "  logger.warn(f\"Overriding environment {new_spec.id} already in registry.\")\n",
      "/home/juanhevia/miniconda3/envs/aidil/lib/python3.8/site-packages/gymnasium/envs/registration.py:694: UserWarning: \u001b[33mWARN: Overriding environment InvertedPendulum-v4 already in registry.\u001b[0m\n",
      "  logger.warn(f\"Overriding environment {new_spec.id} already in registry.\")\n",
      "/home/juanhevia/miniconda3/envs/aidil/lib/python3.8/site-packages/gymnasium/envs/registration.py:694: UserWarning: \u001b[33mWARN: Overriding environment InvertedDoublePendulum-v2 already in registry.\u001b[0m\n",
      "  logger.warn(f\"Overriding environment {new_spec.id} already in registry.\")\n",
      "/home/juanhevia/miniconda3/envs/aidil/lib/python3.8/site-packages/gymnasium/envs/registration.py:694: UserWarning: \u001b[33mWARN: Overriding environment InvertedDoublePendulum-v4 already in registry.\u001b[0m\n",
      "  logger.warn(f\"Overriding environment {new_spec.id} already in registry.\")\n",
      "/home/juanhevia/miniconda3/envs/aidil/lib/python3.8/site-packages/gymnasium/envs/registration.py:694: UserWarning: \u001b[33mWARN: Overriding environment HalfCheetah-v2 already in registry.\u001b[0m\n",
      "  logger.warn(f\"Overriding environment {new_spec.id} already in registry.\")\n",
      "/home/juanhevia/miniconda3/envs/aidil/lib/python3.8/site-packages/gymnasium/envs/registration.py:694: UserWarning: \u001b[33mWARN: Overriding environment HalfCheetah-v3 already in registry.\u001b[0m\n",
      "  logger.warn(f\"Overriding environment {new_spec.id} already in registry.\")\n",
      "/home/juanhevia/miniconda3/envs/aidil/lib/python3.8/site-packages/gymnasium/envs/registration.py:694: UserWarning: \u001b[33mWARN: Overriding environment HalfCheetah-v4 already in registry.\u001b[0m\n",
      "  logger.warn(f\"Overriding environment {new_spec.id} already in registry.\")\n",
      "/home/juanhevia/miniconda3/envs/aidil/lib/python3.8/site-packages/gymnasium/envs/registration.py:694: UserWarning: \u001b[33mWARN: Overriding environment Hopper-v2 already in registry.\u001b[0m\n",
      "  logger.warn(f\"Overriding environment {new_spec.id} already in registry.\")\n",
      "/home/juanhevia/miniconda3/envs/aidil/lib/python3.8/site-packages/gymnasium/envs/registration.py:694: UserWarning: \u001b[33mWARN: Overriding environment Hopper-v3 already in registry.\u001b[0m\n",
      "  logger.warn(f\"Overriding environment {new_spec.id} already in registry.\")\n",
      "/home/juanhevia/miniconda3/envs/aidil/lib/python3.8/site-packages/gymnasium/envs/registration.py:694: UserWarning: \u001b[33mWARN: Overriding environment Hopper-v4 already in registry.\u001b[0m\n",
      "  logger.warn(f\"Overriding environment {new_spec.id} already in registry.\")\n",
      "/home/juanhevia/miniconda3/envs/aidil/lib/python3.8/site-packages/gymnasium/envs/registration.py:694: UserWarning: \u001b[33mWARN: Overriding environment Swimmer-v2 already in registry.\u001b[0m\n",
      "  logger.warn(f\"Overriding environment {new_spec.id} already in registry.\")\n",
      "/home/juanhevia/miniconda3/envs/aidil/lib/python3.8/site-packages/gymnasium/envs/registration.py:694: UserWarning: \u001b[33mWARN: Overriding environment Swimmer-v3 already in registry.\u001b[0m\n",
      "  logger.warn(f\"Overriding environment {new_spec.id} already in registry.\")\n",
      "/home/juanhevia/miniconda3/envs/aidil/lib/python3.8/site-packages/gymnasium/envs/registration.py:694: UserWarning: \u001b[33mWARN: Overriding environment Swimmer-v4 already in registry.\u001b[0m\n",
      "  logger.warn(f\"Overriding environment {new_spec.id} already in registry.\")\n",
      "/home/juanhevia/miniconda3/envs/aidil/lib/python3.8/site-packages/gymnasium/envs/registration.py:694: UserWarning: \u001b[33mWARN: Overriding environment Walker2d-v2 already in registry.\u001b[0m\n",
      "  logger.warn(f\"Overriding environment {new_spec.id} already in registry.\")\n",
      "/home/juanhevia/miniconda3/envs/aidil/lib/python3.8/site-packages/gymnasium/envs/registration.py:694: UserWarning: \u001b[33mWARN: Overriding environment Walker2d-v3 already in registry.\u001b[0m\n",
      "  logger.warn(f\"Overriding environment {new_spec.id} already in registry.\")\n",
      "/home/juanhevia/miniconda3/envs/aidil/lib/python3.8/site-packages/gymnasium/envs/registration.py:694: UserWarning: \u001b[33mWARN: Overriding environment Walker2d-v4 already in registry.\u001b[0m\n",
      "  logger.warn(f\"Overriding environment {new_spec.id} already in registry.\")\n",
      "/home/juanhevia/miniconda3/envs/aidil/lib/python3.8/site-packages/gymnasium/envs/registration.py:694: UserWarning: \u001b[33mWARN: Overriding environment Ant-v2 already in registry.\u001b[0m\n",
      "  logger.warn(f\"Overriding environment {new_spec.id} already in registry.\")\n",
      "/home/juanhevia/miniconda3/envs/aidil/lib/python3.8/site-packages/gymnasium/envs/registration.py:694: UserWarning: \u001b[33mWARN: Overriding environment Ant-v3 already in registry.\u001b[0m\n",
      "  logger.warn(f\"Overriding environment {new_spec.id} already in registry.\")\n",
      "/home/juanhevia/miniconda3/envs/aidil/lib/python3.8/site-packages/gymnasium/envs/registration.py:694: UserWarning: \u001b[33mWARN: Overriding environment Ant-v4 already in registry.\u001b[0m\n",
      "  logger.warn(f\"Overriding environment {new_spec.id} already in registry.\")\n",
      "/home/juanhevia/miniconda3/envs/aidil/lib/python3.8/site-packages/gymnasium/envs/registration.py:694: UserWarning: \u001b[33mWARN: Overriding environment Humanoid-v2 already in registry.\u001b[0m\n",
      "  logger.warn(f\"Overriding environment {new_spec.id} already in registry.\")\n",
      "/home/juanhevia/miniconda3/envs/aidil/lib/python3.8/site-packages/gymnasium/envs/registration.py:694: UserWarning: \u001b[33mWARN: Overriding environment Humanoid-v3 already in registry.\u001b[0m\n",
      "  logger.warn(f\"Overriding environment {new_spec.id} already in registry.\")\n",
      "/home/juanhevia/miniconda3/envs/aidil/lib/python3.8/site-packages/gymnasium/envs/registration.py:694: UserWarning: \u001b[33mWARN: Overriding environment Humanoid-v4 already in registry.\u001b[0m\n",
      "  logger.warn(f\"Overriding environment {new_spec.id} already in registry.\")\n",
      "/home/juanhevia/miniconda3/envs/aidil/lib/python3.8/site-packages/gymnasium/envs/registration.py:694: UserWarning: \u001b[33mWARN: Overriding environment HumanoidStandup-v2 already in registry.\u001b[0m\n",
      "  logger.warn(f\"Overriding environment {new_spec.id} already in registry.\")\n",
      "/home/juanhevia/miniconda3/envs/aidil/lib/python3.8/site-packages/gymnasium/envs/registration.py:694: UserWarning: \u001b[33mWARN: Overriding environment HumanoidStandup-v4 already in registry.\u001b[0m\n",
      "  logger.warn(f\"Overriding environment {new_spec.id} already in registry.\")\n",
      "/home/juanhevia/miniconda3/envs/aidil/lib/python3.8/site-packages/gymnasium/envs/registration.py:694: UserWarning: \u001b[33mWARN: Overriding environment GymV21Environment-v0 already in registry.\u001b[0m\n",
      "  logger.warn(f\"Overriding environment {new_spec.id} already in registry.\")\n",
      "/home/juanhevia/miniconda3/envs/aidil/lib/python3.8/site-packages/gymnasium/envs/registration.py:694: UserWarning: \u001b[33mWARN: Overriding environment GymV26Environment-v0 already in registry.\u001b[0m\n",
      "  logger.warn(f\"Overriding environment {new_spec.id} already in registry.\")\n"
     ]
    },
    {
     "name": "stdout",
     "output_type": "stream",
     "text": [
      "Import error. Trying to rebuild mujoco_py.\n",
      "running build_ext\n",
      "building 'mujoco_py.cymj' extension\n",
      "gcc -pthread -B /home/juanhevia/miniconda3/envs/aidil/compiler_compat -Wl,--sysroot=/ -Wsign-compare -DNDEBUG -g -fwrapv -O3 -Wall -fPIC -I/home/juanhevia/miniconda3/envs/aidil/lib/python3.8/site-packages/mujoco_py -I/home/juanhevia/.mujoco/mujoco210/include -I/home/juanhevia/miniconda3/envs/aidil/lib/python3.8/site-packages/numpy/core/include -I/home/juanhevia/miniconda3/envs/aidil/lib/python3.8/site-packages/mujoco_py/vendor/egl -I/home/juanhevia/miniconda3/envs/aidil/include/python3.8 -c /home/juanhevia/miniconda3/envs/aidil/lib/python3.8/site-packages/mujoco_py/cymj.c -o /home/juanhevia/miniconda3/envs/aidil/lib/python3.8/site-packages/mujoco_py/generated/_pyxbld_2.1.2.14_38_linuxgpuextensionbuilder/temp.linux-x86_64-cpython-38/home/juanhevia/miniconda3/envs/aidil/lib/python3.8/site-packages/mujoco_py/cymj.o -fopenmp -w\n"
     ]
    }
   ],
   "source": [
    "import os\n",
    "os.environ[\"LD_LIBRARY_PATH\"] = os.environ.get(\"LD_LIBRARY_PATH\", \"\") + \":/home/juanhevia/.mujoco/mujoco210/bin\" + \":/usr/lib/nvidia\"\n",
    "\n",
    "import gymnasium as gym\n",
    "\n",
    "env = gym.make('FrankaKitchen-v1', tasks_to_complete=['microwave', 'kettle'])"
   ]
  },
  {
   "cell_type": "code",
   "execution_count": 2,
   "metadata": {},
   "outputs": [],
   "source": [
    "observation, completion = env.reset()"
   ]
  },
  {
   "cell_type": "code",
   "execution_count": 3,
   "metadata": {},
   "outputs": [
    {
     "data": {
      "text/plain": [
       "{'observation': array([ 1.49274498e-01, -1.76946316e+00,  1.84327940e+00, -2.47733351e+00,\n",
       "         2.60224439e-01,  7.11698381e-01,  1.59499952e+00,  4.84265507e-02,\n",
       "         3.69488059e-02,  5.42175843e-04,  5.13482510e-04, -3.76945343e-04,\n",
       "        -5.87768717e-04, -5.08609614e-04,  4.32380332e-04,  5.72537748e-05,\n",
       "         6.97228118e-04, -1.65718624e-04, -2.51261747e-04, -5.42272900e-05,\n",
       "         2.96661672e-05, -4.49762890e-05, -3.66756375e-06, -4.22458129e-05,\n",
       "         6.26396622e-05,  4.03157271e-05,  4.62633515e-04, -2.26920561e-04,\n",
       "        -4.65239715e-04, -6.44355977e-03, -1.81221900e-03,  1.09829891e-03,\n",
       "        -2.69424868e-01,  3.50382993e-01,  1.61944857e+00,  9.99969379e-01,\n",
       "         4.05380702e-03, -6.56755675e-03, -2.53110845e-04,  5.82423659e-07,\n",
       "        -5.01487449e-07, -1.77493039e-06,  1.67937126e-06,  6.83592490e-07,\n",
       "        -2.44823496e-06, -1.74056880e-06,  8.16617979e-07,  1.21922707e-06,\n",
       "        -1.95524038e-06,  2.01053145e-06, -4.88596320e-06,  1.47671743e-05,\n",
       "         3.95550286e-05,  2.11992373e-06, -1.79305174e-06,  4.45611367e-07,\n",
       "         3.47726516e-05,  1.18016768e-05, -2.89872053e-06]),\n",
       " 'achieved_goal': {'microwave': array([0.0010801]),\n",
       "  'kettle': array([-2.69397440e-01,  3.50383255e-01,  1.61944683e+00,  9.99970159e-01,\n",
       "          4.03883905e-03, -6.58004743e-03, -2.66621172e-04])},\n",
       " 'desired_goal': {'microwave': array([-0.75]),\n",
       "  'kettle': array([-0.23,  0.75,  1.62,  0.99,  0.  ,  0.  , -0.06])}}"
      ]
     },
     "execution_count": 3,
     "metadata": {},
     "output_type": "execute_result"
    }
   ],
   "source": [
    "observation"
   ]
  },
  {
   "cell_type": "code",
   "execution_count": 4,
   "metadata": {},
   "outputs": [
    {
     "data": {
      "text/plain": [
       "{'tasks_to_complete': ['kettle', 'microwave'],\n",
       " 'episode_task_completions': [],\n",
       " 'step_task_completions': []}"
      ]
     },
     "execution_count": 4,
     "metadata": {},
     "output_type": "execute_result"
    }
   ],
   "source": [
    "completion"
   ]
  },
  {
   "cell_type": "markdown",
   "metadata": {},
   "source": [
    "# Can I pass it to a `Monitor`?"
   ]
  },
  {
   "cell_type": "code",
   "execution_count": 13,
   "metadata": {},
   "outputs": [],
   "source": [
    "from stable_baselines3.common.monitor import Monitor"
   ]
  },
  {
   "cell_type": "code",
   "execution_count": 14,
   "metadata": {},
   "outputs": [],
   "source": [
    "mon = Monitor(env, \"test_gymnasium\")"
   ]
  },
  {
   "cell_type": "code",
   "execution_count": 21,
   "metadata": {},
   "outputs": [],
   "source": [
    "res = env.step(env.action_space.sample())"
   ]
  },
  {
   "cell_type": "code",
   "execution_count": 22,
   "metadata": {},
   "outputs": [
    {
     "ename": "ValueError",
     "evalue": "too many values to unpack (expected 4)",
     "output_type": "error",
     "traceback": [
      "\u001b[0;31m---------------------------------------------------------------------------\u001b[0m",
      "\u001b[0;31mValueError\u001b[0m                                Traceback (most recent call last)",
      "\u001b[1;32m/home/juanhevia/IDIL/notebooks/13_test_relay_learning.ipynb Cell 9\u001b[0m line \u001b[0;36m1\n\u001b[0;32m----> <a href='vscode-notebook-cell://ssh-remote%2B7b22686f73744e616d65223a2253657276657256616962686176556e68656c6b6172227d/home/juanhevia/IDIL/notebooks/13_test_relay_learning.ipynb#X14sdnNjb2RlLXJlbW90ZQ%3D%3D?line=0'>1</a>\u001b[0m res \u001b[39m=\u001b[39m mon\u001b[39m.\u001b[39;49mstep(mon\u001b[39m.\u001b[39;49maction_space\u001b[39m.\u001b[39;49msample())\n",
      "File \u001b[0;32m~/miniconda3/envs/aidil/lib/python3.8/site-packages/stable_baselines3/common/monitor.py:95\u001b[0m, in \u001b[0;36mMonitor.step\u001b[0;34m(self, action)\u001b[0m\n\u001b[1;32m     93\u001b[0m \u001b[39mif\u001b[39;00m \u001b[39mself\u001b[39m\u001b[39m.\u001b[39mneeds_reset:\n\u001b[1;32m     94\u001b[0m     \u001b[39mraise\u001b[39;00m \u001b[39mRuntimeError\u001b[39;00m(\u001b[39m\"\u001b[39m\u001b[39mTried to step environment that needs reset\u001b[39m\u001b[39m\"\u001b[39m)\n\u001b[0;32m---> 95\u001b[0m observation, reward, done, info \u001b[39m=\u001b[39m \u001b[39mself\u001b[39m\u001b[39m.\u001b[39menv\u001b[39m.\u001b[39mstep(action)\n\u001b[1;32m     96\u001b[0m \u001b[39mself\u001b[39m\u001b[39m.\u001b[39mrewards\u001b[39m.\u001b[39mappend(reward)\n\u001b[1;32m     97\u001b[0m \u001b[39mif\u001b[39;00m done:\n",
      "\u001b[0;31mValueError\u001b[0m: too many values to unpack (expected 4)"
     ]
    }
   ],
   "source": [
    "res = mon.step(mon.action_space.sample())"
   ]
  },
  {
   "cell_type": "code",
   "execution_count": 24,
   "metadata": {},
   "outputs": [
    {
     "data": {
      "text/plain": [
       "{'observation': array([ 4.45437995e-02, -1.76426911e+00,  1.85665632e+00, -2.45411465e+00,\n",
       "         3.60638360e-01,  7.67122226e-01,  1.60421277e+00,  3.05994698e-02,\n",
       "         3.93501090e-02, -5.36792331e-01,  4.69529635e-03, -1.43176285e-01,\n",
       "         3.70991335e-02,  8.78811031e-02,  1.69983173e-02,  3.00017565e-01,\n",
       "        -1.36680906e-01,  9.17656045e-03, -1.88976142e-04,  4.63681424e-07,\n",
       "         2.64083299e-05,  2.22646399e-07,  2.12701786e-05,  4.57921758e-07,\n",
       "         2.97629379e-05,  5.38054564e-07,  4.21610400e-05,  7.71993246e-06,\n",
       "        -1.75263235e-05, -6.44036316e-03, -7.03522983e-05, -2.22885733e-06,\n",
       "        -2.69436532e-01,  3.50369098e-01,  1.61935201e+00,  1.00000155e+00,\n",
       "         3.68772369e-06,  2.72704062e-05, -3.25689853e-04,  2.82100424e-04,\n",
       "         1.97393703e-06, -7.09550177e-06,  1.76433960e-06,  2.98250412e-05,\n",
       "        -2.23264694e-06, -4.99880263e-05, -1.46262443e-06, -2.66915080e-04,\n",
       "        -1.69760271e-05,  2.60583887e-04,  1.00308323e-06,  6.43211523e-04,\n",
       "        -4.53701162e-04, -2.67320970e-04, -9.94032552e-08,  2.31627543e-03,\n",
       "        -2.19480527e-06,  2.03160582e-02,  8.43340424e-07]),\n",
       " 'achieved_goal': {'microwave': array([3.49978805e-05]),\n",
       "  'kettle': array([-2.69439180e-01,  3.50370168e-01,  1.61935356e+00,  9.99999955e-01,\n",
       "         -1.01819681e-06,  6.30249850e-05, -2.92000409e-04])},\n",
       " 'desired_goal': {'microwave': array([-0.75]),\n",
       "  'kettle': array([-0.23,  0.75,  1.62,  0.99,  0.  ,  0.  , -0.06])}}"
      ]
     },
     "execution_count": 24,
     "metadata": {},
     "output_type": "execute_result"
    }
   ],
   "source": [
    "res[0]"
   ]
  },
  {
   "cell_type": "code",
   "execution_count": 25,
   "metadata": {},
   "outputs": [
    {
     "data": {
      "text/plain": [
       "0.0"
      ]
     },
     "execution_count": 25,
     "metadata": {},
     "output_type": "execute_result"
    }
   ],
   "source": [
    "res[1]"
   ]
  },
  {
   "cell_type": "code",
   "execution_count": 26,
   "metadata": {},
   "outputs": [
    {
     "data": {
      "text/plain": [
       "False"
      ]
     },
     "execution_count": 26,
     "metadata": {},
     "output_type": "execute_result"
    }
   ],
   "source": [
    "res[2]"
   ]
  },
  {
   "cell_type": "code",
   "execution_count": 27,
   "metadata": {},
   "outputs": [
    {
     "data": {
      "text/plain": [
       "False"
      ]
     },
     "execution_count": 27,
     "metadata": {},
     "output_type": "execute_result"
    }
   ],
   "source": [
    "res[3]"
   ]
  },
  {
   "cell_type": "code",
   "execution_count": 28,
   "metadata": {},
   "outputs": [
    {
     "data": {
      "text/plain": [
       "{'tasks_to_complete': ['kettle', 'microwave'],\n",
       " 'step_task_completions': [],\n",
       " 'episode_task_completions': []}"
      ]
     },
     "execution_count": 28,
     "metadata": {},
     "output_type": "execute_result"
    }
   ],
   "source": [
    "res[4]"
   ]
  },
  {
   "cell_type": "markdown",
   "metadata": {},
   "source": [
    "# How do I generate expert trajectories?"
   ]
  },
  {
   "cell_type": "code",
   "execution_count": null,
   "metadata": {},
   "outputs": [
    {
     "ename": "Exception",
     "evalue": "\nMissing path to your environment variable. \nCurrent values LD_LIBRARY_PATH=\nPlease add following line to .bashrc:\nexport LD_LIBRARY_PATH=$LD_LIBRARY_PATH:/home/juanhevia/.mujoco/mujoco210/bin",
     "output_type": "error",
     "traceback": [
      "\u001b[0;31m---------------------------------------------------------------------------\u001b[0m",
      "\u001b[0;31mException\u001b[0m                                 Traceback (most recent call last)",
      "\u001b[1;32m/home/juanhevia/IDIL/notebooks/13_test_relay_learning.ipynb Cell 16\u001b[0m line \u001b[0;36m1\n\u001b[0;32m----> <a href='vscode-notebook-cell://ssh-remote%2B7b22686f73744e616d65223a2253657276657256616962686176556e68656c6b6172227d/home/juanhevia/IDIL/notebooks/13_test_relay_learning.ipynb#X21sdnNjb2RlLXJlbW90ZQ%3D%3D?line=0'>1</a>\u001b[0m \u001b[39mimport\u001b[39;00m \u001b[39mminari\u001b[39;00m\n",
      "File \u001b[0;32m~/miniconda3/envs/aidil/lib/python3.8/site-packages/minari/__init__.py:1\u001b[0m\n\u001b[0;32m----> 1\u001b[0m \u001b[39mfrom\u001b[39;00m \u001b[39mminari\u001b[39;00m\u001b[39m.\u001b[39;00m\u001b[39mdata_collector\u001b[39;00m \u001b[39mimport\u001b[39;00m DataCollector\n\u001b[1;32m      2\u001b[0m \u001b[39mfrom\u001b[39;00m \u001b[39mminari\u001b[39;00m\u001b[39m.\u001b[39;00m\u001b[39mdata_collector\u001b[39;00m\u001b[39m.\u001b[39;00m\u001b[39mcallbacks\u001b[39;00m \u001b[39mimport\u001b[39;00m EpisodeMetadataCallback, StepDataCallback\n\u001b[1;32m      3\u001b[0m \u001b[39mfrom\u001b[39;00m \u001b[39mminari\u001b[39;00m\u001b[39m.\u001b[39;00m\u001b[39mdataset\u001b[39;00m\u001b[39m.\u001b[39;00m\u001b[39mminari_dataset\u001b[39;00m \u001b[39mimport\u001b[39;00m EpisodeData, MinariDataset\n",
      "File \u001b[0;32m~/miniconda3/envs/aidil/lib/python3.8/site-packages/minari/data_collector/__init__.py:1\u001b[0m\n\u001b[0;32m----> 1\u001b[0m \u001b[39mfrom\u001b[39;00m \u001b[39mminari\u001b[39;00m\u001b[39m.\u001b[39;00m\u001b[39mdata_collector\u001b[39;00m\u001b[39m.\u001b[39;00m\u001b[39mdata_collector\u001b[39;00m \u001b[39mimport\u001b[39;00m DataCollector\n\u001b[1;32m      4\u001b[0m __all__ \u001b[39m=\u001b[39m [\u001b[39m\"\u001b[39m\u001b[39mDataCollector\u001b[39m\u001b[39m\"\u001b[39m]\n\u001b[1;32m      7\u001b[0m \u001b[39mdef\u001b[39;00m \u001b[39m__getattr__\u001b[39m(name):\n",
      "File \u001b[0;32m~/miniconda3/envs/aidil/lib/python3.8/site-packages/minari/data_collector/data_collector.py:12\u001b[0m\n\u001b[1;32m      9\u001b[0m \u001b[39mimport\u001b[39;00m \u001b[39mwarnings\u001b[39;00m\n\u001b[1;32m     10\u001b[0m \u001b[39mfrom\u001b[39;00m \u001b[39mtyping\u001b[39;00m \u001b[39mimport\u001b[39;00m Any, Callable, Dict, List, Optional, SupportsFloat, Type, Union\n\u001b[0;32m---> 12\u001b[0m \u001b[39mimport\u001b[39;00m \u001b[39mgymnasium\u001b[39;00m \u001b[39mas\u001b[39;00m \u001b[39mgym\u001b[39;00m\n\u001b[1;32m     13\u001b[0m \u001b[39mimport\u001b[39;00m \u001b[39mnumpy\u001b[39;00m \u001b[39mas\u001b[39;00m \u001b[39mnp\u001b[39;00m\n\u001b[1;32m     14\u001b[0m \u001b[39mfrom\u001b[39;00m \u001b[39mgymnasium\u001b[39;00m\u001b[39m.\u001b[39;00m\u001b[39mcore\u001b[39;00m \u001b[39mimport\u001b[39;00m ActType, ObsType\n",
      "File \u001b[0;32m~/miniconda3/envs/aidil/lib/python3.8/site-packages/gymnasium/__init__.py:12\u001b[0m\n\u001b[1;32m      4\u001b[0m \u001b[39mfrom\u001b[39;00m \u001b[39mgymnasium\u001b[39;00m\u001b[39m.\u001b[39;00m\u001b[39mcore\u001b[39;00m \u001b[39mimport\u001b[39;00m (\n\u001b[1;32m      5\u001b[0m     Env,\n\u001b[1;32m      6\u001b[0m     Wrapper,\n\u001b[0;32m   (...)\u001b[0m\n\u001b[1;32m      9\u001b[0m     RewardWrapper,\n\u001b[1;32m     10\u001b[0m )\n\u001b[1;32m     11\u001b[0m \u001b[39mfrom\u001b[39;00m \u001b[39mgymnasium\u001b[39;00m\u001b[39m.\u001b[39;00m\u001b[39mspaces\u001b[39;00m\u001b[39m.\u001b[39;00m\u001b[39mspace\u001b[39;00m \u001b[39mimport\u001b[39;00m Space\n\u001b[0;32m---> 12\u001b[0m \u001b[39mfrom\u001b[39;00m \u001b[39mgymnasium\u001b[39;00m\u001b[39m.\u001b[39;00m\u001b[39menvs\u001b[39;00m\u001b[39m.\u001b[39;00m\u001b[39mregistration\u001b[39;00m \u001b[39mimport\u001b[39;00m (\n\u001b[1;32m     13\u001b[0m     make,\n\u001b[1;32m     14\u001b[0m     spec,\n\u001b[1;32m     15\u001b[0m     register,\n\u001b[1;32m     16\u001b[0m     registry,\n\u001b[1;32m     17\u001b[0m     pprint_registry,\n\u001b[1;32m     18\u001b[0m     make_vec,\n\u001b[1;32m     19\u001b[0m     register_envs,\n\u001b[1;32m     20\u001b[0m )\n\u001b[1;32m     22\u001b[0m \u001b[39m# necessary for `envs.__init__` which registers all gymnasium environments and loads plugins\u001b[39;00m\n\u001b[1;32m     23\u001b[0m \u001b[39mfrom\u001b[39;00m \u001b[39mgymnasium\u001b[39;00m \u001b[39mimport\u001b[39;00m envs\n",
      "File \u001b[0;32m~/miniconda3/envs/aidil/lib/python3.8/site-packages/gymnasium/envs/__init__.py:387\u001b[0m\n\u001b[1;32m    383\u001b[0m register(\u001b[39mid\u001b[39m\u001b[39m=\u001b[39m\u001b[39m\"\u001b[39m\u001b[39mGymV26Environment-v0\u001b[39m\u001b[39m\"\u001b[39m, entry_point\u001b[39m=\u001b[39m_raise_shimmy_error)\n\u001b[1;32m    386\u001b[0m \u001b[39m# Hook to load plugins from entry points\u001b[39;00m\n\u001b[0;32m--> 387\u001b[0m load_plugin_envs()\n",
      "File \u001b[0;32m~/miniconda3/envs/aidil/lib/python3.8/site-packages/gymnasium/envs/registration.py:592\u001b[0m, in \u001b[0;36mload_plugin_envs\u001b[0;34m(entry_point)\u001b[0m\n\u001b[1;32m    586\u001b[0m         logger\u001b[39m.\u001b[39mwarn(\n\u001b[1;32m    587\u001b[0m             \u001b[39mf\u001b[39m\u001b[39m\"\u001b[39m\u001b[39mThe environment namespace magic key `\u001b[39m\u001b[39m{\u001b[39;00mplugin\u001b[39m.\u001b[39mname\u001b[39m}\u001b[39;00m\u001b[39m` is unsupported. \u001b[39m\u001b[39m\"\u001b[39m\n\u001b[1;32m    588\u001b[0m             \u001b[39m\"\u001b[39m\u001b[39mTo register an environment at the root namespace you should specify the `__root__` namespace.\u001b[39m\u001b[39m\"\u001b[39m\n\u001b[1;32m    589\u001b[0m         )\n\u001b[1;32m    591\u001b[0m \u001b[39mwith\u001b[39;00m context:\n\u001b[0;32m--> 592\u001b[0m     fn \u001b[39m=\u001b[39m plugin\u001b[39m.\u001b[39;49mload()\n\u001b[1;32m    593\u001b[0m     \u001b[39mtry\u001b[39;00m:\n\u001b[1;32m    594\u001b[0m         fn()\n",
      "File \u001b[0;32m~/miniconda3/envs/aidil/lib/python3.8/site-packages/importlib_metadata/__init__.py:183\u001b[0m, in \u001b[0;36mEntryPoint.load\u001b[0;34m(self)\u001b[0m\n\u001b[1;32m    178\u001b[0m \u001b[39m\u001b[39m\u001b[39m\"\"\"Load the entry point from its definition. If only a module\u001b[39;00m\n\u001b[1;32m    179\u001b[0m \u001b[39mis indicated by the value, return that module. Otherwise,\u001b[39;00m\n\u001b[1;32m    180\u001b[0m \u001b[39mreturn the named object.\u001b[39;00m\n\u001b[1;32m    181\u001b[0m \u001b[39m\"\"\"\u001b[39;00m\n\u001b[1;32m    182\u001b[0m match \u001b[39m=\u001b[39m cast(Match, \u001b[39mself\u001b[39m\u001b[39m.\u001b[39mpattern\u001b[39m.\u001b[39mmatch(\u001b[39mself\u001b[39m\u001b[39m.\u001b[39mvalue))\n\u001b[0;32m--> 183\u001b[0m module \u001b[39m=\u001b[39m import_module(match\u001b[39m.\u001b[39;49mgroup(\u001b[39m'\u001b[39;49m\u001b[39mmodule\u001b[39;49m\u001b[39m'\u001b[39;49m))\n\u001b[1;32m    184\u001b[0m attrs \u001b[39m=\u001b[39m \u001b[39mfilter\u001b[39m(\u001b[39mNone\u001b[39;00m, (match\u001b[39m.\u001b[39mgroup(\u001b[39m'\u001b[39m\u001b[39mattr\u001b[39m\u001b[39m'\u001b[39m) \u001b[39mor\u001b[39;00m \u001b[39m'\u001b[39m\u001b[39m'\u001b[39m)\u001b[39m.\u001b[39msplit(\u001b[39m'\u001b[39m\u001b[39m.\u001b[39m\u001b[39m'\u001b[39m))\n\u001b[1;32m    185\u001b[0m \u001b[39mreturn\u001b[39;00m functools\u001b[39m.\u001b[39mreduce(\u001b[39mgetattr\u001b[39m, attrs, module)\n",
      "File \u001b[0;32m~/miniconda3/envs/aidil/lib/python3.8/importlib/__init__.py:127\u001b[0m, in \u001b[0;36mimport_module\u001b[0;34m(name, package)\u001b[0m\n\u001b[1;32m    125\u001b[0m             \u001b[39mbreak\u001b[39;00m\n\u001b[1;32m    126\u001b[0m         level \u001b[39m+\u001b[39m\u001b[39m=\u001b[39m \u001b[39m1\u001b[39m\n\u001b[0;32m--> 127\u001b[0m \u001b[39mreturn\u001b[39;00m _bootstrap\u001b[39m.\u001b[39;49m_gcd_import(name[level:], package, level)\n",
      "File \u001b[0;32m~/miniconda3/envs/aidil/lib/python3.8/site-packages/gymnasium_robotics/__init__.py:5\u001b[0m\n\u001b[1;32m      2\u001b[0m \u001b[39mfrom\u001b[39;00m \u001b[39mgymnasium\u001b[39;00m\u001b[39m.\u001b[39;00m\u001b[39menvs\u001b[39;00m\u001b[39m.\u001b[39;00m\u001b[39mregistration\u001b[39;00m \u001b[39mimport\u001b[39;00m register\n\u001b[1;32m      4\u001b[0m \u001b[39mfrom\u001b[39;00m \u001b[39mgymnasium_robotics\u001b[39;00m\u001b[39m.\u001b[39;00m\u001b[39mcore\u001b[39;00m \u001b[39mimport\u001b[39;00m GoalEnv\n\u001b[0;32m----> 5\u001b[0m \u001b[39mfrom\u001b[39;00m \u001b[39mgymnasium_robotics\u001b[39;00m\u001b[39m.\u001b[39;00m\u001b[39menvs\u001b[39;00m\u001b[39m.\u001b[39;00m\u001b[39mmaze\u001b[39;00m \u001b[39mimport\u001b[39;00m maps\n\u001b[1;32m      6\u001b[0m \u001b[39mfrom\u001b[39;00m \u001b[39mgymnasium_robotics\u001b[39;00m\u001b[39m.\u001b[39;00m\u001b[39menvs\u001b[39;00m\u001b[39m.\u001b[39;00m\u001b[39mmultiagent_mujoco\u001b[39;00m \u001b[39mimport\u001b[39;00m mamujoco_v0\n\u001b[1;32m      9\u001b[0m \u001b[39mdef\u001b[39;00m \u001b[39mregister_robotics_envs\u001b[39m():\n",
      "File \u001b[0;32m~/miniconda3/envs/aidil/lib/python3.8/site-packages/gymnasium_robotics/envs/maze/__init__.py:1\u001b[0m\n\u001b[0;32m----> 1\u001b[0m \u001b[39mfrom\u001b[39;00m \u001b[39mgymnasium_robotics\u001b[39;00m\u001b[39m.\u001b[39;00m\u001b[39menvs\u001b[39;00m\u001b[39m.\u001b[39;00m\u001b[39mmaze\u001b[39;00m\u001b[39m.\u001b[39;00m\u001b[39mant_maze\u001b[39;00m \u001b[39mimport\u001b[39;00m AntMazeEnv\n\u001b[1;32m      2\u001b[0m \u001b[39mfrom\u001b[39;00m \u001b[39mgymnasium_robotics\u001b[39;00m\u001b[39m.\u001b[39;00m\u001b[39menvs\u001b[39;00m\u001b[39m.\u001b[39;00m\u001b[39mmaze\u001b[39;00m\u001b[39m.\u001b[39;00m\u001b[39mpoint_maze\u001b[39;00m \u001b[39mimport\u001b[39;00m PointMazeEnv\n",
      "File \u001b[0;32m~/miniconda3/envs/aidil/lib/python3.8/site-packages/gymnasium_robotics/envs/maze/ant_maze.py:7\u001b[0m\n\u001b[1;32m      5\u001b[0m \u001b[39mimport\u001b[39;00m \u001b[39mnumpy\u001b[39;00m \u001b[39mas\u001b[39;00m \u001b[39mnp\u001b[39;00m\n\u001b[1;32m      6\u001b[0m \u001b[39mfrom\u001b[39;00m \u001b[39mgymnasium\u001b[39;00m \u001b[39mimport\u001b[39;00m spaces\n\u001b[0;32m----> 7\u001b[0m \u001b[39mfrom\u001b[39;00m \u001b[39mgymnasium\u001b[39;00m\u001b[39m.\u001b[39;00m\u001b[39menvs\u001b[39;00m\u001b[39m.\u001b[39;00m\u001b[39mmujoco\u001b[39;00m\u001b[39m.\u001b[39;00m\u001b[39mant_v4\u001b[39;00m \u001b[39mimport\u001b[39;00m AntEnv\n\u001b[1;32m      8\u001b[0m \u001b[39mfrom\u001b[39;00m \u001b[39mgymnasium\u001b[39;00m\u001b[39m.\u001b[39;00m\u001b[39mutils\u001b[39;00m\u001b[39m.\u001b[39;00m\u001b[39mezpickle\u001b[39;00m \u001b[39mimport\u001b[39;00m EzPickle\n\u001b[1;32m     10\u001b[0m \u001b[39mfrom\u001b[39;00m \u001b[39mgymnasium_robotics\u001b[39;00m\u001b[39m.\u001b[39;00m\u001b[39menvs\u001b[39;00m\u001b[39m.\u001b[39;00m\u001b[39mmaze\u001b[39;00m\u001b[39m.\u001b[39;00m\u001b[39mmaps\u001b[39;00m \u001b[39mimport\u001b[39;00m U_MAZE\n",
      "File \u001b[0;32m~/miniconda3/envs/aidil/lib/python3.8/site-packages/gymnasium/envs/mujoco/__init__.py:1\u001b[0m\n\u001b[0;32m----> 1\u001b[0m \u001b[39mfrom\u001b[39;00m \u001b[39mgymnasium\u001b[39;00m\u001b[39m.\u001b[39;00m\u001b[39menvs\u001b[39;00m\u001b[39m.\u001b[39;00m\u001b[39mmujoco\u001b[39;00m\u001b[39m.\u001b[39;00m\u001b[39mmujoco_env\u001b[39;00m \u001b[39mimport\u001b[39;00m MujocoEnv, MuJocoPyEnv  \u001b[39m# isort:skip\u001b[39;00m\n\u001b[1;32m      3\u001b[0m \u001b[39m# ^^^^^ so that user gets the correct error\u001b[39;00m\n\u001b[1;32m      4\u001b[0m \u001b[39m# message if mujoco is not installed correctly\u001b[39;00m\n\u001b[1;32m      5\u001b[0m \u001b[39mfrom\u001b[39;00m \u001b[39mgymnasium\u001b[39;00m\u001b[39m.\u001b[39;00m\u001b[39menvs\u001b[39;00m\u001b[39m.\u001b[39;00m\u001b[39mmujoco\u001b[39;00m\u001b[39m.\u001b[39;00m\u001b[39mant\u001b[39;00m \u001b[39mimport\u001b[39;00m AntEnv\n",
      "File \u001b[0;32m~/miniconda3/envs/aidil/lib/python3.8/site-packages/gymnasium/envs/mujoco/mujoco_env.py:13\u001b[0m\n\u001b[1;32m      9\u001b[0m \u001b[39mfrom\u001b[39;00m \u001b[39mgymnasium\u001b[39;00m\u001b[39m.\u001b[39;00m\u001b[39mspaces\u001b[39;00m \u001b[39mimport\u001b[39;00m Space\n\u001b[1;32m     12\u001b[0m \u001b[39mtry\u001b[39;00m:\n\u001b[0;32m---> 13\u001b[0m     \u001b[39mimport\u001b[39;00m \u001b[39mmujoco_py\u001b[39;00m\n\u001b[1;32m     14\u001b[0m \u001b[39mexcept\u001b[39;00m \u001b[39mImportError\u001b[39;00m \u001b[39mas\u001b[39;00m e:\n\u001b[1;32m     15\u001b[0m     MUJOCO_PY_IMPORT_ERROR \u001b[39m=\u001b[39m e\n",
      "File \u001b[0;32m~/miniconda3/envs/aidil/lib/python3.8/site-packages/mujoco_py/__init__.py:2\u001b[0m\n\u001b[1;32m      1\u001b[0m \u001b[39m#!/usr/bin/env python\u001b[39;00m\n\u001b[0;32m----> 2\u001b[0m \u001b[39mfrom\u001b[39;00m \u001b[39mmujoco_py\u001b[39;00m\u001b[39m.\u001b[39;00m\u001b[39mbuilder\u001b[39;00m \u001b[39mimport\u001b[39;00m cymj, ignore_mujoco_warnings, functions, MujocoException\n\u001b[1;32m      3\u001b[0m \u001b[39mfrom\u001b[39;00m \u001b[39mmujoco_py\u001b[39;00m\u001b[39m.\u001b[39;00m\u001b[39mgenerated\u001b[39;00m \u001b[39mimport\u001b[39;00m const\n\u001b[1;32m      4\u001b[0m \u001b[39mfrom\u001b[39;00m \u001b[39mmujoco_py\u001b[39;00m\u001b[39m.\u001b[39;00m\u001b[39mmjrenderpool\u001b[39;00m \u001b[39mimport\u001b[39;00m MjRenderPool\n",
      "File \u001b[0;32m~/miniconda3/envs/aidil/lib/python3.8/site-packages/mujoco_py/builder.py:504\u001b[0m\n\u001b[1;32m    500\u001b[0m     \u001b[39mreturn\u001b[39;00m module\u001b[39m.\u001b[39mlib\u001b[39m.\u001b[39m__fun\n\u001b[1;32m    503\u001b[0m mujoco_path \u001b[39m=\u001b[39m discover_mujoco()\n\u001b[0;32m--> 504\u001b[0m cymj \u001b[39m=\u001b[39m load_cython_ext(mujoco_path)\n\u001b[1;32m    507\u001b[0m \u001b[39m# Trick to expose all mj* functions from mujoco in mujoco_py.*\u001b[39;00m\n\u001b[1;32m    508\u001b[0m \u001b[39mclass\u001b[39;00m \u001b[39mdict2\u001b[39;00m(\u001b[39mobject\u001b[39m):\n",
      "File \u001b[0;32m~/miniconda3/envs/aidil/lib/python3.8/site-packages/mujoco_py/builder.py:74\u001b[0m, in \u001b[0;36mload_cython_ext\u001b[0;34m(mujoco_path)\u001b[0m\n\u001b[1;32m     72\u001b[0m     Builder \u001b[39m=\u001b[39m MacExtensionBuilder\n\u001b[1;32m     73\u001b[0m \u001b[39melif\u001b[39;00m sys\u001b[39m.\u001b[39mplatform \u001b[39m==\u001b[39m \u001b[39m'\u001b[39m\u001b[39mlinux\u001b[39m\u001b[39m'\u001b[39m:\n\u001b[0;32m---> 74\u001b[0m     _ensure_set_env_var(\u001b[39m\"\u001b[39;49m\u001b[39mLD_LIBRARY_PATH\u001b[39;49m\u001b[39m\"\u001b[39;49m, lib_path)\n\u001b[1;32m     75\u001b[0m     \u001b[39mif\u001b[39;00m os\u001b[39m.\u001b[39mgetenv(\u001b[39m'\u001b[39m\u001b[39mMUJOCO_PY_FORCE_CPU\u001b[39m\u001b[39m'\u001b[39m) \u001b[39mis\u001b[39;00m \u001b[39mNone\u001b[39;00m \u001b[39mand\u001b[39;00m get_nvidia_lib_dir() \u001b[39mis\u001b[39;00m \u001b[39mnot\u001b[39;00m \u001b[39mNone\u001b[39;00m:\n\u001b[1;32m     76\u001b[0m         _ensure_set_env_var(\u001b[39m\"\u001b[39m\u001b[39mLD_LIBRARY_PATH\u001b[39m\u001b[39m\"\u001b[39m, get_nvidia_lib_dir())\n",
      "File \u001b[0;32m~/miniconda3/envs/aidil/lib/python3.8/site-packages/mujoco_py/builder.py:120\u001b[0m, in \u001b[0;36m_ensure_set_env_var\u001b[0;34m(var_name, lib_path)\u001b[0m\n\u001b[1;32m    118\u001b[0m paths \u001b[39m=\u001b[39m [os\u001b[39m.\u001b[39mpath\u001b[39m.\u001b[39mabspath(path) \u001b[39mfor\u001b[39;00m path \u001b[39min\u001b[39;00m paths]\n\u001b[1;32m    119\u001b[0m \u001b[39mif\u001b[39;00m lib_path \u001b[39mnot\u001b[39;00m \u001b[39min\u001b[39;00m paths:\n\u001b[0;32m--> 120\u001b[0m     \u001b[39mraise\u001b[39;00m \u001b[39mException\u001b[39;00m(\u001b[39m\"\u001b[39m\u001b[39m\\n\u001b[39;00m\u001b[39mMissing path to your environment variable. \u001b[39m\u001b[39m\\n\u001b[39;00m\u001b[39m\"\u001b[39m\n\u001b[1;32m    121\u001b[0m                     \u001b[39m\"\u001b[39m\u001b[39mCurrent values \u001b[39m\u001b[39m%s\u001b[39;00m\u001b[39m=\u001b[39m\u001b[39m%s\u001b[39;00m\u001b[39m\\n\u001b[39;00m\u001b[39m\"\u001b[39m\n\u001b[1;32m    122\u001b[0m                     \u001b[39m\"\u001b[39m\u001b[39mPlease add following line to .bashrc:\u001b[39m\u001b[39m\\n\u001b[39;00m\u001b[39m\"\u001b[39m\n\u001b[1;32m    123\u001b[0m                     \u001b[39m\"\u001b[39m\u001b[39mexport \u001b[39m\u001b[39m%s\u001b[39;00m\u001b[39m=$\u001b[39m\u001b[39m%s\u001b[39;00m\u001b[39m:\u001b[39m\u001b[39m%s\u001b[39;00m\u001b[39m\"\u001b[39m \u001b[39m%\u001b[39m (var_name, os\u001b[39m.\u001b[39menviron\u001b[39m.\u001b[39mget(var_name, \u001b[39m\"\u001b[39m\u001b[39m\"\u001b[39m),\n\u001b[1;32m    124\u001b[0m                                           var_name, var_name, lib_path))\n",
      "\u001b[0;31mException\u001b[0m: \nMissing path to your environment variable. \nCurrent values LD_LIBRARY_PATH=\nPlease add following line to .bashrc:\nexport LD_LIBRARY_PATH=$LD_LIBRARY_PATH:/home/juanhevia/.mujoco/mujoco210/bin"
     ]
    }
   ],
   "source": [
    "import minari"
   ]
  },
  {
   "cell_type": "markdown",
   "metadata": {},
   "source": [
    "## Download"
   ]
  },
  {
   "cell_type": "code",
   "execution_count": null,
   "metadata": {},
   "outputs": [
    {
     "name": "stdout",
     "output_type": "stream",
     "text": [
      "\n",
      "Downloading kitchen-complete-v1 from Farama servers...\n",
      "\n",
      " * Downloading data file 'kitchen-complete-v1/_docs/_imgs/kitchen-complete-v1.gif' ...\n",
      "\n"
     ]
    },
    {
     "name": "stderr",
     "output_type": "stream",
     "text": [
      "100%|██████████| 19.9M/19.9M [00:00<00:00, 43.5MB/s]\n"
     ]
    },
    {
     "name": "stdout",
     "output_type": "stream",
     "text": [
      "\n",
      " * Downloading data file 'kitchen-complete-v1/data/main_data.hdf5' ...\n",
      "\n"
     ]
    },
    {
     "name": "stderr",
     "output_type": "stream",
     "text": [
      "100%|██████████| 4.10M/4.10M [00:00<00:00, 73.0MB/s]\n"
     ]
    },
    {
     "name": "stdout",
     "output_type": "stream",
     "text": [
      "\n",
      " * Downloading data file 'kitchen-complete-v1/data/metadata.json' ...\n",
      "\n"
     ]
    },
    {
     "name": "stderr",
     "output_type": "stream",
     "text": [
      "100%|██████████| 1.02k/1.02k [00:00<00:00, 92.9kB/s]"
     ]
    },
    {
     "name": "stdout",
     "output_type": "stream",
     "text": [
      "\n",
      "Dataset kitchen-complete-v1 downloaded to /home/juanhevia/.minari/datasets/kitchen-complete-v1\n"
     ]
    },
    {
     "name": "stderr",
     "output_type": "stream",
     "text": [
      "\n"
     ]
    }
   ],
   "source": [
    "minari.download_dataset(\"kitchen-complete-v1\")"
   ]
  },
  {
   "cell_type": "code",
   "execution_count": 71,
   "metadata": {},
   "outputs": [
    {
     "name": "stdout",
     "output_type": "stream",
     "text": [
      "\n",
      "Downloading kitchen-mixed-v1 from Farama servers...\n",
      "\n",
      " * Downloading data file 'kitchen-mixed-v1/_docs/_imgs/kitchen-mixed-v1.gif' ...\n",
      "\n"
     ]
    },
    {
     "name": "stderr",
     "output_type": "stream",
     "text": [
      "100%|██████████| 19.9M/19.9M [00:00<00:00, 35.0MB/s]\n"
     ]
    },
    {
     "name": "stdout",
     "output_type": "stream",
     "text": [
      "\n",
      " * Downloading data file 'kitchen-mixed-v1/data/main_data.hdf5' ...\n",
      "\n"
     ]
    },
    {
     "name": "stderr",
     "output_type": "stream",
     "text": [
      "100%|██████████| 150M/150M [00:01<00:00, 96.2MB/s] \n"
     ]
    },
    {
     "name": "stdout",
     "output_type": "stream",
     "text": [
      "\n",
      " * Downloading data file 'kitchen-mixed-v1/data/metadata.json' ...\n",
      "\n"
     ]
    },
    {
     "name": "stderr",
     "output_type": "stream",
     "text": [
      "100%|██████████| 1.05k/1.05k [00:00<00:00, 9.81kB/s]"
     ]
    },
    {
     "name": "stdout",
     "output_type": "stream",
     "text": [
      "\n",
      "Dataset kitchen-mixed-v1 downloaded to /home/juanhevia/.minari/datasets/kitchen-mixed-v1\n"
     ]
    },
    {
     "name": "stderr",
     "output_type": "stream",
     "text": [
      "\n"
     ]
    }
   ],
   "source": [
    "minari.download_dataset(\"kitchen-mixed-v1\")"
   ]
  },
  {
   "cell_type": "markdown",
   "metadata": {},
   "source": [
    "## Check data"
   ]
  },
  {
   "cell_type": "code",
   "execution_count": null,
   "metadata": {},
   "outputs": [],
   "source": [
    "import json \n",
    "import pickle\n",
    "import numpy as np \n",
    "import pandas as pd "
   ]
  },
  {
   "cell_type": "code",
   "execution_count": 31,
   "metadata": {},
   "outputs": [],
   "source": [
    "DEMO_PATH = \"kitchen_franka_demos/kitchen-complete-v1/\""
   ]
  },
  {
   "cell_type": "code",
   "execution_count": 34,
   "metadata": {},
   "outputs": [
    {
     "data": {
      "text/plain": [
       "['main_data.hdf5', 'metadata.json']"
      ]
     },
     "execution_count": 34,
     "metadata": {},
     "output_type": "execute_result"
    }
   ],
   "source": [
    "os.listdir(os.path.join(DEMO_PATH, 'data'))"
   ]
  },
  {
   "cell_type": "code",
   "execution_count": 35,
   "metadata": {},
   "outputs": [
    {
     "data": {
      "text/plain": [
       "{'env_spec': '{\"id\": \"FrankaKitchen-v1\", \"entry_point\": \"gymnasium_robotics.envs.franka_kitchen:KitchenEnv\", \"reward_threshold\": null, \"nondeterministic\": false, \"max_episode_steps\": 280, \"order_enforce\": true, \"disable_env_checker\": false, \"kwargs\": {\"remove_task_when_completed\": false, \"terminate_on_tasks_completed\": false, \"tasks_to_complete\": [\"microwave\", \"kettle\", \"light switch\", \"slide cabinet\"]}, \"additional_wrappers\": [], \"vector_entry_point\": null}',\n",
       " 'dataset_id': 'kitchen/complete-v1',\n",
       " 'algorithm_name': 'None',\n",
       " 'author': ['Rodrigo de Lazcano'],\n",
       " 'author_email': ['rperezvicente@farama.org'],\n",
       " 'code_permalink': 'https://github.com/rodrigodelazcano/d4rl-minari-dataset-generation',\n",
       " 'ref_max_score': 4.0,\n",
       " 'ref_min_score': 0.0,\n",
       " 'num_episodes_average_score': 100,\n",
       " 'total_episodes': 19,\n",
       " 'total_steps': 4209,\n",
       " 'minari_version': '0.4.3',\n",
       " 'data_format': 'hdf5',\n",
       " 'dataset_size': 4.3,\n",
       " 'description': 'The complete dataset includes demonstrations of all 4 target subtasks being completed, in order.'}"
      ]
     },
     "execution_count": 35,
     "metadata": {},
     "output_type": "execute_result"
    }
   ],
   "source": [
    "with open(os.path.join(DEMO_PATH, 'data', 'metadata.json'), 'r') as f:\n",
    "    metadata = json.load(f)\n",
    "\n",
    "metadata"
   ]
  },
  {
   "cell_type": "code",
   "execution_count": 36,
   "metadata": {},
   "outputs": [],
   "source": [
    "import h5py"
   ]
  },
  {
   "cell_type": "code",
   "execution_count": 54,
   "metadata": {},
   "outputs": [
    {
     "name": "stdout",
     "output_type": "stream",
     "text": [
      "['episode_0', 'episode_1', 'episode_10', 'episode_11', 'episode_12', 'episode_13', 'episode_14', 'episode_15', 'episode_16', 'episode_17', 'episode_18', 'episode_2', 'episode_3', 'episode_4', 'episode_5', 'episode_6', 'episode_7', 'episode_8', 'episode_9']\n",
      "[ 1.48752727e-01 -1.76937809e+00  1.84334368e+00 -2.47748886e+00\n",
      "  2.59603838e-01  7.13157294e-01  1.59600063e+00  4.74798993e-02\n",
      "  3.77746010e-02  7.79785386e-04  2.59409105e-05 -5.10070798e-04\n",
      "  6.48483192e-04 -5.72474073e-04  4.82934104e-04  2.59880409e-04\n",
      "  8.54814517e-04 -5.36183623e-04 -2.36367337e-04 -5.17135234e-05\n",
      "  2.99455001e-05 -4.52870333e-05 -3.90952708e-06 -4.22216032e-05\n",
      "  6.26487165e-05  4.02559183e-05  4.62716506e-04 -2.25765198e-04\n",
      " -4.63408367e-04 -6.44066429e-03 -1.72877037e-03  1.11656587e-03\n",
      " -2.69425626e-01  3.50385086e-01  1.61944798e+00  9.99969049e-01\n",
      "  4.06854340e-03 -6.54352526e-03 -2.86677382e-04  1.35210420e-07\n",
      " -2.14256597e-06  4.16192051e-07 -1.31046800e-06  1.32481823e-06\n",
      " -1.63184182e-06 -9.36288719e-07 -2.42762762e-06 -2.33724039e-06\n",
      " -1.64907910e-08 -1.58437328e-07 -3.72309677e-05 -2.42437495e-05\n",
      " -4.96818891e-05 -5.94661261e-07  3.79365420e-07 -3.63506144e-07\n",
      "  3.35102347e-05  1.16491251e-05 -2.33916088e-05]\n"
     ]
    }
   ],
   "source": [
    "with h5py.File(os.path.join(DEMO_PATH, 'data', 'main_data.hdf5'), 'r') as f:\n",
    "    print(list(f.keys()))\n",
    "    print(f['episode_0']['observations']['observation'])\n",
    "    # print(f['observations'].shape)\n",
    "    # print(f['actions'].shape)\n",
    "    # print(f['completions'].shape)"
   ]
  },
  {
   "cell_type": "markdown",
   "metadata": {},
   "source": [
    "## Loading from `minari`"
   ]
  },
  {
   "cell_type": "code",
   "execution_count": 7,
   "metadata": {},
   "outputs": [],
   "source": [
    "dataset = minari.load_dataset(\"kitchen-complete-v1\")"
   ]
  },
  {
   "cell_type": "code",
   "execution_count": 8,
   "metadata": {},
   "outputs": [],
   "source": [
    "dataset_mixed = minari.load_dataset(\"kitchen-mixed-v1\")"
   ]
  },
  {
   "cell_type": "code",
   "execution_count": 9,
   "metadata": {},
   "outputs": [
    {
     "name": "stdout",
     "output_type": "stream",
     "text": [
      "212\n",
      "208\n",
      "222\n",
      "236\n",
      "223\n",
      "223\n",
      "233\n",
      "224\n",
      "236\n",
      "211\n",
      "219\n",
      "221\n",
      "219\n",
      "223\n",
      "236\n",
      "210\n",
      "214\n",
      "216\n",
      "223\n",
      "4209\n"
     ]
    }
   ],
   "source": [
    "counter = 0\n",
    "for ep in dataset.iterate_episodes():\n",
    "    print(len(ep.actions))\n",
    "    counter += len(ep.actions)\n",
    "\n",
    "print(counter)"
   ]
  },
  {
   "cell_type": "code",
   "execution_count": 10,
   "metadata": {},
   "outputs": [
    {
     "data": {
      "text/plain": [
       "621"
      ]
     },
     "execution_count": 10,
     "metadata": {},
     "output_type": "execute_result"
    }
   ],
   "source": [
    "len(dataset_mixed)"
   ]
  },
  {
   "cell_type": "code",
   "execution_count": 11,
   "metadata": {},
   "outputs": [
    {
     "name": "stdout",
     "output_type": "stream",
     "text": [
      "156560\n"
     ]
    }
   ],
   "source": [
    "counter = 0\n",
    "for ep in dataset_mixed.iterate_episodes():\n",
    "    # print(len(ep.actions))\n",
    "    counter += len(ep.actions)\n",
    "\n",
    "print(counter)"
   ]
  },
  {
   "cell_type": "code",
   "execution_count": 12,
   "metadata": {},
   "outputs": [
    {
     "data": {
      "text/plain": [
       "dict_keys(['states', 'next_states', 'actions', 'latents', 'rewards', 'dones', 'lengths'])"
      ]
     },
     "execution_count": 12,
     "metadata": {},
     "output_type": "execute_result"
    }
   ],
   "source": [
    "import pickle \n",
    "# load a sample pickle file to get an idea of the data structure\n",
    "with open(os.path.join('../', 'idil_train', 'experts', 'CleanupSingle-v0_100.pkl'), 'rb') as f:\n",
    "    example_expert = pickle.load(f)\n",
    "\n",
    "example_expert.keys()"
   ]
  },
  {
   "cell_type": "code",
   "execution_count": 13,
   "metadata": {},
   "outputs": [
    {
     "data": {
      "text/plain": [
       "100"
      ]
     },
     "execution_count": 13,
     "metadata": {},
     "output_type": "execute_result"
    }
   ],
   "source": [
    "len(example_expert['states']) # 100 trajectories"
   ]
  },
  {
   "cell_type": "markdown",
   "metadata": {},
   "source": [
    "From [the documentation](https://robotics.farama.org/envs/franka_kitchen/franka_kitchen/), there are 3 relevant keys:\n",
    "- `observation`: holds environment observation (like kettle's position or angular velocity of the cabinet door)\n",
    "- `achieved goal`: this key represents the final goal to be achieved. The value is another Dict space with keys the tasks to be completed in the episode and values the joint goal configuration of each joint in the task as specified in the `Goal` section.\n",
    "- `desired goal`: this key represents the desired state of the tasks. The value is another Dict space with keys the tasks to be completed in the episode and values the desired joint configuration of each joint in the task."
   ]
  },
  {
   "cell_type": "markdown",
   "metadata": {},
   "source": [
    "# Generatee macro-goals labels"
   ]
  },
  {
   "cell_type": "markdown",
   "metadata": {},
   "source": [
    "## Mixed Dataset"
   ]
  },
  {
   "cell_type": "code",
   "execution_count": 66,
   "metadata": {},
   "outputs": [
    {
     "name": "stdout",
     "output_type": "stream",
     "text": [
      "0 terminated episodes found\n"
     ]
    }
   ],
   "source": [
    "# parse the mixed dataset into a proper object\n",
    "num_terminated = 0\n",
    "for ep in dataset_mixed.iterate_episodes():\n",
    "    num_terminated += 1 if np.sum(ep.terminations) > 0 else 0\n",
    "    sample_episode = ep\n",
    "    if any(ep.terminations): # take only a terminated episode as a sample\n",
    "        print(\"Found a terminated episode\")\n",
    "        break\n",
    "\n",
    "    # else take the last one\n",
    "    \n",
    "print(f\"{num_terminated} terminated episodes found\")"
   ]
  },
  {
   "cell_type": "code",
   "execution_count": 67,
   "metadata": {},
   "outputs": [
    {
     "name": "stdout",
     "output_type": "stream",
     "text": [
      "dict_keys(['bottom burner', 'kettle', 'light switch', 'microwave'])\n",
      "dict_keys(['bottom burner', 'kettle', 'light switch', 'microwave'])\n"
     ]
    }
   ],
   "source": [
    "print(sample_episode.observations[\"achieved_goal\"].keys())\n",
    "print(sample_episode.observations[\"desired_goal\"].keys())"
   ]
  },
  {
   "cell_type": "code",
   "execution_count": 68,
   "metadata": {},
   "outputs": [
    {
     "data": {
      "text/plain": [
       "(277, 59)"
      ]
     },
     "execution_count": 68,
     "metadata": {},
     "output_type": "execute_result"
    }
   ],
   "source": [
    "sample_episode.observations['observation'].shape"
   ]
  },
  {
   "cell_type": "code",
   "execution_count": 69,
   "metadata": {},
   "outputs": [
    {
     "data": {
      "text/plain": [
       "(277, 2)"
      ]
     },
     "execution_count": 69,
     "metadata": {},
     "output_type": "execute_result"
    }
   ],
   "source": [
    "sample_episode.observations['achieved_goal']['bottom burner'].shape\n",
    "sample_episode.observations['desired_goal']['bottom burner'].shape"
   ]
  },
  {
   "cell_type": "code",
   "execution_count": 71,
   "metadata": {},
   "outputs": [],
   "source": [
    "# can we use the vector distance between the achieved and desired goal as a termination mark?\n",
    "import numpy as np\n",
    "import matplotlib.pyplot as plt "
   ]
  },
  {
   "cell_type": "code",
   "execution_count": 72,
   "metadata": {},
   "outputs": [
    {
     "data": {
      "text/plain": [
       "<matplotlib.lines.Line2D at 0x7f6569a96b80>"
      ]
     },
     "execution_count": 72,
     "metadata": {},
     "output_type": "execute_result"
    },
    {
     "data": {
      "image/png": "[encoded data removed]",
      "text/plain": [
       "<Figure size 640x480 with 1 Axes>"
      ]
     },
     "metadata": {},
     "output_type": "display_data"
    }
   ],
   "source": [
    "# try for all desired goals\n",
    "desired_goals = list(sample_episode.observations['desired_goal'].keys())\n",
    "\n",
    "fig, ax = plt.subplots(1,1,)\n",
    "\n",
    "for dgoal in desired_goals:\n",
    "    l2_goal_dist_sample = np.linalg.norm(sample_episode.observations['achieved_goal'][dgoal] - sample_episode.observations['desired_goal'][dgoal], axis=1)\n",
    "    ax.plot(l2_goal_dist_sample)\n",
    "\n",
    "ax.legend(desired_goals, bbox_to_anchor=(1.05, 1), loc='upper left')\n",
    "ax.axvline(np.where(sample_episode.truncations)[0][0], color='r', linestyle='--')"
   ]
  },
  {
   "cell_type": "code",
   "execution_count": 39,
   "metadata": {},
   "outputs": [
    {
     "data": {
      "text/plain": [
       "array([[375]])"
      ]
     },
     "execution_count": 39,
     "metadata": {},
     "output_type": "execute_result"
    }
   ],
   "source": [
    "# confirm with terminations\n",
    "any(sample_episode.terminations) # it was not terminated\n",
    "any(sample_episode.truncations) # this episode was truncated\n",
    "\n",
    "# where was it truncated?\n",
    "np.sum(sample_episode.truncations) # only one truncation point, as expected\n",
    "np.argwhere(sample_episode.truncations) # at the idx 375"
   ]
  },
  {
   "cell_type": "markdown",
   "metadata": {},
   "source": [
    "Makes sense because the `mixed` dataset contains various subtasks being performed, but **the 4 target subtasks are never completed in sequence together**.\n"
   ]
  },
  {
   "cell_type": "markdown",
   "metadata": {},
   "source": [
    "## Complete dataset"
   ]
  },
  {
   "cell_type": "code",
   "execution_count": 73,
   "metadata": {},
   "outputs": [
    {
     "name": "stdout",
     "output_type": "stream",
     "text": [
      "0 terminated episodes found\n"
     ]
    }
   ],
   "source": [
    "# parse the mixed dataset into a proper object\n",
    "num_terminated = 0\n",
    "for ep in dataset.iterate_episodes():\n",
    "    num_terminated += 1 if np.sum(ep.terminations) > 0 else 0\n",
    "    sample_episode = ep\n",
    "    if any(ep.terminations): # take only a terminated episode as a sample\n",
    "        print(\"Found a terminated episode\")\n",
    "        break\n",
    "\n",
    "    # else take the last one\n",
    "    \n",
    "print(f\"{num_terminated} terminated episodes found\")"
   ]
  },
  {
   "cell_type": "code",
   "execution_count": 74,
   "metadata": {},
   "outputs": [
    {
     "name": "stdout",
     "output_type": "stream",
     "text": [
      "dict_keys(['kettle', 'light switch', 'microwave', 'slide cabinet'])\n",
      "dict_keys(['kettle', 'light switch', 'microwave', 'slide cabinet'])\n"
     ]
    }
   ],
   "source": [
    "print(sample_episode.observations[\"achieved_goal\"].keys())\n",
    "print(sample_episode.observations[\"desired_goal\"].keys())"
   ]
  },
  {
   "cell_type": "code",
   "execution_count": 75,
   "metadata": {},
   "outputs": [
    {
     "data": {
      "text/plain": [
       "(224, 59)"
      ]
     },
     "execution_count": 75,
     "metadata": {},
     "output_type": "execute_result"
    }
   ],
   "source": [
    "sample_episode.observations['observation'].shape"
   ]
  },
  {
   "cell_type": "code",
   "execution_count": 77,
   "metadata": {},
   "outputs": [
    {
     "data": {
      "text/plain": [
       "<matplotlib.lines.Line2D at 0x7f6561646e50>"
      ]
     },
     "execution_count": 77,
     "metadata": {},
     "output_type": "execute_result"
    },
    {
     "data": {
      "image/png": "[encoded data removed]",
      "text/plain": [
       "<Figure size 640x480 with 1 Axes>"
      ]
     },
     "metadata": {},
     "output_type": "display_data"
    }
   ],
   "source": [
    "# try for all desired goals\n",
    "desired_goals = list(sample_episode.observations['desired_goal'].keys())\n",
    "\n",
    "fig, ax = plt.subplots(1,1,)\n",
    "\n",
    "for dgoal in desired_goals:\n",
    "    l2_goal_dist_sample = np.linalg.norm(sample_episode.observations['achieved_goal'][dgoal] - sample_episode.observations['desired_goal'][dgoal], axis=1)\n",
    "    ax.plot(l2_goal_dist_sample)\n",
    "\n",
    "ax.legend(desired_goals, bbox_to_anchor=(1.05, 1), loc='upper left')\n",
    "ax.axvline(np.where(sample_episode.truncations)[0][0], color='r', linestyle='--')"
   ]
  },
  {
   "cell_type": "code",
   "execution_count": 78,
   "metadata": {},
   "outputs": [
    {
     "data": {
      "text/plain": [
       "array([[222]])"
      ]
     },
     "execution_count": 78,
     "metadata": {},
     "output_type": "execute_result"
    }
   ],
   "source": [
    "# confirm with terminations\n",
    "any(sample_episode.terminations) # it was not terminated\n",
    "any(sample_episode.truncations) # this episode was truncated\n",
    "\n",
    "# where was it truncated?\n",
    "np.sum(sample_episode.truncations) # only one truncation point, as expected\n",
    "np.argwhere(sample_episode.truncations) # at the idx 375"
   ]
  },
  {
   "cell_type": "markdown",
   "metadata": {},
   "source": [
    "### Algorithm idea\n",
    "\n",
    "0. compute the L2 norm between the `achieved_goal` and the `desired_goal` for each timestep.\n",
    "1. get `np.argmin()` for each separate *l2 norm* trajectory. This gives me the order in which the tasks where executed.\n",
    "2. use the indices and label (state, action) timesteps so that they map the *currently active* goal.\n"
   ]
  },
  {
   "cell_type": "code",
   "execution_count": null,
   "metadata": {},
   "outputs": [],
   "source": []
  }
 ],
 "metadata": {
  "kernelspec": {
   "display_name": "aidil",
   "language": "python",
   "name": "python3"
  },
  "language_info": {
   "codemirror_mode": {
    "name": "ipython",
    "version": 3
   },
   "file_extension": ".py",
   "mimetype": "text/x-python",
   "name": "python",
   "nbconvert_exporter": "python",
   "pygments_lexer": "ipython3",
   "version": "3.8.19"
  }
 },
 "nbformat": 4,
 "nbformat_minor": 2
}
