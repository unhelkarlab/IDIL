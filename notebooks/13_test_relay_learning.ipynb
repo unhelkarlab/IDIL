{
 "cells": [
  {
   "cell_type": "code",
   "execution_count": 2,
   "metadata": {},
   "outputs": [
    {
     "name": "stdout",
     "output_type": "stream",
     "text": [
      "Import error. Trying to rebuild mujoco_py.\n",
      "running build_ext\n",
      "building 'mujoco_py.cymj' extension\n",
      "gcc -pthread -B /home/juanhevia/miniconda3/envs/aidil/compiler_compat -Wl,--sysroot=/ -Wsign-compare -DNDEBUG -g -fwrapv -O3 -Wall -fPIC -I/home/juanhevia/miniconda3/envs/aidil/lib/python3.8/site-packages/mujoco_py -I/home/juanhevia/.mujoco/mujoco210/include -I/home/juanhevia/miniconda3/envs/aidil/lib/python3.8/site-packages/numpy/core/include -I/home/juanhevia/miniconda3/envs/aidil/lib/python3.8/site-packages/mujoco_py/vendor/egl -I/home/juanhevia/miniconda3/envs/aidil/include/python3.8 -c /home/juanhevia/miniconda3/envs/aidil/lib/python3.8/site-packages/mujoco_py/cymj.c -o /home/juanhevia/miniconda3/envs/aidil/lib/python3.8/site-packages/mujoco_py/generated/_pyxbld_2.1.2.14_38_linuxgpuextensionbuilder/temp.linux-x86_64-cpython-38/home/juanhevia/miniconda3/envs/aidil/lib/python3.8/site-packages/mujoco_py/cymj.o -fopenmp -w\n",
      "gcc -pthread -B /home/juanhevia/miniconda3/envs/aidil/compiler_compat -Wl,--sysroot=/ -Wsign-compare -DNDEBUG -g -fwrapv -O3 -Wall -fPIC -I/home/juanhevia/miniconda3/envs/aidil/lib/python3.8/site-packages/mujoco_py -I/home/juanhevia/.mujoco/mujoco210/include -I/home/juanhevia/miniconda3/envs/aidil/lib/python3.8/site-packages/numpy/core/include -I/home/juanhevia/miniconda3/envs/aidil/lib/python3.8/site-packages/mujoco_py/vendor/egl -I/home/juanhevia/miniconda3/envs/aidil/include/python3.8 -c /home/juanhevia/miniconda3/envs/aidil/lib/python3.8/site-packages/mujoco_py/gl/eglshim.c -o /home/juanhevia/miniconda3/envs/aidil/lib/python3.8/site-packages/mujoco_py/generated/_pyxbld_2.1.2.14_38_linuxgpuextensionbuilder/temp.linux-x86_64-cpython-38/home/juanhevia/miniconda3/envs/aidil/lib/python3.8/site-packages/mujoco_py/gl/eglshim.o -fopenmp -w\n",
      "gcc -pthread -shared -B /home/juanhevia/miniconda3/envs/aidil/compiler_compat -L/home/juanhevia/miniconda3/envs/aidil/lib -Wl,-rpath=/home/juanhevia/miniconda3/envs/aidil/lib -Wl,--no-as-needed -Wl,--sysroot=/ /home/juanhevia/miniconda3/envs/aidil/lib/python3.8/site-packages/mujoco_py/generated/_pyxbld_2.1.2.14_38_linuxgpuextensionbuilder/temp.linux-x86_64-cpython-38/home/juanhevia/miniconda3/envs/aidil/lib/python3.8/site-packages/mujoco_py/cymj.o /home/juanhevia/miniconda3/envs/aidil/lib/python3.8/site-packages/mujoco_py/generated/_pyxbld_2.1.2.14_38_linuxgpuextensionbuilder/temp.linux-x86_64-cpython-38/home/juanhevia/miniconda3/envs/aidil/lib/python3.8/site-packages/mujoco_py/gl/eglshim.o -L/home/juanhevia/.mujoco/mujoco210/bin -Wl,--enable-new-dtags,-R/home/juanhevia/.mujoco/mujoco210/bin -lmujoco210 -lglewegl -o /home/juanhevia/miniconda3/envs/aidil/lib/python3.8/site-packages/mujoco_py/generated/_pyxbld_2.1.2.14_38_linuxgpuextensionbuilder/lib.linux-x86_64-cpython-38/mujoco_py/cymj.cpython-38-x86_64-linux-gnu.so -fopenmp\n"
     ]
    }
   ],
   "source": [
    "import os\n",
    "os.environ[\"LD_LIBRARY_PATH\"] = os.environ.get(\"LD_LIBRARY_PATH\", \"\") + \":/home/juanhevia/.mujoco/mujoco210/bin\" + \":/usr/lib/nvidia\"\n",
    "\n",
    "import gymnasium as gym\n",
    "\n",
    "env = gym.make('FrankaKitchen-v1', tasks_to_complete=['microwave', 'kettle'])"
   ]
  },
  {
   "cell_type": "code",
   "execution_count": 3,
   "metadata": {},
   "outputs": [],
   "source": [
    "observation, completion = env.reset()"
   ]
  },
  {
   "cell_type": "code",
   "execution_count": 4,
   "metadata": {},
   "outputs": [
    {
     "data": {
      "text/plain": [
       "{'observation': array([ 1.48519715e-01, -1.76940794e+00,  1.84313870e+00, -2.47616299e+00,\n",
       "         2.59459064e-01,  7.12377844e-01,  1.59568119e+00,  4.75373698e-02,\n",
       "         3.68278984e-02,  7.27535131e-04,  6.19756697e-05,  7.86029552e-04,\n",
       "        -6.60942557e-04, -7.36168922e-04, -2.02858130e-04, -3.23924961e-04,\n",
       "        -8.68056665e-04, -7.69425416e-04, -2.86873233e-04, -5.07377522e-05,\n",
       "         2.95374214e-05, -4.51347079e-05, -4.11304822e-06, -4.21225348e-05,\n",
       "         6.28936002e-05,  4.07404696e-05,  4.62732774e-04, -2.26367983e-04,\n",
       "        -4.65646969e-04, -6.44296647e-03, -1.75177630e-03,  1.06042319e-03,\n",
       "        -2.69425444e-01,  3.50383488e-01,  1.61944556e+00,  9.99968752e-01,\n",
       "         4.05298424e-03, -6.53573383e-03, -2.53065828e-04, -5.35188396e-07,\n",
       "        -1.99491775e-06, -1.88327080e-06,  1.95938807e-06, -3.17186055e-07,\n",
       "         1.92987920e-06, -1.47116416e-07,  9.44458241e-07,  1.49413167e-06,\n",
       "         2.38121112e-06, -1.81889423e-06, -8.95048901e-06,  4.93194011e-07,\n",
       "         3.22856730e-05, -1.98585552e-06, -2.19956319e-06,  2.81203902e-07,\n",
       "        -4.61623360e-05,  9.32528820e-07,  1.32034401e-05]),\n",
       " 'achieved_goal': {'microwave': array([0.0010801]),\n",
       "  'kettle': array([-2.69397440e-01,  3.50383255e-01,  1.61944683e+00,  9.99970159e-01,\n",
       "          4.03883905e-03, -6.58004743e-03, -2.66621172e-04])},\n",
       " 'desired_goal': {'microwave': array([-0.75]),\n",
       "  'kettle': array([-0.23,  0.75,  1.62,  0.99,  0.  ,  0.  , -0.06])}}"
      ]
     },
     "execution_count": 4,
     "metadata": {},
     "output_type": "execute_result"
    }
   ],
   "source": [
    "observation"
   ]
  },
  {
   "cell_type": "code",
   "execution_count": 5,
   "metadata": {},
   "outputs": [
    {
     "data": {
      "text/plain": [
       "{'tasks_to_complete': ['microwave', 'kettle'],\n",
       " 'episode_task_completions': [],\n",
       " 'step_task_completions': []}"
      ]
     },
     "execution_count": 5,
     "metadata": {},
     "output_type": "execute_result"
    }
   ],
   "source": [
    "completion"
   ]
  },
  {
   "cell_type": "markdown",
   "metadata": {},
   "source": [
    "# Can I pass it to a `Monitor`?"
   ]
  },
  {
   "cell_type": "code",
   "execution_count": 13,
   "metadata": {},
   "outputs": [],
   "source": [
    "from stable_baselines3.common.monitor import Monitor"
   ]
  },
  {
   "cell_type": "code",
   "execution_count": 14,
   "metadata": {},
   "outputs": [],
   "source": [
    "mon = Monitor(env, \"test_gymnasium\")"
   ]
  },
  {
   "cell_type": "code",
   "execution_count": 21,
   "metadata": {},
   "outputs": [],
   "source": [
    "res = env.step(env.action_space.sample())"
   ]
  },
  {
   "cell_type": "code",
   "execution_count": 22,
   "metadata": {},
   "outputs": [
    {
     "ename": "ValueError",
     "evalue": "too many values to unpack (expected 4)",
     "output_type": "error",
     "traceback": [
      "\u001b[0;31m---------------------------------------------------------------------------\u001b[0m",
      "\u001b[0;31mValueError\u001b[0m                                Traceback (most recent call last)",
      "\u001b[1;32m/home/juanhevia/IDIL/notebooks/13_test_relay_learning.ipynb Cell 9\u001b[0m line \u001b[0;36m1\n\u001b[0;32m----> <a href='vscode-notebook-cell://ssh-remote%2B7b22686f73744e616d65223a2253657276657256616962686176556e68656c6b6172227d/home/juanhevia/IDIL/notebooks/13_test_relay_learning.ipynb#X14sdnNjb2RlLXJlbW90ZQ%3D%3D?line=0'>1</a>\u001b[0m res \u001b[39m=\u001b[39m mon\u001b[39m.\u001b[39;49mstep(mon\u001b[39m.\u001b[39;49maction_space\u001b[39m.\u001b[39;49msample())\n",
      "File \u001b[0;32m~/miniconda3/envs/aidil/lib/python3.8/site-packages/stable_baselines3/common/monitor.py:95\u001b[0m, in \u001b[0;36mMonitor.step\u001b[0;34m(self, action)\u001b[0m\n\u001b[1;32m     93\u001b[0m \u001b[39mif\u001b[39;00m \u001b[39mself\u001b[39m\u001b[39m.\u001b[39mneeds_reset:\n\u001b[1;32m     94\u001b[0m     \u001b[39mraise\u001b[39;00m \u001b[39mRuntimeError\u001b[39;00m(\u001b[39m\"\u001b[39m\u001b[39mTried to step environment that needs reset\u001b[39m\u001b[39m\"\u001b[39m)\n\u001b[0;32m---> 95\u001b[0m observation, reward, done, info \u001b[39m=\u001b[39m \u001b[39mself\u001b[39m\u001b[39m.\u001b[39menv\u001b[39m.\u001b[39mstep(action)\n\u001b[1;32m     96\u001b[0m \u001b[39mself\u001b[39m\u001b[39m.\u001b[39mrewards\u001b[39m.\u001b[39mappend(reward)\n\u001b[1;32m     97\u001b[0m \u001b[39mif\u001b[39;00m done:\n",
      "\u001b[0;31mValueError\u001b[0m: too many values to unpack (expected 4)"
     ]
    }
   ],
   "source": [
    "res = mon.step(mon.action_space.sample())"
   ]
  },
  {
   "cell_type": "code",
   "execution_count": 24,
   "metadata": {},
   "outputs": [
    {
     "data": {
      "text/plain": [
       "{'observation': array([ 4.45437995e-02, -1.76426911e+00,  1.85665632e+00, -2.45411465e+00,\n",
       "         3.60638360e-01,  7.67122226e-01,  1.60421277e+00,  3.05994698e-02,\n",
       "         3.93501090e-02, -5.36792331e-01,  4.69529635e-03, -1.43176285e-01,\n",
       "         3.70991335e-02,  8.78811031e-02,  1.69983173e-02,  3.00017565e-01,\n",
       "        -1.36680906e-01,  9.17656045e-03, -1.88976142e-04,  4.63681424e-07,\n",
       "         2.64083299e-05,  2.22646399e-07,  2.12701786e-05,  4.57921758e-07,\n",
       "         2.97629379e-05,  5.38054564e-07,  4.21610400e-05,  7.71993246e-06,\n",
       "        -1.75263235e-05, -6.44036316e-03, -7.03522983e-05, -2.22885733e-06,\n",
       "        -2.69436532e-01,  3.50369098e-01,  1.61935201e+00,  1.00000155e+00,\n",
       "         3.68772369e-06,  2.72704062e-05, -3.25689853e-04,  2.82100424e-04,\n",
       "         1.97393703e-06, -7.09550177e-06,  1.76433960e-06,  2.98250412e-05,\n",
       "        -2.23264694e-06, -4.99880263e-05, -1.46262443e-06, -2.66915080e-04,\n",
       "        -1.69760271e-05,  2.60583887e-04,  1.00308323e-06,  6.43211523e-04,\n",
       "        -4.53701162e-04, -2.67320970e-04, -9.94032552e-08,  2.31627543e-03,\n",
       "        -2.19480527e-06,  2.03160582e-02,  8.43340424e-07]),\n",
       " 'achieved_goal': {'microwave': array([3.49978805e-05]),\n",
       "  'kettle': array([-2.69439180e-01,  3.50370168e-01,  1.61935356e+00,  9.99999955e-01,\n",
       "         -1.01819681e-06,  6.30249850e-05, -2.92000409e-04])},\n",
       " 'desired_goal': {'microwave': array([-0.75]),\n",
       "  'kettle': array([-0.23,  0.75,  1.62,  0.99,  0.  ,  0.  , -0.06])}}"
      ]
     },
     "execution_count": 24,
     "metadata": {},
     "output_type": "execute_result"
    }
   ],
   "source": [
    "res[0]"
   ]
  },
  {
   "cell_type": "code",
   "execution_count": 25,
   "metadata": {},
   "outputs": [
    {
     "data": {
      "text/plain": [
       "0.0"
      ]
     },
     "execution_count": 25,
     "metadata": {},
     "output_type": "execute_result"
    }
   ],
   "source": [
    "res[1]"
   ]
  },
  {
   "cell_type": "code",
   "execution_count": 26,
   "metadata": {},
   "outputs": [
    {
     "data": {
      "text/plain": [
       "False"
      ]
     },
     "execution_count": 26,
     "metadata": {},
     "output_type": "execute_result"
    }
   ],
   "source": [
    "res[2]"
   ]
  },
  {
   "cell_type": "code",
   "execution_count": 27,
   "metadata": {},
   "outputs": [
    {
     "data": {
      "text/plain": [
       "False"
      ]
     },
     "execution_count": 27,
     "metadata": {},
     "output_type": "execute_result"
    }
   ],
   "source": [
    "res[3]"
   ]
  },
  {
   "cell_type": "code",
   "execution_count": 28,
   "metadata": {},
   "outputs": [
    {
     "data": {
      "text/plain": [
       "{'tasks_to_complete': ['kettle', 'microwave'],\n",
       " 'step_task_completions': [],\n",
       " 'episode_task_completions': []}"
      ]
     },
     "execution_count": 28,
     "metadata": {},
     "output_type": "execute_result"
    }
   ],
   "source": [
    "res[4]"
   ]
  },
  {
   "cell_type": "markdown",
   "metadata": {},
   "source": [
    "# How do I generate expert trajectories?"
   ]
  },
  {
   "cell_type": "code",
   "execution_count": 6,
   "metadata": {},
   "outputs": [
    {
     "name": "stderr",
     "output_type": "stream",
     "text": [
      "/home/juanhevia/miniconda3/envs/aidil/lib/python3.8/site-packages/tqdm/auto.py:21: TqdmWarning: IProgress not found. Please update jupyter and ipywidgets. See https://ipywidgets.readthedocs.io/en/stable/user_install.html\n",
      "  from .autonotebook import tqdm as notebook_tqdm\n"
     ]
    }
   ],
   "source": [
    "import minari"
   ]
  },
  {
   "cell_type": "markdown",
   "metadata": {},
   "source": [
    "## Download"
   ]
  },
  {
   "cell_type": "code",
   "execution_count": null,
   "metadata": {},
   "outputs": [
    {
     "name": "stdout",
     "output_type": "stream",
     "text": [
      "\n",
      "Downloading kitchen-complete-v1 from Farama servers...\n",
      "\n",
      " * Downloading data file 'kitchen-complete-v1/_docs/_imgs/kitchen-complete-v1.gif' ...\n",
      "\n"
     ]
    },
    {
     "name": "stderr",
     "output_type": "stream",
     "text": [
      "100%|██████████| 19.9M/19.9M [00:00<00:00, 43.5MB/s]\n"
     ]
    },
    {
     "name": "stdout",
     "output_type": "stream",
     "text": [
      "\n",
      " * Downloading data file 'kitchen-complete-v1/data/main_data.hdf5' ...\n",
      "\n"
     ]
    },
    {
     "name": "stderr",
     "output_type": "stream",
     "text": [
      "100%|██████████| 4.10M/4.10M [00:00<00:00, 73.0MB/s]\n"
     ]
    },
    {
     "name": "stdout",
     "output_type": "stream",
     "text": [
      "\n",
      " * Downloading data file 'kitchen-complete-v1/data/metadata.json' ...\n",
      "\n"
     ]
    },
    {
     "name": "stderr",
     "output_type": "stream",
     "text": [
      "100%|██████████| 1.02k/1.02k [00:00<00:00, 92.9kB/s]"
     ]
    },
    {
     "name": "stdout",
     "output_type": "stream",
     "text": [
      "\n",
      "Dataset kitchen-complete-v1 downloaded to /home/juanhevia/.minari/datasets/kitchen-complete-v1\n"
     ]
    },
    {
     "name": "stderr",
     "output_type": "stream",
     "text": [
      "\n"
     ]
    }
   ],
   "source": [
    "minari.download_dataset(\"kitchen-complete-v1\")"
   ]
  },
  {
   "cell_type": "code",
   "execution_count": 71,
   "metadata": {},
   "outputs": [
    {
     "name": "stdout",
     "output_type": "stream",
     "text": [
      "\n",
      "Downloading kitchen-mixed-v1 from Farama servers...\n",
      "\n",
      " * Downloading data file 'kitchen-mixed-v1/_docs/_imgs/kitchen-mixed-v1.gif' ...\n",
      "\n"
     ]
    },
    {
     "name": "stderr",
     "output_type": "stream",
     "text": [
      "100%|██████████| 19.9M/19.9M [00:00<00:00, 35.0MB/s]\n"
     ]
    },
    {
     "name": "stdout",
     "output_type": "stream",
     "text": [
      "\n",
      " * Downloading data file 'kitchen-mixed-v1/data/main_data.hdf5' ...\n",
      "\n"
     ]
    },
    {
     "name": "stderr",
     "output_type": "stream",
     "text": [
      "100%|██████████| 150M/150M [00:01<00:00, 96.2MB/s] \n"
     ]
    },
    {
     "name": "stdout",
     "output_type": "stream",
     "text": [
      "\n",
      " * Downloading data file 'kitchen-mixed-v1/data/metadata.json' ...\n",
      "\n"
     ]
    },
    {
     "name": "stderr",
     "output_type": "stream",
     "text": [
      "100%|██████████| 1.05k/1.05k [00:00<00:00, 9.81kB/s]"
     ]
    },
    {
     "name": "stdout",
     "output_type": "stream",
     "text": [
      "\n",
      "Dataset kitchen-mixed-v1 downloaded to /home/juanhevia/.minari/datasets/kitchen-mixed-v1\n"
     ]
    },
    {
     "name": "stderr",
     "output_type": "stream",
     "text": [
      "\n"
     ]
    }
   ],
   "source": [
    "minari.download_dataset(\"kitchen-mixed-v1\")"
   ]
  },
  {
   "cell_type": "markdown",
   "metadata": {},
   "source": [
    "## Check data"
   ]
  },
  {
   "cell_type": "code",
   "execution_count": 32,
   "metadata": {},
   "outputs": [],
   "source": [
    "import json \n",
    "import pickle\n",
    "import numpy as np \n",
    "import pandas as pd "
   ]
  },
  {
   "cell_type": "code",
   "execution_count": 31,
   "metadata": {},
   "outputs": [],
   "source": [
    "DEMO_PATH = \"kitchen_franka_demos/kitchen-complete-v1/\""
   ]
  },
  {
   "cell_type": "code",
   "execution_count": 34,
   "metadata": {},
   "outputs": [
    {
     "data": {
      "text/plain": [
       "['main_data.hdf5', 'metadata.json']"
      ]
     },
     "execution_count": 34,
     "metadata": {},
     "output_type": "execute_result"
    }
   ],
   "source": [
    "os.listdir(os.path.join(DEMO_PATH, 'data'))"
   ]
  },
  {
   "cell_type": "code",
   "execution_count": 35,
   "metadata": {},
   "outputs": [
    {
     "data": {
      "text/plain": [
       "{'env_spec': '{\"id\": \"FrankaKitchen-v1\", \"entry_point\": \"gymnasium_robotics.envs.franka_kitchen:KitchenEnv\", \"reward_threshold\": null, \"nondeterministic\": false, \"max_episode_steps\": 280, \"order_enforce\": true, \"disable_env_checker\": false, \"kwargs\": {\"remove_task_when_completed\": false, \"terminate_on_tasks_completed\": false, \"tasks_to_complete\": [\"microwave\", \"kettle\", \"light switch\", \"slide cabinet\"]}, \"additional_wrappers\": [], \"vector_entry_point\": null}',\n",
       " 'dataset_id': 'kitchen/complete-v1',\n",
       " 'algorithm_name': 'None',\n",
       " 'author': ['Rodrigo de Lazcano'],\n",
       " 'author_email': ['rperezvicente@farama.org'],\n",
       " 'code_permalink': 'https://github.com/rodrigodelazcano/d4rl-minari-dataset-generation',\n",
       " 'ref_max_score': 4.0,\n",
       " 'ref_min_score': 0.0,\n",
       " 'num_episodes_average_score': 100,\n",
       " 'total_episodes': 19,\n",
       " 'total_steps': 4209,\n",
       " 'minari_version': '0.4.3',\n",
       " 'data_format': 'hdf5',\n",
       " 'dataset_size': 4.3,\n",
       " 'description': 'The complete dataset includes demonstrations of all 4 target subtasks being completed, in order.'}"
      ]
     },
     "execution_count": 35,
     "metadata": {},
     "output_type": "execute_result"
    }
   ],
   "source": [
    "with open(os.path.join(DEMO_PATH, 'data', 'metadata.json'), 'r') as f:\n",
    "    metadata = json.load(f)\n",
    "\n",
    "metadata"
   ]
  },
  {
   "cell_type": "code",
   "execution_count": 36,
   "metadata": {},
   "outputs": [],
   "source": [
    "import h5py"
   ]
  },
  {
   "cell_type": "code",
   "execution_count": 54,
   "metadata": {},
   "outputs": [
    {
     "name": "stdout",
     "output_type": "stream",
     "text": [
      "['episode_0', 'episode_1', 'episode_10', 'episode_11', 'episode_12', 'episode_13', 'episode_14', 'episode_15', 'episode_16', 'episode_17', 'episode_18', 'episode_2', 'episode_3', 'episode_4', 'episode_5', 'episode_6', 'episode_7', 'episode_8', 'episode_9']\n",
      "[ 1.48752727e-01 -1.76937809e+00  1.84334368e+00 -2.47748886e+00\n",
      "  2.59603838e-01  7.13157294e-01  1.59600063e+00  4.74798993e-02\n",
      "  3.77746010e-02  7.79785386e-04  2.59409105e-05 -5.10070798e-04\n",
      "  6.48483192e-04 -5.72474073e-04  4.82934104e-04  2.59880409e-04\n",
      "  8.54814517e-04 -5.36183623e-04 -2.36367337e-04 -5.17135234e-05\n",
      "  2.99455001e-05 -4.52870333e-05 -3.90952708e-06 -4.22216032e-05\n",
      "  6.26487165e-05  4.02559183e-05  4.62716506e-04 -2.25765198e-04\n",
      " -4.63408367e-04 -6.44066429e-03 -1.72877037e-03  1.11656587e-03\n",
      " -2.69425626e-01  3.50385086e-01  1.61944798e+00  9.99969049e-01\n",
      "  4.06854340e-03 -6.54352526e-03 -2.86677382e-04  1.35210420e-07\n",
      " -2.14256597e-06  4.16192051e-07 -1.31046800e-06  1.32481823e-06\n",
      " -1.63184182e-06 -9.36288719e-07 -2.42762762e-06 -2.33724039e-06\n",
      " -1.64907910e-08 -1.58437328e-07 -3.72309677e-05 -2.42437495e-05\n",
      " -4.96818891e-05 -5.94661261e-07  3.79365420e-07 -3.63506144e-07\n",
      "  3.35102347e-05  1.16491251e-05 -2.33916088e-05]\n"
     ]
    }
   ],
   "source": [
    "with h5py.File(os.path.join(DEMO_PATH, 'data', 'main_data.hdf5'), 'r') as f:\n",
    "    print(list(f.keys()))\n",
    "    print(f['episode_0']['observations']['observation'])\n",
    "    # print(f['observations'].shape)\n",
    "    # print(f['actions'].shape)\n",
    "    # print(f['completions'].shape)"
   ]
  },
  {
   "cell_type": "markdown",
   "metadata": {},
   "source": [
    "## Loading from `minari`"
   ]
  },
  {
   "cell_type": "code",
   "execution_count": 7,
   "metadata": {},
   "outputs": [],
   "source": [
    "dataset = minari.load_dataset(\"kitchen-complete-v1\")"
   ]
  },
  {
   "cell_type": "code",
   "execution_count": 8,
   "metadata": {},
   "outputs": [],
   "source": [
    "dataset_mixed = minari.load_dataset(\"kitchen-mixed-v1\")"
   ]
  },
  {
   "cell_type": "code",
   "execution_count": 10,
   "metadata": {},
   "outputs": [
    {
     "name": "stdout",
     "output_type": "stream",
     "text": [
      "212\n",
      "208\n",
      "222\n",
      "236\n",
      "223\n",
      "223\n",
      "233\n",
      "224\n",
      "236\n",
      "211\n",
      "219\n",
      "221\n",
      "219\n",
      "223\n",
      "236\n",
      "210\n",
      "214\n",
      "216\n",
      "223\n",
      "4209\n"
     ]
    }
   ],
   "source": [
    "counter = 0\n",
    "for ep in dataset.iterate_episodes():\n",
    "    print(len(ep.actions))\n",
    "    counter += len(ep.actions)\n",
    "\n",
    "print(counter)"
   ]
  },
  {
   "cell_type": "code",
   "execution_count": 9,
   "metadata": {},
   "outputs": [
    {
     "data": {
      "text/plain": [
       "621"
      ]
     },
     "execution_count": 9,
     "metadata": {},
     "output_type": "execute_result"
    }
   ],
   "source": [
    "len(dataset_mixed)"
   ]
  },
  {
   "cell_type": "code",
   "execution_count": 11,
   "metadata": {},
   "outputs": [
    {
     "name": "stdout",
     "output_type": "stream",
     "text": [
      "156560\n"
     ]
    }
   ],
   "source": [
    "counter = 0\n",
    "for ep in dataset_mixed.iterate_episodes():\n",
    "    # print(len(ep.actions))\n",
    "    counter += len(ep.actions)\n",
    "\n",
    "print(counter)"
   ]
  },
  {
   "cell_type": "code",
   "execution_count": 13,
   "metadata": {},
   "outputs": [
    {
     "data": {
      "text/plain": [
       "dict_keys(['states', 'next_states', 'actions', 'latents', 'rewards', 'dones', 'lengths'])"
      ]
     },
     "execution_count": 13,
     "metadata": {},
     "output_type": "execute_result"
    }
   ],
   "source": [
    "import pickle \n",
    "# load a sample pickle file to get an idea of the data structure\n",
    "with open(os.path.join('../', 'idil_train', 'experts', 'CleanupSingle-v0_100.pkl'), 'rb') as f:\n",
    "    example_expert = pickle.load(f)\n",
    "\n",
    "example_expert.keys()"
   ]
  },
  {
   "cell_type": "code",
   "execution_count": 14,
   "metadata": {},
   "outputs": [
    {
     "data": {
      "text/plain": [
       "100"
      ]
     },
     "execution_count": 14,
     "metadata": {},
     "output_type": "execute_result"
    }
   ],
   "source": [
    "len(example_expert['states']) # 100 trajectories"
   ]
  },
  {
   "cell_type": "code",
   "execution_count": 18,
   "metadata": {},
   "outputs": [],
   "source": [
    "# parse the mixed dataset into a proper object\n",
    "for ep in dataset_mixed.iterate_episodes():\n",
    "    sample_episode = ep\n",
    "    break\n",
    "    "
   ]
  },
  {
   "cell_type": "code",
   "execution_count": 28,
   "metadata": {},
   "outputs": [
    {
     "name": "stdout",
     "output_type": "stream",
     "text": [
      "dict_keys(['bottom burner', 'kettle', 'light switch', 'microwave'])\n",
      "dict_keys(['bottom burner', 'kettle', 'light switch', 'microwave'])\n"
     ]
    }
   ],
   "source": [
    "print(sample_episode.observations[\"achieved_goal\"].keys())\n",
    "print(sample_episode.observations[\"desired_goal\"].keys())"
   ]
  },
  {
   "cell_type": "code",
   "execution_count": 32,
   "metadata": {},
   "outputs": [
    {
     "data": {
      "text/plain": [
       "(377, 59)"
      ]
     },
     "execution_count": 32,
     "metadata": {},
     "output_type": "execute_result"
    }
   ],
   "source": [
    "sample_episode.observations['observation'].shape"
   ]
  }
 ],
 "metadata": {
  "kernelspec": {
   "display_name": "aidil",
   "language": "python",
   "name": "python3"
  },
  "language_info": {
   "codemirror_mode": {
    "name": "ipython",
    "version": 3
   },
   "file_extension": ".py",
   "mimetype": "text/x-python",
   "name": "python",
   "nbconvert_exporter": "python",
   "pygments_lexer": "ipython3",
   "version": "3.8.19"
  }
 },
 "nbformat": 4,
 "nbformat_minor": 2
}
