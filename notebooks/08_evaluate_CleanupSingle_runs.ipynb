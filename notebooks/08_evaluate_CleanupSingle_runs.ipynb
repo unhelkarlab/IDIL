{
 "cells": [
  {
   "cell_type": "code",
   "execution_count": 1,
   "metadata": {},
   "outputs": [
    {
     "name": "stdout",
     "output_type": "stream",
     "text": [
      "/home/juanhevia/IDIL\n"
     ]
    }
   ],
   "source": [
    "%cd .."
   ]
  },
  {
   "cell_type": "code",
   "execution_count": 2,
   "metadata": {},
   "outputs": [
    {
     "name": "stdout",
     "output_type": "stream",
     "text": [
      "pygame 2.6.0 (SDL 2.28.4, Python 3.8.19)\n",
      "Hello from the pygame community. https://www.pygame.org/contribute.html\n"
     ]
    }
   ],
   "source": [
    "import pandas as pd\n",
    "import numpy as np \n",
    "import matplotlib.pyplot as plt\n",
    "import pickle as pkl\n",
    "import generate_trajectories as traj_utils\n",
    "import utils as nb_utils\n",
    "from collections import defaultdict"
   ]
  },
  {
   "cell_type": "code",
   "execution_count": 19,
   "metadata": {},
   "outputs": [
    {
     "name": "stdout",
     "output_type": "stream",
     "text": [
      "Loading models from ./idil_train/result/CleanupSingle-v0/idil/es-100-01J5BEBM80B5ZDC3R6E2RSK3JT-smalltrain/2024-08-15_11-36-29/model/iq_CleanupSingle-v0_n10_l10_best_tx\n",
      "Loading models from ./idil_train/result/CleanupSingle-v0/idil/es-100-01J5BEBM80B5ZDC3R6E2RSK3JT-smalltrain/2024-08-15_11-36-29/model/iq_CleanupSingle-v0_n10_l10_best_pi\n",
      "Loading models from ./idil_train/result/CleanupSingle-v0/idil/es-100-01J5BBEWGMXY0NCC5CV8VD4FTZ-smalltrain/2024-08-15_10-45-50/model/iq_CleanupSingle-v0_n10_l10_best_tx\n",
      "Loading models from ./idil_train/result/CleanupSingle-v0/idil/es-100-01J5BBEWGMXY0NCC5CV8VD4FTZ-smalltrain/2024-08-15_10-45-50/model/iq_CleanupSingle-v0_n10_l10_best_pi\n",
      "Loading models from ./idil_train/result/CleanupSingle-v0/idil/es-100-01J5B8HG53MSYV3M36HEWN10X1-smalltrain/2024-08-15_09-54-50/model/iq_CleanupSingle-v0_n10_l10_best_tx\n",
      "Loading models from ./idil_train/result/CleanupSingle-v0/idil/es-100-01J5B8HG53MSYV3M36HEWN10X1-smalltrain/2024-08-15_09-54-50/model/iq_CleanupSingle-v0_n10_l10_best_pi\n",
      "Loading models from ./idil_train/result/CleanupSingle-v0/idil/es-100-01J5B5P0RJZC60PM8TB4AP04K2-smalltrain/2024-08-15_09-04-52/model/iq_CleanupSingle-v0_n10_l10_best_tx\n",
      "Loading models from ./idil_train/result/CleanupSingle-v0/idil/es-100-01J5B5P0RJZC60PM8TB4AP04K2-smalltrain/2024-08-15_09-04-52/model/iq_CleanupSingle-v0_n10_l10_best_pi\n",
      "Loading models from ./idil_train/result/CleanupSingle-v0/idil/es-100-01J5B2Y7CSYB02RK5BYJJ6S9QB-smalltrain/2024-08-15_08-16-56/model/iq_CleanupSingle-v0_n10_l10_best_tx\n",
      "Loading models from ./idil_train/result/CleanupSingle-v0/idil/es-100-01J5B2Y7CSYB02RK5BYJJ6S9QB-smalltrain/2024-08-15_08-16-56/model/iq_CleanupSingle-v0_n10_l10_best_pi\n",
      "Loading models from ./idil_train/result/CleanupSingle-v0/idil/es-60-01J5B07PYF1X36H6F7K730YSQ2-smalltrain/2024-08-15_07-29-41/model/iq_CleanupSingle-v0_n10_l10_best_tx\n",
      "Loading models from ./idil_train/result/CleanupSingle-v0/idil/es-60-01J5B07PYF1X36H6F7K730YSQ2-smalltrain/2024-08-15_07-29-41/model/iq_CleanupSingle-v0_n10_l10_best_pi\n",
      "Loading models from ./idil_train/result/CleanupSingle-v0/idil/es-60-01J5AXGQ3SA806H7JWPR6KVEXW-smalltrain/2024-08-15_06-42-10/model/iq_CleanupSingle-v0_n10_l10_best_tx\n",
      "Loading models from ./idil_train/result/CleanupSingle-v0/idil/es-60-01J5AXGQ3SA806H7JWPR6KVEXW-smalltrain/2024-08-15_06-42-10/model/iq_CleanupSingle-v0_n10_l10_best_pi\n",
      "Loading models from ./idil_train/result/CleanupSingle-v0/idil/es-60-01J5ATS5V33MX6R8F8EXGQ2FHN-smalltrain/2024-08-15_05-54-22/model/iq_CleanupSingle-v0_n10_l10_best_tx\n",
      "Loading models from ./idil_train/result/CleanupSingle-v0/idil/es-60-01J5ATS5V33MX6R8F8EXGQ2FHN-smalltrain/2024-08-15_05-54-22/model/iq_CleanupSingle-v0_n10_l10_best_pi\n",
      "Loading models from ./idil_train/result/CleanupSingle-v0/idil/es-60-01J5AR1W3GR7KB35YFYRF3FN41-smalltrain/2024-08-15_05-06-41/model/iq_CleanupSingle-v0_n10_l10_best_tx\n",
      "Loading models from ./idil_train/result/CleanupSingle-v0/idil/es-60-01J5AR1W3GR7KB35YFYRF3FN41-smalltrain/2024-08-15_05-06-41/model/iq_CleanupSingle-v0_n10_l10_best_pi\n",
      "Loading models from ./idil_train/result/CleanupSingle-v0/idil/es-60-01J5ANAP4ZY4J42PPKMCZ9VFBS-smalltrain/2024-08-15_04-19-04/model/iq_CleanupSingle-v0_n10_l10_best_tx\n",
      "Loading models from ./idil_train/result/CleanupSingle-v0/idil/es-60-01J5ANAP4ZY4J42PPKMCZ9VFBS-smalltrain/2024-08-15_04-19-04/model/iq_CleanupSingle-v0_n10_l10_best_pi\n",
      "Loading models from ./idil_train/result/CleanupSingle-v0/idil/es-20-01J5AJJC29HWER1K25KJ8JVXST-smalltrain/2024-08-15_03-30-50/model/iq_CleanupSingle-v0_n10_l10_best_tx\n",
      "Loading models from ./idil_train/result/CleanupSingle-v0/idil/es-20-01J5AJJC29HWER1K25KJ8JVXST-smalltrain/2024-08-15_03-30-50/model/iq_CleanupSingle-v0_n10_l10_best_pi\n",
      "Loading models from ./idil_train/result/CleanupSingle-v0/idil/es-20-01J5AFVFYRH393CV1DRCF5Z3KF-smalltrain/2024-08-15_02-43-23/model/iq_CleanupSingle-v0_n10_l10_best_tx\n",
      "Loading models from ./idil_train/result/CleanupSingle-v0/idil/es-20-01J5AFVFYRH393CV1DRCF5Z3KF-smalltrain/2024-08-15_02-43-23/model/iq_CleanupSingle-v0_n10_l10_best_pi\n",
      "Loading models from ./idil_train/result/CleanupSingle-v0/idil/es-20-01J5AD3T5GP5CPFZKG3B28HA30-smalltrain/2024-08-15_01-55-30/model/iq_CleanupSingle-v0_n10_l10_best_tx\n",
      "Loading models from ./idil_train/result/CleanupSingle-v0/idil/es-20-01J5AD3T5GP5CPFZKG3B28HA30-smalltrain/2024-08-15_01-55-30/model/iq_CleanupSingle-v0_n10_l10_best_pi\n",
      "Loading models from ./idil_train/result/CleanupSingle-v0/idil/es-20-01J5AACEDTR99MRBSZGR1N5PA6-smalltrain/2024-08-15_01-07-47/model/iq_CleanupSingle-v0_n10_l10_best_tx\n",
      "Loading models from ./idil_train/result/CleanupSingle-v0/idil/es-20-01J5AACEDTR99MRBSZGR1N5PA6-smalltrain/2024-08-15_01-07-47/model/iq_CleanupSingle-v0_n10_l10_best_pi\n",
      "Loading models from ./idil_train/result/CleanupSingle-v0/idil/es-20-01J5A7NCGMY0JPDWKR20KFWBVF-smalltrain/2024-08-15_00-20-14/model/iq_CleanupSingle-v0_n10_l10_best_tx\n",
      "Loading models from ./idil_train/result/CleanupSingle-v0/idil/es-20-01J5A7NCGMY0JPDWKR20KFWBVF-smalltrain/2024-08-15_00-20-14/model/iq_CleanupSingle-v0_n10_l10_best_pi\n",
      "Loading models from ./idil_train/result/CleanupSingle-v0/idil/es-0-01J5A4VTCD1428B0033H78XRDH-smalltrain/2024-08-14_23-31-19/model/iq_CleanupSingle-v0_n10_l10_best_tx\n",
      "Loading models from ./idil_train/result/CleanupSingle-v0/idil/es-0-01J5A4VTCD1428B0033H78XRDH-smalltrain/2024-08-14_23-31-19/model/iq_CleanupSingle-v0_n10_l10_best_pi\n",
      "Loading models from ./idil_train/result/CleanupSingle-v0/idil/es-0-01J5A22M7N5Q4MEEBRK9JM2MFP-smalltrain/2024-08-14_22-42-37/model/iq_CleanupSingle-v0_n10_l10_best_tx\n",
      "Loading models from ./idil_train/result/CleanupSingle-v0/idil/es-0-01J5A22M7N5Q4MEEBRK9JM2MFP-smalltrain/2024-08-14_22-42-37/model/iq_CleanupSingle-v0_n10_l10_best_pi\n",
      "Loading models from ./idil_train/result/CleanupSingle-v0/idil/es-0-01J59ZAB0DWY4TVA2FMEQWT9G6-smalltrain/2024-08-14_21-54-24/model/iq_CleanupSingle-v0_n10_l10_best_tx\n",
      "Loading models from ./idil_train/result/CleanupSingle-v0/idil/es-0-01J59ZAB0DWY4TVA2FMEQWT9G6-smalltrain/2024-08-14_21-54-24/model/iq_CleanupSingle-v0_n10_l10_best_pi\n",
      "Loading models from ./idil_train/result/CleanupSingle-v0/idil/es-0-01J59WH8H361RENJ8Q9MRR5YYY-smalltrain/2024-08-14_21-05-45/model/iq_CleanupSingle-v0_n10_l10_best_tx\n",
      "Loading models from ./idil_train/result/CleanupSingle-v0/idil/es-0-01J59WH8H361RENJ8Q9MRR5YYY-smalltrain/2024-08-14_21-05-45/model/iq_CleanupSingle-v0_n10_l10_best_pi\n",
      "Loading models from ./idil_train/result/CleanupSingle-v0/idil/es-0-01J59SR3R07X1SZ0N1NP46SGAM-smalltrain/2024-08-14_20-17-04/model/iq_CleanupSingle-v0_n10_l10_best_tx\n",
      "Loading models from ./idil_train/result/CleanupSingle-v0/idil/es-0-01J59SR3R07X1SZ0N1NP46SGAM-smalltrain/2024-08-14_20-17-04/model/iq_CleanupSingle-v0_n10_l10_best_pi\n"
     ]
    }
   ],
   "source": [
    "RUNS = [\n",
    "\"es-100-01J5BEBM80B5ZDC3R6E2RSK3JT-smalltrain\",\n",
    "\"es-100-01J5BBEWGMXY0NCC5CV8VD4FTZ-smalltrain\",\n",
    "\"es-100-01J5B8HG53MSYV3M36HEWN10X1-smalltrain\",\n",
    "\"es-100-01J5B5P0RJZC60PM8TB4AP04K2-smalltrain\",\n",
    "\"es-100-01J5B2Y7CSYB02RK5BYJJ6S9QB-smalltrain\",\n",
    "\"es-60-01J5B07PYF1X36H6F7K730YSQ2-smalltrain\",\n",
    "\"es-60-01J5AXGQ3SA806H7JWPR6KVEXW-smalltrain\",\n",
    "\"es-60-01J5ATS5V33MX6R8F8EXGQ2FHN-smalltrain\",\n",
    "\"es-60-01J5AR1W3GR7KB35YFYRF3FN41-smalltrain\",\n",
    "\"es-60-01J5ANAP4ZY4J42PPKMCZ9VFBS-smalltrain\",\n",
    "\"es-20-01J5AJJC29HWER1K25KJ8JVXST-smalltrain\",\n",
    "\"es-20-01J5AFVFYRH393CV1DRCF5Z3KF-smalltrain\",\n",
    "\"es-20-01J5AD3T5GP5CPFZKG3B28HA30-smalltrain\",\n",
    "\"es-20-01J5AACEDTR99MRBSZGR1N5PA6-smalltrain\",\n",
    "\"es-20-01J5A7NCGMY0JPDWKR20KFWBVF-smalltrain\",\n",
    "\"es-0-01J5A4VTCD1428B0033H78XRDH-smalltrain\",\n",
    "\"es-0-01J5A22M7N5Q4MEEBRK9JM2MFP-smalltrain\",\n",
    "\"es-0-01J59ZAB0DWY4TVA2FMEQWT9G6-smalltrain\",\n",
    "\"es-0-01J59WH8H361RENJ8Q9MRR5YYY-smalltrain\",\n",
    "\"es-0-01J59SR3R07X1SZ0N1NP46SGAM-smalltrain\",\n",
    "]\n",
    "\n",
    "agents = defaultdict(list)\n",
    "\n",
    "for run in RUNS:\n",
    "    # load run path\n",
    "    run_path = nb_utils.get_run_path(env_name=\"CleanupSingle-v0\", run_id=run)\n",
    "    run_conf = nb_utils.get_run_config(run_path)\n",
    "    agent = nb_utils.get_agent(run_conf=run_conf, run_path=run_path)\n",
    "\n",
    "    # parse kval\n",
    "    kval = int(run_conf.k * 100)\n",
    "\n",
    "    agents[kval].append(agent)"
   ]
  },
  {
   "cell_type": "code",
   "execution_count": 20,
   "metadata": {},
   "outputs": [
    {
     "name": "stderr",
     "output_type": "stream",
     "text": [
      "  0%|          | 0/20 [00:00<?, ?it/s]"
     ]
    },
    {
     "name": "stdout",
     "output_type": "stream",
     "text": [
      "Loading models from ./idil_train/result/CleanupSingle-v0/idil/es-100-01J5BEBM80B5ZDC3R6E2RSK3JT-smalltrain/2024-08-15_11-36-29/model/iq_CleanupSingle-v0_n10_l10_best_tx\n",
      "Loading models from ./idil_train/result/CleanupSingle-v0/idil/es-100-01J5BEBM80B5ZDC3R6E2RSK3JT-smalltrain/2024-08-15_11-36-29/model/iq_CleanupSingle-v0_n10_l10_best_pi\n"
     ]
    },
    {
     "name": "stderr",
     "output_type": "stream",
     "text": [
      "100%|██████████| 10/10 [00:01<00:00,  6.04it/s]\n",
      "  5%|▌         | 1/20 [00:01<00:34,  1.81s/it]"
     ]
    },
    {
     "name": "stdout",
     "output_type": "stream",
     "text": [
      "Loading models from ./idil_train/result/CleanupSingle-v0/idil/es-100-01J5BBEWGMXY0NCC5CV8VD4FTZ-smalltrain/2024-08-15_10-45-50/model/iq_CleanupSingle-v0_n10_l10_best_tx\n",
      "Loading models from ./idil_train/result/CleanupSingle-v0/idil/es-100-01J5BBEWGMXY0NCC5CV8VD4FTZ-smalltrain/2024-08-15_10-45-50/model/iq_CleanupSingle-v0_n10_l10_best_pi\n"
     ]
    },
    {
     "name": "stderr",
     "output_type": "stream",
     "text": [
      "100%|██████████| 10/10 [00:01<00:00,  6.45it/s]\n",
      " 10%|█         | 2/20 [00:03<00:30,  1.70s/it]"
     ]
    },
    {
     "name": "stdout",
     "output_type": "stream",
     "text": [
      "Loading models from ./idil_train/result/CleanupSingle-v0/idil/es-100-01J5B8HG53MSYV3M36HEWN10X1-smalltrain/2024-08-15_09-54-50/model/iq_CleanupSingle-v0_n10_l10_best_tx\n",
      "Loading models from ./idil_train/result/CleanupSingle-v0/idil/es-100-01J5B8HG53MSYV3M36HEWN10X1-smalltrain/2024-08-15_09-54-50/model/iq_CleanupSingle-v0_n10_l10_best_pi\n"
     ]
    },
    {
     "name": "stderr",
     "output_type": "stream",
     "text": [
      "100%|██████████| 10/10 [00:01<00:00,  6.08it/s]\n",
      " 15%|█▌        | 3/20 [00:05<00:29,  1.71s/it]"
     ]
    },
    {
     "name": "stdout",
     "output_type": "stream",
     "text": [
      "Loading models from ./idil_train/result/CleanupSingle-v0/idil/es-100-01J5B5P0RJZC60PM8TB4AP04K2-smalltrain/2024-08-15_09-04-52/model/iq_CleanupSingle-v0_n10_l10_best_tx\n",
      "Loading models from ./idil_train/result/CleanupSingle-v0/idil/es-100-01J5B5P0RJZC60PM8TB4AP04K2-smalltrain/2024-08-15_09-04-52/model/iq_CleanupSingle-v0_n10_l10_best_pi\n"
     ]
    },
    {
     "name": "stderr",
     "output_type": "stream",
     "text": [
      "100%|██████████| 10/10 [00:01<00:00,  6.59it/s]\n",
      " 20%|██        | 4/20 [00:06<00:26,  1.66s/it]"
     ]
    },
    {
     "name": "stdout",
     "output_type": "stream",
     "text": [
      "Loading models from ./idil_train/result/CleanupSingle-v0/idil/es-100-01J5B2Y7CSYB02RK5BYJJ6S9QB-smalltrain/2024-08-15_08-16-56/model/iq_CleanupSingle-v0_n10_l10_best_tx\n",
      "Loading models from ./idil_train/result/CleanupSingle-v0/idil/es-100-01J5B2Y7CSYB02RK5BYJJ6S9QB-smalltrain/2024-08-15_08-16-56/model/iq_CleanupSingle-v0_n10_l10_best_pi\n"
     ]
    },
    {
     "name": "stderr",
     "output_type": "stream",
     "text": [
      "100%|██████████| 10/10 [00:01<00:00,  6.32it/s]\n",
      " 25%|██▌       | 5/20 [00:08<00:24,  1.66s/it]"
     ]
    },
    {
     "name": "stdout",
     "output_type": "stream",
     "text": [
      "Loading models from ./idil_train/result/CleanupSingle-v0/idil/es-60-01J5B07PYF1X36H6F7K730YSQ2-smalltrain/2024-08-15_07-29-41/model/iq_CleanupSingle-v0_n10_l10_best_tx\n",
      "Loading models from ./idil_train/result/CleanupSingle-v0/idil/es-60-01J5B07PYF1X36H6F7K730YSQ2-smalltrain/2024-08-15_07-29-41/model/iq_CleanupSingle-v0_n10_l10_best_pi\n"
     ]
    },
    {
     "name": "stderr",
     "output_type": "stream",
     "text": [
      "100%|██████████| 10/10 [00:02<00:00,  4.97it/s]\n",
      " 30%|███       | 6/20 [00:10<00:25,  1.81s/it]"
     ]
    },
    {
     "name": "stdout",
     "output_type": "stream",
     "text": [
      "Loading models from ./idil_train/result/CleanupSingle-v0/idil/es-60-01J5AXGQ3SA806H7JWPR6KVEXW-smalltrain/2024-08-15_06-42-10/model/iq_CleanupSingle-v0_n10_l10_best_tx\n",
      "Loading models from ./idil_train/result/CleanupSingle-v0/idil/es-60-01J5AXGQ3SA806H7JWPR6KVEXW-smalltrain/2024-08-15_06-42-10/model/iq_CleanupSingle-v0_n10_l10_best_pi\n"
     ]
    },
    {
     "name": "stderr",
     "output_type": "stream",
     "text": [
      "100%|██████████| 10/10 [00:01<00:00,  6.89it/s]\n",
      " 35%|███▌      | 7/20 [00:12<00:22,  1.71s/it]"
     ]
    },
    {
     "name": "stdout",
     "output_type": "stream",
     "text": [
      "Loading models from ./idil_train/result/CleanupSingle-v0/idil/es-60-01J5ATS5V33MX6R8F8EXGQ2FHN-smalltrain/2024-08-15_05-54-22/model/iq_CleanupSingle-v0_n10_l10_best_tx\n",
      "Loading models from ./idil_train/result/CleanupSingle-v0/idil/es-60-01J5ATS5V33MX6R8F8EXGQ2FHN-smalltrain/2024-08-15_05-54-22/model/iq_CleanupSingle-v0_n10_l10_best_pi\n"
     ]
    },
    {
     "name": "stderr",
     "output_type": "stream",
     "text": [
      "100%|██████████| 10/10 [00:02<00:00,  4.69it/s]\n",
      " 40%|████      | 8/20 [00:14<00:22,  1.87s/it]"
     ]
    },
    {
     "name": "stdout",
     "output_type": "stream",
     "text": [
      "Loading models from ./idil_train/result/CleanupSingle-v0/idil/es-60-01J5AR1W3GR7KB35YFYRF3FN41-smalltrain/2024-08-15_05-06-41/model/iq_CleanupSingle-v0_n10_l10_best_tx\n",
      "Loading models from ./idil_train/result/CleanupSingle-v0/idil/es-60-01J5AR1W3GR7KB35YFYRF3FN41-smalltrain/2024-08-15_05-06-41/model/iq_CleanupSingle-v0_n10_l10_best_pi\n"
     ]
    },
    {
     "name": "stderr",
     "output_type": "stream",
     "text": [
      "100%|██████████| 10/10 [00:01<00:00,  5.49it/s]\n",
      " 45%|████▌     | 9/20 [00:16<00:20,  1.88s/it]"
     ]
    },
    {
     "name": "stdout",
     "output_type": "stream",
     "text": [
      "Loading models from ./idil_train/result/CleanupSingle-v0/idil/es-60-01J5ANAP4ZY4J42PPKMCZ9VFBS-smalltrain/2024-08-15_04-19-04/model/iq_CleanupSingle-v0_n10_l10_best_tx\n",
      "Loading models from ./idil_train/result/CleanupSingle-v0/idil/es-60-01J5ANAP4ZY4J42PPKMCZ9VFBS-smalltrain/2024-08-15_04-19-04/model/iq_CleanupSingle-v0_n10_l10_best_pi\n"
     ]
    },
    {
     "name": "stderr",
     "output_type": "stream",
     "text": [
      "100%|██████████| 10/10 [00:01<00:00,  5.14it/s]\n",
      " 50%|█████     | 10/20 [00:18<00:19,  1.92s/it]"
     ]
    },
    {
     "name": "stdout",
     "output_type": "stream",
     "text": [
      "Loading models from ./idil_train/result/CleanupSingle-v0/idil/es-20-01J5AJJC29HWER1K25KJ8JVXST-smalltrain/2024-08-15_03-30-50/model/iq_CleanupSingle-v0_n10_l10_best_tx\n",
      "Loading models from ./idil_train/result/CleanupSingle-v0/idil/es-20-01J5AJJC29HWER1K25KJ8JVXST-smalltrain/2024-08-15_03-30-50/model/iq_CleanupSingle-v0_n10_l10_best_pi\n"
     ]
    },
    {
     "name": "stderr",
     "output_type": "stream",
     "text": [
      "100%|██████████| 10/10 [00:01<00:00,  5.23it/s]\n",
      " 55%|█████▌    | 11/20 [00:20<00:17,  1.94s/it]"
     ]
    },
    {
     "name": "stdout",
     "output_type": "stream",
     "text": [
      "Loading models from ./idil_train/result/CleanupSingle-v0/idil/es-20-01J5AFVFYRH393CV1DRCF5Z3KF-smalltrain/2024-08-15_02-43-23/model/iq_CleanupSingle-v0_n10_l10_best_tx\n",
      "Loading models from ./idil_train/result/CleanupSingle-v0/idil/es-20-01J5AFVFYRH393CV1DRCF5Z3KF-smalltrain/2024-08-15_02-43-23/model/iq_CleanupSingle-v0_n10_l10_best_pi\n"
     ]
    },
    {
     "name": "stderr",
     "output_type": "stream",
     "text": [
      "100%|██████████| 10/10 [00:01<00:00,  6.37it/s]\n",
      " 60%|██████    | 12/20 [00:21<00:14,  1.86s/it]"
     ]
    },
    {
     "name": "stdout",
     "output_type": "stream",
     "text": [
      "Loading models from ./idil_train/result/CleanupSingle-v0/idil/es-20-01J5AD3T5GP5CPFZKG3B28HA30-smalltrain/2024-08-15_01-55-30/model/iq_CleanupSingle-v0_n10_l10_best_tx\n",
      "Loading models from ./idil_train/result/CleanupSingle-v0/idil/es-20-01J5AD3T5GP5CPFZKG3B28HA30-smalltrain/2024-08-15_01-55-30/model/iq_CleanupSingle-v0_n10_l10_best_pi\n"
     ]
    },
    {
     "name": "stderr",
     "output_type": "stream",
     "text": [
      "100%|██████████| 10/10 [00:01<00:00,  6.16it/s]\n",
      " 65%|██████▌   | 13/20 [00:23<00:12,  1.81s/it]"
     ]
    },
    {
     "name": "stdout",
     "output_type": "stream",
     "text": [
      "Loading models from ./idil_train/result/CleanupSingle-v0/idil/es-20-01J5AACEDTR99MRBSZGR1N5PA6-smalltrain/2024-08-15_01-07-47/model/iq_CleanupSingle-v0_n10_l10_best_tx\n",
      "Loading models from ./idil_train/result/CleanupSingle-v0/idil/es-20-01J5AACEDTR99MRBSZGR1N5PA6-smalltrain/2024-08-15_01-07-47/model/iq_CleanupSingle-v0_n10_l10_best_pi\n"
     ]
    },
    {
     "name": "stderr",
     "output_type": "stream",
     "text": [
      "100%|██████████| 10/10 [00:02<00:00,  4.39it/s]\n",
      " 70%|███████   | 14/20 [00:25<00:11,  1.98s/it]"
     ]
    },
    {
     "name": "stdout",
     "output_type": "stream",
     "text": [
      "Loading models from ./idil_train/result/CleanupSingle-v0/idil/es-20-01J5A7NCGMY0JPDWKR20KFWBVF-smalltrain/2024-08-15_00-20-14/model/iq_CleanupSingle-v0_n10_l10_best_tx\n",
      "Loading models from ./idil_train/result/CleanupSingle-v0/idil/es-20-01J5A7NCGMY0JPDWKR20KFWBVF-smalltrain/2024-08-15_00-20-14/model/iq_CleanupSingle-v0_n10_l10_best_pi\n"
     ]
    },
    {
     "name": "stderr",
     "output_type": "stream",
     "text": [
      "100%|██████████| 10/10 [00:02<00:00,  4.13it/s]\n",
      " 75%|███████▌  | 15/20 [00:28<00:10,  2.14s/it]"
     ]
    },
    {
     "name": "stdout",
     "output_type": "stream",
     "text": [
      "Loading models from ./idil_train/result/CleanupSingle-v0/idil/es-0-01J5A4VTCD1428B0033H78XRDH-smalltrain/2024-08-14_23-31-19/model/iq_CleanupSingle-v0_n10_l10_best_tx\n",
      "Loading models from ./idil_train/result/CleanupSingle-v0/idil/es-0-01J5A4VTCD1428B0033H78XRDH-smalltrain/2024-08-14_23-31-19/model/iq_CleanupSingle-v0_n10_l10_best_pi\n"
     ]
    },
    {
     "name": "stderr",
     "output_type": "stream",
     "text": [
      "100%|██████████| 10/10 [00:04<00:00,  2.01it/s]\n",
      " 80%|████████  | 16/20 [00:33<00:12,  3.01s/it]"
     ]
    },
    {
     "name": "stdout",
     "output_type": "stream",
     "text": [
      "Loading models from ./idil_train/result/CleanupSingle-v0/idil/es-0-01J5A22M7N5Q4MEEBRK9JM2MFP-smalltrain/2024-08-14_22-42-37/model/iq_CleanupSingle-v0_n10_l10_best_tx\n",
      "Loading models from ./idil_train/result/CleanupSingle-v0/idil/es-0-01J5A22M7N5Q4MEEBRK9JM2MFP-smalltrain/2024-08-14_22-42-37/model/iq_CleanupSingle-v0_n10_l10_best_pi\n"
     ]
    },
    {
     "name": "stderr",
     "output_type": "stream",
     "text": [
      "100%|██████████| 10/10 [00:04<00:00,  2.39it/s]\n",
      " 85%|████████▌ | 17/20 [00:37<00:10,  3.39s/it]"
     ]
    },
    {
     "name": "stdout",
     "output_type": "stream",
     "text": [
      "Loading models from ./idil_train/result/CleanupSingle-v0/idil/es-0-01J59ZAB0DWY4TVA2FMEQWT9G6-smalltrain/2024-08-14_21-54-24/model/iq_CleanupSingle-v0_n10_l10_best_tx\n",
      "Loading models from ./idil_train/result/CleanupSingle-v0/idil/es-0-01J59ZAB0DWY4TVA2FMEQWT9G6-smalltrain/2024-08-14_21-54-24/model/iq_CleanupSingle-v0_n10_l10_best_pi\n"
     ]
    },
    {
     "name": "stderr",
     "output_type": "stream",
     "text": [
      "100%|██████████| 10/10 [00:03<00:00,  2.73it/s]\n",
      " 90%|█████████ | 18/20 [00:41<00:06,  3.50s/it]"
     ]
    },
    {
     "name": "stdout",
     "output_type": "stream",
     "text": [
      "Loading models from ./idil_train/result/CleanupSingle-v0/idil/es-0-01J59WH8H361RENJ8Q9MRR5YYY-smalltrain/2024-08-14_21-05-45/model/iq_CleanupSingle-v0_n10_l10_best_tx\n",
      "Loading models from ./idil_train/result/CleanupSingle-v0/idil/es-0-01J59WH8H361RENJ8Q9MRR5YYY-smalltrain/2024-08-14_21-05-45/model/iq_CleanupSingle-v0_n10_l10_best_pi\n"
     ]
    },
    {
     "name": "stderr",
     "output_type": "stream",
     "text": [
      "100%|██████████| 10/10 [00:03<00:00,  2.61it/s]\n",
      " 95%|█████████▌| 19/20 [00:45<00:03,  3.62s/it]"
     ]
    },
    {
     "name": "stdout",
     "output_type": "stream",
     "text": [
      "Loading models from ./idil_train/result/CleanupSingle-v0/idil/es-0-01J59SR3R07X1SZ0N1NP46SGAM-smalltrain/2024-08-14_20-17-04/model/iq_CleanupSingle-v0_n10_l10_best_tx\n",
      "Loading models from ./idil_train/result/CleanupSingle-v0/idil/es-0-01J59SR3R07X1SZ0N1NP46SGAM-smalltrain/2024-08-14_20-17-04/model/iq_CleanupSingle-v0_n10_l10_best_pi\n"
     ]
    },
    {
     "name": "stderr",
     "output_type": "stream",
     "text": [
      "100%|██████████| 10/10 [00:04<00:00,  2.43it/s]\n",
      "100%|██████████| 20/20 [00:49<00:00,  2.48s/it]\n"
     ]
    }
   ],
   "source": [
    "from tqdm import tqdm\n",
    "\n",
    "# generate 10 trajectories for each trained agent\n",
    "trajectories = defaultdict(list)\n",
    "\n",
    "for run in tqdm(RUNS):\n",
    "    traj_data = traj_utils.generate_agent_trajectories(run_id=run, num_trajectories=10, env_name=\"CleanupSingle-v0\")\n",
    "    kval = int(run.split(\"-\")[1])\n",
    "\n",
    "    trajectories[kval].append(traj_data)"
   ]
  },
  {
   "cell_type": "code",
   "execution_count": 21,
   "metadata": {},
   "outputs": [
    {
     "name": "stdout",
     "output_type": "stream",
     "text": [
      "There are 4 kvals\n",
      "Each kval has 50 cum_rewards, matching the 5 x 10 trajectories generated for each agent\n"
     ]
    }
   ],
   "source": [
    "# compute cumulative rewards for each trajectorie and get a distribution of the cumulative rewards\n",
    "cum_rewards = defaultdict(list)\n",
    "\n",
    "for kval in trajectories:\n",
    "    for agent_data in trajectories[kval]:\n",
    "        rewards = agent_data[\"rewards\"]\n",
    "        for rew_array in rewards:\n",
    "            cum_rewards[kval].append(np.sum(rew_array))\n",
    "        \n",
    "\n",
    "# sanity check printing shapes of each inner element\n",
    "print(f\"There are {len(cum_rewards)} kvals\")\n",
    "print(f\"Each kval has {len(cum_rewards[100])} cum_rewards, matching the {len(agents[20])} x 10 trajectories generated for each agent\")"
   ]
  },
  {
   "cell_type": "code",
   "execution_count": 22,
   "metadata": {},
   "outputs": [
    {
     "data": {
      "image/png": "[encoded data removed]",
      "text/plain": [
       "<Figure size 640x480 with 1 Axes>"
      ]
     },
     "metadata": {},
     "output_type": "display_data"
    }
   ],
   "source": [
    "import time\n",
    "\n",
    "# plot distribution for generated rewards\n",
    "fig, ax = plt.subplots(1,1)\n",
    "\n",
    "_keys = sorted(cum_rewards.keys(), reverse=False)\n",
    "# _keys = [0, 20, 60]\n",
    "\n",
    "data = [cum_rewards[kval] for kval in _keys]\n",
    "\n",
    "ax.boxplot(data, labels=[f\"k={kval}%\" + r\" of $\\mathcal{X}'$\" for kval in _keys])\n",
    "\n",
    "ax.set_title(\"Distribution of cumulative rewards for generated trajectories\")\n",
    "ax.set_xlabel(\"$k$ value\")\n",
    "ax.set_ylabel(\"Cumulative reward\")\n",
    "ax.grid(alpha=0.3)\n",
    "\n",
    "today = time.strftime(\"%Y-%m-%d\")\n",
    "\n",
    "plt.savefig(f\"notebooks/figures/{today}-CleanupSingle_cum_rews.png\")"
   ]
  },
  {
   "cell_type": "markdown",
   "metadata": {},
   "source": [
    "# Evaluate on test data"
   ]
  },
  {
   "cell_type": "code",
   "execution_count": 23,
   "metadata": {},
   "outputs": [],
   "source": [
    "def backtest_action_trajectory(expert_dataset, agent):\n",
    "    \"\"\"\n",
    "    Given a precomputed set of latents and states,\n",
    "    run the agent to sample an action and see how the actions differ\n",
    "    \"\"\"\n",
    "\n",
    "    agent_action_trajs = []\n",
    "\n",
    "    for traj_idx in range(len(expert_dataset.trajectories[\"states\"])):\n",
    "        traj_states = expert_dataset.trajectories[\"states\"][traj_idx]\n",
    "        traj_latents = expert_dataset.trajectories[\"latents\"][traj_idx]\n",
    "\n",
    "        _action_traj = []\n",
    "        for _state, _lat in zip(traj_states, traj_latents):\n",
    "            _action = agent.choose_policy_action(_state, _lat)\n",
    "            _action_traj.append(_action)\n",
    "\n",
    "        agent_action_trajs.append(_action_traj)\n",
    "\n",
    "    return agent_action_trajs\n",
    "\n",
    "def compute_action_accuracy(expert_dataset, agent):\n",
    "    \"\"\"\n",
    "    Compute the action accuracy between expert and agent\n",
    "    \"\"\"\n",
    "\n",
    "    agent_action_trajs = backtest_action_trajectory(expert_dataset, agent)\n",
    "\n",
    "    accs = []\n",
    "    for i in range(len(expert_dataset.trajectories[\"states\"])):\n",
    "        _test_acts_expert = np.array(expert_dataset.trajectories[\"actions\"][i])\n",
    "        _test_acts_agent =  np.array(agent_action_trajs[i])\n",
    "\n",
    "        accs.append(np.sum(_test_acts_expert == _test_acts_agent) / len(_test_acts_expert))\n",
    "\n",
    "    return accs\n",
    "\n",
    "def compute_sequence_accuracy(pred_latents, true_latents):\n",
    "    pred_latents = np.array(pred_latents)\n",
    "    true_latents = np.array(true_latents)\n",
    "    return np.sum(pred_latents == true_latents) / len(true_latents)"
   ]
  },
  {
   "cell_type": "code",
   "execution_count": 24,
   "metadata": {},
   "outputs": [],
   "source": [
    "# load test data\n",
    "import os\n",
    "\n",
    "with open(os.path.join(\"idil_train\", \"test_data\", \"CleanupSingle-v0_100_test70.pkl\"), \"rb\") as f:\n",
    "    test_data = pkl.load(f)"
   ]
  },
  {
   "cell_type": "code",
   "execution_count": 25,
   "metadata": {},
   "outputs": [
    {
     "name": "stderr",
     "output_type": "stream",
     "text": [
      "30it [00:03,  7.51it/s]\n"
     ]
    }
   ],
   "source": [
    "accs_by_k = defaultdict(list)\n",
    "\n",
    "for states, actions, latents in tqdm(zip(test_data[\"states\"], test_data[\"actions\"], test_data[\"latents\"])):\n",
    "    for kval, agent_list in agents.items():\n",
    "        for agent in agent_list:\n",
    "            inferred_latents, _, _ = agent.infer_mental_states(states, actions)\n",
    "            acc = compute_sequence_accuracy(inferred_latents.squeeze(1), latents)\n",
    "            accs_by_k[kval].append(acc)"
   ]
  },
  {
   "cell_type": "code",
   "execution_count": 26,
   "metadata": {},
   "outputs": [
    {
     "data": {
      "text/plain": [
       "(150, 150)"
      ]
     },
     "execution_count": 26,
     "metadata": {},
     "output_type": "execute_result"
    }
   ],
   "source": [
    "len(accs_by_k[100]), len(accs_by_k[20])"
   ]
  },
  {
   "cell_type": "code",
   "execution_count": 27,
   "metadata": {},
   "outputs": [
    {
     "data": {
      "image/png": "[encoded data removed]",
      "text/plain": [
       "<Figure size 640x480 with 1 Axes>"
      ]
     },
     "metadata": {},
     "output_type": "display_data"
    }
   ],
   "source": [
    "# plot comparison of accuracy distribution for each k\n",
    "# subset_accs_by_k = {k: accs_by_k[k] for k in accs_by_k if k in [20, 60, 0]}\n",
    "# _df = pd.DataFrame(subset_accs_by_k)\n",
    "fig, ax = plt.subplots(1,1)\n",
    "\n",
    "\n",
    "data = [accs_by_k[kval] for kval in sorted(accs_by_k.keys())]\n",
    "\n",
    "ax.boxplot(data, labels=[f\"k={kval}%\" + r\" of $\\mathcal{X}'$\" for kval in sorted(accs_by_k.keys())])\n",
    "\n",
    "ax.set_title(r\"Sequence accuracy for inferred latents on test $\\mathcal{D}$\")\n",
    "# format y-axis to be percentage\n",
    "ax.set_ylabel(\"Accuracy (%)\")\n",
    "ax.set_xlabel(r\"$\\mathcal{X}'$ percentage\")\n",
    "ax.grid(alpha=0.3)\n",
    "today = time.strftime(\"%Y-%m-%d\")\n",
    "\n",
    "plt.savefig(f\"notebooks/figures/{today}-CleanupSingle_seq_accs.png\")\n"
   ]
  },
  {
   "cell_type": "code",
   "execution_count": 28,
   "metadata": {},
   "outputs": [
    {
     "name": "stdout",
     "output_type": "stream",
     "text": [
      "50\n",
      "50\n",
      "50\n",
      "50\n"
     ]
    }
   ],
   "source": [
    "for key in cum_rewards:\n",
    "    print(len(cum_rewards[key]))"
   ]
  },
  {
   "cell_type": "code",
   "execution_count": 29,
   "metadata": {},
   "outputs": [
    {
     "data": {
      "image/png": "[encoded data removed]",
      "text/plain": [
       "<Figure size 640x480 with 1 Axes>"
      ]
     },
     "metadata": {},
     "output_type": "display_data"
    }
   ],
   "source": [
    "# plot comparison of accuracy distribution for each k\n",
    "_df = pd.DataFrame(cum_rewards)\n",
    "fig, ax = plt.subplots(1,1)\n",
    "\n",
    "_df.boxplot(ax=ax)\n",
    "ax.set_title(r\"Cumulative rewards on generated trajectories\")\n",
    "# format y-axis to be percentage\n",
    "ax.set_ylabel(\"Cumulative Reward\")\n",
    "ax.set_xlabel(r\"$\\mathcal{X}'$ percentage\")\n",
    "\n",
    "today = time.strftime(\"%Y-%m-%d\")\n",
    "\n",
    "plt.savefig(f\"notebooks/figures/{today}-CS_cum_rews.png\")"
   ]
  },
  {
   "cell_type": "code",
   "execution_count": null,
   "metadata": {},
   "outputs": [],
   "source": []
  },
  {
   "cell_type": "markdown",
   "metadata": {},
   "source": [
    "# Compare with randomized benchmark"
   ]
  },
  {
   "cell_type": "code",
   "execution_count": 30,
   "metadata": {},
   "outputs": [],
   "source": [
    "ENV_NAME = \"CleanupSingle-v0\""
   ]
  },
  {
   "cell_type": "code",
   "execution_count": 31,
   "metadata": {},
   "outputs": [],
   "source": [
    "import pandas as pd\n",
    "import numpy as np \n",
    "import matplotlib.pyplot as plt\n",
    "import pickle as pkl\n",
    "import generate_trajectories as traj_utils\n",
    "import utils as nb_utils\n",
    "from collections import defaultdict\n",
    "import importlib\n",
    "import scipy.stats as stats"
   ]
  },
  {
   "cell_type": "code",
   "execution_count": 32,
   "metadata": {},
   "outputs": [
    {
     "name": "stdout",
     "output_type": "stream",
     "text": [
      "Loading models from ./idil_train/result/CleanupSingle-v0/idil/es-100-01J5DMNXX0KSNHWYTN91AZMQP4-smalltrain-randomized/2024-08-16_08-05-27/model/iq_CleanupSingle-v0_n10_l10_best_tx\n",
      "Loading models from ./idil_train/result/CleanupSingle-v0/idil/es-100-01J5DMNXX0KSNHWYTN91AZMQP4-smalltrain-randomized/2024-08-16_08-05-27/model/iq_CleanupSingle-v0_n10_l10_best_pi\n",
      "Loading models from ./idil_train/result/CleanupSingle-v0/idil/es-100-01J5DHYH3XB0YZ4NAB1M2DYD4F-smalltrain-randomized/2024-08-16_07-17-43/model/iq_CleanupSingle-v0_n10_l10_best_tx\n",
      "Loading models from ./idil_train/result/CleanupSingle-v0/idil/es-100-01J5DHYH3XB0YZ4NAB1M2DYD4F-smalltrain-randomized/2024-08-16_07-17-43/model/iq_CleanupSingle-v0_n10_l10_best_pi\n",
      "Loading models from ./idil_train/result/CleanupSingle-v0/idil/es-100-01J5DF66YM4X5YX5MKRQYCXWKG-smalltrain-randomized/2024-08-16_06-29-29/model/iq_CleanupSingle-v0_n10_l10_best_tx\n",
      "Loading models from ./idil_train/result/CleanupSingle-v0/idil/es-100-01J5DF66YM4X5YX5MKRQYCXWKG-smalltrain-randomized/2024-08-16_06-29-29/model/iq_CleanupSingle-v0_n10_l10_best_pi\n",
      "Loading models from ./idil_train/result/CleanupSingle-v0/idil/es-100-01J5DCC9YKFTBZR4QQET6S21A5-smalltrain-randomized/2024-08-16_05-40-23/model/iq_CleanupSingle-v0_n10_l10_best_tx\n",
      "Loading models from ./idil_train/result/CleanupSingle-v0/idil/es-100-01J5DCC9YKFTBZR4QQET6S21A5-smalltrain-randomized/2024-08-16_05-40-23/model/iq_CleanupSingle-v0_n10_l10_best_pi\n",
      "Loading models from ./idil_train/result/CleanupSingle-v0/idil/es-100-01J5D9N13D77AH6CS2N6HKXR3F-smalltrain-randomized/2024-08-16_04-52-43/model/iq_CleanupSingle-v0_n10_l10_best_tx\n",
      "Loading models from ./idil_train/result/CleanupSingle-v0/idil/es-100-01J5D9N13D77AH6CS2N6HKXR3F-smalltrain-randomized/2024-08-16_04-52-43/model/iq_CleanupSingle-v0_n10_l10_best_pi\n",
      "Loading models from ./idil_train/result/CleanupSingle-v0/idil/es-60-01J5D6VQXB9T3H2FC40AF367GS-smalltrain-randomized/2024-08-16_04-03-57/model/iq_CleanupSingle-v0_n10_l10_best_tx\n",
      "Loading models from ./idil_train/result/CleanupSingle-v0/idil/es-60-01J5D6VQXB9T3H2FC40AF367GS-smalltrain-randomized/2024-08-16_04-03-57/model/iq_CleanupSingle-v0_n10_l10_best_pi\n",
      "Loading models from ./idil_train/result/CleanupSingle-v0/idil/es-60-01J5D43FSJDXVDCXVZYC2908PX-smalltrain-randomized/2024-08-16_03-15-45/model/iq_CleanupSingle-v0_n10_l10_best_tx\n",
      "Loading models from ./idil_train/result/CleanupSingle-v0/idil/es-60-01J5D43FSJDXVDCXVZYC2908PX-smalltrain-randomized/2024-08-16_03-15-45/model/iq_CleanupSingle-v0_n10_l10_best_pi\n",
      "Loading models from ./idil_train/result/CleanupSingle-v0/idil/es-60-01J5D1AT57XMR5NF0CFR3KWV71-smalltrain-randomized/2024-08-16_02-27-20/model/iq_CleanupSingle-v0_n10_l10_best_tx\n",
      "Loading models from ./idil_train/result/CleanupSingle-v0/idil/es-60-01J5D1AT57XMR5NF0CFR3KWV71-smalltrain-randomized/2024-08-16_02-27-20/model/iq_CleanupSingle-v0_n10_l10_best_pi\n",
      "Loading models from ./idil_train/result/CleanupSingle-v0/idil/es-60-01J5CYJ89FQKR1QJQXHJQEANRV-smalltrain-randomized/2024-08-16_01-38-58/model/iq_CleanupSingle-v0_n10_l10_best_tx\n",
      "Loading models from ./idil_train/result/CleanupSingle-v0/idil/es-60-01J5CYJ89FQKR1QJQXHJQEANRV-smalltrain-randomized/2024-08-16_01-38-58/model/iq_CleanupSingle-v0_n10_l10_best_pi\n",
      "Loading models from ./idil_train/result/CleanupSingle-v0/idil/es-60-01J5CVT628PVKAGHKRV18N49YT-smalltrain-randomized/2024-08-16_00-50-52/model/iq_CleanupSingle-v0_n10_l10_best_tx\n",
      "Loading models from ./idil_train/result/CleanupSingle-v0/idil/es-60-01J5CVT628PVKAGHKRV18N49YT-smalltrain-randomized/2024-08-16_00-50-52/model/iq_CleanupSingle-v0_n10_l10_best_pi\n",
      "Loading models from ./idil_train/result/CleanupSingle-v0/idil/es-20-01J5CS3CVH1CJ0CZ5BSW9R48C4-smalltrain-randomized/2024-08-16_00-03-28/model/iq_CleanupSingle-v0_n10_l10_best_tx\n",
      "Loading models from ./idil_train/result/CleanupSingle-v0/idil/es-20-01J5CS3CVH1CJ0CZ5BSW9R48C4-smalltrain-randomized/2024-08-16_00-03-28/model/iq_CleanupSingle-v0_n10_l10_best_pi\n",
      "Loading models from ./idil_train/result/CleanupSingle-v0/idil/es-20-01J5CPC5Y3X6M10VD5YYBTQA86-smalltrain-randomized/2024-08-15_23-15-50/model/iq_CleanupSingle-v0_n10_l10_best_tx\n",
      "Loading models from ./idil_train/result/CleanupSingle-v0/idil/es-20-01J5CPC5Y3X6M10VD5YYBTQA86-smalltrain-randomized/2024-08-15_23-15-50/model/iq_CleanupSingle-v0_n10_l10_best_pi\n",
      "Loading models from ./idil_train/result/CleanupSingle-v0/idil/es-20-01J5CKNW6R46BT7SW5YCKSKFJT-smalltrain-randomized/2024-08-15_22-28-42/model/iq_CleanupSingle-v0_n10_l10_best_tx\n",
      "Loading models from ./idil_train/result/CleanupSingle-v0/idil/es-20-01J5CKNW6R46BT7SW5YCKSKFJT-smalltrain-randomized/2024-08-15_22-28-42/model/iq_CleanupSingle-v0_n10_l10_best_pi\n",
      "Loading models from ./idil_train/result/CleanupSingle-v0/idil/es-20-01J5CH08E5ZDBJ1MQBAA5BVX9P-smalltrain-randomized/2024-08-15_21-41-57/model/iq_CleanupSingle-v0_n10_l10_best_tx\n",
      "Loading models from ./idil_train/result/CleanupSingle-v0/idil/es-20-01J5CH08E5ZDBJ1MQBAA5BVX9P-smalltrain-randomized/2024-08-15_21-41-57/model/iq_CleanupSingle-v0_n10_l10_best_pi\n",
      "Loading models from ./idil_train/result/CleanupSingle-v0/idil/es-20-01J5CE732CNFF0M6BVGXB3EQ4R-smalltrain-randomized/2024-08-15_20-53-15/model/iq_CleanupSingle-v0_n10_l10_best_tx\n",
      "Loading models from ./idil_train/result/CleanupSingle-v0/idil/es-20-01J5CE732CNFF0M6BVGXB3EQ4R-smalltrain-randomized/2024-08-15_20-53-15/model/iq_CleanupSingle-v0_n10_l10_best_pi\n",
      "Loading models from ./idil_train/result/CleanupSingle-v0/idil/es-0-01J5CBEH2C9XJFHW3NJ380HMCP-smalltrain-randomized/2024-08-15_20-04-53/model/iq_CleanupSingle-v0_n10_l10_best_tx\n",
      "Loading models from ./idil_train/result/CleanupSingle-v0/idil/es-0-01J5CBEH2C9XJFHW3NJ380HMCP-smalltrain-randomized/2024-08-15_20-04-53/model/iq_CleanupSingle-v0_n10_l10_best_pi\n",
      "Loading models from ./idil_train/result/CleanupSingle-v0/idil/es-0-01J5C8K27E34HH1RF3M42ZZA25-smalltrain-randomized/2024-08-15_19-14-56/model/iq_CleanupSingle-v0_n10_l10_best_tx\n",
      "Loading models from ./idil_train/result/CleanupSingle-v0/idil/es-0-01J5C8K27E34HH1RF3M42ZZA25-smalltrain-randomized/2024-08-15_19-14-56/model/iq_CleanupSingle-v0_n10_l10_best_pi\n",
      "Loading models from ./idil_train/result/CleanupSingle-v0/idil/es-0-01J5C5PZ29XV43M9YK0CX76MTN-smalltrain-randomized/2024-08-15_18-24-38/model/iq_CleanupSingle-v0_n10_l10_best_tx\n",
      "Loading models from ./idil_train/result/CleanupSingle-v0/idil/es-0-01J5C5PZ29XV43M9YK0CX76MTN-smalltrain-randomized/2024-08-15_18-24-38/model/iq_CleanupSingle-v0_n10_l10_best_pi\n",
      "Loading models from ./idil_train/result/CleanupSingle-v0/idil/es-0-01J5C2TXS0XJZQVEFJ21F47PEM-smalltrain-randomized/2024-08-15_17-34-22/model/iq_CleanupSingle-v0_n10_l10_best_tx\n",
      "Loading models from ./idil_train/result/CleanupSingle-v0/idil/es-0-01J5C2TXS0XJZQVEFJ21F47PEM-smalltrain-randomized/2024-08-15_17-34-22/model/iq_CleanupSingle-v0_n10_l10_best_pi\n",
      "Loading models from ./idil_train/result/CleanupSingle-v0/idil/es-0-01J5C00STZHCE75V4S8W38QA94-smalltrain-randomized/2024-08-15_16-45-09/model/iq_CleanupSingle-v0_n10_l10_best_tx\n",
      "Loading models from ./idil_train/result/CleanupSingle-v0/idil/es-0-01J5C00STZHCE75V4S8W38QA94-smalltrain-randomized/2024-08-15_16-45-09/model/iq_CleanupSingle-v0_n10_l10_best_pi\n"
     ]
    }
   ],
   "source": [
    "RUNS = [\n",
    "\"es-100-01J5DMNXX0KSNHWYTN91AZMQP4-smalltrain-randomized\",\n",
    "\"es-100-01J5DHYH3XB0YZ4NAB1M2DYD4F-smalltrain-randomized\",\n",
    "\"es-100-01J5DF66YM4X5YX5MKRQYCXWKG-smalltrain-randomized\",\n",
    "\"es-100-01J5DCC9YKFTBZR4QQET6S21A5-smalltrain-randomized\",\n",
    "\"es-100-01J5D9N13D77AH6CS2N6HKXR3F-smalltrain-randomized\",\n",
    "\"es-60-01J5D6VQXB9T3H2FC40AF367GS-smalltrain-randomized\",\n",
    "\"es-60-01J5D43FSJDXVDCXVZYC2908PX-smalltrain-randomized\",\n",
    "\"es-60-01J5D1AT57XMR5NF0CFR3KWV71-smalltrain-randomized\",\n",
    "\"es-60-01J5CYJ89FQKR1QJQXHJQEANRV-smalltrain-randomized\",\n",
    "\"es-60-01J5CVT628PVKAGHKRV18N49YT-smalltrain-randomized\",\n",
    "\"es-20-01J5CS3CVH1CJ0CZ5BSW9R48C4-smalltrain-randomized\",\n",
    "\"es-20-01J5CPC5Y3X6M10VD5YYBTQA86-smalltrain-randomized\",\n",
    "\"es-20-01J5CKNW6R46BT7SW5YCKSKFJT-smalltrain-randomized\",\n",
    "\"es-20-01J5CH08E5ZDBJ1MQBAA5BVX9P-smalltrain-randomized\",\n",
    "\"es-20-01J5CE732CNFF0M6BVGXB3EQ4R-smalltrain-randomized\",\n",
    "\"es-0-01J5CBEH2C9XJFHW3NJ380HMCP-smalltrain-randomized\",\n",
    "\"es-0-01J5C8K27E34HH1RF3M42ZZA25-smalltrain-randomized\",\n",
    "\"es-0-01J5C5PZ29XV43M9YK0CX76MTN-smalltrain-randomized\",\n",
    "\"es-0-01J5C2TXS0XJZQVEFJ21F47PEM-smalltrain-randomized\",\n",
    "\"es-0-01J5C00STZHCE75V4S8W38QA94-smalltrain-randomized\",\n",
    "]\n",
    "\n",
    "agents_control = nb_utils.get_trained_models(runs=RUNS, env_name=ENV_NAME)"
   ]
  },
  {
   "cell_type": "code",
   "execution_count": 33,
   "metadata": {},
   "outputs": [
    {
     "name": "stderr",
     "output_type": "stream",
     "text": [
      "  0%|          | 0/20 [00:00<?, ?it/s]"
     ]
    },
    {
     "name": "stdout",
     "output_type": "stream",
     "text": [
      "Loading models from ./idil_train/result/CleanupSingle-v0/idil/es-100-01J5DMNXX0KSNHWYTN91AZMQP4-smalltrain-randomized/2024-08-16_08-05-27/model/iq_CleanupSingle-v0_n10_l10_best_tx\n",
      "Loading models from ./idil_train/result/CleanupSingle-v0/idil/es-100-01J5DMNXX0KSNHWYTN91AZMQP4-smalltrain-randomized/2024-08-16_08-05-27/model/iq_CleanupSingle-v0_n10_l10_best_pi\n"
     ]
    },
    {
     "name": "stderr",
     "output_type": "stream",
     "text": [
      "100%|██████████| 10/10 [00:02<00:00,  4.33it/s]\n",
      "  5%|▌         | 1/20 [00:02<00:46,  2.45s/it]"
     ]
    },
    {
     "name": "stdout",
     "output_type": "stream",
     "text": [
      "Loading models from ./idil_train/result/CleanupSingle-v0/idil/es-100-01J5DHYH3XB0YZ4NAB1M2DYD4F-smalltrain-randomized/2024-08-16_07-17-43/model/iq_CleanupSingle-v0_n10_l10_best_tx\n",
      "Loading models from ./idil_train/result/CleanupSingle-v0/idil/es-100-01J5DHYH3XB0YZ4NAB1M2DYD4F-smalltrain-randomized/2024-08-16_07-17-43/model/iq_CleanupSingle-v0_n10_l10_best_pi\n"
     ]
    },
    {
     "name": "stderr",
     "output_type": "stream",
     "text": [
      "100%|██████████| 10/10 [00:01<00:00,  7.04it/s]\n",
      " 10%|█         | 2/20 [00:03<00:34,  1.89s/it]"
     ]
    },
    {
     "name": "stdout",
     "output_type": "stream",
     "text": [
      "Loading models from ./idil_train/result/CleanupSingle-v0/idil/es-100-01J5DF66YM4X5YX5MKRQYCXWKG-smalltrain-randomized/2024-08-16_06-29-29/model/iq_CleanupSingle-v0_n10_l10_best_tx\n",
      "Loading models from ./idil_train/result/CleanupSingle-v0/idil/es-100-01J5DF66YM4X5YX5MKRQYCXWKG-smalltrain-randomized/2024-08-16_06-29-29/model/iq_CleanupSingle-v0_n10_l10_best_pi\n"
     ]
    },
    {
     "name": "stderr",
     "output_type": "stream",
     "text": [
      "100%|██████████| 10/10 [00:01<00:00,  7.53it/s]\n",
      " 15%|█▌        | 3/20 [00:05<00:28,  1.67s/it]"
     ]
    },
    {
     "name": "stdout",
     "output_type": "stream",
     "text": [
      "Loading models from ./idil_train/result/CleanupSingle-v0/idil/es-100-01J5DCC9YKFTBZR4QQET6S21A5-smalltrain-randomized/2024-08-16_05-40-23/model/iq_CleanupSingle-v0_n10_l10_best_tx\n",
      "Loading models from ./idil_train/result/CleanupSingle-v0/idil/es-100-01J5DCC9YKFTBZR4QQET6S21A5-smalltrain-randomized/2024-08-16_05-40-23/model/iq_CleanupSingle-v0_n10_l10_best_pi\n"
     ]
    },
    {
     "name": "stderr",
     "output_type": "stream",
     "text": [
      "100%|██████████| 10/10 [00:02<00:00,  4.22it/s]\n",
      " 20%|██        | 4/20 [00:07<00:31,  1.97s/it]"
     ]
    },
    {
     "name": "stdout",
     "output_type": "stream",
     "text": [
      "Loading models from ./idil_train/result/CleanupSingle-v0/idil/es-100-01J5D9N13D77AH6CS2N6HKXR3F-smalltrain-randomized/2024-08-16_04-52-43/model/iq_CleanupSingle-v0_n10_l10_best_tx\n",
      "Loading models from ./idil_train/result/CleanupSingle-v0/idil/es-100-01J5D9N13D77AH6CS2N6HKXR3F-smalltrain-randomized/2024-08-16_04-52-43/model/iq_CleanupSingle-v0_n10_l10_best_pi\n"
     ]
    },
    {
     "name": "stderr",
     "output_type": "stream",
     "text": [
      "100%|██████████| 10/10 [00:02<00:00,  3.39it/s]\n",
      " 25%|██▌       | 5/20 [00:10<00:35,  2.35s/it]"
     ]
    },
    {
     "name": "stdout",
     "output_type": "stream",
     "text": [
      "Loading models from ./idil_train/result/CleanupSingle-v0/idil/es-60-01J5D6VQXB9T3H2FC40AF367GS-smalltrain-randomized/2024-08-16_04-03-57/model/iq_CleanupSingle-v0_n10_l10_best_tx\n",
      "Loading models from ./idil_train/result/CleanupSingle-v0/idil/es-60-01J5D6VQXB9T3H2FC40AF367GS-smalltrain-randomized/2024-08-16_04-03-57/model/iq_CleanupSingle-v0_n10_l10_best_pi\n"
     ]
    },
    {
     "name": "stderr",
     "output_type": "stream",
     "text": [
      "100%|██████████| 10/10 [00:02<00:00,  4.43it/s]\n",
      " 30%|███       | 6/20 [00:13<00:32,  2.35s/it]"
     ]
    },
    {
     "name": "stdout",
     "output_type": "stream",
     "text": [
      "Loading models from ./idil_train/result/CleanupSingle-v0/idil/es-60-01J5D43FSJDXVDCXVZYC2908PX-smalltrain-randomized/2024-08-16_03-15-45/model/iq_CleanupSingle-v0_n10_l10_best_tx\n",
      "Loading models from ./idil_train/result/CleanupSingle-v0/idil/es-60-01J5D43FSJDXVDCXVZYC2908PX-smalltrain-randomized/2024-08-16_03-15-45/model/iq_CleanupSingle-v0_n10_l10_best_pi\n"
     ]
    },
    {
     "name": "stderr",
     "output_type": "stream",
     "text": [
      "100%|██████████| 10/10 [00:02<00:00,  4.70it/s]\n",
      " 35%|███▌      | 7/20 [00:15<00:30,  2.31s/it]"
     ]
    },
    {
     "name": "stdout",
     "output_type": "stream",
     "text": [
      "Loading models from ./idil_train/result/CleanupSingle-v0/idil/es-60-01J5D1AT57XMR5NF0CFR3KWV71-smalltrain-randomized/2024-08-16_02-27-20/model/iq_CleanupSingle-v0_n10_l10_best_tx\n",
      "Loading models from ./idil_train/result/CleanupSingle-v0/idil/es-60-01J5D1AT57XMR5NF0CFR3KWV71-smalltrain-randomized/2024-08-16_02-27-20/model/iq_CleanupSingle-v0_n10_l10_best_pi\n"
     ]
    },
    {
     "name": "stderr",
     "output_type": "stream",
     "text": [
      "100%|██████████| 10/10 [00:02<00:00,  3.53it/s]\n",
      " 40%|████      | 8/20 [00:18<00:30,  2.50s/it]"
     ]
    },
    {
     "name": "stdout",
     "output_type": "stream",
     "text": [
      "Loading models from ./idil_train/result/CleanupSingle-v0/idil/es-60-01J5CYJ89FQKR1QJQXHJQEANRV-smalltrain-randomized/2024-08-16_01-38-58/model/iq_CleanupSingle-v0_n10_l10_best_tx\n",
      "Loading models from ./idil_train/result/CleanupSingle-v0/idil/es-60-01J5CYJ89FQKR1QJQXHJQEANRV-smalltrain-randomized/2024-08-16_01-38-58/model/iq_CleanupSingle-v0_n10_l10_best_pi\n"
     ]
    },
    {
     "name": "stderr",
     "output_type": "stream",
     "text": [
      "100%|██████████| 10/10 [00:01<00:00,  5.01it/s]\n",
      " 45%|████▌     | 9/20 [00:20<00:26,  2.37s/it]"
     ]
    },
    {
     "name": "stdout",
     "output_type": "stream",
     "text": [
      "Loading models from ./idil_train/result/CleanupSingle-v0/idil/es-60-01J5CVT628PVKAGHKRV18N49YT-smalltrain-randomized/2024-08-16_00-50-52/model/iq_CleanupSingle-v0_n10_l10_best_tx\n",
      "Loading models from ./idil_train/result/CleanupSingle-v0/idil/es-60-01J5CVT628PVKAGHKRV18N49YT-smalltrain-randomized/2024-08-16_00-50-52/model/iq_CleanupSingle-v0_n10_l10_best_pi\n"
     ]
    },
    {
     "name": "stderr",
     "output_type": "stream",
     "text": [
      "100%|██████████| 10/10 [00:01<00:00,  5.43it/s]\n",
      " 50%|█████     | 10/20 [00:22<00:22,  2.23s/it]"
     ]
    },
    {
     "name": "stdout",
     "output_type": "stream",
     "text": [
      "Loading models from ./idil_train/result/CleanupSingle-v0/idil/es-20-01J5CS3CVH1CJ0CZ5BSW9R48C4-smalltrain-randomized/2024-08-16_00-03-28/model/iq_CleanupSingle-v0_n10_l10_best_tx\n",
      "Loading models from ./idil_train/result/CleanupSingle-v0/idil/es-20-01J5CS3CVH1CJ0CZ5BSW9R48C4-smalltrain-randomized/2024-08-16_00-03-28/model/iq_CleanupSingle-v0_n10_l10_best_pi\n"
     ]
    },
    {
     "name": "stderr",
     "output_type": "stream",
     "text": [
      "100%|██████████| 10/10 [00:02<00:00,  4.10it/s]\n",
      " 55%|█████▌    | 11/20 [00:24<00:20,  2.32s/it]"
     ]
    },
    {
     "name": "stdout",
     "output_type": "stream",
     "text": [
      "Loading models from ./idil_train/result/CleanupSingle-v0/idil/es-20-01J5CPC5Y3X6M10VD5YYBTQA86-smalltrain-randomized/2024-08-15_23-15-50/model/iq_CleanupSingle-v0_n10_l10_best_tx\n",
      "Loading models from ./idil_train/result/CleanupSingle-v0/idil/es-20-01J5CPC5Y3X6M10VD5YYBTQA86-smalltrain-randomized/2024-08-15_23-15-50/model/iq_CleanupSingle-v0_n10_l10_best_pi\n"
     ]
    },
    {
     "name": "stderr",
     "output_type": "stream",
     "text": [
      "100%|██████████| 10/10 [00:01<00:00,  5.80it/s]\n",
      " 60%|██████    | 12/20 [00:26<00:17,  2.17s/it]"
     ]
    },
    {
     "name": "stdout",
     "output_type": "stream",
     "text": [
      "Loading models from ./idil_train/result/CleanupSingle-v0/idil/es-20-01J5CKNW6R46BT7SW5YCKSKFJT-smalltrain-randomized/2024-08-15_22-28-42/model/iq_CleanupSingle-v0_n10_l10_best_tx\n",
      "Loading models from ./idil_train/result/CleanupSingle-v0/idil/es-20-01J5CKNW6R46BT7SW5YCKSKFJT-smalltrain-randomized/2024-08-15_22-28-42/model/iq_CleanupSingle-v0_n10_l10_best_pi\n"
     ]
    },
    {
     "name": "stderr",
     "output_type": "stream",
     "text": [
      "100%|██████████| 10/10 [00:01<00:00,  5.64it/s]\n",
      " 65%|██████▌   | 13/20 [00:28<00:14,  2.07s/it]"
     ]
    },
    {
     "name": "stdout",
     "output_type": "stream",
     "text": [
      "Loading models from ./idil_train/result/CleanupSingle-v0/idil/es-20-01J5CH08E5ZDBJ1MQBAA5BVX9P-smalltrain-randomized/2024-08-15_21-41-57/model/iq_CleanupSingle-v0_n10_l10_best_tx\n",
      "Loading models from ./idil_train/result/CleanupSingle-v0/idil/es-20-01J5CH08E5ZDBJ1MQBAA5BVX9P-smalltrain-randomized/2024-08-15_21-41-57/model/iq_CleanupSingle-v0_n10_l10_best_pi\n"
     ]
    },
    {
     "name": "stderr",
     "output_type": "stream",
     "text": [
      "100%|██████████| 10/10 [00:01<00:00,  5.35it/s]\n",
      " 70%|███████   | 14/20 [00:30<00:12,  2.04s/it]"
     ]
    },
    {
     "name": "stdout",
     "output_type": "stream",
     "text": [
      "Loading models from ./idil_train/result/CleanupSingle-v0/idil/es-20-01J5CE732CNFF0M6BVGXB3EQ4R-smalltrain-randomized/2024-08-15_20-53-15/model/iq_CleanupSingle-v0_n10_l10_best_tx\n",
      "Loading models from ./idil_train/result/CleanupSingle-v0/idil/es-20-01J5CE732CNFF0M6BVGXB3EQ4R-smalltrain-randomized/2024-08-15_20-53-15/model/iq_CleanupSingle-v0_n10_l10_best_pi\n"
     ]
    },
    {
     "name": "stderr",
     "output_type": "stream",
     "text": [
      "100%|██████████| 10/10 [00:01<00:00,  6.20it/s]\n",
      " 75%|███████▌  | 15/20 [00:32<00:09,  1.93s/it]"
     ]
    },
    {
     "name": "stdout",
     "output_type": "stream",
     "text": [
      "Loading models from ./idil_train/result/CleanupSingle-v0/idil/es-0-01J5CBEH2C9XJFHW3NJ380HMCP-smalltrain-randomized/2024-08-15_20-04-53/model/iq_CleanupSingle-v0_n10_l10_best_tx\n",
      "Loading models from ./idil_train/result/CleanupSingle-v0/idil/es-0-01J5CBEH2C9XJFHW3NJ380HMCP-smalltrain-randomized/2024-08-15_20-04-53/model/iq_CleanupSingle-v0_n10_l10_best_pi\n"
     ]
    },
    {
     "name": "stderr",
     "output_type": "stream",
     "text": [
      "100%|██████████| 10/10 [00:03<00:00,  3.05it/s]\n",
      " 80%|████████  | 16/20 [00:35<00:09,  2.36s/it]"
     ]
    },
    {
     "name": "stdout",
     "output_type": "stream",
     "text": [
      "Loading models from ./idil_train/result/CleanupSingle-v0/idil/es-0-01J5C8K27E34HH1RF3M42ZZA25-smalltrain-randomized/2024-08-15_19-14-56/model/iq_CleanupSingle-v0_n10_l10_best_tx\n",
      "Loading models from ./idil_train/result/CleanupSingle-v0/idil/es-0-01J5C8K27E34HH1RF3M42ZZA25-smalltrain-randomized/2024-08-15_19-14-56/model/iq_CleanupSingle-v0_n10_l10_best_pi\n"
     ]
    },
    {
     "name": "stderr",
     "output_type": "stream",
     "text": [
      "100%|██████████| 10/10 [00:02<00:00,  3.73it/s]\n",
      " 85%|████████▌ | 17/20 [00:38<00:07,  2.48s/it]"
     ]
    },
    {
     "name": "stdout",
     "output_type": "stream",
     "text": [
      "Loading models from ./idil_train/result/CleanupSingle-v0/idil/es-0-01J5C5PZ29XV43M9YK0CX76MTN-smalltrain-randomized/2024-08-15_18-24-38/model/iq_CleanupSingle-v0_n10_l10_best_tx\n",
      "Loading models from ./idil_train/result/CleanupSingle-v0/idil/es-0-01J5C5PZ29XV43M9YK0CX76MTN-smalltrain-randomized/2024-08-15_18-24-38/model/iq_CleanupSingle-v0_n10_l10_best_pi\n"
     ]
    },
    {
     "name": "stderr",
     "output_type": "stream",
     "text": [
      "100%|██████████| 10/10 [00:04<00:00,  2.40it/s]\n",
      " 90%|█████████ | 18/20 [00:42<00:06,  3.01s/it]"
     ]
    },
    {
     "name": "stdout",
     "output_type": "stream",
     "text": [
      "Loading models from ./idil_train/result/CleanupSingle-v0/idil/es-0-01J5C2TXS0XJZQVEFJ21F47PEM-smalltrain-randomized/2024-08-15_17-34-22/model/iq_CleanupSingle-v0_n10_l10_best_tx\n",
      "Loading models from ./idil_train/result/CleanupSingle-v0/idil/es-0-01J5C2TXS0XJZQVEFJ21F47PEM-smalltrain-randomized/2024-08-15_17-34-22/model/iq_CleanupSingle-v0_n10_l10_best_pi\n"
     ]
    },
    {
     "name": "stderr",
     "output_type": "stream",
     "text": [
      "100%|██████████| 10/10 [00:04<00:00,  2.37it/s]\n",
      " 95%|█████████▌| 19/20 [00:46<00:03,  3.39s/it]"
     ]
    },
    {
     "name": "stdout",
     "output_type": "stream",
     "text": [
      "Loading models from ./idil_train/result/CleanupSingle-v0/idil/es-0-01J5C00STZHCE75V4S8W38QA94-smalltrain-randomized/2024-08-15_16-45-09/model/iq_CleanupSingle-v0_n10_l10_best_tx\n",
      "Loading models from ./idil_train/result/CleanupSingle-v0/idil/es-0-01J5C00STZHCE75V4S8W38QA94-smalltrain-randomized/2024-08-15_16-45-09/model/iq_CleanupSingle-v0_n10_l10_best_pi\n"
     ]
    },
    {
     "name": "stderr",
     "output_type": "stream",
     "text": [
      "100%|██████████| 10/10 [00:03<00:00,  3.09it/s]\n",
      "100%|██████████| 20/20 [00:50<00:00,  2.50s/it]\n"
     ]
    }
   ],
   "source": [
    "trajectories_control = nb_utils.get_agent_trajectories(runs=RUNS, env_name=ENV_NAME, num_trajectories=10)"
   ]
  },
  {
   "cell_type": "code",
   "execution_count": 34,
   "metadata": {},
   "outputs": [
    {
     "name": "stdout",
     "output_type": "stream",
     "text": [
      "There are 4 kvals\n",
      "Each kval has 50 cum_rewards, matching the 5 x 10 trajectories generated for each agent (using key = 100)\n"
     ]
    }
   ],
   "source": [
    "cum_rewards_control = nb_utils.get_cumulative_rewards(trajectories_control, agents_control)"
   ]
  },
  {
   "cell_type": "code",
   "execution_count": 37,
   "metadata": {},
   "outputs": [
    {
     "data": {
      "image/png": "[encoded data removed]",
      "text/plain": [
       "<Figure size 640x480 with 1 Axes>"
      ]
     },
     "metadata": {},
     "output_type": "display_data"
    }
   ],
   "source": [
    "nb_utils.plot_cum_rewards(cum_rewards_control)\n",
    "# plt.gca().set_ylim([-100, -10])"
   ]
  },
  {
   "cell_type": "code",
   "execution_count": null,
   "metadata": {},
   "outputs": [],
   "source": []
  },
  {
   "cell_type": "code",
   "execution_count": 38,
   "metadata": {},
   "outputs": [
    {
     "data": {
      "text/html": [
       "<div>\n",
       "<style scoped>\n",
       "    .dataframe tbody tr th:only-of-type {\n",
       "        vertical-align: middle;\n",
       "    }\n",
       "\n",
       "    .dataframe tbody tr th {\n",
       "        vertical-align: top;\n",
       "    }\n",
       "\n",
       "    .dataframe thead th {\n",
       "        text-align: right;\n",
       "    }\n",
       "</style>\n",
       "<table border=\"1\" class=\"dataframe\">\n",
       "  <thead>\n",
       "    <tr style=\"text-align: right;\">\n",
       "      <th></th>\n",
       "      <th>100</th>\n",
       "      <th>60</th>\n",
       "      <th>20</th>\n",
       "      <th>0</th>\n",
       "    </tr>\n",
       "  </thead>\n",
       "  <tbody>\n",
       "    <tr>\n",
       "      <th>count</th>\n",
       "      <td>50.000000</td>\n",
       "      <td>50.000000</td>\n",
       "      <td>50.000000</td>\n",
       "      <td>50.000000</td>\n",
       "    </tr>\n",
       "    <tr>\n",
       "      <th>mean</th>\n",
       "      <td>-46.940000</td>\n",
       "      <td>-56.380000</td>\n",
       "      <td>-59.920000</td>\n",
       "      <td>-122.000000</td>\n",
       "    </tr>\n",
       "    <tr>\n",
       "      <th>std</th>\n",
       "      <td>6.923518</td>\n",
       "      <td>33.826623</td>\n",
       "      <td>28.945297</td>\n",
       "      <td>63.082712</td>\n",
       "    </tr>\n",
       "    <tr>\n",
       "      <th>min</th>\n",
       "      <td>-71.000000</td>\n",
       "      <td>-200.000000</td>\n",
       "      <td>-200.000000</td>\n",
       "      <td>-200.000000</td>\n",
       "    </tr>\n",
       "    <tr>\n",
       "      <th>25%</th>\n",
       "      <td>-50.000000</td>\n",
       "      <td>-51.750000</td>\n",
       "      <td>-61.500000</td>\n",
       "      <td>-200.000000</td>\n",
       "    </tr>\n",
       "    <tr>\n",
       "      <th>50%</th>\n",
       "      <td>-46.000000</td>\n",
       "      <td>-47.000000</td>\n",
       "      <td>-49.000000</td>\n",
       "      <td>-109.500000</td>\n",
       "    </tr>\n",
       "    <tr>\n",
       "      <th>75%</th>\n",
       "      <td>-42.000000</td>\n",
       "      <td>-43.000000</td>\n",
       "      <td>-44.000000</td>\n",
       "      <td>-54.500000</td>\n",
       "    </tr>\n",
       "    <tr>\n",
       "      <th>max</th>\n",
       "      <td>-36.000000</td>\n",
       "      <td>-37.000000</td>\n",
       "      <td>-35.000000</td>\n",
       "      <td>-42.000000</td>\n",
       "    </tr>\n",
       "  </tbody>\n",
       "</table>\n",
       "</div>"
      ],
      "text/plain": [
       "             100         60          20          0  \n",
       "count  50.000000   50.000000   50.000000   50.000000\n",
       "mean  -46.940000  -56.380000  -59.920000 -122.000000\n",
       "std     6.923518   33.826623   28.945297   63.082712\n",
       "min   -71.000000 -200.000000 -200.000000 -200.000000\n",
       "25%   -50.000000  -51.750000  -61.500000 -200.000000\n",
       "50%   -46.000000  -47.000000  -49.000000 -109.500000\n",
       "75%   -42.000000  -43.000000  -44.000000  -54.500000\n",
       "max   -36.000000  -37.000000  -35.000000  -42.000000"
      ]
     },
     "execution_count": 38,
     "metadata": {},
     "output_type": "execute_result"
    }
   ],
   "source": [
    "pd.DataFrame(cum_rewards).describe()"
   ]
  },
  {
   "cell_type": "code",
   "execution_count": 39,
   "metadata": {},
   "outputs": [
    {
     "data": {
      "text/html": [
       "<div>\n",
       "<style scoped>\n",
       "    .dataframe tbody tr th:only-of-type {\n",
       "        vertical-align: middle;\n",
       "    }\n",
       "\n",
       "    .dataframe tbody tr th {\n",
       "        vertical-align: top;\n",
       "    }\n",
       "\n",
       "    .dataframe thead th {\n",
       "        text-align: right;\n",
       "    }\n",
       "</style>\n",
       "<table border=\"1\" class=\"dataframe\">\n",
       "  <thead>\n",
       "    <tr style=\"text-align: right;\">\n",
       "      <th></th>\n",
       "      <th>100</th>\n",
       "      <th>60</th>\n",
       "      <th>20</th>\n",
       "      <th>0</th>\n",
       "    </tr>\n",
       "  </thead>\n",
       "  <tbody>\n",
       "    <tr>\n",
       "      <th>count</th>\n",
       "      <td>50.000000</td>\n",
       "      <td>50.000000</td>\n",
       "      <td>50.000000</td>\n",
       "      <td>50.000000</td>\n",
       "    </tr>\n",
       "    <tr>\n",
       "      <th>mean</th>\n",
       "      <td>-60.260000</td>\n",
       "      <td>-61.900000</td>\n",
       "      <td>-54.100000</td>\n",
       "      <td>-109.540000</td>\n",
       "    </tr>\n",
       "    <tr>\n",
       "      <th>std</th>\n",
       "      <td>46.686453</td>\n",
       "      <td>41.972416</td>\n",
       "      <td>24.200902</td>\n",
       "      <td>63.686801</td>\n",
       "    </tr>\n",
       "    <tr>\n",
       "      <th>min</th>\n",
       "      <td>-200.000000</td>\n",
       "      <td>-200.000000</td>\n",
       "      <td>-200.000000</td>\n",
       "      <td>-200.000000</td>\n",
       "    </tr>\n",
       "    <tr>\n",
       "      <th>25%</th>\n",
       "      <td>-48.750000</td>\n",
       "      <td>-55.250000</td>\n",
       "      <td>-51.750000</td>\n",
       "      <td>-200.000000</td>\n",
       "    </tr>\n",
       "    <tr>\n",
       "      <th>50%</th>\n",
       "      <td>-44.000000</td>\n",
       "      <td>-45.500000</td>\n",
       "      <td>-48.000000</td>\n",
       "      <td>-80.000000</td>\n",
       "    </tr>\n",
       "    <tr>\n",
       "      <th>75%</th>\n",
       "      <td>-41.000000</td>\n",
       "      <td>-42.000000</td>\n",
       "      <td>-45.250000</td>\n",
       "      <td>-55.000000</td>\n",
       "    </tr>\n",
       "    <tr>\n",
       "      <th>max</th>\n",
       "      <td>-35.000000</td>\n",
       "      <td>-37.000000</td>\n",
       "      <td>-39.000000</td>\n",
       "      <td>-40.000000</td>\n",
       "    </tr>\n",
       "  </tbody>\n",
       "</table>\n",
       "</div>"
      ],
      "text/plain": [
       "              100         60          20          0  \n",
       "count   50.000000   50.000000   50.000000   50.000000\n",
       "mean   -60.260000  -61.900000  -54.100000 -109.540000\n",
       "std     46.686453   41.972416   24.200902   63.686801\n",
       "min   -200.000000 -200.000000 -200.000000 -200.000000\n",
       "25%    -48.750000  -55.250000  -51.750000 -200.000000\n",
       "50%    -44.000000  -45.500000  -48.000000  -80.000000\n",
       "75%    -41.000000  -42.000000  -45.250000  -55.000000\n",
       "max    -35.000000  -37.000000  -39.000000  -40.000000"
      ]
     },
     "execution_count": 39,
     "metadata": {},
     "output_type": "execute_result"
    }
   ],
   "source": [
    "pd.DataFrame(cum_rewards_control).describe()"
   ]
  },
  {
   "cell_type": "code",
   "execution_count": null,
   "metadata": {},
   "outputs": [],
   "source": []
  },
  {
   "cell_type": "code",
   "execution_count": 40,
   "metadata": {},
   "outputs": [
    {
     "name": "stderr",
     "output_type": "stream",
     "text": [
      "30it [00:04,  6.33it/s]\n"
     ]
    }
   ],
   "source": [
    "accs_by_k_control = nb_utils.compute_accuracy_by_kval(test_data=test_data, agents=agents_control)"
   ]
  },
  {
   "cell_type": "code",
   "execution_count": 41,
   "metadata": {},
   "outputs": [
    {
     "data": {
      "image/png": "[encoded data removed]",
      "text/plain": [
       "<Figure size 640x480 with 1 Axes>"
      ]
     },
     "metadata": {},
     "output_type": "display_data"
    }
   ],
   "source": [
    "nb_utils.plot_sequence_accuracy_boxplot(accs_by_k_control)"
   ]
  },
  {
   "cell_type": "code",
   "execution_count": 42,
   "metadata": {},
   "outputs": [
    {
     "data": {
      "image/png": "[encoded data removed]",
      "text/plain": [
       "<Figure size 640x480 with 1 Axes>"
      ]
     },
     "metadata": {},
     "output_type": "display_data"
    }
   ],
   "source": [
    "nb_utils.plot_sequence_accuracy_boxplot(accs_by_k)"
   ]
  },
  {
   "cell_type": "code",
   "execution_count": 45,
   "metadata": {},
   "outputs": [
    {
     "data": {
      "text/html": [
       "<div>\n",
       "<style scoped>\n",
       "    .dataframe tbody tr th:only-of-type {\n",
       "        vertical-align: middle;\n",
       "    }\n",
       "\n",
       "    .dataframe tbody tr th {\n",
       "        vertical-align: top;\n",
       "    }\n",
       "\n",
       "    .dataframe thead th {\n",
       "        text-align: right;\n",
       "    }\n",
       "</style>\n",
       "<table border=\"1\" class=\"dataframe\">\n",
       "  <thead>\n",
       "    <tr style=\"text-align: right;\">\n",
       "      <th></th>\n",
       "      <th>100</th>\n",
       "      <th>60</th>\n",
       "      <th>20</th>\n",
       "      <th>0</th>\n",
       "    </tr>\n",
       "  </thead>\n",
       "  <tbody>\n",
       "    <tr>\n",
       "      <th>count</th>\n",
       "      <td>150.000000</td>\n",
       "      <td>150.000000</td>\n",
       "      <td>150.000000</td>\n",
       "      <td>150.000000</td>\n",
       "    </tr>\n",
       "    <tr>\n",
       "      <th>mean</th>\n",
       "      <td>0.934705</td>\n",
       "      <td>0.931711</td>\n",
       "      <td>0.970468</td>\n",
       "      <td>0.814204</td>\n",
       "    </tr>\n",
       "    <tr>\n",
       "      <th>std</th>\n",
       "      <td>0.084341</td>\n",
       "      <td>0.097808</td>\n",
       "      <td>0.066332</td>\n",
       "      <td>0.153433</td>\n",
       "    </tr>\n",
       "    <tr>\n",
       "      <th>min</th>\n",
       "      <td>0.627451</td>\n",
       "      <td>0.400000</td>\n",
       "      <td>0.550000</td>\n",
       "      <td>0.272727</td>\n",
       "    </tr>\n",
       "    <tr>\n",
       "      <th>25%</th>\n",
       "      <td>0.901415</td>\n",
       "      <td>0.900490</td>\n",
       "      <td>0.979167</td>\n",
       "      <td>0.712225</td>\n",
       "    </tr>\n",
       "    <tr>\n",
       "      <th>50%</th>\n",
       "      <td>0.977273</td>\n",
       "      <td>0.979167</td>\n",
       "      <td>1.000000</td>\n",
       "      <td>0.835586</td>\n",
       "    </tr>\n",
       "    <tr>\n",
       "      <th>75%</th>\n",
       "      <td>1.000000</td>\n",
       "      <td>1.000000</td>\n",
       "      <td>1.000000</td>\n",
       "      <td>0.945309</td>\n",
       "    </tr>\n",
       "    <tr>\n",
       "      <th>max</th>\n",
       "      <td>1.000000</td>\n",
       "      <td>1.000000</td>\n",
       "      <td>1.000000</td>\n",
       "      <td>1.000000</td>\n",
       "    </tr>\n",
       "  </tbody>\n",
       "</table>\n",
       "</div>"
      ],
      "text/plain": [
       "              100         60          20          0  \n",
       "count  150.000000  150.000000  150.000000  150.000000\n",
       "mean     0.934705    0.931711    0.970468    0.814204\n",
       "std      0.084341    0.097808    0.066332    0.153433\n",
       "min      0.627451    0.400000    0.550000    0.272727\n",
       "25%      0.901415    0.900490    0.979167    0.712225\n",
       "50%      0.977273    0.979167    1.000000    0.835586\n",
       "75%      1.000000    1.000000    1.000000    0.945309\n",
       "max      1.000000    1.000000    1.000000    1.000000"
      ]
     },
     "execution_count": 45,
     "metadata": {},
     "output_type": "execute_result"
    }
   ],
   "source": [
    "# compare statistics\n",
    "pd.DataFrame(accs_by_k_control).describe()"
   ]
  },
  {
   "cell_type": "code",
   "execution_count": 46,
   "metadata": {},
   "outputs": [
    {
     "data": {
      "text/html": [
       "<div>\n",
       "<style scoped>\n",
       "    .dataframe tbody tr th:only-of-type {\n",
       "        vertical-align: middle;\n",
       "    }\n",
       "\n",
       "    .dataframe tbody tr th {\n",
       "        vertical-align: top;\n",
       "    }\n",
       "\n",
       "    .dataframe thead th {\n",
       "        text-align: right;\n",
       "    }\n",
       "</style>\n",
       "<table border=\"1\" class=\"dataframe\">\n",
       "  <thead>\n",
       "    <tr style=\"text-align: right;\">\n",
       "      <th></th>\n",
       "      <th>100</th>\n",
       "      <th>60</th>\n",
       "      <th>20</th>\n",
       "      <th>0</th>\n",
       "    </tr>\n",
       "  </thead>\n",
       "  <tbody>\n",
       "    <tr>\n",
       "      <th>count</th>\n",
       "      <td>150.000000</td>\n",
       "      <td>150.000000</td>\n",
       "      <td>150.000000</td>\n",
       "      <td>150.000000</td>\n",
       "    </tr>\n",
       "    <tr>\n",
       "      <th>mean</th>\n",
       "      <td>0.931927</td>\n",
       "      <td>0.916211</td>\n",
       "      <td>0.888666</td>\n",
       "      <td>0.763273</td>\n",
       "    </tr>\n",
       "    <tr>\n",
       "      <th>std</th>\n",
       "      <td>0.087936</td>\n",
       "      <td>0.114900</td>\n",
       "      <td>0.133580</td>\n",
       "      <td>0.206132</td>\n",
       "    </tr>\n",
       "    <tr>\n",
       "      <th>min</th>\n",
       "      <td>0.607843</td>\n",
       "      <td>0.490566</td>\n",
       "      <td>0.475000</td>\n",
       "      <td>0.115385</td>\n",
       "    </tr>\n",
       "    <tr>\n",
       "      <th>25%</th>\n",
       "      <td>0.892157</td>\n",
       "      <td>0.849558</td>\n",
       "      <td>0.791863</td>\n",
       "      <td>0.645833</td>\n",
       "    </tr>\n",
       "    <tr>\n",
       "      <th>50%</th>\n",
       "      <td>0.977778</td>\n",
       "      <td>0.977778</td>\n",
       "      <td>0.946154</td>\n",
       "      <td>0.806429</td>\n",
       "    </tr>\n",
       "    <tr>\n",
       "      <th>75%</th>\n",
       "      <td>1.000000</td>\n",
       "      <td>1.000000</td>\n",
       "      <td>1.000000</td>\n",
       "      <td>0.931250</td>\n",
       "    </tr>\n",
       "    <tr>\n",
       "      <th>max</th>\n",
       "      <td>1.000000</td>\n",
       "      <td>1.000000</td>\n",
       "      <td>1.000000</td>\n",
       "      <td>1.000000</td>\n",
       "    </tr>\n",
       "  </tbody>\n",
       "</table>\n",
       "</div>"
      ],
      "text/plain": [
       "              100         60          20          0  \n",
       "count  150.000000  150.000000  150.000000  150.000000\n",
       "mean     0.931927    0.916211    0.888666    0.763273\n",
       "std      0.087936    0.114900    0.133580    0.206132\n",
       "min      0.607843    0.490566    0.475000    0.115385\n",
       "25%      0.892157    0.849558    0.791863    0.645833\n",
       "50%      0.977778    0.977778    0.946154    0.806429\n",
       "75%      1.000000    1.000000    1.000000    0.931250\n",
       "max      1.000000    1.000000    1.000000    1.000000"
      ]
     },
     "execution_count": 46,
     "metadata": {},
     "output_type": "execute_result"
    }
   ],
   "source": [
    "pd.DataFrame(accs_by_k).describe()\n"
   ]
  }
 ],
 "metadata": {
  "kernelspec": {
   "display_name": "aidil",
   "language": "python",
   "name": "python3"
  },
  "language_info": {
   "codemirror_mode": {
    "name": "ipython",
    "version": 3
   },
   "file_extension": ".py",
   "mimetype": "text/x-python",
   "name": "python",
   "nbconvert_exporter": "python",
   "pygments_lexer": "ipython3",
   "version": "3.8.19"
  }
 },
 "nbformat": 4,
 "nbformat_minor": 2
}
