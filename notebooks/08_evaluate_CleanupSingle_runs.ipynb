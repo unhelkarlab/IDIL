{
 "cells": [
  {
   "cell_type": "code",
   "execution_count": 7,
   "metadata": {},
   "outputs": [
    {
     "name": "stdout",
     "output_type": "stream",
     "text": [
      "/home/juanhevia/IDIL\n"
     ]
    }
   ],
   "source": [
    "%cd .."
   ]
  },
  {
   "cell_type": "code",
   "execution_count": 3,
   "metadata": {},
   "outputs": [
    {
     "name": "stdout",
     "output_type": "stream",
     "text": [
      "pygame 2.6.0 (SDL 2.28.4, Python 3.8.19)\n",
      "Hello from the pygame community. https://www.pygame.org/contribute.html\n"
     ]
    }
   ],
   "source": [
    "import pandas as pd\n",
    "import numpy as np \n",
    "import matplotlib.pyplot as plt\n",
    "import pickle as pkl\n",
    "import generate_trajectories as traj_utils\n",
    "import utils as nb_utils\n",
    "from collections import defaultdict"
   ]
  },
  {
   "cell_type": "code",
   "execution_count": 8,
   "metadata": {},
   "outputs": [
    {
     "name": "stdout",
     "output_type": "stream",
     "text": [
      "Loading models from ./idil_train/result/CleanupSingle-v0/idil/es-100-01J5B2Y7CSYB02RK5BYJJ6S9QB-smalltrain/2024-08-15_08-16-56/model/iq_CleanupSingle-v0_n10_l10_best_tx\n",
      "Loading models from ./idil_train/result/CleanupSingle-v0/idil/es-100-01J5B2Y7CSYB02RK5BYJJ6S9QB-smalltrain/2024-08-15_08-16-56/model/iq_CleanupSingle-v0_n10_l10_best_pi\n",
      "Loading models from ./idil_train/result/CleanupSingle-v0/idil/es-60-01J5B07PYF1X36H6F7K730YSQ2-smalltrain/2024-08-15_07-29-41/model/iq_CleanupSingle-v0_n10_l10_best_tx\n",
      "Loading models from ./idil_train/result/CleanupSingle-v0/idil/es-60-01J5B07PYF1X36H6F7K730YSQ2-smalltrain/2024-08-15_07-29-41/model/iq_CleanupSingle-v0_n10_l10_best_pi\n",
      "Loading models from ./idil_train/result/CleanupSingle-v0/idil/es-60-01J5AXGQ3SA806H7JWPR6KVEXW-smalltrain/2024-08-15_06-42-10/model/iq_CleanupSingle-v0_n10_l10_best_tx\n",
      "Loading models from ./idil_train/result/CleanupSingle-v0/idil/es-60-01J5AXGQ3SA806H7JWPR6KVEXW-smalltrain/2024-08-15_06-42-10/model/iq_CleanupSingle-v0_n10_l10_best_pi\n",
      "Loading models from ./idil_train/result/CleanupSingle-v0/idil/es-60-01J5ATS5V33MX6R8F8EXGQ2FHN-smalltrain/2024-08-15_05-54-22/model/iq_CleanupSingle-v0_n10_l10_best_tx\n",
      "Loading models from ./idil_train/result/CleanupSingle-v0/idil/es-60-01J5ATS5V33MX6R8F8EXGQ2FHN-smalltrain/2024-08-15_05-54-22/model/iq_CleanupSingle-v0_n10_l10_best_pi\n",
      "Loading models from ./idil_train/result/CleanupSingle-v0/idil/es-60-01J5AR1W3GR7KB35YFYRF3FN41-smalltrain/2024-08-15_05-06-41/model/iq_CleanupSingle-v0_n10_l10_best_tx\n",
      "Loading models from ./idil_train/result/CleanupSingle-v0/idil/es-60-01J5AR1W3GR7KB35YFYRF3FN41-smalltrain/2024-08-15_05-06-41/model/iq_CleanupSingle-v0_n10_l10_best_pi\n",
      "Loading models from ./idil_train/result/CleanupSingle-v0/idil/es-60-01J5ANAP4ZY4J42PPKMCZ9VFBS-smalltrain/2024-08-15_04-19-04/model/iq_CleanupSingle-v0_n10_l10_best_tx\n",
      "Loading models from ./idil_train/result/CleanupSingle-v0/idil/es-60-01J5ANAP4ZY4J42PPKMCZ9VFBS-smalltrain/2024-08-15_04-19-04/model/iq_CleanupSingle-v0_n10_l10_best_pi\n",
      "Loading models from ./idil_train/result/CleanupSingle-v0/idil/es-20-01J5AJJC29HWER1K25KJ8JVXST-smalltrain/2024-08-15_03-30-50/model/iq_CleanupSingle-v0_n10_l10_best_tx\n",
      "Loading models from ./idil_train/result/CleanupSingle-v0/idil/es-20-01J5AJJC29HWER1K25KJ8JVXST-smalltrain/2024-08-15_03-30-50/model/iq_CleanupSingle-v0_n10_l10_best_pi\n",
      "Loading models from ./idil_train/result/CleanupSingle-v0/idil/es-20-01J5AFVFYRH393CV1DRCF5Z3KF-smalltrain/2024-08-15_02-43-23/model/iq_CleanupSingle-v0_n10_l10_best_tx\n",
      "Loading models from ./idil_train/result/CleanupSingle-v0/idil/es-20-01J5AFVFYRH393CV1DRCF5Z3KF-smalltrain/2024-08-15_02-43-23/model/iq_CleanupSingle-v0_n10_l10_best_pi\n",
      "Loading models from ./idil_train/result/CleanupSingle-v0/idil/es-20-01J5AD3T5GP5CPFZKG3B28HA30-smalltrain/2024-08-15_01-55-30/model/iq_CleanupSingle-v0_n10_l10_best_tx\n",
      "Loading models from ./idil_train/result/CleanupSingle-v0/idil/es-20-01J5AD3T5GP5CPFZKG3B28HA30-smalltrain/2024-08-15_01-55-30/model/iq_CleanupSingle-v0_n10_l10_best_pi\n",
      "Loading models from ./idil_train/result/CleanupSingle-v0/idil/es-20-01J5AACEDTR99MRBSZGR1N5PA6-smalltrain/2024-08-15_01-07-47/model/iq_CleanupSingle-v0_n10_l10_best_tx\n",
      "Loading models from ./idil_train/result/CleanupSingle-v0/idil/es-20-01J5AACEDTR99MRBSZGR1N5PA6-smalltrain/2024-08-15_01-07-47/model/iq_CleanupSingle-v0_n10_l10_best_pi\n",
      "Loading models from ./idil_train/result/CleanupSingle-v0/idil/es-20-01J5A7NCGMY0JPDWKR20KFWBVF-smalltrain/2024-08-15_00-20-14/model/iq_CleanupSingle-v0_n10_l10_best_tx\n",
      "Loading models from ./idil_train/result/CleanupSingle-v0/idil/es-20-01J5A7NCGMY0JPDWKR20KFWBVF-smalltrain/2024-08-15_00-20-14/model/iq_CleanupSingle-v0_n10_l10_best_pi\n",
      "Loading models from ./idil_train/result/CleanupSingle-v0/idil/es-0-01J5A4VTCD1428B0033H78XRDH-smalltrain/2024-08-14_23-31-19/model/iq_CleanupSingle-v0_n10_l10_best_tx\n",
      "Loading models from ./idil_train/result/CleanupSingle-v0/idil/es-0-01J5A4VTCD1428B0033H78XRDH-smalltrain/2024-08-14_23-31-19/model/iq_CleanupSingle-v0_n10_l10_best_pi\n",
      "Loading models from ./idil_train/result/CleanupSingle-v0/idil/es-0-01J5A22M7N5Q4MEEBRK9JM2MFP-smalltrain/2024-08-14_22-42-37/model/iq_CleanupSingle-v0_n10_l10_best_tx\n",
      "Loading models from ./idil_train/result/CleanupSingle-v0/idil/es-0-01J5A22M7N5Q4MEEBRK9JM2MFP-smalltrain/2024-08-14_22-42-37/model/iq_CleanupSingle-v0_n10_l10_best_pi\n",
      "Loading models from ./idil_train/result/CleanupSingle-v0/idil/es-0-01J59ZAB0DWY4TVA2FMEQWT9G6-smalltrain/2024-08-14_21-54-24/model/iq_CleanupSingle-v0_n10_l10_best_tx\n",
      "Loading models from ./idil_train/result/CleanupSingle-v0/idil/es-0-01J59ZAB0DWY4TVA2FMEQWT9G6-smalltrain/2024-08-14_21-54-24/model/iq_CleanupSingle-v0_n10_l10_best_pi\n",
      "Loading models from ./idil_train/result/CleanupSingle-v0/idil/es-0-01J59WH8H361RENJ8Q9MRR5YYY-smalltrain/2024-08-14_21-05-45/model/iq_CleanupSingle-v0_n10_l10_best_tx\n",
      "Loading models from ./idil_train/result/CleanupSingle-v0/idil/es-0-01J59WH8H361RENJ8Q9MRR5YYY-smalltrain/2024-08-14_21-05-45/model/iq_CleanupSingle-v0_n10_l10_best_pi\n",
      "Loading models from ./idil_train/result/CleanupSingle-v0/idil/es-0-01J59SR3R07X1SZ0N1NP46SGAM-smalltrain/2024-08-14_20-17-04/model/iq_CleanupSingle-v0_n10_l10_best_tx\n",
      "Loading models from ./idil_train/result/CleanupSingle-v0/idil/es-0-01J59SR3R07X1SZ0N1NP46SGAM-smalltrain/2024-08-14_20-17-04/model/iq_CleanupSingle-v0_n10_l10_best_pi\n"
     ]
    }
   ],
   "source": [
    "RUNS = [\n",
    "\"es-100-01J5B2Y7CSYB02RK5BYJJ6S9QB-smalltrain\",\n",
    "\"es-60-01J5B07PYF1X36H6F7K730YSQ2-smalltrain\",\n",
    "\"es-60-01J5AXGQ3SA806H7JWPR6KVEXW-smalltrain\",\n",
    "\"es-60-01J5ATS5V33MX6R8F8EXGQ2FHN-smalltrain\",\n",
    "\"es-60-01J5AR1W3GR7KB35YFYRF3FN41-smalltrain\",\n",
    "\"es-60-01J5ANAP4ZY4J42PPKMCZ9VFBS-smalltrain\",\n",
    "\"es-20-01J5AJJC29HWER1K25KJ8JVXST-smalltrain\",\n",
    "\"es-20-01J5AFVFYRH393CV1DRCF5Z3KF-smalltrain\",\n",
    "\"es-20-01J5AD3T5GP5CPFZKG3B28HA30-smalltrain\",\n",
    "\"es-20-01J5AACEDTR99MRBSZGR1N5PA6-smalltrain\",\n",
    "\"es-20-01J5A7NCGMY0JPDWKR20KFWBVF-smalltrain\",\n",
    "\"es-0-01J5A4VTCD1428B0033H78XRDH-smalltrain\",\n",
    "\"es-0-01J5A22M7N5Q4MEEBRK9JM2MFP-smalltrain\",\n",
    "\"es-0-01J59ZAB0DWY4TVA2FMEQWT9G6-smalltrain\",\n",
    "\"es-0-01J59WH8H361RENJ8Q9MRR5YYY-smalltrain\",\n",
    "\"es-0-01J59SR3R07X1SZ0N1NP46SGAM-smalltrain\",\n",
    "]\n",
    "\n",
    "agents = defaultdict(list)\n",
    "\n",
    "for run in RUNS:\n",
    "    # load run path\n",
    "    run_path = nb_utils.get_run_path(env_name=\"CleanupSingle-v0\", run_id=run)\n",
    "    run_conf = nb_utils.get_run_config(run_path)\n",
    "    agent = nb_utils.get_agent(run_conf=run_conf, run_path=run_path)\n",
    "\n",
    "    # parse kval\n",
    "    kval = int(run_conf.k * 100)\n",
    "\n",
    "    agents[kval].append(agent)"
   ]
  },
  {
   "cell_type": "code",
   "execution_count": 9,
   "metadata": {},
   "outputs": [
    {
     "name": "stderr",
     "output_type": "stream",
     "text": [
      "  0%|          | 0/16 [00:00<?, ?it/s]"
     ]
    },
    {
     "name": "stdout",
     "output_type": "stream",
     "text": [
      "Loading models from ./idil_train/result/CleanupSingle-v0/idil/es-100-01J5B2Y7CSYB02RK5BYJJ6S9QB-smalltrain/2024-08-15_08-16-56/model/iq_CleanupSingle-v0_n10_l10_best_tx\n",
      "Loading models from ./idil_train/result/CleanupSingle-v0/idil/es-100-01J5B2Y7CSYB02RK5BYJJ6S9QB-smalltrain/2024-08-15_08-16-56/model/iq_CleanupSingle-v0_n10_l10_best_pi\n"
     ]
    },
    {
     "name": "stderr",
     "output_type": "stream",
     "text": [
      "100%|██████████| 10/10 [00:03<00:00,  2.65it/s]\n",
      "  6%|▋         | 1/16 [00:03<00:58,  3.87s/it]"
     ]
    },
    {
     "name": "stdout",
     "output_type": "stream",
     "text": [
      "Loading models from ./idil_train/result/CleanupSingle-v0/idil/es-60-01J5B07PYF1X36H6F7K730YSQ2-smalltrain/2024-08-15_07-29-41/model/iq_CleanupSingle-v0_n10_l10_best_tx\n",
      "Loading models from ./idil_train/result/CleanupSingle-v0/idil/es-60-01J5B07PYF1X36H6F7K730YSQ2-smalltrain/2024-08-15_07-29-41/model/iq_CleanupSingle-v0_n10_l10_best_pi\n"
     ]
    },
    {
     "name": "stderr",
     "output_type": "stream",
     "text": [
      "100%|██████████| 10/10 [00:03<00:00,  2.85it/s]\n",
      " 12%|█▎        | 2/16 [00:07<00:51,  3.71s/it]"
     ]
    },
    {
     "name": "stdout",
     "output_type": "stream",
     "text": [
      "Loading models from ./idil_train/result/CleanupSingle-v0/idil/es-60-01J5AXGQ3SA806H7JWPR6KVEXW-smalltrain/2024-08-15_06-42-10/model/iq_CleanupSingle-v0_n10_l10_best_tx\n",
      "Loading models from ./idil_train/result/CleanupSingle-v0/idil/es-60-01J5AXGQ3SA806H7JWPR6KVEXW-smalltrain/2024-08-15_06-42-10/model/iq_CleanupSingle-v0_n10_l10_best_pi\n"
     ]
    },
    {
     "name": "stderr",
     "output_type": "stream",
     "text": [
      "100%|██████████| 10/10 [00:02<00:00,  3.90it/s]\n",
      " 19%|█▉        | 3/16 [00:10<00:41,  3.23s/it]"
     ]
    },
    {
     "name": "stdout",
     "output_type": "stream",
     "text": [
      "Loading models from ./idil_train/result/CleanupSingle-v0/idil/es-60-01J5ATS5V33MX6R8F8EXGQ2FHN-smalltrain/2024-08-15_05-54-22/model/iq_CleanupSingle-v0_n10_l10_best_tx\n",
      "Loading models from ./idil_train/result/CleanupSingle-v0/idil/es-60-01J5ATS5V33MX6R8F8EXGQ2FHN-smalltrain/2024-08-15_05-54-22/model/iq_CleanupSingle-v0_n10_l10_best_pi\n"
     ]
    },
    {
     "name": "stderr",
     "output_type": "stream",
     "text": [
      "100%|██████████| 10/10 [00:02<00:00,  3.88it/s]\n",
      " 25%|██▌       | 4/16 [00:12<00:36,  3.01s/it]"
     ]
    },
    {
     "name": "stdout",
     "output_type": "stream",
     "text": [
      "Loading models from ./idil_train/result/CleanupSingle-v0/idil/es-60-01J5AR1W3GR7KB35YFYRF3FN41-smalltrain/2024-08-15_05-06-41/model/iq_CleanupSingle-v0_n10_l10_best_tx\n",
      "Loading models from ./idil_train/result/CleanupSingle-v0/idil/es-60-01J5AR1W3GR7KB35YFYRF3FN41-smalltrain/2024-08-15_05-06-41/model/iq_CleanupSingle-v0_n10_l10_best_pi\n"
     ]
    },
    {
     "name": "stderr",
     "output_type": "stream",
     "text": [
      "100%|██████████| 10/10 [00:03<00:00,  3.28it/s]\n",
      " 31%|███▏      | 5/16 [00:15<00:33,  3.06s/it]"
     ]
    },
    {
     "name": "stdout",
     "output_type": "stream",
     "text": [
      "Loading models from ./idil_train/result/CleanupSingle-v0/idil/es-60-01J5ANAP4ZY4J42PPKMCZ9VFBS-smalltrain/2024-08-15_04-19-04/model/iq_CleanupSingle-v0_n10_l10_best_tx\n",
      "Loading models from ./idil_train/result/CleanupSingle-v0/idil/es-60-01J5ANAP4ZY4J42PPKMCZ9VFBS-smalltrain/2024-08-15_04-19-04/model/iq_CleanupSingle-v0_n10_l10_best_pi\n"
     ]
    },
    {
     "name": "stderr",
     "output_type": "stream",
     "text": [
      "100%|██████████| 10/10 [00:02<00:00,  4.59it/s]\n",
      " 38%|███▊      | 6/16 [00:18<00:27,  2.79s/it]"
     ]
    },
    {
     "name": "stdout",
     "output_type": "stream",
     "text": [
      "Loading models from ./idil_train/result/CleanupSingle-v0/idil/es-20-01J5AJJC29HWER1K25KJ8JVXST-smalltrain/2024-08-15_03-30-50/model/iq_CleanupSingle-v0_n10_l10_best_tx\n",
      "Loading models from ./idil_train/result/CleanupSingle-v0/idil/es-20-01J5AJJC29HWER1K25KJ8JVXST-smalltrain/2024-08-15_03-30-50/model/iq_CleanupSingle-v0_n10_l10_best_pi\n"
     ]
    },
    {
     "name": "stderr",
     "output_type": "stream",
     "text": [
      "100%|██████████| 10/10 [00:04<00:00,  2.49it/s]\n",
      " 44%|████▍     | 7/16 [00:22<00:29,  3.23s/it]"
     ]
    },
    {
     "name": "stdout",
     "output_type": "stream",
     "text": [
      "Loading models from ./idil_train/result/CleanupSingle-v0/idil/es-20-01J5AFVFYRH393CV1DRCF5Z3KF-smalltrain/2024-08-15_02-43-23/model/iq_CleanupSingle-v0_n10_l10_best_tx\n",
      "Loading models from ./idil_train/result/CleanupSingle-v0/idil/es-20-01J5AFVFYRH393CV1DRCF5Z3KF-smalltrain/2024-08-15_02-43-23/model/iq_CleanupSingle-v0_n10_l10_best_pi\n"
     ]
    },
    {
     "name": "stderr",
     "output_type": "stream",
     "text": [
      "100%|██████████| 10/10 [00:02<00:00,  3.50it/s]\n",
      " 50%|█████     | 8/16 [00:25<00:25,  3.14s/it]"
     ]
    },
    {
     "name": "stdout",
     "output_type": "stream",
     "text": [
      "Loading models from ./idil_train/result/CleanupSingle-v0/idil/es-20-01J5AD3T5GP5CPFZKG3B28HA30-smalltrain/2024-08-15_01-55-30/model/iq_CleanupSingle-v0_n10_l10_best_tx\n",
      "Loading models from ./idil_train/result/CleanupSingle-v0/idil/es-20-01J5AD3T5GP5CPFZKG3B28HA30-smalltrain/2024-08-15_01-55-30/model/iq_CleanupSingle-v0_n10_l10_best_pi\n"
     ]
    },
    {
     "name": "stderr",
     "output_type": "stream",
     "text": [
      "100%|██████████| 10/10 [00:02<00:00,  4.04it/s]\n",
      " 56%|█████▋    | 9/16 [00:27<00:20,  2.96s/it]"
     ]
    },
    {
     "name": "stdout",
     "output_type": "stream",
     "text": [
      "Loading models from ./idil_train/result/CleanupSingle-v0/idil/es-20-01J5AACEDTR99MRBSZGR1N5PA6-smalltrain/2024-08-15_01-07-47/model/iq_CleanupSingle-v0_n10_l10_best_tx\n",
      "Loading models from ./idil_train/result/CleanupSingle-v0/idil/es-20-01J5AACEDTR99MRBSZGR1N5PA6-smalltrain/2024-08-15_01-07-47/model/iq_CleanupSingle-v0_n10_l10_best_pi\n"
     ]
    },
    {
     "name": "stderr",
     "output_type": "stream",
     "text": [
      "100%|██████████| 10/10 [00:03<00:00,  2.79it/s]\n",
      " 62%|██████▎   | 10/16 [00:31<00:19,  3.18s/it]"
     ]
    },
    {
     "name": "stdout",
     "output_type": "stream",
     "text": [
      "Loading models from ./idil_train/result/CleanupSingle-v0/idil/es-20-01J5A7NCGMY0JPDWKR20KFWBVF-smalltrain/2024-08-15_00-20-14/model/iq_CleanupSingle-v0_n10_l10_best_tx\n",
      "Loading models from ./idil_train/result/CleanupSingle-v0/idil/es-20-01J5A7NCGMY0JPDWKR20KFWBVF-smalltrain/2024-08-15_00-20-14/model/iq_CleanupSingle-v0_n10_l10_best_pi\n"
     ]
    },
    {
     "name": "stderr",
     "output_type": "stream",
     "text": [
      "100%|██████████| 10/10 [00:03<00:00,  2.71it/s]\n",
      " 69%|██████▉   | 11/16 [00:35<00:16,  3.36s/it]"
     ]
    },
    {
     "name": "stdout",
     "output_type": "stream",
     "text": [
      "Loading models from ./idil_train/result/CleanupSingle-v0/idil/es-0-01J5A4VTCD1428B0033H78XRDH-smalltrain/2024-08-14_23-31-19/model/iq_CleanupSingle-v0_n10_l10_best_tx\n",
      "Loading models from ./idil_train/result/CleanupSingle-v0/idil/es-0-01J5A4VTCD1428B0033H78XRDH-smalltrain/2024-08-14_23-31-19/model/iq_CleanupSingle-v0_n10_l10_best_pi\n"
     ]
    },
    {
     "name": "stderr",
     "output_type": "stream",
     "text": [
      "100%|██████████| 10/10 [00:04<00:00,  2.03it/s]\n",
      " 75%|███████▌  | 12/16 [00:40<00:15,  3.86s/it]"
     ]
    },
    {
     "name": "stdout",
     "output_type": "stream",
     "text": [
      "Loading models from ./idil_train/result/CleanupSingle-v0/idil/es-0-01J5A22M7N5Q4MEEBRK9JM2MFP-smalltrain/2024-08-14_22-42-37/model/iq_CleanupSingle-v0_n10_l10_best_tx\n",
      "Loading models from ./idil_train/result/CleanupSingle-v0/idil/es-0-01J5A22M7N5Q4MEEBRK9JM2MFP-smalltrain/2024-08-14_22-42-37/model/iq_CleanupSingle-v0_n10_l10_best_pi\n"
     ]
    },
    {
     "name": "stderr",
     "output_type": "stream",
     "text": [
      "100%|██████████| 10/10 [00:06<00:00,  1.59it/s]\n",
      " 81%|████████▏ | 13/16 [00:46<00:13,  4.63s/it]"
     ]
    },
    {
     "name": "stdout",
     "output_type": "stream",
     "text": [
      "Loading models from ./idil_train/result/CleanupSingle-v0/idil/es-0-01J59ZAB0DWY4TVA2FMEQWT9G6-smalltrain/2024-08-14_21-54-24/model/iq_CleanupSingle-v0_n10_l10_best_tx\n",
      "Loading models from ./idil_train/result/CleanupSingle-v0/idil/es-0-01J59ZAB0DWY4TVA2FMEQWT9G6-smalltrain/2024-08-14_21-54-24/model/iq_CleanupSingle-v0_n10_l10_best_pi\n"
     ]
    },
    {
     "name": "stderr",
     "output_type": "stream",
     "text": [
      "100%|██████████| 10/10 [00:06<00:00,  1.45it/s]\n",
      " 88%|████████▊ | 14/16 [00:53<00:10,  5.34s/it]"
     ]
    },
    {
     "name": "stdout",
     "output_type": "stream",
     "text": [
      "Loading models from ./idil_train/result/CleanupSingle-v0/idil/es-0-01J59WH8H361RENJ8Q9MRR5YYY-smalltrain/2024-08-14_21-05-45/model/iq_CleanupSingle-v0_n10_l10_best_tx\n",
      "Loading models from ./idil_train/result/CleanupSingle-v0/idil/es-0-01J59WH8H361RENJ8Q9MRR5YYY-smalltrain/2024-08-14_21-05-45/model/iq_CleanupSingle-v0_n10_l10_best_pi\n"
     ]
    },
    {
     "name": "stderr",
     "output_type": "stream",
     "text": [
      "100%|██████████| 10/10 [00:05<00:00,  1.97it/s]\n",
      " 94%|█████████▍| 15/16 [00:58<00:05,  5.28s/it]"
     ]
    },
    {
     "name": "stdout",
     "output_type": "stream",
     "text": [
      "Loading models from ./idil_train/result/CleanupSingle-v0/idil/es-0-01J59SR3R07X1SZ0N1NP46SGAM-smalltrain/2024-08-14_20-17-04/model/iq_CleanupSingle-v0_n10_l10_best_tx\n",
      "Loading models from ./idil_train/result/CleanupSingle-v0/idil/es-0-01J59SR3R07X1SZ0N1NP46SGAM-smalltrain/2024-08-14_20-17-04/model/iq_CleanupSingle-v0_n10_l10_best_pi\n"
     ]
    },
    {
     "name": "stderr",
     "output_type": "stream",
     "text": [
      "100%|██████████| 10/10 [00:05<00:00,  1.96it/s]\n",
      "100%|██████████| 16/16 [01:04<00:00,  4.00s/it]\n"
     ]
    }
   ],
   "source": [
    "from tqdm import tqdm\n",
    "\n",
    "# generate 10 trajectories for each trained agent\n",
    "trajectories = defaultdict(list)\n",
    "\n",
    "for run in tqdm(RUNS):\n",
    "    traj_data = traj_utils.generate_agent_trajectories(run_id=run, num_trajectories=10, env_name=\"CleanupSingle-v0\")\n",
    "    kval = int(run.split(\"-\")[1])\n",
    "\n",
    "    trajectories[kval].append(traj_data)"
   ]
  },
  {
   "cell_type": "code",
   "execution_count": 10,
   "metadata": {},
   "outputs": [
    {
     "name": "stdout",
     "output_type": "stream",
     "text": [
      "There are 4 kvals\n",
      "Each kval has 10 cum_rewards, matching the 5 x 10 trajectories generated for each agent\n"
     ]
    }
   ],
   "source": [
    "# compute cumulative rewards for each trajectorie and get a distribution of the cumulative rewards\n",
    "cum_rewards = defaultdict(list)\n",
    "\n",
    "for kval in trajectories:\n",
    "    for agent_data in trajectories[kval]:\n",
    "        rewards = agent_data[\"rewards\"]\n",
    "        for rew_array in rewards:\n",
    "            cum_rewards[kval].append(np.sum(rew_array))\n",
    "        \n",
    "\n",
    "# sanity check printing shapes of each inner element\n",
    "print(f\"There are {len(cum_rewards)} kvals\")\n",
    "print(f\"Each kval has {len(cum_rewards[100])} cum_rewards, matching the {len(agents[20])} x 10 trajectories generated for each agent\")"
   ]
  },
  {
   "cell_type": "code",
   "execution_count": 39,
   "metadata": {},
   "outputs": [
    {
     "data": {
      "image/png": "[encoded data removed]",
      "text/plain": [
       "<Figure size 640x480 with 1 Axes>"
      ]
     },
     "metadata": {},
     "output_type": "display_data"
    }
   ],
   "source": [
    "import time\n",
    "\n",
    "# plot distribution for generated rewards\n",
    "fig, ax = plt.subplots(1,1)\n",
    "\n",
    "# _keys = sorted(cum_rewards.keys(), reverse=False)\n",
    "_keys = [0, 20, 60]\n",
    "\n",
    "data = [cum_rewards[kval] for kval in _keys]\n",
    "\n",
    "ax.boxplot(data, labels=[f\"k={kval}%\" + r\" of $\\mathcal{X}'$\" for kval in _keys])\n",
    "\n",
    "ax.set_title(\"Distribution of cumulative rewards for generated trajectories\")\n",
    "ax.set_xlabel(\"$k$ value\")\n",
    "ax.set_ylabel(\"Cumulative reward\")\n",
    "ax.grid(alpha=0.3)\n",
    "\n",
    "today = time.strftime(\"%Y-%m-%d\")\n",
    "\n",
    "plt.savefig(f\"notebooks/figures/{today}-CleanupSingle_cum_rews.png\")"
   ]
  },
  {
   "cell_type": "markdown",
   "metadata": {},
   "source": [
    "# Evaluate on test data"
   ]
  },
  {
   "cell_type": "code",
   "execution_count": 12,
   "metadata": {},
   "outputs": [],
   "source": [
    "def backtest_action_trajectory(expert_dataset, agent):\n",
    "    \"\"\"\n",
    "    Given a precomputed set of latents and states,\n",
    "    run the agent to sample an action and see how the actions differ\n",
    "    \"\"\"\n",
    "\n",
    "    agent_action_trajs = []\n",
    "\n",
    "    for traj_idx in range(len(expert_dataset.trajectories[\"states\"])):\n",
    "        traj_states = expert_dataset.trajectories[\"states\"][traj_idx]\n",
    "        traj_latents = expert_dataset.trajectories[\"latents\"][traj_idx]\n",
    "\n",
    "        _action_traj = []\n",
    "        for _state, _lat in zip(traj_states, traj_latents):\n",
    "            _action = agent.choose_policy_action(_state, _lat)\n",
    "            _action_traj.append(_action)\n",
    "\n",
    "        agent_action_trajs.append(_action_traj)\n",
    "\n",
    "    return agent_action_trajs\n",
    "\n",
    "def compute_action_accuracy(expert_dataset, agent):\n",
    "    \"\"\"\n",
    "    Compute the action accuracy between expert and agent\n",
    "    \"\"\"\n",
    "\n",
    "    agent_action_trajs = backtest_action_trajectory(expert_dataset, agent)\n",
    "\n",
    "    accs = []\n",
    "    for i in range(len(expert_dataset.trajectories[\"states\"])):\n",
    "        _test_acts_expert = np.array(expert_dataset.trajectories[\"actions\"][i])\n",
    "        _test_acts_agent =  np.array(agent_action_trajs[i])\n",
    "\n",
    "        accs.append(np.sum(_test_acts_expert == _test_acts_agent) / len(_test_acts_expert))\n",
    "\n",
    "    return accs\n",
    "\n",
    "def compute_sequence_accuracy(pred_latents, true_latents):\n",
    "    pred_latents = np.array(pred_latents)\n",
    "    true_latents = np.array(true_latents)\n",
    "    return np.sum(pred_latents == true_latents) / len(true_latents)"
   ]
  },
  {
   "cell_type": "code",
   "execution_count": 13,
   "metadata": {},
   "outputs": [],
   "source": [
    "# load test data\n",
    "import os\n",
    "\n",
    "with open(os.path.join(\"idil_train\", \"test_data\", \"CleanupSingle-v0_100_test70.pkl\"), \"rb\") as f:\n",
    "    test_data = pkl.load(f)"
   ]
  },
  {
   "cell_type": "code",
   "execution_count": 14,
   "metadata": {},
   "outputs": [
    {
     "name": "stderr",
     "output_type": "stream",
     "text": [
      "30it [00:03,  7.80it/s]\n"
     ]
    }
   ],
   "source": [
    "accs_by_k = defaultdict(list)\n",
    "\n",
    "for states, actions, latents in tqdm(zip(test_data[\"states\"], test_data[\"actions\"], test_data[\"latents\"])):\n",
    "    for kval, agent_list in agents.items():\n",
    "        for agent in agent_list:\n",
    "            inferred_latents, _, _ = agent.infer_mental_states(states, actions)\n",
    "            acc = compute_sequence_accuracy(inferred_latents.squeeze(1), latents)\n",
    "            accs_by_k[kval].append(acc)"
   ]
  },
  {
   "cell_type": "code",
   "execution_count": 18,
   "metadata": {},
   "outputs": [
    {
     "data": {
      "text/plain": [
       "(30, 150)"
      ]
     },
     "execution_count": 18,
     "metadata": {},
     "output_type": "execute_result"
    }
   ],
   "source": [
    "len(accs_by_k[100]), len(accs_by_k[20])"
   ]
  },
  {
   "cell_type": "code",
   "execution_count": 26,
   "metadata": {},
   "outputs": [
    {
     "data": {
      "image/png": "[encoded data removed]",
      "text/plain": [
       "<Figure size 640x480 with 1 Axes>"
      ]
     },
     "metadata": {},
     "output_type": "display_data"
    }
   ],
   "source": [
    "# plot comparison of accuracy distribution for each k\n",
    "subset_accs_by_k = {k: accs_by_k[k] for k in accs_by_k if k in [20, 60, 0]}\n",
    "# _df = pd.DataFrame(subset_accs_by_k)\n",
    "fig, ax = plt.subplots(1,1)\n",
    "\n",
    "\n",
    "data = [accs_by_k[kval] for kval in [0, 20, 60]]\n",
    "\n",
    "ax.boxplot(data, labels=[f\"k={kval}%\" + r\" of $\\mathcal{X}'$\" for kval in [0, 20, 60]])\n",
    "\n",
    "ax.set_title(r\"Sequence accuracy for inferred latents on test $\\mathcal{D}$\")\n",
    "# format y-axis to be percentage\n",
    "ax.set_ylabel(\"Accuracy (%)\")\n",
    "ax.set_xlabel(r\"$\\mathcal{X}'$ percentage\")\n",
    "ax.grid(alpha=0.3)\n",
    "today = time.strftime(\"%Y-%m-%d\")\n",
    "\n",
    "plt.savefig(f\"notebooks/figures/{today}-CleanupSingle_seq_accs.png\")\n"
   ]
  },
  {
   "cell_type": "code",
   "execution_count": 13,
   "metadata": {},
   "outputs": [
    {
     "data": {
      "image/png": "[encoded data removed]",
      "text/plain": [
       "<Figure size 640x480 with 1 Axes>"
      ]
     },
     "metadata": {},
     "output_type": "display_data"
    }
   ],
   "source": [
    "# plot comparison of accuracy distribution for each k\n",
    "_df = pd.DataFrame(cum_rewards)\n",
    "fig, ax = plt.subplots(1,1)\n",
    "\n",
    "_df.boxplot(ax=ax)\n",
    "ax.set_title(r\"Cumulative rewards on generated trajectories\")\n",
    "# format y-axis to be percentage\n",
    "ax.set_ylabel(\"Cumulative Reward\")\n",
    "ax.set_xlabel(r\"$\\mathcal{X}'$ percentage\")\n",
    "plt.savefig(\"notebooks/figures/CS_cum_rews.png\")\n"
   ]
  },
  {
   "cell_type": "code",
   "execution_count": null,
   "metadata": {},
   "outputs": [],
   "source": []
  }
 ],
 "metadata": {
  "kernelspec": {
   "display_name": "aidil",
   "language": "python",
   "name": "python3"
  },
  "language_info": {
   "codemirror_mode": {
    "name": "ipython",
    "version": 3
   },
   "file_extension": ".py",
   "mimetype": "text/x-python",
   "name": "python",
   "nbconvert_exporter": "python",
   "pygments_lexer": "ipython3",
   "version": "3.8.19"
  }
 },
 "nbformat": 4,
 "nbformat_minor": 2
}
